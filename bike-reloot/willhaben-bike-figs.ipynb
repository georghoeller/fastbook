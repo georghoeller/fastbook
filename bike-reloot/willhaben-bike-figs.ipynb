{
 "cells": [
  {
   "cell_type": "markdown",
   "id": "b20aa86e-24af-467e-880b-65e70290421f",
   "metadata": {},
   "source": [
    "# bike-reloot data set\n",
    "## assembling a dat set for a prototype \n",
    "\n",
    "This notebook has the purpose of making a data set for the _bike-reloot_ project. \n",
    "\n",
    "Steps are the following: \n",
    "- scrape will haben bike pictures\n",
    "- rename them to \"stolen\" and \"not_stolen\" with consecutive IDs\n",
    "\n",
    "---"
   ]
  },
  {
   "cell_type": "markdown",
   "id": "1bddfc3a-ff9a-420e-a601-dcf96ca1589a",
   "metadata": {},
   "source": [
    "Inside of a loop through a list of willhaben URLs with different \"&pages=1\": \n",
    "\n",
    "Structure of the \"a-tag\" I want to scrap, which is one entry of a bike.\n",
    "\n",
    "```\n",
    "<a \n",
    "    href=\"/iad/kaufen-und-verkaufen/d/bike-discounter-angebot-kross-trans-4-0-s-28-zoll-0401-578744109/\" \n",
    "    id=\"search-result-entry-header-578744109\" \n",
    "    aria-labelledby=\"search-result-entry-header-578744109\" \n",
    "    class=\"sc-ca51e2d8-0 lkgIJQ sc-deecb898-1 imWndm\" \n",
    "    data-testid=\"search-result-entry-header-578744109\">\n",
    "</a>\n",
    "```\n",
    "\n",
    "Then retreive the href and save it to a dataframe, for n number of pages which lead to n number of entries (say, 600 entries).\n"
   ]
  },
  {
   "cell_type": "code",
   "execution_count": 1,
   "id": "e859b3d1-a60e-49b1-9857-8af41c4ea24b",
   "metadata": {},
   "outputs": [
    {
     "name": "stdout",
     "output_type": "stream",
     "text": [
      "5\n",
      "/iad/kaufen-und-verkaufen/d/geero-2-touring-classic-cream-inkl-abus-absperrkette-city-chain-pedelec-e-bike-769424965/\n"
     ]
    }
   ],
   "source": [
    "import requests\n",
    "from bs4 import BeautifulSoup\n",
    "\n",
    "# DEFINE BASE URL \n",
    "# = \"https://www.willhaben.at/iad/kaufen-und-verkaufen/marktplatz/fahrraeder-4552&rows=1\"\n",
    "url_fahrräder = \"https://www.willhaben.at/iad/kaufen-und-verkaufen/marktplatz/fahrraeder-radsport/fahrraeder-4552\"\n",
    "# and &page=9 &rows=1\n",
    "\n",
    "# MAKE REQUEST ON BASE URL \n",
    "page = requests.get(url_fahrräder)\n",
    "soup = BeautifulSoup(page.content, \"html.parser\")\n",
    "\n",
    "# Define a function to filter elements based on their IDs within the div with ID \"skip-to-resultlist\"\n",
    "def find_by_id_custom(tag):\n",
    "    return (\n",
    "        tag.name == 'a' and \n",
    "        tag.get('id', '').startswith('search-result-entry-header') and \n",
    "        tag.has_attr('id')\n",
    "    )\n",
    "\n",
    "# FIND ALL a tags within ID\n",
    "links = soup.find(id=\"skip-to-resultlist\").find_all(find_by_id_custom)\n",
    "print(len(links))\n",
    "print(links[0].get('href'))\n",
    "\n"
   ]
  },
  {
   "cell_type": "code",
   "execution_count": 13,
   "id": "c2a7906d-6dff-449d-ba31-059421b56104",
   "metadata": {},
   "outputs": [
    {
     "data": {
      "text/html": [
       "<div>\n",
       "<style scoped>\n",
       "    .dataframe tbody tr th:only-of-type {\n",
       "        vertical-align: middle;\n",
       "    }\n",
       "\n",
       "    .dataframe tbody tr th {\n",
       "        vertical-align: top;\n",
       "    }\n",
       "\n",
       "    .dataframe thead th {\n",
       "        text-align: right;\n",
       "    }\n",
       "</style>\n",
       "<table border=\"1\" class=\"dataframe\">\n",
       "  <thead>\n",
       "    <tr style=\"text-align: right;\">\n",
       "      <th></th>\n",
       "      <th>id</th>\n",
       "      <th>href</th>\n",
       "      <th>id_int</th>\n",
       "      <th>links</th>\n",
       "    </tr>\n",
       "  </thead>\n",
       "  <tbody>\n",
       "    <tr>\n",
       "      <th>0</th>\n",
       "      <td>search-result-entry-header-769424965</td>\n",
       "      <td>/iad/kaufen-und-verkaufen/d/geero-2-touring-cl...</td>\n",
       "      <td>769424965</td>\n",
       "      <td>https://www.willhaben.at/iad/kaufen-und-verkau...</td>\n",
       "    </tr>\n",
       "    <tr>\n",
       "      <th>1</th>\n",
       "      <td>search-result-entry-header-769424561</td>\n",
       "      <td>/iad/kaufen-und-verkaufen/d/ridley-rennrad-cyc...</td>\n",
       "      <td>769424561</td>\n",
       "      <td>https://www.willhaben.at/iad/kaufen-und-verkau...</td>\n",
       "    </tr>\n",
       "    <tr>\n",
       "      <th>2</th>\n",
       "      <td>search-result-entry-header-769424327</td>\n",
       "      <td>/iad/kaufen-und-verkaufen/d/mountainbike-20-zo...</td>\n",
       "      <td>769424327</td>\n",
       "      <td>https://www.willhaben.at/iad/kaufen-und-verkau...</td>\n",
       "    </tr>\n",
       "    <tr>\n",
       "      <th>3</th>\n",
       "      <td>search-result-entry-header-769423720</td>\n",
       "      <td>/iad/kaufen-und-verkaufen/d/einkaufskorb-fuer-...</td>\n",
       "      <td>769423720</td>\n",
       "      <td>https://www.willhaben.at/iad/kaufen-und-verkau...</td>\n",
       "    </tr>\n",
       "    <tr>\n",
       "      <th>4</th>\n",
       "      <td>search-result-entry-header-769423545</td>\n",
       "      <td>/iad/kaufen-und-verkaufen/d/radon-slide-160mm-...</td>\n",
       "      <td>769423545</td>\n",
       "      <td>https://www.willhaben.at/iad/kaufen-und-verkau...</td>\n",
       "    </tr>\n",
       "  </tbody>\n",
       "</table>\n",
       "</div>"
      ],
      "text/plain": [
       "                                     id  \\\n",
       "0  search-result-entry-header-769424965   \n",
       "1  search-result-entry-header-769424561   \n",
       "2  search-result-entry-header-769424327   \n",
       "3  search-result-entry-header-769423720   \n",
       "4  search-result-entry-header-769423545   \n",
       "\n",
       "                                                href     id_int  \\\n",
       "0  /iad/kaufen-und-verkaufen/d/geero-2-touring-cl...  769424965   \n",
       "1  /iad/kaufen-und-verkaufen/d/ridley-rennrad-cyc...  769424561   \n",
       "2  /iad/kaufen-und-verkaufen/d/mountainbike-20-zo...  769424327   \n",
       "3  /iad/kaufen-und-verkaufen/d/einkaufskorb-fuer-...  769423720   \n",
       "4  /iad/kaufen-und-verkaufen/d/radon-slide-160mm-...  769423545   \n",
       "\n",
       "                                               links  \n",
       "0  https://www.willhaben.at/iad/kaufen-und-verkau...  \n",
       "1  https://www.willhaben.at/iad/kaufen-und-verkau...  \n",
       "2  https://www.willhaben.at/iad/kaufen-und-verkau...  \n",
       "3  https://www.willhaben.at/iad/kaufen-und-verkau...  \n",
       "4  https://www.willhaben.at/iad/kaufen-und-verkau...  "
      ]
     },
     "execution_count": 13,
     "metadata": {},
     "output_type": "execute_result"
    }
   ],
   "source": [
    "import pandas as pd\n",
    "\n",
    "list_id = [ link.get('id') for link in links]\n",
    "list_href = [ link.get('href') for link in links]\n",
    "\n",
    "df = pd.DataFrame({\"id\": list_id,\n",
    "                   \"href\": list_href})\n",
    "\n",
    "# split ID into all parts and extract the unique ID \n",
    "df['id_int'] = df['id'].str.split('-',expand=True)[4]\n",
    "df['links'] = \"https://www.willhaben.at\"+df['href']\n",
    "df['links'][1]\n",
    "df"
   ]
  },
  {
   "cell_type": "markdown",
   "id": "9150a26a-9be2-4364-bf84-4733d00e568c",
   "metadata": {},
   "source": [
    "# Extracting URL links of images of bikes"
   ]
  },
  {
   "cell_type": "code",
   "execution_count": 3,
   "id": "dc5c088a-cce8-4e68-8a69-e4d2e5f949ff",
   "metadata": {},
   "outputs": [],
   "source": [
    "import requests\n",
    "from bs4 import BeautifulSoup\n",
    "from PIL import Image"
   ]
  },
  {
   "cell_type": "code",
   "execution_count": 40,
   "id": "bf822b55-b913-4c1a-8545-7721af7a95f2",
   "metadata": {
    "scrolled": true
   },
   "outputs": [
    {
     "name": "stdout",
     "output_type": "stream",
     "text": [
      "17\n",
      "['https://cache.willhaben.at/mmo/1/769/424/561_1110958152.jpg', 'https://cache.willhaben.at/mmo/1/769/424/561_1794694154.jpg', 'https://cache.willhaben.at/mmo/1/769/424/561_1880484276.jpg', 'https://cache.willhaben.at/mmo/1/769/424/561_960294679.jpg', 'https://cache.willhaben.at/mmo/1/769/424/561_1295309011.jpg', 'https://cache.willhaben.at/mmo/1/769/424/561_-356202943.jpg', 'https://cache.willhaben.at/mmo/1/769/424/561_-84416267.jpg', 'https://cache.willhaben.at/mmo/1/769/424/561_-681580211.jpg', 'https://cache.willhaben.at/mmo/1/769/424/561_-1413034130.jpg', 'https://cache.willhaben.at/mmo/1/769/424/561_-424420074.jpg', 'https://cache.willhaben.at/mmo/1/769/424/561_-775431706.jpg', 'https://cache.willhaben.at/mmo/1/769/424/561_-245896278.jpg', 'https://cache.willhaben.at/mmo/1/769/424/561_-273355802.jpg', 'https://cache.willhaben.at/mmo/1/769/424/561_-1358047413.jpg', 'https://cache.willhaben.at/mmo/1/769/424/561_-1607734713.jpg', 'https://cache.willhaben.at/mmo/1/769/424/561_2121851392.jpg', 'https://cache.willhaben.at/mmo/1/769/424/561_-257562560.jpg']\n",
      "['Bild 1 von 17', 'Bild 2 von 17', 'Bild 3 von 17', 'Bild 4 von 17', 'Bild 5 von 17', 'Bild 6 von 17', 'Bild 7 von 17', 'Bild 8 von 17', 'Bild 9 von 17', 'Bild 10 von 17', 'Bild 11 von 17', 'Bild 12 von 17', 'Bild 13 von 17', 'Bild 14 von 17', 'Bild 15 von 17', 'Bild 16 von 17', 'Bild 17 von 17']\n"
     ]
    }
   ],
   "source": [
    "import requests\n",
    "from bs4 import BeautifulSoup\n",
    "import time\n",
    "\n",
    "df['links'][1]\n",
    "\n",
    "\n",
    "# TEST THE SINGLE ENTRY IMG EXTRACTION\n",
    "single_page = requests.get(df['links'][1])\n",
    "single_soup = BeautifulSoup(single_page.content, \"html.parser\")\n",
    "\n",
    "def find_by_data_test_id_custom(tag):\n",
    "    return (\n",
    "        tag.name == 'img' and \n",
    "        tag.get('data-testid', '').startswith('image') and \n",
    "        tag.has_attr('alt')\n",
    "    )\n",
    "\n",
    "print(len(single_soup.find_all(find_by_data_test_id_custom)))\n",
    "img_links = single_soup.find_all(find_by_data_test_id_custom)\n",
    "\n",
    "# print(single_soup.find_all('img'))\n",
    "\n",
    "print([ link.get('src') if link.has_attr('src') \n",
    "       else link.get('data-flickity-lazyload') \n",
    "       for link in img_links ])\n",
    "\n",
    "print([ link.get('alt')  for link in img_links ])\n",
    "#img_links\n",
    "\n"
   ]
  },
  {
   "cell_type": "code",
   "execution_count": 59,
   "id": "9c339653-29da-49cf-be7e-70571af7b379",
   "metadata": {
    "scrolled": true
   },
   "outputs": [
    {
     "data": {
      "text/plain": [
       "{'769424965': {'src': ['https://cache.willhaben.at/mmo/1/769/424/561_1110958152.jpg',\n",
       "   'https://cache.willhaben.at/mmo/1/769/424/561_1794694154.jpg',\n",
       "   'https://cache.willhaben.at/mmo/1/769/424/561_1880484276.jpg',\n",
       "   'https://cache.willhaben.at/mmo/1/769/424/561_960294679.jpg',\n",
       "   'https://cache.willhaben.at/mmo/1/769/424/561_1295309011.jpg',\n",
       "   'https://cache.willhaben.at/mmo/1/769/424/561_-356202943.jpg',\n",
       "   'https://cache.willhaben.at/mmo/1/769/424/561_-84416267.jpg',\n",
       "   'https://cache.willhaben.at/mmo/1/769/424/561_-681580211.jpg',\n",
       "   'https://cache.willhaben.at/mmo/1/769/424/561_-1413034130.jpg',\n",
       "   'https://cache.willhaben.at/mmo/1/769/424/561_-424420074.jpg',\n",
       "   'https://cache.willhaben.at/mmo/1/769/424/561_-775431706.jpg',\n",
       "   'https://cache.willhaben.at/mmo/1/769/424/561_-245896278.jpg',\n",
       "   'https://cache.willhaben.at/mmo/1/769/424/561_-273355802.jpg',\n",
       "   'https://cache.willhaben.at/mmo/1/769/424/561_-1358047413.jpg',\n",
       "   'https://cache.willhaben.at/mmo/1/769/424/561_-1607734713.jpg',\n",
       "   'https://cache.willhaben.at/mmo/1/769/424/561_2121851392.jpg',\n",
       "   'https://cache.willhaben.at/mmo/1/769/424/561_-257562560.jpg']},\n",
       " '769424561': {'src': ['https://cache.willhaben.at/mmo/1/769/424/561_1110958152.jpg',\n",
       "   'https://cache.willhaben.at/mmo/1/769/424/561_1794694154.jpg',\n",
       "   'https://cache.willhaben.at/mmo/1/769/424/561_1880484276.jpg',\n",
       "   'https://cache.willhaben.at/mmo/1/769/424/561_960294679.jpg',\n",
       "   'https://cache.willhaben.at/mmo/1/769/424/561_1295309011.jpg',\n",
       "   'https://cache.willhaben.at/mmo/1/769/424/561_-356202943.jpg',\n",
       "   'https://cache.willhaben.at/mmo/1/769/424/561_-84416267.jpg',\n",
       "   'https://cache.willhaben.at/mmo/1/769/424/561_-681580211.jpg',\n",
       "   'https://cache.willhaben.at/mmo/1/769/424/561_-1413034130.jpg',\n",
       "   'https://cache.willhaben.at/mmo/1/769/424/561_-424420074.jpg',\n",
       "   'https://cache.willhaben.at/mmo/1/769/424/561_-775431706.jpg',\n",
       "   'https://cache.willhaben.at/mmo/1/769/424/561_-245896278.jpg',\n",
       "   'https://cache.willhaben.at/mmo/1/769/424/561_-273355802.jpg',\n",
       "   'https://cache.willhaben.at/mmo/1/769/424/561_-1358047413.jpg',\n",
       "   'https://cache.willhaben.at/mmo/1/769/424/561_-1607734713.jpg',\n",
       "   'https://cache.willhaben.at/mmo/1/769/424/561_2121851392.jpg',\n",
       "   'https://cache.willhaben.at/mmo/1/769/424/561_-257562560.jpg']},\n",
       " '769424327': {'src': ['https://cache.willhaben.at/mmo/1/769/424/561_1110958152.jpg',\n",
       "   'https://cache.willhaben.at/mmo/1/769/424/561_1794694154.jpg',\n",
       "   'https://cache.willhaben.at/mmo/1/769/424/561_1880484276.jpg',\n",
       "   'https://cache.willhaben.at/mmo/1/769/424/561_960294679.jpg',\n",
       "   'https://cache.willhaben.at/mmo/1/769/424/561_1295309011.jpg',\n",
       "   'https://cache.willhaben.at/mmo/1/769/424/561_-356202943.jpg',\n",
       "   'https://cache.willhaben.at/mmo/1/769/424/561_-84416267.jpg',\n",
       "   'https://cache.willhaben.at/mmo/1/769/424/561_-681580211.jpg',\n",
       "   'https://cache.willhaben.at/mmo/1/769/424/561_-1413034130.jpg',\n",
       "   'https://cache.willhaben.at/mmo/1/769/424/561_-424420074.jpg',\n",
       "   'https://cache.willhaben.at/mmo/1/769/424/561_-775431706.jpg',\n",
       "   'https://cache.willhaben.at/mmo/1/769/424/561_-245896278.jpg',\n",
       "   'https://cache.willhaben.at/mmo/1/769/424/561_-273355802.jpg',\n",
       "   'https://cache.willhaben.at/mmo/1/769/424/561_-1358047413.jpg',\n",
       "   'https://cache.willhaben.at/mmo/1/769/424/561_-1607734713.jpg',\n",
       "   'https://cache.willhaben.at/mmo/1/769/424/561_2121851392.jpg',\n",
       "   'https://cache.willhaben.at/mmo/1/769/424/561_-257562560.jpg']},\n",
       " '769423720': {'src': ['https://cache.willhaben.at/mmo/1/769/424/561_1110958152.jpg',\n",
       "   'https://cache.willhaben.at/mmo/1/769/424/561_1794694154.jpg',\n",
       "   'https://cache.willhaben.at/mmo/1/769/424/561_1880484276.jpg',\n",
       "   'https://cache.willhaben.at/mmo/1/769/424/561_960294679.jpg',\n",
       "   'https://cache.willhaben.at/mmo/1/769/424/561_1295309011.jpg',\n",
       "   'https://cache.willhaben.at/mmo/1/769/424/561_-356202943.jpg',\n",
       "   'https://cache.willhaben.at/mmo/1/769/424/561_-84416267.jpg',\n",
       "   'https://cache.willhaben.at/mmo/1/769/424/561_-681580211.jpg',\n",
       "   'https://cache.willhaben.at/mmo/1/769/424/561_-1413034130.jpg',\n",
       "   'https://cache.willhaben.at/mmo/1/769/424/561_-424420074.jpg',\n",
       "   'https://cache.willhaben.at/mmo/1/769/424/561_-775431706.jpg',\n",
       "   'https://cache.willhaben.at/mmo/1/769/424/561_-245896278.jpg',\n",
       "   'https://cache.willhaben.at/mmo/1/769/424/561_-273355802.jpg',\n",
       "   'https://cache.willhaben.at/mmo/1/769/424/561_-1358047413.jpg',\n",
       "   'https://cache.willhaben.at/mmo/1/769/424/561_-1607734713.jpg',\n",
       "   'https://cache.willhaben.at/mmo/1/769/424/561_2121851392.jpg',\n",
       "   'https://cache.willhaben.at/mmo/1/769/424/561_-257562560.jpg']},\n",
       " '769423545': {'src': ['https://cache.willhaben.at/mmo/1/769/424/561_1110958152.jpg',\n",
       "   'https://cache.willhaben.at/mmo/1/769/424/561_1794694154.jpg',\n",
       "   'https://cache.willhaben.at/mmo/1/769/424/561_1880484276.jpg',\n",
       "   'https://cache.willhaben.at/mmo/1/769/424/561_960294679.jpg',\n",
       "   'https://cache.willhaben.at/mmo/1/769/424/561_1295309011.jpg',\n",
       "   'https://cache.willhaben.at/mmo/1/769/424/561_-356202943.jpg',\n",
       "   'https://cache.willhaben.at/mmo/1/769/424/561_-84416267.jpg',\n",
       "   'https://cache.willhaben.at/mmo/1/769/424/561_-681580211.jpg',\n",
       "   'https://cache.willhaben.at/mmo/1/769/424/561_-1413034130.jpg',\n",
       "   'https://cache.willhaben.at/mmo/1/769/424/561_-424420074.jpg',\n",
       "   'https://cache.willhaben.at/mmo/1/769/424/561_-775431706.jpg',\n",
       "   'https://cache.willhaben.at/mmo/1/769/424/561_-245896278.jpg',\n",
       "   'https://cache.willhaben.at/mmo/1/769/424/561_-273355802.jpg',\n",
       "   'https://cache.willhaben.at/mmo/1/769/424/561_-1358047413.jpg',\n",
       "   'https://cache.willhaben.at/mmo/1/769/424/561_-1607734713.jpg',\n",
       "   'https://cache.willhaben.at/mmo/1/769/424/561_2121851392.jpg',\n",
       "   'https://cache.willhaben.at/mmo/1/769/424/561_-257562560.jpg']}}"
      ]
     },
     "execution_count": 59,
     "metadata": {},
     "output_type": "execute_result"
    }
   ],
   "source": [
    "\n",
    "# PERFORM IMAGE EXTRACTION ON WHOLE DF\n",
    "img_list = {}\n",
    "for i in df.index:\n",
    "    time.sleep(0.1)\n",
    "    #requests.get(entry)\n",
    "    pass_soup = BeautifulSoup(requests.get(df['links'][i]).content, \"html.parser\")\n",
    "    pass_image_links = pass_soup.find_all(find_by_data_test_id_custom)\n",
    "    \n",
    "    pass_image_src = [ link.get('src') if link.has_attr('src') \n",
    "       else link.get('data-flickity-lazyload') \n",
    "       for link in img_links ]\n",
    "\n",
    "    pass_image_alt = [ link.get('alt') for link in pass_image_links]\n",
    "    \n",
    "    if len(pass_image_links) > 1: \n",
    "        img_list[df['id_int'][i]] =  {'src':pass_image_src} \n",
    "        \n",
    "img_list\n"
   ]
  },
  {
   "cell_type": "code",
   "execution_count": 83,
   "id": "3be307b7-c03c-4872-96e0-8b3dbe97c75b",
   "metadata": {},
   "outputs": [],
   "source": [
    "df_src = pd.DataFrame(img_list).T.explode('src').reset_index(names='id')"
   ]
  },
  {
   "cell_type": "code",
   "execution_count": null,
   "id": "ea64a672-a38b-485c-8925-17f0903eafc8",
   "metadata": {},
   "outputs": [],
   "source": [
    "# GENERATE A COLUMN WITH A PREFIX"
   ]
  },
  {
   "cell_type": "markdown",
   "id": "13c451dc-0ba6-47e7-8edf-5cbccb165a5d",
   "metadata": {},
   "source": [
    "# Download all the pictures\n",
    "Now, it is essential to find a way to rename the figures like: \"stolen_78999345\" or \"not_stolen_5643345\""
   ]
  },
  {
   "cell_type": "code",
   "execution_count": 99,
   "id": "6dbe69e9-ace7-4ff9-a3f7-610cdda87c04",
   "metadata": {},
   "outputs": [
    {
     "name": "stdout",
     "output_type": "stream",
     "text": [
      "C:\\Users\\georg\\Documents\\GIT\\fastbook\\bike-reloot\n",
      "C:\\Users\\georg\\Documents\\GIT\\fastbook\\bike-reloot\\figs\\stolen_769424965.png\n"
     ]
    }
   ],
   "source": [
    "import io\n",
    "import requests\n",
    "\n",
    "# Create a byte object out of image_content and store it in the variable image_file\n",
    "image_file = io.BytesIO(requests.get(df_src['src'][0]).content)\n",
    "\n",
    "from PIL import Image\n",
    "image = Image.open(image_file).convert(\"RGB\")\n",
    "\n",
    "# pathlib lets you point to specific directories.\n",
    "from pathlib import Path\n",
    "print(Path().absolute())\n",
    "\n",
    "# assuming there is a folder \"figs\" in the current working directory\n",
    "file_path = Path(\"figs\",\"stolen_\" + df_src['id'][0] + \".png\").absolute()\n",
    "print(file_path)\n",
    "image.save(file_path, \"PNG\", quality=80)\n"
   ]
  },
  {
   "cell_type": "code",
   "execution_count": null,
   "id": "b984548a-348e-4202-8a70-69e5a049bc0e",
   "metadata": {},
   "outputs": [],
   "source": [
    "# Now iterate through the list "
   ]
  }
 ],
 "metadata": {
  "kernelspec": {
   "display_name": "Python 3 (ipykernel)",
   "language": "python",
   "name": "python3"
  },
  "language_info": {
   "codemirror_mode": {
    "name": "ipython",
    "version": 3
   },
   "file_extension": ".py",
   "mimetype": "text/x-python",
   "name": "python",
   "nbconvert_exporter": "python",
   "pygments_lexer": "ipython3",
   "version": "3.11.5"
  }
 },
 "nbformat": 4,
 "nbformat_minor": 5
}
