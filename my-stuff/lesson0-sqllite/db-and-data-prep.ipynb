{
 "cells": [
  {
   "cell_type": "markdown",
   "id": "ed747f86-a7ad-4d2c-b397-419920f18a20",
   "metadata": {},
   "source": [
    "# Data preperation notebook"
   ]
  },
  {
   "cell_type": "code",
   "execution_count": 1,
   "id": "68b14a00-1138-41e5-a73d-38615eaf7028",
   "metadata": {},
   "outputs": [
    {
     "name": "stdout",
     "output_type": "stream",
     "text": [
      "{'retCode': 0, 'retMsg': 'OK', 'result': {'symbol': 'BTCUSD', 'category': 'linear', 'list': [['1716562500000', '67863.5', '67884.5', '67863.5', '67884.5', '685944', '10.10657531'], ['1716562440000', '67794', '67915', '67790.5', '67863.5', '101489', '1.49547534'], ['1716562380000', '67778', '67794', '67776.5', '67794', '165', '0.00243425'], ['1716562320000', '67757', '67778', '67757', '67778', '115', '0.0016968']]}, 'retExtInfo': {}, 'time': 1716562539615}\n",
      "2024-05-24 14:55:39.615000\n",
      "[['1716562500000', '67863.5', '67884.5', '67863.5', '67884.5', '685944', '10.10657531'], ['1716562440000', '67794', '67915', '67790.5', '67863.5', '101489', '1.49547534'], ['1716562380000', '67778', '67794', '67776.5', '67794', '165', '0.00243425'], ['1716562320000', '67757', '67778', '67757', '67778', '115', '0.0016968']]\n"
     ]
    }
   ],
   "source": [
    "import requests\n",
    "import time\n",
    "import pandas as pd\n",
    "\n",
    "# Define the endpoint and parameters\n",
    "base_url = \"https://api-testnet.bybit.com\"\n",
    "endpoint = \"/v5/market/kline\"\n",
    "symbol = \"BTCUSD\"  # Example trading pair\n",
    "interval = \"1\"    # Kline interval, e.g., \"1\", \"5\", \"15\", \"60\", \"240\", etc.\n",
    "limit = 4        # Number of klines to fetch\n",
    "start_time = int(time.time()) - 3600 * 24  # Start time in seconds (e.g., 24 hours ago)\n",
    "\n",
    "# Construct the URL\n",
    "url = f\"{base_url}{endpoint}?category=linear&symbol={symbol}&interval={interval}&limit={limit}\"#&start_time={start_time}\"\n",
    "\n",
    "# Make the GET request\n",
    "response = requests.get(url,headers={}, data={})\n",
    "data = response.json() \n",
    "\n",
    "print(data)\n",
    "print(pd.Timestamp(data[\"time\"],unit=\"ms\"))\n",
    "print(data[\"result\"][\"list\"])\n",
    "\n"
   ]
  },
  {
   "cell_type": "code",
   "execution_count": 2,
   "id": "14ce8037-6965-478b-8803-22752dcd55d7",
   "metadata": {},
   "outputs": [
    {
     "name": "stdout",
     "output_type": "stream",
     "text": [
      "2024-05-24 14:55:00\n",
      "2024-05-24 14:54:00\n",
      "2024-05-24 14:53:00\n",
      "2024-05-24 14:52:00\n"
     ]
    }
   ],
   "source": [
    "#def prepare_data(data):\n",
    "print(pd.to_datetime(int(data[\"result\"][\"list\"][0][0]),unit='ms'))\n",
    "print(pd.to_datetime(int(data[\"result\"][\"list\"][1][0]),unit='ms'))\n",
    "print(pd.to_datetime(int(data[\"result\"][\"list\"][2][0]),unit='ms'))\n",
    "print(pd.to_datetime(int(data[\"result\"][\"list\"][3][0]),unit='ms'))\n",
    "\n"
   ]
  },
  {
   "cell_type": "code",
   "execution_count": 3,
   "id": "e7268a4e-6d6e-43db-b583-ef393ec65936",
   "metadata": {},
   "outputs": [
    {
     "data": {
      "text/html": [
       "<div>\n",
       "<style scoped>\n",
       "    .dataframe tbody tr th:only-of-type {\n",
       "        vertical-align: middle;\n",
       "    }\n",
       "\n",
       "    .dataframe tbody tr th {\n",
       "        vertical-align: top;\n",
       "    }\n",
       "\n",
       "    .dataframe thead th {\n",
       "        text-align: right;\n",
       "    }\n",
       "</style>\n",
       "<table border=\"1\" class=\"dataframe\">\n",
       "  <thead>\n",
       "    <tr style=\"text-align: right;\">\n",
       "      <th></th>\n",
       "      <th>ts_0</th>\n",
       "      <th>open_0</th>\n",
       "      <th>high_0</th>\n",
       "      <th>low_0</th>\n",
       "      <th>close_0</th>\n",
       "      <th>vol_0</th>\n",
       "      <th>vol_coin_0</th>\n",
       "      <th>log_ts_0</th>\n",
       "      <th>log_open_0</th>\n",
       "      <th>log_high_0</th>\n",
       "      <th>...</th>\n",
       "      <th>close_3</th>\n",
       "      <th>vol_3</th>\n",
       "      <th>vol_coin_3</th>\n",
       "      <th>log_ts_3</th>\n",
       "      <th>log_open_3</th>\n",
       "      <th>log_high_3</th>\n",
       "      <th>log_low_3</th>\n",
       "      <th>log_close_3</th>\n",
       "      <th>log_vol_3</th>\n",
       "      <th>log_vol_coin_3</th>\n",
       "    </tr>\n",
       "  </thead>\n",
       "  <tbody>\n",
       "    <tr>\n",
       "      <th>0</th>\n",
       "      <td>1716562500000</td>\n",
       "      <td>67863.5</td>\n",
       "      <td>67884.5</td>\n",
       "      <td>67863.5</td>\n",
       "      <td>67884.5</td>\n",
       "      <td>685944</td>\n",
       "      <td>10.10657531</td>\n",
       "      <td>28.171345</td>\n",
       "      <td>11.125268</td>\n",
       "      <td>11.125578</td>\n",
       "      <td>...</td>\n",
       "      <td>67778</td>\n",
       "      <td>115</td>\n",
       "      <td>0.0016968</td>\n",
       "      <td>28.171345</td>\n",
       "      <td>11.123698</td>\n",
       "      <td>11.124008</td>\n",
       "      <td>11.123698</td>\n",
       "      <td>11.124008</td>\n",
       "      <td>4.75359</td>\n",
       "      <td>0.001695</td>\n",
       "    </tr>\n",
       "  </tbody>\n",
       "</table>\n",
       "<p>1 rows × 56 columns</p>\n",
       "</div>"
      ],
      "text/plain": [
       "            ts_0   open_0   high_0    low_0  close_0   vol_0   vol_coin_0  \\\n",
       "0  1716562500000  67863.5  67884.5  67863.5  67884.5  685944  10.10657531   \n",
       "\n",
       "    log_ts_0 log_open_0 log_high_0  ... close_3 vol_3 vol_coin_3   log_ts_3  \\\n",
       "0  28.171345  11.125268  11.125578  ...   67778   115  0.0016968  28.171345   \n",
       "\n",
       "  log_open_3 log_high_3  log_low_3 log_close_3 log_vol_3 log_vol_coin_3  \n",
       "0  11.123698  11.124008  11.123698   11.124008   4.75359       0.001695  \n",
       "\n",
       "[1 rows x 56 columns]"
      ]
     },
     "execution_count": 3,
     "metadata": {},
     "output_type": "execute_result"
    }
   ],
   "source": [
    "import pandas as pd\n",
    "import numpy as np\n",
    "\n",
    "def prepare_data(data):\n",
    "\n",
    "    # define pandas DF \n",
    "    cols = ['time','open', 'high', 'low', 'close','vol','vol_coin']\n",
    "    df = pd.DataFrame(data[\"result\"][\"list\"], columns=cols)\n",
    "\n",
    "    df['time'] = pd.Timestamp(df[\"time\"],unit=\"ms\"))\n",
    "    df[\"day\"] = df[\"time\"].dt.day\n",
    "    df[\"hour\"] = df[\"time\"].dt.hour\n",
    "\n",
    "\n",
    "    # applying logs\n",
    "    for col in cols:\n",
    "        df[\"log_\"+str(col)] = np.log(df[str(col)].astype('float64')+1)\n",
    "\n",
    "    # >>> AS FOR NOW useless\n",
    "    # normalize along \"MinMaxScaler\" (same like sci kit learn)\n",
    "    # for col in cols+[\"log_vol\"]:\n",
    "    #    df[\"norm_\"+str(col)] =  (df[str(col)].astype('float64') - np.min(df[str(col)].astype('float64')) ) / ( np.max(df[str(col)].astype('float64')) - np.min(df[str(col)].astype('float64')) ) \n",
    "\n",
    "    # Stack the DataFrame\n",
    "    stacked_df = df.stack()\n",
    "    \n",
    "    # Create a new DataFrame from the stacked series and transpose it\n",
    "    # this creates a multi index data frame with tuples as indices, like [(0,'ts'),...]\n",
    "    df_single_row = stacked_df.to_frame().T\n",
    "    \n",
    "    # now change the multiindex col to a single index col by replacing it witht a list of concatenated strings \n",
    "    df_single_row.columns = [f'{col[1]}_{col[0]}' for col in df_single_row.columns]\n",
    "    \n",
    "    return df_single_row\n",
    "\n",
    "\n",
    "\n",
    "prep_df = prepare_data(data)\n",
    "prep_df"
   ]
  },
  {
   "cell_type": "markdown",
   "id": "df2fb506-c39b-4155-aad1-2e740fae52a6",
   "metadata": {},
   "source": [
    "# Creating a database"
   ]
  },
  {
   "cell_type": "code",
   "execution_count": 4,
   "id": "9b994aaa-2262-4ae1-9818-e0f2f9f33cfb",
   "metadata": {},
   "outputs": [],
   "source": [
    "from sqlalchemy import create_engine\n",
    "#engine = create_engine(\"sqlite+pysqlite:///:memory:\", echo=True)\n",
    "\n",
    "engine = create_engine('sqlite:///BTCUSDTstream-test.db')"
   ]
  },
  {
   "cell_type": "code",
   "execution_count": 5,
   "id": "f6e46d1e-bd8d-46cc-8380-dc6803098b00",
   "metadata": {},
   "outputs": [],
   "source": [
    "# write function to transform data from bybit call    "
   ]
  },
  {
   "cell_type": "code",
   "execution_count": 6,
   "id": "e7d11f3e-5d2c-4c8a-a948-3b3b5fb717fd",
   "metadata": {},
   "outputs": [
    {
     "data": {
      "text/plain": [
       "1"
      ]
     },
     "execution_count": 6,
     "metadata": {},
     "output_type": "execute_result"
    }
   ],
   "source": [
    "prep_df.to_sql('BTCUSDT',engine, if_exists = 'append', index=False)"
   ]
  },
  {
   "cell_type": "code",
   "execution_count": 7,
   "id": "2ac18d95-f6b0-482f-aa84-6421c4b02060",
   "metadata": {},
   "outputs": [
    {
     "data": {
      "text/html": [
       "<div>\n",
       "<style scoped>\n",
       "    .dataframe tbody tr th:only-of-type {\n",
       "        vertical-align: middle;\n",
       "    }\n",
       "\n",
       "    .dataframe tbody tr th {\n",
       "        vertical-align: top;\n",
       "    }\n",
       "\n",
       "    .dataframe thead th {\n",
       "        text-align: right;\n",
       "    }\n",
       "</style>\n",
       "<table border=\"1\" class=\"dataframe\">\n",
       "  <thead>\n",
       "    <tr style=\"text-align: right;\">\n",
       "      <th></th>\n",
       "      <th>ts_0</th>\n",
       "      <th>open_0</th>\n",
       "      <th>high_0</th>\n",
       "      <th>low_0</th>\n",
       "      <th>close_0</th>\n",
       "      <th>vol_0</th>\n",
       "      <th>vol_coin_0</th>\n",
       "      <th>log_ts_0</th>\n",
       "      <th>log_open_0</th>\n",
       "      <th>log_high_0</th>\n",
       "      <th>...</th>\n",
       "      <th>close_3</th>\n",
       "      <th>vol_3</th>\n",
       "      <th>vol_coin_3</th>\n",
       "      <th>log_ts_3</th>\n",
       "      <th>log_open_3</th>\n",
       "      <th>log_high_3</th>\n",
       "      <th>log_low_3</th>\n",
       "      <th>log_close_3</th>\n",
       "      <th>log_vol_3</th>\n",
       "      <th>log_vol_coin_3</th>\n",
       "    </tr>\n",
       "  </thead>\n",
       "  <tbody>\n",
       "    <tr>\n",
       "      <th>0</th>\n",
       "      <td>1716284040000</td>\n",
       "      <td>71056.5</td>\n",
       "      <td>71063</td>\n",
       "      <td>71053</td>\n",
       "      <td>71056.5</td>\n",
       "      <td>200082</td>\n",
       "      <td>2.81566749</td>\n",
       "      <td>28.171183</td>\n",
       "      <td>11.171245</td>\n",
       "      <td>11.171336</td>\n",
       "      <td>...</td>\n",
       "      <td>71037</td>\n",
       "      <td>13</td>\n",
       "      <td>0.00018291</td>\n",
       "      <td>28.171183</td>\n",
       "      <td>11.170815</td>\n",
       "      <td>11.170970</td>\n",
       "      <td>11.170815</td>\n",
       "      <td>11.170970</td>\n",
       "      <td>2.639057</td>\n",
       "      <td>0.000183</td>\n",
       "    </tr>\n",
       "    <tr>\n",
       "      <th>1</th>\n",
       "      <td>1716562500000</td>\n",
       "      <td>67863.5</td>\n",
       "      <td>67884.5</td>\n",
       "      <td>67863.5</td>\n",
       "      <td>67884.5</td>\n",
       "      <td>685944</td>\n",
       "      <td>10.10657531</td>\n",
       "      <td>28.171345</td>\n",
       "      <td>11.125268</td>\n",
       "      <td>11.125578</td>\n",
       "      <td>...</td>\n",
       "      <td>67778</td>\n",
       "      <td>115</td>\n",
       "      <td>0.0016968</td>\n",
       "      <td>28.171345</td>\n",
       "      <td>11.123698</td>\n",
       "      <td>11.124008</td>\n",
       "      <td>11.123698</td>\n",
       "      <td>11.124008</td>\n",
       "      <td>4.753590</td>\n",
       "      <td>0.001695</td>\n",
       "    </tr>\n",
       "  </tbody>\n",
       "</table>\n",
       "<p>2 rows × 56 columns</p>\n",
       "</div>"
      ],
      "text/plain": [
       "            ts_0   open_0   high_0    low_0  close_0   vol_0   vol_coin_0  \\\n",
       "0  1716284040000  71056.5    71063    71053  71056.5  200082   2.81566749   \n",
       "1  1716562500000  67863.5  67884.5  67863.5  67884.5  685944  10.10657531   \n",
       "\n",
       "    log_ts_0  log_open_0  log_high_0  ...  close_3  vol_3  vol_coin_3  \\\n",
       "0  28.171183   11.171245   11.171336  ...    71037     13  0.00018291   \n",
       "1  28.171345   11.125268   11.125578  ...    67778    115   0.0016968   \n",
       "\n",
       "    log_ts_3 log_open_3 log_high_3  log_low_3 log_close_3 log_vol_3  \\\n",
       "0  28.171183  11.170815  11.170970  11.170815   11.170970  2.639057   \n",
       "1  28.171345  11.123698  11.124008  11.123698   11.124008  4.753590   \n",
       "\n",
       "  log_vol_coin_3  \n",
       "0       0.000183  \n",
       "1       0.001695  \n",
       "\n",
       "[2 rows x 56 columns]"
      ]
     },
     "execution_count": 7,
     "metadata": {},
     "output_type": "execute_result"
    }
   ],
   "source": [
    "pd.read_sql('BTCUSDT',engine)"
   ]
  },
  {
   "cell_type": "markdown",
   "id": "63b63234-6b8e-4aa4-96dd-2cbc886f768a",
   "metadata": {},
   "source": [
    "In essence the function calls would look like this: \n",
    "\n",
    "response = fetch_kline()\n",
    "pred_df = prepare_data(response)\n",
    "\n",
    "entry,stop_loss,take_profit = make_prediction(prep_df) # add column if trade or not \n",
    "\n",
    "write_db(prep_df)\n",
    "\n",
    "place_order(entry,stop_loss,take_profit)\n",
    "\n"
   ]
  }
 ],
 "metadata": {
  "kernelspec": {
   "display_name": "Python 3 (ipykernel)",
   "language": "python",
   "name": "python3"
  },
  "language_info": {
   "codemirror_mode": {
    "name": "ipython",
    "version": 3
   },
   "file_extension": ".py",
   "mimetype": "text/x-python",
   "name": "python",
   "nbconvert_exporter": "python",
   "pygments_lexer": "ipython3",
   "version": "3.10.13"
  }
 },
 "nbformat": 4,
 "nbformat_minor": 5
}
