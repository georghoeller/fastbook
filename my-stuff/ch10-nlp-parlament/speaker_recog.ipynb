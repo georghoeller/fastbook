{
 "cells": [
  {
   "cell_type": "markdown",
   "id": "ec32e439-a16d-4c88-a816-3fae5dd0c399",
   "metadata": {},
   "source": [
    "# Parlament Speaker Recogniction Model\n",
    "This notebook should predict what speaker said certain things based on the Austrian parlament speaches. \n",
    "\n",
    "This small project is based on the Dataset assembled by Mario Zechner (https://marioslab.io/)"
   ]
  },
  {
   "cell_type": "code",
   "execution_count": 1,
   "id": "10e76751-2472-4fa6-add4-6dcc5fe3a78f",
   "metadata": {},
   "outputs": [
    {
     "name": "stdout",
     "output_type": "stream",
     "text": [
      "(681, 6)\n"
     ]
    },
    {
     "data": {
      "text/html": [
       "<div>\n",
       "<style scoped>\n",
       "    .dataframe tbody tr th:only-of-type {\n",
       "        vertical-align: middle;\n",
       "    }\n",
       "\n",
       "    .dataframe tbody tr th {\n",
       "        vertical-align: top;\n",
       "    }\n",
       "\n",
       "    .dataframe thead th {\n",
       "        text-align: right;\n",
       "    }\n",
       "</style>\n",
       "<table border=\"1\" class=\"dataframe\">\n",
       "  <thead>\n",
       "    <tr style=\"text-align: right;\">\n",
       "      <th></th>\n",
       "      <th>id</th>\n",
       "      <th>name</th>\n",
       "      <th>parties</th>\n",
       "      <th>periods</th>\n",
       "      <th>url</th>\n",
       "      <th>imageUrl</th>\n",
       "    </tr>\n",
       "  </thead>\n",
       "  <tbody>\n",
       "    <tr>\n",
       "      <th>0</th>\n",
       "      <td>3612</td>\n",
       "      <td>Sonja Ablinger</td>\n",
       "      <td>[SPÖ]</td>\n",
       "      <td>[XX, XXIII, XXIV]</td>\n",
       "      <td>https://parlament.gv.at/person/3612</td>\n",
       "      <td>https://parlament.gv.at/dokument/bild/34898/34...</td>\n",
       "    </tr>\n",
       "    <tr>\n",
       "      <th>1</th>\n",
       "      <td>14854</td>\n",
       "      <td>Dipl.-Ing. Elke Achleitner</td>\n",
       "      <td>[BZÖ, FPÖ]</td>\n",
       "      <td>[XXII]</td>\n",
       "      <td>https://parlament.gv.at/person/14854</td>\n",
       "      <td>https://parlament.gv.at/dokument/bild/21013/21...</td>\n",
       "    </tr>\n",
       "    <tr>\n",
       "      <th>2</th>\n",
       "      <td>83119</td>\n",
       "      <td>Mag. Nikolaus Alm</td>\n",
       "      <td>[LIF, NEOS]</td>\n",
       "      <td>[XXV]</td>\n",
       "      <td>https://parlament.gv.at/person/83119</td>\n",
       "      <td>https://parlament.gv.at/dokument/bild/43808/43...</td>\n",
       "    </tr>\n",
       "    <tr>\n",
       "      <th>3</th>\n",
       "      <td>51879</td>\n",
       "      <td>Mag. Hannes Amesbauer, BA</td>\n",
       "      <td>[FPÖ]</td>\n",
       "      <td>[XXVI, XXVII]</td>\n",
       "      <td>https://parlament.gv.at/person/51879</td>\n",
       "      <td>https://parlament.gv.at/dokument/bild/200696/2...</td>\n",
       "    </tr>\n",
       "    <tr>\n",
       "      <th>4</th>\n",
       "      <td>2819</td>\n",
       "      <td>Werner Amon, MBA</td>\n",
       "      <td>[ÖVP]</td>\n",
       "      <td>[XIX, XX, XXI, XXII, XXIII, XXIV, XXV, XXVI]</td>\n",
       "      <td>https://parlament.gv.at/person/2819</td>\n",
       "      <td>https://parlament.gv.at/dokument/bild/90356/90...</td>\n",
       "    </tr>\n",
       "  </tbody>\n",
       "</table>\n",
       "</div>"
      ],
      "text/plain": [
       "      id                        name      parties  \\\n",
       "0   3612              Sonja Ablinger        [SPÖ]   \n",
       "1  14854  Dipl.-Ing. Elke Achleitner   [BZÖ, FPÖ]   \n",
       "2  83119           Mag. Nikolaus Alm  [LIF, NEOS]   \n",
       "3  51879   Mag. Hannes Amesbauer, BA        [FPÖ]   \n",
       "4   2819            Werner Amon, MBA        [ÖVP]   \n",
       "\n",
       "                                        periods  \\\n",
       "0                             [XX, XXIII, XXIV]   \n",
       "1                                        [XXII]   \n",
       "2                                         [XXV]   \n",
       "3                                 [XXVI, XXVII]   \n",
       "4  [XIX, XX, XXI, XXII, XXIII, XXIV, XXV, XXVI]   \n",
       "\n",
       "                                    url  \\\n",
       "0   https://parlament.gv.at/person/3612   \n",
       "1  https://parlament.gv.at/person/14854   \n",
       "2  https://parlament.gv.at/person/83119   \n",
       "3  https://parlament.gv.at/person/51879   \n",
       "4   https://parlament.gv.at/person/2819   \n",
       "\n",
       "                                            imageUrl  \n",
       "0  https://parlament.gv.at/dokument/bild/34898/34...  \n",
       "1  https://parlament.gv.at/dokument/bild/21013/21...  \n",
       "2  https://parlament.gv.at/dokument/bild/43808/43...  \n",
       "3  https://parlament.gv.at/dokument/bild/200696/2...  \n",
       "4  https://parlament.gv.at/dokument/bild/90356/90...  "
      ]
     },
     "execution_count": 1,
     "metadata": {},
     "output_type": "execute_result"
    }
   ],
   "source": [
    "# DATA FROM SPEAKER\n",
    "import pandas as pd\n",
    "\n",
    "# Either use direct download or load locally https://woswormeileistung.marioslab.io/data/persons.json\n",
    "#speaker = pd.read_json(\"https://woswormeileistung.marioslab.io/data/persons.json\")\n",
    "speaker = pd.read_json(\"persons.json\")\n",
    "print(speaker.shape)\n",
    "speaker.head()"
   ]
  },
  {
   "cell_type": "markdown",
   "id": "1fc8ee87-9c5f-4872-9b10-eebbbcd68159",
   "metadata": {},
   "source": [
    "As one can see there are about 681 Speakers from the austrian parlament, starting from 2002"
   ]
  },
  {
   "cell_type": "code",
   "execution_count": 2,
   "id": "91469d18-e012-4370-be7a-e0b2c4660c7f",
   "metadata": {},
   "outputs": [
    {
     "name": "stdout",
     "output_type": "stream",
     "text": [
      "(1001, 7)\n"
     ]
    },
    {
     "data": {
      "text/html": [
       "<div>\n",
       "<style scoped>\n",
       "    .dataframe tbody tr th:only-of-type {\n",
       "        vertical-align: middle;\n",
       "    }\n",
       "\n",
       "    .dataframe tbody tr th {\n",
       "        vertical-align: top;\n",
       "    }\n",
       "\n",
       "    .dataframe thead th {\n",
       "        text-align: right;\n",
       "    }\n",
       "</style>\n",
       "<table border=\"1\" class=\"dataframe\">\n",
       "  <thead>\n",
       "    <tr style=\"text-align: right;\">\n",
       "      <th></th>\n",
       "      <th>url</th>\n",
       "      <th>period</th>\n",
       "      <th>sessionNumber</th>\n",
       "      <th>sessionLabel</th>\n",
       "      <th>date</th>\n",
       "      <th>protocolUrls</th>\n",
       "      <th>sections</th>\n",
       "    </tr>\n",
       "  </thead>\n",
       "  <tbody>\n",
       "    <tr>\n",
       "      <th>0</th>\n",
       "      <td>https://parlament.gv.at/gegenstand/XXVII/NRSIT...</td>\n",
       "      <td>XXVII</td>\n",
       "      <td>251</td>\n",
       "      <td>251. Sitzung (251/NRSITZ)</td>\n",
       "      <td>2024-01-31</td>\n",
       "      <td>[]</td>\n",
       "      <td>[]</td>\n",
       "    </tr>\n",
       "    <tr>\n",
       "      <th>1</th>\n",
       "      <td>https://parlament.gv.at/gegenstand/XXVII/NRSIT...</td>\n",
       "      <td>XXVII</td>\n",
       "      <td>250</td>\n",
       "      <td>250. Sitzung (250/NRSITZ)</td>\n",
       "      <td>2024-01-31</td>\n",
       "      <td>[]</td>\n",
       "      <td>[]</td>\n",
       "    </tr>\n",
       "    <tr>\n",
       "      <th>2</th>\n",
       "      <td>https://parlament.gv.at/gegenstand/XXVII/NRSIT...</td>\n",
       "      <td>XXVII</td>\n",
       "      <td>249</td>\n",
       "      <td>249. Sitzung (249/NRSITZ)</td>\n",
       "      <td>2024-01-31</td>\n",
       "      <td>[]</td>\n",
       "      <td>[]</td>\n",
       "    </tr>\n",
       "    <tr>\n",
       "      <th>3</th>\n",
       "      <td>https://parlament.gv.at/gegenstand/XXVII/NRSIT...</td>\n",
       "      <td>XXVII</td>\n",
       "      <td>248</td>\n",
       "      <td>248. Sitzung (248/NRSITZ)</td>\n",
       "      <td>2023-12-15</td>\n",
       "      <td>[]</td>\n",
       "      <td>[]</td>\n",
       "    </tr>\n",
       "    <tr>\n",
       "      <th>4</th>\n",
       "      <td>https://parlament.gv.at/gegenstand/XXVII/NRSIT...</td>\n",
       "      <td>XXVII</td>\n",
       "      <td>247</td>\n",
       "      <td>247. Sitzung (247/NRSITZ)</td>\n",
       "      <td>2023-12-15</td>\n",
       "      <td>[]</td>\n",
       "      <td>[]</td>\n",
       "    </tr>\n",
       "  </tbody>\n",
       "</table>\n",
       "</div>"
      ],
      "text/plain": [
       "                                                 url period  sessionNumber  \\\n",
       "0  https://parlament.gv.at/gegenstand/XXVII/NRSIT...  XXVII            251   \n",
       "1  https://parlament.gv.at/gegenstand/XXVII/NRSIT...  XXVII            250   \n",
       "2  https://parlament.gv.at/gegenstand/XXVII/NRSIT...  XXVII            249   \n",
       "3  https://parlament.gv.at/gegenstand/XXVII/NRSIT...  XXVII            248   \n",
       "4  https://parlament.gv.at/gegenstand/XXVII/NRSIT...  XXVII            247   \n",
       "\n",
       "                sessionLabel       date protocolUrls sections  \n",
       "0  251. Sitzung (251/NRSITZ) 2024-01-31           []       []  \n",
       "1  250. Sitzung (250/NRSITZ) 2024-01-31           []       []  \n",
       "2  249. Sitzung (249/NRSITZ) 2024-01-31           []       []  \n",
       "3  248. Sitzung (248/NRSITZ) 2023-12-15           []       []  \n",
       "4  247. Sitzung (247/NRSITZ) 2023-12-15           []       []  "
      ]
     },
     "execution_count": 2,
     "metadata": {},
     "output_type": "execute_result"
    }
   ],
   "source": [
    "# DATA FROM SESSIONS \n",
    "# BE AWARA: sessions data has 440 mb, so it is only imported locally \n",
    "# https://woswormeileistung.marioslab.io/data/sessions.json\n",
    "\n",
    "sessions = pd.read_json(\"sessions.json\")\n",
    "\n",
    "print(sessions.shape)\n",
    "sessions.head()"
   ]
  },
  {
   "cell_type": "code",
   "execution_count": 3,
   "id": "44b08af4-d2ed-4361-a251-507110c3a1e7",
   "metadata": {},
   "outputs": [
    {
     "data": {
      "text/plain": [
       "0    []\n",
       "1    []\n",
       "2    []\n",
       "3    []\n",
       "4    []\n",
       "Name: sections, dtype: object"
      ]
     },
     "execution_count": 3,
     "metadata": {},
     "output_type": "execute_result"
    }
   ],
   "source": [
    "sessions.sections.head()"
   ]
  },
  {
   "cell_type": "code",
   "execution_count": 4,
   "id": "d4c15d2e-c605-4eb3-a946-afcd9876b119",
   "metadata": {},
   "outputs": [
    {
     "data": {
      "text/plain": [
       "0                                                      []\n",
       "35      [{'speaker': '88386', 'text': 'Ich darf die 21...\n",
       "36      [{'speaker': '88386', 'text': 'Meine sehr geeh...\n",
       "39      [{'speaker': '88386', 'text': 'Ich eröffne die...\n",
       "40      [{'speaker': '88386', 'text': 'Meine sehr geeh...\n",
       "                              ...                        \n",
       "996     [{'speaker': '799', 'text': 'Ich eröffne die 5...\n",
       "997     [{'speaker': '799', 'text': 'Die Sitzung ist e...\n",
       "998     [{'speaker': '799', 'text': 'Meine Damen und H...\n",
       "999     [{'speaker': '799', 'text': 'Die Sitzung ist e...\n",
       "1000    [{'speaker': '334', 'text': 'Meine Damen und H...\n",
       "Name: sections, Length: 955, dtype: object"
      ]
     },
     "execution_count": 4,
     "metadata": {},
     "output_type": "execute_result"
    }
   ],
   "source": [
    "sessions.sections.drop_duplicates()"
   ]
  },
  {
   "cell_type": "code",
   "execution_count": 5,
   "id": "e2ffea5c-69e8-45ec-9556-8f87f45b1529",
   "metadata": {},
   "outputs": [
    {
     "data": {
      "text/plain": [
       "count     1001\n",
       "unique     955\n",
       "top         []\n",
       "freq        47\n",
       "Name: sections, dtype: object"
      ]
     },
     "execution_count": 5,
     "metadata": {},
     "output_type": "execute_result"
    }
   ],
   "source": [
    "sessions.sections.describe()"
   ]
  },
  {
   "cell_type": "code",
   "execution_count": 6,
   "id": "9d1b6a27-1ca0-4629-8949-6400b1778a63",
   "metadata": {},
   "outputs": [
    {
     "name": "stdout",
     "output_type": "stream",
     "text": [
      "Absolute number of na: 47 || relative number of na: 0.04695304695304695\n"
     ]
    }
   ],
   "source": [
    "session_na = [1 if sessions[\"sections\"][i] == [] else 0 for i in range(len(sessions))]\n",
    "print(\"Absolute number of na: \"+ str(sum(session_na)) + \" || relative number of na: \"+ str(sum(session_na)/len(sessions)))"
   ]
  },
  {
   "cell_type": "code",
   "execution_count": 7,
   "id": "5fce6022-6cd3-4f67-bb00-d61c40132887",
   "metadata": {},
   "outputs": [
    {
     "name": "stdout",
     "output_type": "stream",
     "text": [
      "(173498, 5)\n"
     ]
    },
    {
     "data": {
      "text/html": [
       "<div>\n",
       "<style scoped>\n",
       "    .dataframe tbody tr th:only-of-type {\n",
       "        vertical-align: middle;\n",
       "    }\n",
       "\n",
       "    .dataframe tbody tr th {\n",
       "        vertical-align: top;\n",
       "    }\n",
       "\n",
       "    .dataframe thead th {\n",
       "        text-align: right;\n",
       "    }\n",
       "</style>\n",
       "<table border=\"1\" class=\"dataframe\">\n",
       "  <thead>\n",
       "    <tr style=\"text-align: right;\">\n",
       "      <th></th>\n",
       "      <th>speaker</th>\n",
       "      <th>text</th>\n",
       "      <th>callouts</th>\n",
       "      <th>links</th>\n",
       "      <th>input</th>\n",
       "    </tr>\n",
       "  </thead>\n",
       "  <tbody>\n",
       "    <tr>\n",
       "      <th>0</th>\n",
       "      <td>88386</td>\n",
       "      <td>Ich darf die 216. Sitzung des Nationalrates um...</td>\n",
       "      <td>[{'caller': '2343', 'text': 'Ich bin noch nich...</td>\n",
       "      <td>[]</td>\n",
       "      <td>SPEAKER: 88386; TEXT: Ich darf die 216. Sitzun...</td>\n",
       "    </tr>\n",
       "    <tr>\n",
       "      <th>1</th>\n",
       "      <td>88386</td>\n",
       "      <td>Hinsichtlich der eingelangten Verhandlungsgege...</td>\n",
       "      <td>[]</td>\n",
       "      <td>[{'label': '14141/AB', 'url': 'https://parlame...</td>\n",
       "      <td>SPEAKER: 88386; TEXT: Hinsichtlich der eingela...</td>\n",
       "    </tr>\n",
       "    <tr>\n",
       "      <th>2</th>\n",
       "      <td>88386</td>\n",
       "      <td>Außerdem weise ich\\n\\ndie Anträge 3425/A, 3426...</td>\n",
       "      <td>[]</td>\n",
       "      <td>[{'label': '3425/A', 'url': 'https://parlament...</td>\n",
       "      <td>SPEAKER: 88386; TEXT: Außerdem weise ich\\n\\ndi...</td>\n",
       "    </tr>\n",
       "    <tr>\n",
       "      <th>3</th>\n",
       "      <td>88386</td>\n",
       "      <td>Weiters darf ich mitteilen, dass folgende Fris...</td>\n",
       "      <td>[]</td>\n",
       "      <td>[{'label': '1774 der Beilagen', 'url': 'https:...</td>\n",
       "      <td>SPEAKER: 88386; TEXT: Weiters darf ich mitteil...</td>\n",
       "    </tr>\n",
       "    <tr>\n",
       "      <th>4</th>\n",
       "      <td>88386</td>\n",
       "      <td>Wir kommen nunmehr zur Abstimmung über den Ant...</td>\n",
       "      <td>[]</td>\n",
       "      <td>[{'label': '1774 der\n",
       "Beilagen', 'url': 'https:...</td>\n",
       "      <td>SPEAKER: 88386; TEXT: Wir kommen nunmehr zur A...</td>\n",
       "    </tr>\n",
       "  </tbody>\n",
       "</table>\n",
       "</div>"
      ],
      "text/plain": [
       "  speaker                                               text  \\\n",
       "0   88386  Ich darf die 216. Sitzung des Nationalrates um...   \n",
       "1   88386  Hinsichtlich der eingelangten Verhandlungsgege...   \n",
       "2   88386  Außerdem weise ich\\n\\ndie Anträge 3425/A, 3426...   \n",
       "3   88386  Weiters darf ich mitteilen, dass folgende Fris...   \n",
       "4   88386  Wir kommen nunmehr zur Abstimmung über den Ant...   \n",
       "\n",
       "                                            callouts  \\\n",
       "0  [{'caller': '2343', 'text': 'Ich bin noch nich...   \n",
       "1                                                 []   \n",
       "2                                                 []   \n",
       "3                                                 []   \n",
       "4                                                 []   \n",
       "\n",
       "                                               links  \\\n",
       "0                                                 []   \n",
       "1  [{'label': '14141/AB', 'url': 'https://parlame...   \n",
       "2  [{'label': '3425/A', 'url': 'https://parlament...   \n",
       "3  [{'label': '1774 der Beilagen', 'url': 'https:...   \n",
       "4  [{'label': '1774 der\n",
       "Beilagen', 'url': 'https:...   \n",
       "\n",
       "                                               input  \n",
       "0  SPEAKER: 88386; TEXT: Ich darf die 216. Sitzun...  \n",
       "1  SPEAKER: 88386; TEXT: Hinsichtlich der eingela...  \n",
       "2  SPEAKER: 88386; TEXT: Außerdem weise ich\\n\\ndi...  \n",
       "3  SPEAKER: 88386; TEXT: Weiters darf ich mitteil...  \n",
       "4  SPEAKER: 88386; TEXT: Wir kommen nunmehr zur A...  "
      ]
     },
     "execution_count": 7,
     "metadata": {},
     "output_type": "execute_result"
    }
   ],
   "source": [
    "# the entries in \"speaker\" arer list of dicts; therefore loop over the list to extract the dicts\n",
    "text_dict = [j  for sections in sessions[\"sections\"] for j in sections] \n",
    "\n",
    "# make a pandas df from the extracted dict\n",
    "text = pd.DataFrame.from_dict(text_dict, orient=\"columns\")\n",
    "text[\"input\"] = \"SPEAKER: \"+text[\"speaker\"]+\"; TEXT: \"+text[\"text\"]\n",
    "print(text.shape) # 173498 \n",
    "text.head()"
   ]
  },
  {
   "cell_type": "code",
   "execution_count": null,
   "id": "f66d46b4-6cc6-4d67-8881-e841202e5a80",
   "metadata": {},
   "outputs": [],
   "source": []
  },
  {
   "cell_type": "code",
   "execution_count": 8,
   "id": "16c1fca6-2fa0-4d08-b1c8-a8bb4cba5d66",
   "metadata": {},
   "outputs": [
    {
     "data": {
      "text/html": [
       "<div>\n",
       "<style scoped>\n",
       "    .dataframe tbody tr th:only-of-type {\n",
       "        vertical-align: middle;\n",
       "    }\n",
       "\n",
       "    .dataframe tbody tr th {\n",
       "        vertical-align: top;\n",
       "    }\n",
       "\n",
       "    .dataframe thead th {\n",
       "        text-align: right;\n",
       "    }\n",
       "</style>\n",
       "<table border=\"1\" class=\"dataframe\">\n",
       "  <thead>\n",
       "    <tr style=\"text-align: right;\">\n",
       "      <th></th>\n",
       "      <th>0</th>\n",
       "    </tr>\n",
       "  </thead>\n",
       "  <tbody>\n",
       "    <tr>\n",
       "      <th>count</th>\n",
       "      <td>10</td>\n",
       "    </tr>\n",
       "    <tr>\n",
       "      <th>unique</th>\n",
       "      <td>2</td>\n",
       "    </tr>\n",
       "    <tr>\n",
       "      <th>top</th>\n",
       "      <td>True</td>\n",
       "    </tr>\n",
       "    <tr>\n",
       "      <th>freq</th>\n",
       "      <td>9</td>\n",
       "    </tr>\n",
       "  </tbody>\n",
       "</table>\n",
       "</div>"
      ],
      "text/plain": [
       "           0\n",
       "count     10\n",
       "unique     2\n",
       "top     True\n",
       "freq       9"
      ]
     },
     "execution_count": 8,
     "metadata": {},
     "output_type": "execute_result"
    }
   ],
   "source": [
    "#for i in range(10): \n",
    "#    print(text[\"callouts\"][i] == [])\n",
    "tryout = pd.DataFrame([text[\"callouts\"][i] == [] for i in range(10)])\n",
    "tryout.describe()"
   ]
  },
  {
   "cell_type": "code",
   "execution_count": 9,
   "id": "0831355e-0056-40fe-b708-49336d7a962a",
   "metadata": {},
   "outputs": [
    {
     "data": {
      "text/plain": [
       "Dataset({\n",
       "    features: ['speaker', 'text', 'callouts', 'links', 'input'],\n",
       "    num_rows: 173498\n",
       "})"
      ]
     },
     "execution_count": 9,
     "metadata": {},
     "output_type": "execute_result"
    }
   ],
   "source": [
    "from datasets import Dataset,DatasetDict\n",
    "\n",
    "ds = Dataset.from_pandas(text)\n",
    "ds"
   ]
  },
  {
   "cell_type": "code",
   "execution_count": 11,
   "id": "0718b153-acba-4939-b54b-6806b4e44df5",
   "metadata": {},
   "outputs": [],
   "source": [
    "from transformers import AutoModelForSequenceClassification,AutoTokenizer\n",
    "model_nm = 'microsoft/deberta-v3-small'\n",
    "tokz = AutoTokenizer.from_pretrained(model_nm)\n",
    "tok_ds = tokz(str(text[\"input\"][:400]))"
   ]
  },
  {
   "cell_type": "code",
   "execution_count": null,
   "id": "04815515-23a8-464e-a66b-aed61a1c3e39",
   "metadata": {},
   "outputs": [],
   "source": []
  }
 ],
 "metadata": {
  "kernelspec": {
   "display_name": "Python 3 (ipykernel)",
   "language": "python",
   "name": "python3"
  },
  "language_info": {
   "codemirror_mode": {
    "name": "ipython",
    "version": 3
   },
   "file_extension": ".py",
   "mimetype": "text/x-python",
   "name": "python",
   "nbconvert_exporter": "python",
   "pygments_lexer": "ipython3",
   "version": "3.10.13"
  }
 },
 "nbformat": 4,
 "nbformat_minor": 5
}
