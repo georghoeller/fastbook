{
 "cells": [
  {
   "cell_type": "markdown",
   "id": "ec32e439-a16d-4c88-a816-3fae5dd0c399",
   "metadata": {},
   "source": [
    "# Parlament Speaker Recogniction Model\n",
    "This notebook should predict what speaker said certain things based on the Austrian parlament speaches. \n",
    "\n",
    "This small project is based on the Dataset assembled by Mario Zechner (https://marioslab.io/)"
   ]
  },
  {
   "cell_type": "code",
   "execution_count": 1,
   "id": "10e76751-2472-4fa6-add4-6dcc5fe3a78f",
   "metadata": {},
   "outputs": [
    {
     "name": "stdout",
     "output_type": "stream",
     "text": [
      "(681, 6)\n"
     ]
    },
    {
     "data": {
      "text/html": [
       "<div>\n",
       "<style scoped>\n",
       "    .dataframe tbody tr th:only-of-type {\n",
       "        vertical-align: middle;\n",
       "    }\n",
       "\n",
       "    .dataframe tbody tr th {\n",
       "        vertical-align: top;\n",
       "    }\n",
       "\n",
       "    .dataframe thead th {\n",
       "        text-align: right;\n",
       "    }\n",
       "</style>\n",
       "<table border=\"1\" class=\"dataframe\">\n",
       "  <thead>\n",
       "    <tr style=\"text-align: right;\">\n",
       "      <th></th>\n",
       "      <th>id</th>\n",
       "      <th>name</th>\n",
       "      <th>parties</th>\n",
       "      <th>periods</th>\n",
       "      <th>url</th>\n",
       "      <th>imageUrl</th>\n",
       "    </tr>\n",
       "  </thead>\n",
       "  <tbody>\n",
       "    <tr>\n",
       "      <th>0</th>\n",
       "      <td>3612</td>\n",
       "      <td>Sonja Ablinger</td>\n",
       "      <td>[SPÖ]</td>\n",
       "      <td>[XX, XXIII, XXIV]</td>\n",
       "      <td>https://parlament.gv.at/person/3612</td>\n",
       "      <td>https://parlament.gv.at/dokument/bild/34898/34...</td>\n",
       "    </tr>\n",
       "    <tr>\n",
       "      <th>1</th>\n",
       "      <td>14854</td>\n",
       "      <td>Dipl.-Ing. Elke Achleitner</td>\n",
       "      <td>[BZÖ, FPÖ]</td>\n",
       "      <td>[XXII]</td>\n",
       "      <td>https://parlament.gv.at/person/14854</td>\n",
       "      <td>https://parlament.gv.at/dokument/bild/21013/21...</td>\n",
       "    </tr>\n",
       "    <tr>\n",
       "      <th>2</th>\n",
       "      <td>83119</td>\n",
       "      <td>Mag. Nikolaus Alm</td>\n",
       "      <td>[LIF, NEOS]</td>\n",
       "      <td>[XXV]</td>\n",
       "      <td>https://parlament.gv.at/person/83119</td>\n",
       "      <td>https://parlament.gv.at/dokument/bild/43808/43...</td>\n",
       "    </tr>\n",
       "    <tr>\n",
       "      <th>3</th>\n",
       "      <td>51879</td>\n",
       "      <td>Mag. Hannes Amesbauer, BA</td>\n",
       "      <td>[FPÖ]</td>\n",
       "      <td>[XXVI, XXVII]</td>\n",
       "      <td>https://parlament.gv.at/person/51879</td>\n",
       "      <td>https://parlament.gv.at/dokument/bild/200696/2...</td>\n",
       "    </tr>\n",
       "    <tr>\n",
       "      <th>4</th>\n",
       "      <td>2819</td>\n",
       "      <td>Werner Amon, MBA</td>\n",
       "      <td>[ÖVP]</td>\n",
       "      <td>[XIX, XX, XXI, XXII, XXIII, XXIV, XXV, XXVI]</td>\n",
       "      <td>https://parlament.gv.at/person/2819</td>\n",
       "      <td>https://parlament.gv.at/dokument/bild/90356/90...</td>\n",
       "    </tr>\n",
       "  </tbody>\n",
       "</table>\n",
       "</div>"
      ],
      "text/plain": [
       "      id                        name      parties  \\\n",
       "0   3612              Sonja Ablinger        [SPÖ]   \n",
       "1  14854  Dipl.-Ing. Elke Achleitner   [BZÖ, FPÖ]   \n",
       "2  83119           Mag. Nikolaus Alm  [LIF, NEOS]   \n",
       "3  51879   Mag. Hannes Amesbauer, BA        [FPÖ]   \n",
       "4   2819            Werner Amon, MBA        [ÖVP]   \n",
       "\n",
       "                                        periods  \\\n",
       "0                             [XX, XXIII, XXIV]   \n",
       "1                                        [XXII]   \n",
       "2                                         [XXV]   \n",
       "3                                 [XXVI, XXVII]   \n",
       "4  [XIX, XX, XXI, XXII, XXIII, XXIV, XXV, XXVI]   \n",
       "\n",
       "                                    url  \\\n",
       "0   https://parlament.gv.at/person/3612   \n",
       "1  https://parlament.gv.at/person/14854   \n",
       "2  https://parlament.gv.at/person/83119   \n",
       "3  https://parlament.gv.at/person/51879   \n",
       "4   https://parlament.gv.at/person/2819   \n",
       "\n",
       "                                            imageUrl  \n",
       "0  https://parlament.gv.at/dokument/bild/34898/34...  \n",
       "1  https://parlament.gv.at/dokument/bild/21013/21...  \n",
       "2  https://parlament.gv.at/dokument/bild/43808/43...  \n",
       "3  https://parlament.gv.at/dokument/bild/200696/2...  \n",
       "4  https://parlament.gv.at/dokument/bild/90356/90...  "
      ]
     },
     "execution_count": 1,
     "metadata": {},
     "output_type": "execute_result"
    }
   ],
   "source": [
    "# DATA FROM SPEAKER\n",
    "import pandas as pd\n",
    "\n",
    "# Either use direct download or load locally https://woswormeileistung.marioslab.io/data/persons.json\n",
    "#speaker = pd.read_json(\"https://woswormeileistung.marioslab.io/data/persons.json\")\n",
    "speaker = pd.read_json(\"persons.json\")\n",
    "print(speaker.shape)\n",
    "speaker.head()"
   ]
  },
  {
   "cell_type": "markdown",
   "id": "1fc8ee87-9c5f-4872-9b10-eebbbcd68159",
   "metadata": {},
   "source": [
    "As one can see there are about 681 Speakers from the austrian parlament, starting from 2002"
   ]
  },
  {
   "cell_type": "code",
   "execution_count": 2,
   "id": "91469d18-e012-4370-be7a-e0b2c4660c7f",
   "metadata": {},
   "outputs": [
    {
     "name": "stdout",
     "output_type": "stream",
     "text": [
      "(1001, 7)\n"
     ]
    },
    {
     "data": {
      "text/html": [
       "<div>\n",
       "<style scoped>\n",
       "    .dataframe tbody tr th:only-of-type {\n",
       "        vertical-align: middle;\n",
       "    }\n",
       "\n",
       "    .dataframe tbody tr th {\n",
       "        vertical-align: top;\n",
       "    }\n",
       "\n",
       "    .dataframe thead th {\n",
       "        text-align: right;\n",
       "    }\n",
       "</style>\n",
       "<table border=\"1\" class=\"dataframe\">\n",
       "  <thead>\n",
       "    <tr style=\"text-align: right;\">\n",
       "      <th></th>\n",
       "      <th>url</th>\n",
       "      <th>period</th>\n",
       "      <th>sessionNumber</th>\n",
       "      <th>sessionLabel</th>\n",
       "      <th>date</th>\n",
       "      <th>protocolUrls</th>\n",
       "      <th>sections</th>\n",
       "    </tr>\n",
       "  </thead>\n",
       "  <tbody>\n",
       "    <tr>\n",
       "      <th>0</th>\n",
       "      <td>https://parlament.gv.at/gegenstand/XXVII/NRSIT...</td>\n",
       "      <td>XXVII</td>\n",
       "      <td>251</td>\n",
       "      <td>251. Sitzung (251/NRSITZ)</td>\n",
       "      <td>2024-01-31</td>\n",
       "      <td>[]</td>\n",
       "      <td>[]</td>\n",
       "    </tr>\n",
       "    <tr>\n",
       "      <th>1</th>\n",
       "      <td>https://parlament.gv.at/gegenstand/XXVII/NRSIT...</td>\n",
       "      <td>XXVII</td>\n",
       "      <td>250</td>\n",
       "      <td>250. Sitzung (250/NRSITZ)</td>\n",
       "      <td>2024-01-31</td>\n",
       "      <td>[]</td>\n",
       "      <td>[]</td>\n",
       "    </tr>\n",
       "    <tr>\n",
       "      <th>2</th>\n",
       "      <td>https://parlament.gv.at/gegenstand/XXVII/NRSIT...</td>\n",
       "      <td>XXVII</td>\n",
       "      <td>249</td>\n",
       "      <td>249. Sitzung (249/NRSITZ)</td>\n",
       "      <td>2024-01-31</td>\n",
       "      <td>[]</td>\n",
       "      <td>[]</td>\n",
       "    </tr>\n",
       "    <tr>\n",
       "      <th>3</th>\n",
       "      <td>https://parlament.gv.at/gegenstand/XXVII/NRSIT...</td>\n",
       "      <td>XXVII</td>\n",
       "      <td>248</td>\n",
       "      <td>248. Sitzung (248/NRSITZ)</td>\n",
       "      <td>2023-12-15</td>\n",
       "      <td>[]</td>\n",
       "      <td>[]</td>\n",
       "    </tr>\n",
       "    <tr>\n",
       "      <th>4</th>\n",
       "      <td>https://parlament.gv.at/gegenstand/XXVII/NRSIT...</td>\n",
       "      <td>XXVII</td>\n",
       "      <td>247</td>\n",
       "      <td>247. Sitzung (247/NRSITZ)</td>\n",
       "      <td>2023-12-15</td>\n",
       "      <td>[]</td>\n",
       "      <td>[]</td>\n",
       "    </tr>\n",
       "  </tbody>\n",
       "</table>\n",
       "</div>"
      ],
      "text/plain": [
       "                                                 url period  sessionNumber  \\\n",
       "0  https://parlament.gv.at/gegenstand/XXVII/NRSIT...  XXVII            251   \n",
       "1  https://parlament.gv.at/gegenstand/XXVII/NRSIT...  XXVII            250   \n",
       "2  https://parlament.gv.at/gegenstand/XXVII/NRSIT...  XXVII            249   \n",
       "3  https://parlament.gv.at/gegenstand/XXVII/NRSIT...  XXVII            248   \n",
       "4  https://parlament.gv.at/gegenstand/XXVII/NRSIT...  XXVII            247   \n",
       "\n",
       "                sessionLabel       date protocolUrls sections  \n",
       "0  251. Sitzung (251/NRSITZ) 2024-01-31           []       []  \n",
       "1  250. Sitzung (250/NRSITZ) 2024-01-31           []       []  \n",
       "2  249. Sitzung (249/NRSITZ) 2024-01-31           []       []  \n",
       "3  248. Sitzung (248/NRSITZ) 2023-12-15           []       []  \n",
       "4  247. Sitzung (247/NRSITZ) 2023-12-15           []       []  "
      ]
     },
     "execution_count": 2,
     "metadata": {},
     "output_type": "execute_result"
    }
   ],
   "source": [
    "# DATA FROM SESSIONS \n",
    "# BE AWARA: sessions data has 440 mb, so it is only imported locally \n",
    "# https://woswormeileistung.marioslab.io/data/sessions.json\n",
    "\n",
    "sessions = pd.read_json(\"sessions.json\")\n",
    "\n",
    "print(sessions.shape)\n",
    "sessions.head()"
   ]
  },
  {
   "cell_type": "code",
   "execution_count": 3,
   "id": "44b08af4-d2ed-4361-a251-507110c3a1e7",
   "metadata": {},
   "outputs": [
    {
     "data": {
      "text/plain": [
       "0    []\n",
       "1    []\n",
       "2    []\n",
       "3    []\n",
       "4    []\n",
       "Name: sections, dtype: object"
      ]
     },
     "execution_count": 3,
     "metadata": {},
     "output_type": "execute_result"
    }
   ],
   "source": [
    "sessions.sections.head()"
   ]
  },
  {
   "cell_type": "code",
   "execution_count": 4,
   "id": "d4c15d2e-c605-4eb3-a946-afcd9876b119",
   "metadata": {},
   "outputs": [
    {
     "data": {
      "text/plain": [
       "0                                                      []\n",
       "35      [{'speaker': '88386', 'text': 'Ich darf die 21...\n",
       "36      [{'speaker': '88386', 'text': 'Meine sehr geeh...\n",
       "39      [{'speaker': '88386', 'text': 'Ich eröffne die...\n",
       "40      [{'speaker': '88386', 'text': 'Meine sehr geeh...\n",
       "                              ...                        \n",
       "996     [{'speaker': '799', 'text': 'Ich eröffne die 5...\n",
       "997     [{'speaker': '799', 'text': 'Die Sitzung ist e...\n",
       "998     [{'speaker': '799', 'text': 'Meine Damen und H...\n",
       "999     [{'speaker': '799', 'text': 'Die Sitzung ist e...\n",
       "1000    [{'speaker': '334', 'text': 'Meine Damen und H...\n",
       "Name: sections, Length: 955, dtype: object"
      ]
     },
     "execution_count": 4,
     "metadata": {},
     "output_type": "execute_result"
    }
   ],
   "source": [
    "sessions.sections.drop_duplicates()"
   ]
  },
  {
   "cell_type": "code",
   "execution_count": 5,
   "id": "e2ffea5c-69e8-45ec-9556-8f87f45b1529",
   "metadata": {},
   "outputs": [
    {
     "data": {
      "text/plain": [
       "count     1001\n",
       "unique     955\n",
       "top         []\n",
       "freq        47\n",
       "Name: sections, dtype: object"
      ]
     },
     "execution_count": 5,
     "metadata": {},
     "output_type": "execute_result"
    }
   ],
   "source": [
    "sessions.sections.describe()"
   ]
  },
  {
   "cell_type": "code",
   "execution_count": 6,
   "id": "9d1b6a27-1ca0-4629-8949-6400b1778a63",
   "metadata": {},
   "outputs": [
    {
     "name": "stdout",
     "output_type": "stream",
     "text": [
      "Absolute number of na: 47 || relative number of na: 0.04695304695304695\n"
     ]
    }
   ],
   "source": [
    "session_na = [1 if sessions[\"sections\"][i] == [] else 0 for i in range(len(sessions))]\n",
    "print(\"Absolute number of na: \"+ str(sum(session_na)) + \" || relative number of na: \"+ str(sum(session_na)/len(sessions)))"
   ]
  },
  {
   "cell_type": "code",
   "execution_count": 7,
   "id": "5fce6022-6cd3-4f67-bb00-d61c40132887",
   "metadata": {},
   "outputs": [
    {
     "name": "stdout",
     "output_type": "stream",
     "text": [
      "(173498, 5)\n"
     ]
    },
    {
     "data": {
      "text/html": [
       "<div>\n",
       "<style scoped>\n",
       "    .dataframe tbody tr th:only-of-type {\n",
       "        vertical-align: middle;\n",
       "    }\n",
       "\n",
       "    .dataframe tbody tr th {\n",
       "        vertical-align: top;\n",
       "    }\n",
       "\n",
       "    .dataframe thead th {\n",
       "        text-align: right;\n",
       "    }\n",
       "</style>\n",
       "<table border=\"1\" class=\"dataframe\">\n",
       "  <thead>\n",
       "    <tr style=\"text-align: right;\">\n",
       "      <th></th>\n",
       "      <th>speaker</th>\n",
       "      <th>text</th>\n",
       "      <th>callouts</th>\n",
       "      <th>links</th>\n",
       "      <th>input</th>\n",
       "    </tr>\n",
       "  </thead>\n",
       "  <tbody>\n",
       "    <tr>\n",
       "      <th>0</th>\n",
       "      <td>88386</td>\n",
       "      <td>Ich darf die 216. Sitzung des Nationalrates um...</td>\n",
       "      <td>[{'caller': '2343', 'text': 'Ich bin noch nich...</td>\n",
       "      <td>[]</td>\n",
       "      <td>SPEAKER: 88386; TEXT: Ich darf die 216. Sitzun...</td>\n",
       "    </tr>\n",
       "    <tr>\n",
       "      <th>1</th>\n",
       "      <td>88386</td>\n",
       "      <td>Hinsichtlich der eingelangten Verhandlungsgege...</td>\n",
       "      <td>[]</td>\n",
       "      <td>[{'label': '14141/AB', 'url': 'https://parlame...</td>\n",
       "      <td>SPEAKER: 88386; TEXT: Hinsichtlich der eingela...</td>\n",
       "    </tr>\n",
       "    <tr>\n",
       "      <th>2</th>\n",
       "      <td>88386</td>\n",
       "      <td>Außerdem weise ich\\n\\ndie Anträge 3425/A, 3426...</td>\n",
       "      <td>[]</td>\n",
       "      <td>[{'label': '3425/A', 'url': 'https://parlament...</td>\n",
       "      <td>SPEAKER: 88386; TEXT: Außerdem weise ich\\n\\ndi...</td>\n",
       "    </tr>\n",
       "    <tr>\n",
       "      <th>3</th>\n",
       "      <td>88386</td>\n",
       "      <td>Weiters darf ich mitteilen, dass folgende Fris...</td>\n",
       "      <td>[]</td>\n",
       "      <td>[{'label': '1774 der Beilagen', 'url': 'https:...</td>\n",
       "      <td>SPEAKER: 88386; TEXT: Weiters darf ich mitteil...</td>\n",
       "    </tr>\n",
       "    <tr>\n",
       "      <th>4</th>\n",
       "      <td>88386</td>\n",
       "      <td>Wir kommen nunmehr zur Abstimmung über den Ant...</td>\n",
       "      <td>[]</td>\n",
       "      <td>[{'label': '1774 der\n",
       "Beilagen', 'url': 'https:...</td>\n",
       "      <td>SPEAKER: 88386; TEXT: Wir kommen nunmehr zur A...</td>\n",
       "    </tr>\n",
       "  </tbody>\n",
       "</table>\n",
       "</div>"
      ],
      "text/plain": [
       "  speaker                                               text  \\\n",
       "0   88386  Ich darf die 216. Sitzung des Nationalrates um...   \n",
       "1   88386  Hinsichtlich der eingelangten Verhandlungsgege...   \n",
       "2   88386  Außerdem weise ich\\n\\ndie Anträge 3425/A, 3426...   \n",
       "3   88386  Weiters darf ich mitteilen, dass folgende Fris...   \n",
       "4   88386  Wir kommen nunmehr zur Abstimmung über den Ant...   \n",
       "\n",
       "                                            callouts  \\\n",
       "0  [{'caller': '2343', 'text': 'Ich bin noch nich...   \n",
       "1                                                 []   \n",
       "2                                                 []   \n",
       "3                                                 []   \n",
       "4                                                 []   \n",
       "\n",
       "                                               links  \\\n",
       "0                                                 []   \n",
       "1  [{'label': '14141/AB', 'url': 'https://parlame...   \n",
       "2  [{'label': '3425/A', 'url': 'https://parlament...   \n",
       "3  [{'label': '1774 der Beilagen', 'url': 'https:...   \n",
       "4  [{'label': '1774 der\n",
       "Beilagen', 'url': 'https:...   \n",
       "\n",
       "                                               input  \n",
       "0  SPEAKER: 88386; TEXT: Ich darf die 216. Sitzun...  \n",
       "1  SPEAKER: 88386; TEXT: Hinsichtlich der eingela...  \n",
       "2  SPEAKER: 88386; TEXT: Außerdem weise ich\\n\\ndi...  \n",
       "3  SPEAKER: 88386; TEXT: Weiters darf ich mitteil...  \n",
       "4  SPEAKER: 88386; TEXT: Wir kommen nunmehr zur A...  "
      ]
     },
     "execution_count": 7,
     "metadata": {},
     "output_type": "execute_result"
    }
   ],
   "source": [
    "# the entries in \"speaker\" arer list of dicts; therefore loop over the list to extract the dicts\n",
    "text_dict = [j  for sections in sessions[\"sections\"] for j in sections] \n",
    "\n",
    "# make a pandas df from the extracted dict\n",
    "text = pd.DataFrame.from_dict(text_dict, orient=\"columns\")\n",
    "text[\"input\"] = \"SPEAKER: \"+text[\"speaker\"]+\"; TEXT: \"+text[\"text\"]\n",
    "print(text.shape) # 173498 \n",
    "text.head()"
   ]
  },
  {
   "cell_type": "code",
   "execution_count": null,
   "id": "f66d46b4-6cc6-4d67-8881-e841202e5a80",
   "metadata": {},
   "outputs": [],
   "source": []
  },
  {
   "cell_type": "code",
   "execution_count": 8,
   "id": "16c1fca6-2fa0-4d08-b1c8-a8bb4cba5d66",
   "metadata": {},
   "outputs": [
    {
     "data": {
      "text/html": [
       "<div>\n",
       "<style scoped>\n",
       "    .dataframe tbody tr th:only-of-type {\n",
       "        vertical-align: middle;\n",
       "    }\n",
       "\n",
       "    .dataframe tbody tr th {\n",
       "        vertical-align: top;\n",
       "    }\n",
       "\n",
       "    .dataframe thead th {\n",
       "        text-align: right;\n",
       "    }\n",
       "</style>\n",
       "<table border=\"1\" class=\"dataframe\">\n",
       "  <thead>\n",
       "    <tr style=\"text-align: right;\">\n",
       "      <th></th>\n",
       "      <th>0</th>\n",
       "    </tr>\n",
       "  </thead>\n",
       "  <tbody>\n",
       "    <tr>\n",
       "      <th>count</th>\n",
       "      <td>10</td>\n",
       "    </tr>\n",
       "    <tr>\n",
       "      <th>unique</th>\n",
       "      <td>2</td>\n",
       "    </tr>\n",
       "    <tr>\n",
       "      <th>top</th>\n",
       "      <td>True</td>\n",
       "    </tr>\n",
       "    <tr>\n",
       "      <th>freq</th>\n",
       "      <td>9</td>\n",
       "    </tr>\n",
       "  </tbody>\n",
       "</table>\n",
       "</div>"
      ],
      "text/plain": [
       "           0\n",
       "count     10\n",
       "unique     2\n",
       "top     True\n",
       "freq       9"
      ]
     },
     "execution_count": 8,
     "metadata": {},
     "output_type": "execute_result"
    }
   ],
   "source": [
    "#for i in range(10): \n",
    "#    print(text[\"callouts\"][i] == [])\n",
    "tryout = pd.DataFrame([text[\"callouts\"][i] == [] for i in range(10)])\n",
    "tryout.describe()"
   ]
  },
  {
   "cell_type": "markdown",
   "id": "6a600894-63b6-455a-afe0-3ca4c7a2bf90",
   "metadata": {},
   "source": [
    "# Try using Hugging Face transformers library"
   ]
  },
  {
   "cell_type": "code",
   "execution_count": 9,
   "id": "0831355e-0056-40fe-b708-49336d7a962a",
   "metadata": {},
   "outputs": [
    {
     "data": {
      "text/plain": [
       "Dataset({\n",
       "    features: ['speaker', 'text', 'callouts', 'links', 'input'],\n",
       "    num_rows: 173498\n",
       "})"
      ]
     },
     "execution_count": 9,
     "metadata": {},
     "output_type": "execute_result"
    }
   ],
   "source": [
    "from datasets import Dataset,DatasetDict\n",
    "\n",
    "ds = Dataset.from_pandas(text[:100])\n",
    "ds"
   ]
  },
  {
   "cell_type": "code",
   "execution_count": 10,
   "id": "0718b153-acba-4939-b54b-6806b4e44df5",
   "metadata": {},
   "outputs": [
    {
     "name": "stderr",
     "output_type": "stream",
     "text": [
      "/home/georg/miniforge3/lib/python3.10/site-packages/transformers/convert_slow_tokenizer.py:515: UserWarning: The sentencepiece tokenizer that you are converting to a fast tokenizer uses the byte fallback option which is not implemented in the fast tokenizers. In practice this means that the fast version of the tokenizer can produce unknown tokens whereas the sentencepiece version would have converted these unknown tokens into a sequence of byte tokens matching the original piece of text.\n",
      "  warnings.warn(\n"
     ]
    }
   ],
   "source": [
    "from transformers import AutoModelForSequenceClassification,AutoTokenizer\n",
    "model_nm = 'microsoft/deberta-v3-small'\n",
    "t#okz = AutoTokenizer.from_pretrained(model_nm)\n",
    "\n",
    "def tok_func(x): return tokz(x[\"input\"])\n",
    "#tok_ds = ds.map(tok_func, batched=True)\n",
    "#tok_ds"
   ]
  },
  {
   "cell_type": "code",
   "execution_count": 11,
   "id": "6ed39901-c573-4b4c-910f-2886a8ac0368",
   "metadata": {},
   "outputs": [],
   "source": [
    "# MY JOURNEY WITH THE HUGGING FACE LIBRARY STOPS HERE BECAUSE OF AN ERROR\n",
    "\n",
    "#from transformers import TrainingArguments,Trainer\n",
    "\n",
    "#args = TrainingArguments('outputs', \n",
    "#                         learning_rate=8e-5, \n",
    "#                         warmup_ratio=0.1, \n",
    "#                         lr_scheduler_type='cosine', \n",
    "#                         fp16=False,\n",
    "#                         evaluation_strategy=\"epoch\", \n",
    "#                         per_device_train_batch_size=128, \n",
    "#                         per_device_eval_batch_size=128*2,\n",
    "#                         num_train_epochs=4, \n",
    "#                         weight_decay=0.01, \n",
    "#                         report_to='none')"
   ]
  },
  {
   "cell_type": "code",
   "execution_count": 12,
   "id": "ee6dd446-704a-4166-aca5-d6b4a120d9e6",
   "metadata": {},
   "outputs": [],
   "source": [
    "#model = AutoModelForSequenceClassification.from_pretrained(model_nm, num_labels=1)\n",
    "#trainer = Trainer(model, args, train_dataset=dds['train'], eval_dataset=dds['test'],tokenizer=tokz, compute_metrics=corr_d)"
   ]
  },
  {
   "cell_type": "markdown",
   "id": "8cb3ce61-6f43-48c5-9e43-653802a059e8",
   "metadata": {},
   "source": [
    "# Try the speaker classification with fast.ai library"
   ]
  },
  {
   "cell_type": "code",
   "execution_count": 13,
   "id": "0f0115ce-3738-41db-b761-f12bee3bf4ef",
   "metadata": {},
   "outputs": [
    {
     "data": {
      "text/html": [
       "\n",
       "<style>\n",
       "    /* Turns off some styling */\n",
       "    progress {\n",
       "        /* gets rid of default border in Firefox and Opera. */\n",
       "        border: none;\n",
       "        /* Needs to be in here for Safari polyfill so background images work as expected. */\n",
       "        background-size: auto;\n",
       "    }\n",
       "    progress:not([value]), progress:not([value])::-webkit-progress-bar {\n",
       "        background: repeating-linear-gradient(45deg, #7e7e7e, #7e7e7e 10px, #5c5c5c 10px, #5c5c5c 20px);\n",
       "    }\n",
       "    .progress-bar-interrupted, .progress-bar-interrupted::-webkit-progress-bar {\n",
       "        background: #F44336;\n",
       "    }\n",
       "</style>\n"
      ],
      "text/plain": [
       "<IPython.core.display.HTML object>"
      ]
     },
     "metadata": {},
     "output_type": "display_data"
    },
    {
     "data": {
      "text/html": [],
      "text/plain": [
       "<IPython.core.display.HTML object>"
      ]
     },
     "metadata": {},
     "output_type": "display_data"
    }
   ],
   "source": [
    "from fastai.text.core import tokenize_df\n",
    "train_df = text[:100]\n",
    "text_tok = tokenize_df(df=train_df,text_cols=\"text\")"
   ]
  },
  {
   "cell_type": "code",
   "execution_count": 14,
   "id": "478affcf-c8df-4fc9-888f-a76336acd4f9",
   "metadata": {},
   "outputs": [
    {
     "data": {
      "text/html": [
       "<div>\n",
       "<style scoped>\n",
       "    .dataframe tbody tr th:only-of-type {\n",
       "        vertical-align: middle;\n",
       "    }\n",
       "\n",
       "    .dataframe tbody tr th {\n",
       "        vertical-align: top;\n",
       "    }\n",
       "\n",
       "    .dataframe thead th {\n",
       "        text-align: right;\n",
       "    }\n",
       "</style>\n",
       "<table border=\"1\" class=\"dataframe\">\n",
       "  <thead>\n",
       "    <tr style=\"text-align: right;\">\n",
       "      <th></th>\n",
       "      <th>speaker</th>\n",
       "      <th>callouts</th>\n",
       "      <th>links</th>\n",
       "      <th>input</th>\n",
       "      <th>text</th>\n",
       "      <th>text_length</th>\n",
       "    </tr>\n",
       "  </thead>\n",
       "  <tbody>\n",
       "    <tr>\n",
       "      <th>0</th>\n",
       "      <td>88386</td>\n",
       "      <td>[{'caller': '2343', 'text': 'Ich bin noch nicht fertig, Herr Präsident!'}, {'text': 'Beifall bei SPÖ und Grünen.'}, {'text': 'In Richtung Galerie:'}]</td>\n",
       "      <td>[]</td>\n",
       "      <td>SPEAKER: 88386; TEXT: Ich darf die 216. Sitzung des Nationalrates um 16.45 Uhr eröffnen. (Abg. Hoyos-Trauttmansdorff: Ich bin noch nicht fertig, Herr Präsident!)\\n\\nIch darf alle Damen und Herren Abgeordnete und auch unsere Gäste auf der Galerie und zu Hause vor den Fernsehschirmen recht herzlich begrüßen. Die Journalisten haben sich schon – bis auf einen, glaube ich – verabschiedet. Ja, einer hält wacker die Stellung. (Beifall bei SPÖ und Grünen.) – (In Richtung Galerie:) Der Applaus ist Ihrer!\\n\\nDie Sitzung ist eröffnet.\\n\\nAls verhindert gemeldet sind die Abgeordneten Mag. Wolfgang Ger...</td>\n",
       "      <td>[xxbos, xxmaj, ich, darf, die, 216, .,  , xxmaj, sitzung, des, xxmaj, nationalrates, um, 16.45,  , xxmaj, uhr, eröffnen, ., (, abg, ., hoyos, -, trauttmansdorff, :, xxmaj, ich, bin, noch, nicht, fertig, ,, xxmaj, herr, xxmaj, präsident, !, ), \\n\\n, xxmaj, ich, darf, alle, xxmaj, damen, und, xxmaj, herren, xxmaj, abgeordnete, und, auch, unsere, xxmaj, gäste, auf, der, xxmaj, galerie, und, zu, xxmaj, hause, vor, den, xxmaj, fernsehschirmen, recht, herzlich, begrüßen, ., xxmaj, die, xxmaj, journalisten, haben, sich, schon,  , –, bis, auf, einen, ,, glaube, ich,  , –, verabschiedet, ., xxmaj, ...</td>\n",
       "      <td>236</td>\n",
       "    </tr>\n",
       "    <tr>\n",
       "      <th>1</th>\n",
       "      <td>88386</td>\n",
       "      <td>[]</td>\n",
       "      <td>[{'label': '14141/AB', 'url': 'https://parlament.gv.at/pls/portal/hi.link?pfad=/PAKT/VHG/XXVII/AB/AB_14141/index.shtml'}, {'label': '14148/AB', 'url': 'https://parlament.gv.at/pls/portal/hi.link?pfad=/PAKT/VHG/XXVII/AB/AB_14148/index.shtml'}, {'label': '3415/A', 'url': 'https://parlament.gv.at/PAKT/VHG/XXVII/A/A_03415/index.shtml'}, {'label': '3410/A', 'url': 'https://parlament.gv.at/PAKT/VHG/XXVII/A/A_03410/index.shtml'}, {'label': '3422/A(E)', 'url': 'https://parlament.gv.at/PAKT/VHG/XXVII/A/A_03422/index.shtml'}, {'label': '3408/A(E)', 'url': 'https://parlament.gv.at/PAKT/VHG/XXVII/A/A_...</td>\n",
       "      <td>SPEAKER: 88386; TEXT: Hinsichtlich der eingelangten Verhandlungsgegenstände und deren Zuweisungen verweise ich gemäß § 23 Abs. 4 der Geschäftsordnung auf die im Sitzungssaal verteilte Mitteilung.\\n\\nDie schriftliche Mitteilung hat folgenden Wortlaut:\\n\\nA. Eingelangte Verhandlungsgegenstände:\\n\\nAnfragebeantwortungen: 14141/AB bis 14148/AB\\n\\nB. Zuweisungen in dieser Sitzung:\\n\\nzur Vorberatung:\\n\\nAusschuss für Arbeit und Soziales:\\n\\nAntrag der Abgeordneten Tanja Graf, Mag. Markus Koza, Kolleginnen und Kollegen betreffend ein Bundesgesetz, mit dem das Ausländerbeschäftigungsgesetz geände...</td>\n",
       "      <td>[xxbos, xxmaj, hinsichtlich, der, eingelangten, xxmaj, verhandlungsgegenstände, und, deren, xxmaj, zuweisungen, verweise, ich, gemäß, §,  , 23, xxmaj, abs, .,  , 4, der, xxmaj, geschäftsordnung, auf, die, i, m, xxmaj, sitzungssaal, verteilte, xxmaj, mitteilung, ., \\n\\n, xxmaj, die, schriftliche, xxmaj, mitteilung, hat, folgenden, xxmaj, wortlaut, :, \\n\\n, xxup, a., xxmaj, eingelangte, xxmaj, verhandlungsgegenstände, :, \\n\\n, xxmaj, anfragebeantwortungen, :, 14141, /, xxup, ab, bis, 14148, /, xxup, ab, \\n\\n, xxup, b., xxmaj, zuweisungen, in, dieser, xxmaj, sitzung, :, \\n\\n, zur, xxmaj, vorb...</td>\n",
       "      <td>913</td>\n",
       "    </tr>\n",
       "    <tr>\n",
       "      <th>2</th>\n",
       "      <td>88386</td>\n",
       "      <td>[]</td>\n",
       "      <td>[{'label': '3425/A', 'url': 'https://parlament.gv.at/PAKT/VHG/XXVII/A/A_03425/index.shtml'}, {'label': '3426/A', 'url': 'https://parlament.gv.at/PAKT/VHG/XXVII/A/A_03426/index.shtml'}, {'label': '3427/A', 'url': 'https://parlament.gv.at/PAKT/VHG/XXVII/A/A_03427/index.shtml'}, {'label': '3428/A', 'url': 'https://parlament.gv.at/PAKT/VHG/XXVII/A/A_03428/index.shtml'}, {'label': '3429/A', 'url': 'https://parlament.gv.at/PAKT/VHG/XXVII/A/A_03429/index.shtml'}]</td>\n",
       "      <td>SPEAKER: 88386; TEXT: Außerdem weise ich\\n\\ndie Anträge 3425/A, 3426/A und 3427/A dem Ausschuss für Wirtschaft, Industrie und Energie,\\n\\nden Antrag 3428/A dem Umweltausschuss sowie\\n\\nden Antrag 3429/A dem Budgetausschuss\\n\\nzu.\\n\\n*****\\n\\nFristsetzungsanträge</td>\n",
       "      <td>[xxbos, xxmaj, außerdem, weise, ich, \\n\\n, die, xxmaj, anträge,  , 3425, /, xxup, a, ,, 3426, /, a, und, 3427, /, a, dem, xxmaj, ausschuss, für, xxmaj, wirtschaft, ,, xxmaj, industrie, und, xxmaj, energie, ,, \\n\\n, den, xxmaj, antrag,  , 3428, /, a, dem, xxmaj, umweltausschuss, sowie, \\n\\n, den, xxmaj, antrag,  , 3429, /, a, dem, xxmaj, budgetausschuss, \\n\\n, zu, ., \\n\\n▁, xxrep, 5, *, \\n\\n, xxmaj, fristsetzungsanträge]</td>\n",
       "      <td>68</td>\n",
       "    </tr>\n",
       "    <tr>\n",
       "      <th>3</th>\n",
       "      <td>88386</td>\n",
       "      <td>[]</td>\n",
       "      <td>[{'label': '1774 der Beilagen', 'url': 'https://parlament.gv.at/PAKT/VHG/XXVII/I/I_01774/index.shtml'}, {'label': '3426/A', 'url': 'https://parlament.gv.at/PAKT/VHG/XXVII/A/A_03426/index.shtml'}, {'label': '3427/A', 'url': 'https://parlament.gv.at/PAKT/VHG/XXVII/A/A_03427/index.shtml'}]</td>\n",
       "      <td>SPEAKER: 88386; TEXT: Weiters darf ich mitteilen, dass folgende Fristsetzungsanträge, dem Ausschuss für Wirtschaft, Industrie und Energie jeweils eine Frist bis zum 31. Mai 2023 zu setzen, vorliegen:\\n\\nAnträge der Abgeordneten Lukas Hammer und Tanja Graf zur Berichterstattung über die Regierungsvorlage 1774 der Beilagen und\\n\\nden Antrag 3426/A sowie\\n\\nAntrag der Abgeordneten Norbert Sieber und Mag. Markus Koza zur Berichterstattung über den Antrag 3427/A.\\n\\nDie gegenständlichen Anträge werden gemäß der Geschäftsordnung nach Beendigung der Verhandlung in dieser Sitzung, also jetzt sogle...</td>\n",
       "      <td>[xxbos, xxmaj, weiters, darf, ich, mitteilen, ,, dass, folgende, xxmaj, fristsetzungsanträge, ,, dem, xxmaj, ausschuss, für, xxmaj, wirtschaft, ,, xxmaj, industrie, und, xxmaj, energie, jeweils, eine, xxmaj, frist, bis, zum, 31, .,  , xxmaj, mai, 2023, zu, setzen, ,, vorliegen, :, \\n\\n, xxmaj, anträge, der, xxmaj, abgeordneten, xxmaj, lukas,  , xxmaj, hammer, und, xxmaj, tanja,  , xxmaj, graf, zur, xxmaj, berichterstattung, über, die, xxmaj, regierungsvorlage, 1774,  , der,  , xxmaj, beilagen, und, \\n\\n, den, xxmaj, antrag,  , 3426, /, a, sowie, \\n\\n, xxmaj, antrag, der, xxmaj, abgeordnete...</td>\n",
       "      <td>150</td>\n",
       "    </tr>\n",
       "    <tr>\n",
       "      <th>4</th>\n",
       "      <td>88386</td>\n",
       "      <td>[]</td>\n",
       "      <td>[{'label': '1774 der\n",
       "Beilagen', 'url': 'https://parlament.gv.at/PAKT/VHG/XXVII/I/I_01774/index.shtml'}, {'label': '3426/A', 'url': 'https://parlament.gv.at/PAKT/VHG/XXVII/A/A_03426/index.shtml'}, {'label': '3427/A', 'url': 'https://parlament.gv.at/PAKT/VHG/XXVII/A/A_03427/index.shtml'}]</td>\n",
       "      <td>SPEAKER: 88386; TEXT: Wir kommen nunmehr zur Abstimmung über den Antrag der Abgeordneten Lukas Hammer und Tanja Graf, dem Ausschuss für Wirtschaft, Industrie und Energie zur Berichterstattung über die Regierungsvorlage 1774 der Beilagen eine Frist bis zum 31. Mai 2023 zu setzen.\\n\\nWer dafür ist, den bitte ich um ein dementsprechendes Zeichen der Zustimmung. – Das ist angenommen.\\n\\nWir kommen zur Abstimmung über den Antrag der Abgeordneten Lukas Hammer und Tanja Graf, dem Ausschuss für Wirtschaft, Industrie und Energie zur Berichterstattung über den Antrag 3426/A eine Frist bis zum 31. Ma...</td>\n",
       "      <td>[xxbos, xxmaj, wir, kommen, nunmehr, zur, xxmaj, abstimmung, über, den, xxmaj, antrag, der, xxmaj, abgeordneten, xxmaj, lukas,  , xxmaj, hammer, und, xxmaj, tanja,  , xxmaj, graf, ,, dem, xxmaj, ausschuss, für, xxmaj, wirtschaft, ,, xxmaj, industrie, und, xxmaj, energie, zur, xxmaj, berichterstattung, über, die, xxmaj, regierungsvorlage, 1774,  , der, xxmaj, beilagen, eine, xxmaj, frist, bis, zum, 31, .,  , xxmaj, mai, 2023, zu, setzen, ., \\n\\n, xxmaj, wer, dafür, ist, ,, den, bitte, ich, um, ein, dementsprechendes, xxmaj, zeichen, der, xxmaj, zustimmung, .,  , –, xxmaj, das, ist, angenomm...</td>\n",
       "      <td>367</td>\n",
       "    </tr>\n",
       "    <tr>\n",
       "      <th>...</th>\n",
       "      <td>...</td>\n",
       "      <td>...</td>\n",
       "      <td>...</td>\n",
       "      <td>...</td>\n",
       "      <td>...</td>\n",
       "      <td>...</td>\n",
       "    </tr>\n",
       "    <tr>\n",
       "      <th>95</th>\n",
       "      <td>83129</td>\n",
       "      <td>[]</td>\n",
       "      <td>[]</td>\n",
       "      <td>SPEAKER: 83129; TEXT: Meine Zusatzfrage betrifft eine Entwicklung, die aus Sicht der Freiheitlichen Partei sowohl rechtsstaatlich als auch demokratiepolitisch sehr, sehr bedenklich ist, nämlich jene, dass bestimmte Leute, die selbstdefinierte gute Ziele verfolgen, offensichtlich glauben, sich über Recht hinwegsetzen zu können. Ich spreche von den Klimaklebern, denen offensichtlich jedes Mittel recht ist. Ich spreche jetzt nicht von dem berechtigten Ärger der Leute, ich spreche auch nicht von der gestohlenen Lebenszeit – das ist schwer messbar. Ich frage auch nicht nach dem ökonomischen Sch...</td>\n",
       "      <td>[xxbos, xxmaj, meine, xxmaj, zusatzfrage, betrifft, eine, xxmaj, entwicklung, ,, die, aus, xxmaj, sicht, der, xxmaj, freiheitlichen, xxmaj, partei, sowohl, rechtsstaatlich, als, auch, demokratiepolitisch, sehr, ,, sehr, bedenklich, ist, ,, nämlich, jene, ,, dass, bestimmte, xxmaj, leute, ,, die, selbstdefinierte, gute, xxmaj, ziele, verfolgen, ,, offensichtlich, glauben, ,, sich, über, xxmaj, recht, hinwegsetzen, zu, können, ., xxmaj, ich, spreche, von, den, xxmaj, klimaklebern, ,, denen, offensichtlich, jedes, xxmaj, mittel, recht, ist, ., xxmaj, ich, spreche, jetzt, nicht, von, dem, bere...</td>\n",
       "      <td>137</td>\n",
       "    </tr>\n",
       "    <tr>\n",
       "      <th>96</th>\n",
       "      <td>88386</td>\n",
       "      <td>[]</td>\n",
       "      <td>[]</td>\n",
       "      <td>SPEAKER: 88386; TEXT: Herr Bundesminister, bitte.</td>\n",
       "      <td>[xxbos, xxmaj, herr, xxmaj, bundesminister, ,, bitte, .]</td>\n",
       "      <td>8</td>\n",
       "    </tr>\n",
       "    <tr>\n",
       "      <th>97</th>\n",
       "      <td>18140</td>\n",
       "      <td>[]</td>\n",
       "      <td>[]</td>\n",
       "      <td>SPEAKER: 18140; TEXT: Vielen Dank für die Frage. Mir ist keine Untersuchung bekannt, aber natürlich wissen wir, dass die Zeit, die man im Auto verbringt und im Stau steht, volkswirtschaftlich verlorene Zeit ist, weil in der Zeit Produktivität, Leistungen erfolgen könnten. Wie gesagt kenne ich keine Studie, aber natürlich ist es volkswirtschaftlich nicht zuträglich, wenn Menschen länger im Stau stehen, als das ohnehin schon der Fall ist.</td>\n",
       "      <td>[xxbos, xxmaj, vielen, xxmaj, dank, für, die, xxmaj, frage, ., xxmaj, mir, ist, keine, xxmaj, untersuchung, bekannt, ,, aber, natürlich, wissen, wir, ,, dass, die, xxmaj, zeit, ,, die, man, i, m, xxmaj, auto, verbringt, und, i, m, xxmaj, stau, steht, ,, volkswirtschaftlich, verlorene, xxmaj, zeit, ist, ,, weil, in, der, xxmaj, zeit, xxmaj, produktivität, ,, xxmaj, leistungen, erfolgen, könnten, ., xxmaj, wie, gesagt, kenne, ich, keine, xxmaj, studie, ,, aber, natürlich, ist, es, volkswirtschaftlich, nicht, zuträglich, ,, wenn, xxmaj, menschen, länger, i, m, xxmaj, stau, stehen, ,, als, das...</td>\n",
       "      <td>97</td>\n",
       "    </tr>\n",
       "    <tr>\n",
       "      <th>98</th>\n",
       "      <td>88386</td>\n",
       "      <td>[]</td>\n",
       "      <td>[]</td>\n",
       "      <td>SPEAKER: 88386; TEXT: Die nächste Zusatzfrage stellt Frau Abgeordnete Niss. –Bitte.</td>\n",
       "      <td>[xxbos, xxmaj, die, nächste, xxmaj, zusatzfrage, stellt, xxmaj, frau, xxmaj, abgeordnete, xxmaj, niss, .,  , –, bitte, .]</td>\n",
       "      <td>18</td>\n",
       "    </tr>\n",
       "    <tr>\n",
       "      <th>99</th>\n",
       "      <td>2242</td>\n",
       "      <td>[]</td>\n",
       "      <td>[]</td>\n",
       "      <td>SPEAKER: 2242; TEXT: Herr Minister, Sie sind vorhin schon ein bisschen auf die Energiekosten eingegangen, aber da die hohen Energiekosten wirklich ein großer Treiber der Inflation sind, vielleicht noch einmal im Detail: Wie könnte man Ihrer Meinung nach die hohen Stromkosten und dadurch die Inflation – vor allem auch dauerhaft – senken?</td>\n",
       "      <td>[xxbos, xxmaj, herr, xxmaj, minister, ,, xxmaj, sie, sind, vorhin, schon, ein, bisschen, auf, die, xxmaj, energiekosten, eingegangen, ,, aber, da, die, hohen, xxmaj, energiekosten, wirklich, ein, großer, xxmaj, treiber, der, xxmaj, inflation, sind, ,, vielleicht, noch, einmal, i, m, xxmaj, detail, :, xxmaj, wie, könnte, man, xxmaj, ihrer, xxmaj, meinung, nach, die, hohen, xxmaj, stromkosten, und, dadurch, die, xxmaj, inflation,  , –, vor, allem, auch, dauerhaft,  , –, senken, ?]</td>\n",
       "      <td>71</td>\n",
       "    </tr>\n",
       "  </tbody>\n",
       "</table>\n",
       "<p>100 rows × 6 columns</p>\n",
       "</div>"
      ],
      "text/plain": [
       "   speaker  \\\n",
       "0    88386   \n",
       "1    88386   \n",
       "2    88386   \n",
       "3    88386   \n",
       "4    88386   \n",
       "..     ...   \n",
       "95   83129   \n",
       "96   88386   \n",
       "97   18140   \n",
       "98   88386   \n",
       "99    2242   \n",
       "\n",
       "                                                                                                                                                 callouts  \\\n",
       "0   [{'caller': '2343', 'text': 'Ich bin noch nicht fertig, Herr Präsident!'}, {'text': 'Beifall bei SPÖ und Grünen.'}, {'text': 'In Richtung Galerie:'}]   \n",
       "1                                                                                                                                                      []   \n",
       "2                                                                                                                                                      []   \n",
       "3                                                                                                                                                      []   \n",
       "4                                                                                                                                                      []   \n",
       "..                                                                                                                                                    ...   \n",
       "95                                                                                                                                                     []   \n",
       "96                                                                                                                                                     []   \n",
       "97                                                                                                                                                     []   \n",
       "98                                                                                                                                                     []   \n",
       "99                                                                                                                                                     []   \n",
       "\n",
       "                                                                                                                                                                                                                                                                                                                                                                                                                                                                                                                                                                                                                      links  \\\n",
       "0                                                                                                                                                                                                                                                                                                                                                                                                                                                                                                                                                                                                                        []   \n",
       "1   [{'label': '14141/AB', 'url': 'https://parlament.gv.at/pls/portal/hi.link?pfad=/PAKT/VHG/XXVII/AB/AB_14141/index.shtml'}, {'label': '14148/AB', 'url': 'https://parlament.gv.at/pls/portal/hi.link?pfad=/PAKT/VHG/XXVII/AB/AB_14148/index.shtml'}, {'label': '3415/A', 'url': 'https://parlament.gv.at/PAKT/VHG/XXVII/A/A_03415/index.shtml'}, {'label': '3410/A', 'url': 'https://parlament.gv.at/PAKT/VHG/XXVII/A/A_03410/index.shtml'}, {'label': '3422/A(E)', 'url': 'https://parlament.gv.at/PAKT/VHG/XXVII/A/A_03422/index.shtml'}, {'label': '3408/A(E)', 'url': 'https://parlament.gv.at/PAKT/VHG/XXVII/A/A_...   \n",
       "2                                                                                                                                              [{'label': '3425/A', 'url': 'https://parlament.gv.at/PAKT/VHG/XXVII/A/A_03425/index.shtml'}, {'label': '3426/A', 'url': 'https://parlament.gv.at/PAKT/VHG/XXVII/A/A_03426/index.shtml'}, {'label': '3427/A', 'url': 'https://parlament.gv.at/PAKT/VHG/XXVII/A/A_03427/index.shtml'}, {'label': '3428/A', 'url': 'https://parlament.gv.at/PAKT/VHG/XXVII/A/A_03428/index.shtml'}, {'label': '3429/A', 'url': 'https://parlament.gv.at/PAKT/VHG/XXVII/A/A_03429/index.shtml'}]   \n",
       "3                                                                                                                                                                                                                                                                                                                           [{'label': '1774 der Beilagen', 'url': 'https://parlament.gv.at/PAKT/VHG/XXVII/I/I_01774/index.shtml'}, {'label': '3426/A', 'url': 'https://parlament.gv.at/PAKT/VHG/XXVII/A/A_03426/index.shtml'}, {'label': '3427/A', 'url': 'https://parlament.gv.at/PAKT/VHG/XXVII/A/A_03427/index.shtml'}]   \n",
       "4                                                                                                                                                                                                                                                                                                                           [{'label': '1774 der\n",
       "Beilagen', 'url': 'https://parlament.gv.at/PAKT/VHG/XXVII/I/I_01774/index.shtml'}, {'label': '3426/A', 'url': 'https://parlament.gv.at/PAKT/VHG/XXVII/A/A_03426/index.shtml'}, {'label': '3427/A', 'url': 'https://parlament.gv.at/PAKT/VHG/XXVII/A/A_03427/index.shtml'}]   \n",
       "..                                                                                                                                                                                                                                                                                                                                                                                                                                                                                                                                                                                                                      ...   \n",
       "95                                                                                                                                                                                                                                                                                                                                                                                                                                                                                                                                                                                                                       []   \n",
       "96                                                                                                                                                                                                                                                                                                                                                                                                                                                                                                                                                                                                                       []   \n",
       "97                                                                                                                                                                                                                                                                                                                                                                                                                                                                                                                                                                                                                       []   \n",
       "98                                                                                                                                                                                                                                                                                                                                                                                                                                                                                                                                                                                                                       []   \n",
       "99                                                                                                                                                                                                                                                                                                                                                                                                                                                                                                                                                                                                                       []   \n",
       "\n",
       "                                                                                                                                                                                                                                                                                                                                                                                                                                                                                                                                                                                                                      input  \\\n",
       "0   SPEAKER: 88386; TEXT: Ich darf die 216. Sitzung des Nationalrates um 16.45 Uhr eröffnen. (Abg. Hoyos-Trauttmansdorff: Ich bin noch nicht fertig, Herr Präsident!)\\n\\nIch darf alle Damen und Herren Abgeordnete und auch unsere Gäste auf der Galerie und zu Hause vor den Fernsehschirmen recht herzlich begrüßen. Die Journalisten haben sich schon – bis auf einen, glaube ich – verabschiedet. Ja, einer hält wacker die Stellung. (Beifall bei SPÖ und Grünen.) – (In Richtung Galerie:) Der Applaus ist Ihrer!\\n\\nDie Sitzung ist eröffnet.\\n\\nAls verhindert gemeldet sind die Abgeordneten Mag. Wolfgang Ger...   \n",
       "1   SPEAKER: 88386; TEXT: Hinsichtlich der eingelangten Verhandlungsgegenstände und deren Zuweisungen verweise ich gemäß § 23 Abs. 4 der Geschäftsordnung auf die im Sitzungssaal verteilte Mitteilung.\\n\\nDie schriftliche Mitteilung hat folgenden Wortlaut:\\n\\nA. Eingelangte Verhandlungsgegenstände:\\n\\nAnfragebeantwortungen: 14141/AB bis 14148/AB\\n\\nB. Zuweisungen in dieser Sitzung:\\n\\nzur Vorberatung:\\n\\nAusschuss für Arbeit und Soziales:\\n\\nAntrag der Abgeordneten Tanja Graf, Mag. Markus Koza, Kolleginnen und Kollegen betreffend ein Bundesgesetz, mit dem das Ausländerbeschäftigungsgesetz geände...   \n",
       "2                                                                                                                                                                                                                                                                                                                                                    SPEAKER: 88386; TEXT: Außerdem weise ich\\n\\ndie Anträge 3425/A, 3426/A und 3427/A dem Ausschuss für Wirtschaft, Industrie und Energie,\\n\\nden Antrag 3428/A dem Umweltausschuss sowie\\n\\nden Antrag 3429/A dem Budgetausschuss\\n\\nzu.\\n\\n*****\\n\\nFristsetzungsanträge   \n",
       "3   SPEAKER: 88386; TEXT: Weiters darf ich mitteilen, dass folgende Fristsetzungsanträge, dem Ausschuss für Wirtschaft, Industrie und Energie jeweils eine Frist bis zum 31. Mai 2023 zu setzen, vorliegen:\\n\\nAnträge der Abgeordneten Lukas Hammer und Tanja Graf zur Berichterstattung über die Regierungsvorlage 1774 der Beilagen und\\n\\nden Antrag 3426/A sowie\\n\\nAntrag der Abgeordneten Norbert Sieber und Mag. Markus Koza zur Berichterstattung über den Antrag 3427/A.\\n\\nDie gegenständlichen Anträge werden gemäß der Geschäftsordnung nach Beendigung der Verhandlung in dieser Sitzung, also jetzt sogle...   \n",
       "4   SPEAKER: 88386; TEXT: Wir kommen nunmehr zur Abstimmung über den Antrag der Abgeordneten Lukas Hammer und Tanja Graf, dem Ausschuss für Wirtschaft, Industrie und Energie zur Berichterstattung über die Regierungsvorlage 1774 der Beilagen eine Frist bis zum 31. Mai 2023 zu setzen.\\n\\nWer dafür ist, den bitte ich um ein dementsprechendes Zeichen der Zustimmung. – Das ist angenommen.\\n\\nWir kommen zur Abstimmung über den Antrag der Abgeordneten Lukas Hammer und Tanja Graf, dem Ausschuss für Wirtschaft, Industrie und Energie zur Berichterstattung über den Antrag 3426/A eine Frist bis zum 31. Ma...   \n",
       "..                                                                                                                                                                                                                                                                                                                                                                                                                                                                                                                                                                                                                      ...   \n",
       "95  SPEAKER: 83129; TEXT: Meine Zusatzfrage betrifft eine Entwicklung, die aus Sicht der Freiheitlichen Partei sowohl rechtsstaatlich als auch demokratiepolitisch sehr, sehr bedenklich ist, nämlich jene, dass bestimmte Leute, die selbstdefinierte gute Ziele verfolgen, offensichtlich glauben, sich über Recht hinwegsetzen zu können. Ich spreche von den Klimaklebern, denen offensichtlich jedes Mittel recht ist. Ich spreche jetzt nicht von dem berechtigten Ärger der Leute, ich spreche auch nicht von der gestohlenen Lebenszeit – das ist schwer messbar. Ich frage auch nicht nach dem ökonomischen Sch...   \n",
       "96                                                                                                                                                                                                                                                                                                                                                                                                                                                                                                                                                                        SPEAKER: 88386; TEXT: Herr Bundesminister, bitte.   \n",
       "97                                                                                                                                                                 SPEAKER: 18140; TEXT: Vielen Dank für die Frage. Mir ist keine Untersuchung bekannt, aber natürlich wissen wir, dass die Zeit, die man im Auto verbringt und im Stau steht, volkswirtschaftlich verlorene Zeit ist, weil in der Zeit Produktivität, Leistungen erfolgen könnten. Wie gesagt kenne ich keine Studie, aber natürlich ist es volkswirtschaftlich nicht zuträglich, wenn Menschen länger im Stau stehen, als das ohnehin schon der Fall ist.   \n",
       "98                                                                                                                                                                                                                                                                                                                                                                                                                                                                                                                                      SPEAKER: 88386; TEXT: Die nächste Zusatzfrage stellt Frau Abgeordnete Niss. –Bitte.   \n",
       "99                                                                                                                                                                                                                                                                       SPEAKER: 2242; TEXT: Herr Minister, Sie sind vorhin schon ein bisschen auf die Energiekosten eingegangen, aber da die hohen Energiekosten wirklich ein großer Treiber der Inflation sind, vielleicht noch einmal im Detail: Wie könnte man Ihrer Meinung nach die hohen Stromkosten und dadurch die Inflation – vor allem auch dauerhaft – senken?   \n",
       "\n",
       "                                                                                                                                                                                                                                                                                                                                                                                                                                                                                                                                                                                                                       text  \\\n",
       "0   [xxbos, xxmaj, ich, darf, die, 216, .,  , xxmaj, sitzung, des, xxmaj, nationalrates, um, 16.45,  , xxmaj, uhr, eröffnen, ., (, abg, ., hoyos, -, trauttmansdorff, :, xxmaj, ich, bin, noch, nicht, fertig, ,, xxmaj, herr, xxmaj, präsident, !, ), \\n\\n, xxmaj, ich, darf, alle, xxmaj, damen, und, xxmaj, herren, xxmaj, abgeordnete, und, auch, unsere, xxmaj, gäste, auf, der, xxmaj, galerie, und, zu, xxmaj, hause, vor, den, xxmaj, fernsehschirmen, recht, herzlich, begrüßen, ., xxmaj, die, xxmaj, journalisten, haben, sich, schon,  , –, bis, auf, einen, ,, glaube, ich,  , –, verabschiedet, ., xxmaj, ...   \n",
       "1   [xxbos, xxmaj, hinsichtlich, der, eingelangten, xxmaj, verhandlungsgegenstände, und, deren, xxmaj, zuweisungen, verweise, ich, gemäß, §,  , 23, xxmaj, abs, .,  , 4, der, xxmaj, geschäftsordnung, auf, die, i, m, xxmaj, sitzungssaal, verteilte, xxmaj, mitteilung, ., \\n\\n, xxmaj, die, schriftliche, xxmaj, mitteilung, hat, folgenden, xxmaj, wortlaut, :, \\n\\n, xxup, a., xxmaj, eingelangte, xxmaj, verhandlungsgegenstände, :, \\n\\n, xxmaj, anfragebeantwortungen, :, 14141, /, xxup, ab, bis, 14148, /, xxup, ab, \\n\\n, xxup, b., xxmaj, zuweisungen, in, dieser, xxmaj, sitzung, :, \\n\\n, zur, xxmaj, vorb...   \n",
       "2                                                                                                                                                                                   [xxbos, xxmaj, außerdem, weise, ich, \\n\\n, die, xxmaj, anträge,  , 3425, /, xxup, a, ,, 3426, /, a, und, 3427, /, a, dem, xxmaj, ausschuss, für, xxmaj, wirtschaft, ,, xxmaj, industrie, und, xxmaj, energie, ,, \\n\\n, den, xxmaj, antrag,  , 3428, /, a, dem, xxmaj, umweltausschuss, sowie, \\n\\n, den, xxmaj, antrag,  , 3429, /, a, dem, xxmaj, budgetausschuss, \\n\\n, zu, ., \\n\\n▁, xxrep, 5, *, \\n\\n, xxmaj, fristsetzungsanträge]   \n",
       "3   [xxbos, xxmaj, weiters, darf, ich, mitteilen, ,, dass, folgende, xxmaj, fristsetzungsanträge, ,, dem, xxmaj, ausschuss, für, xxmaj, wirtschaft, ,, xxmaj, industrie, und, xxmaj, energie, jeweils, eine, xxmaj, frist, bis, zum, 31, .,  , xxmaj, mai, 2023, zu, setzen, ,, vorliegen, :, \\n\\n, xxmaj, anträge, der, xxmaj, abgeordneten, xxmaj, lukas,  , xxmaj, hammer, und, xxmaj, tanja,  , xxmaj, graf, zur, xxmaj, berichterstattung, über, die, xxmaj, regierungsvorlage, 1774,  , der,  , xxmaj, beilagen, und, \\n\\n, den, xxmaj, antrag,  , 3426, /, a, sowie, \\n\\n, xxmaj, antrag, der, xxmaj, abgeordnete...   \n",
       "4   [xxbos, xxmaj, wir, kommen, nunmehr, zur, xxmaj, abstimmung, über, den, xxmaj, antrag, der, xxmaj, abgeordneten, xxmaj, lukas,  , xxmaj, hammer, und, xxmaj, tanja,  , xxmaj, graf, ,, dem, xxmaj, ausschuss, für, xxmaj, wirtschaft, ,, xxmaj, industrie, und, xxmaj, energie, zur, xxmaj, berichterstattung, über, die, xxmaj, regierungsvorlage, 1774,  , der, xxmaj, beilagen, eine, xxmaj, frist, bis, zum, 31, .,  , xxmaj, mai, 2023, zu, setzen, ., \\n\\n, xxmaj, wer, dafür, ist, ,, den, bitte, ich, um, ein, dementsprechendes, xxmaj, zeichen, der, xxmaj, zustimmung, .,  , –, xxmaj, das, ist, angenomm...   \n",
       "..                                                                                                                                                                                                                                                                                                                                                                                                                                                                                                                                                                                                                      ...   \n",
       "95  [xxbos, xxmaj, meine, xxmaj, zusatzfrage, betrifft, eine, xxmaj, entwicklung, ,, die, aus, xxmaj, sicht, der, xxmaj, freiheitlichen, xxmaj, partei, sowohl, rechtsstaatlich, als, auch, demokratiepolitisch, sehr, ,, sehr, bedenklich, ist, ,, nämlich, jene, ,, dass, bestimmte, xxmaj, leute, ,, die, selbstdefinierte, gute, xxmaj, ziele, verfolgen, ,, offensichtlich, glauben, ,, sich, über, xxmaj, recht, hinwegsetzen, zu, können, ., xxmaj, ich, spreche, von, den, xxmaj, klimaklebern, ,, denen, offensichtlich, jedes, xxmaj, mittel, recht, ist, ., xxmaj, ich, spreche, jetzt, nicht, von, dem, bere...   \n",
       "96                                                                                                                                                                                                                                                                                                                                                                                                                                                                                                                                                                 [xxbos, xxmaj, herr, xxmaj, bundesminister, ,, bitte, .]   \n",
       "97  [xxbos, xxmaj, vielen, xxmaj, dank, für, die, xxmaj, frage, ., xxmaj, mir, ist, keine, xxmaj, untersuchung, bekannt, ,, aber, natürlich, wissen, wir, ,, dass, die, xxmaj, zeit, ,, die, man, i, m, xxmaj, auto, verbringt, und, i, m, xxmaj, stau, steht, ,, volkswirtschaftlich, verlorene, xxmaj, zeit, ist, ,, weil, in, der, xxmaj, zeit, xxmaj, produktivität, ,, xxmaj, leistungen, erfolgen, könnten, ., xxmaj, wie, gesagt, kenne, ich, keine, xxmaj, studie, ,, aber, natürlich, ist, es, volkswirtschaftlich, nicht, zuträglich, ,, wenn, xxmaj, menschen, länger, i, m, xxmaj, stau, stehen, ,, als, das...   \n",
       "98                                                                                                                                                                                                                                                                                                                                                                                                                                                                                                [xxbos, xxmaj, die, nächste, xxmaj, zusatzfrage, stellt, xxmaj, frau, xxmaj, abgeordnete, xxmaj, niss, .,  , –, bitte, .]   \n",
       "99                                                                                                                      [xxbos, xxmaj, herr, xxmaj, minister, ,, xxmaj, sie, sind, vorhin, schon, ein, bisschen, auf, die, xxmaj, energiekosten, eingegangen, ,, aber, da, die, hohen, xxmaj, energiekosten, wirklich, ein, großer, xxmaj, treiber, der, xxmaj, inflation, sind, ,, vielleicht, noch, einmal, i, m, xxmaj, detail, :, xxmaj, wie, könnte, man, xxmaj, ihrer, xxmaj, meinung, nach, die, hohen, xxmaj, stromkosten, und, dadurch, die, xxmaj, inflation,  , –, vor, allem, auch, dauerhaft,  , –, senken, ?]   \n",
       "\n",
       "    text_length  \n",
       "0           236  \n",
       "1           913  \n",
       "2            68  \n",
       "3           150  \n",
       "4           367  \n",
       "..          ...  \n",
       "95          137  \n",
       "96            8  \n",
       "97           97  \n",
       "98           18  \n",
       "99           71  \n",
       "\n",
       "[100 rows x 6 columns]"
      ]
     },
     "execution_count": 14,
     "metadata": {},
     "output_type": "execute_result"
    }
   ],
   "source": [
    "text_tok[0]"
   ]
  },
  {
   "cell_type": "code",
   "execution_count": 15,
   "id": "09fe7d82-3d98-49a3-aa48-009fa80ba7fc",
   "metadata": {},
   "outputs": [
    {
     "data": {
      "text/html": [
       "\n",
       "<style>\n",
       "    /* Turns off some styling */\n",
       "    progress {\n",
       "        /* gets rid of default border in Firefox and Opera. */\n",
       "        border: none;\n",
       "        /* Needs to be in here for Safari polyfill so background images work as expected. */\n",
       "        background-size: auto;\n",
       "    }\n",
       "    progress:not([value]), progress:not([value])::-webkit-progress-bar {\n",
       "        background: repeating-linear-gradient(45deg, #7e7e7e, #7e7e7e 10px, #5c5c5c 10px, #5c5c5c 20px);\n",
       "    }\n",
       "    .progress-bar-interrupted, .progress-bar-interrupted::-webkit-progress-bar {\n",
       "        background: #F44336;\n",
       "    }\n",
       "</style>\n"
      ],
      "text/plain": [
       "<IPython.core.display.HTML object>"
      ]
     },
     "metadata": {},
     "output_type": "display_data"
    },
    {
     "data": {
      "text/html": [],
      "text/plain": [
       "<IPython.core.display.HTML object>"
      ]
     },
     "metadata": {},
     "output_type": "display_data"
    },
    {
     "data": {
      "text/html": [
       "<table border=\"1\" class=\"dataframe\">\n",
       "  <thead>\n",
       "    <tr style=\"text-align: right;\">\n",
       "      <th></th>\n",
       "      <th>text</th>\n",
       "      <th>category</th>\n",
       "    </tr>\n",
       "  </thead>\n",
       "  <tbody>\n",
       "    <tr>\n",
       "      <th>0</th>\n",
       "      <td>xxbos xxmaj hinsichtlich der xxunk xxmaj xxunk und xxunk xxmaj zuweisungen xxunk ich xxunk xxunk   xxunk xxmaj xxunk .   xxunk der xxmaj xxunk auf die i m xxmaj xxunk xxunk xxmaj mitteilung . \\n\\n xxmaj die xxunk xxmaj mitteilung hat xxunk xxmaj xxunk : \\n\\n xxup xxunk xxmaj xxunk xxmaj xxunk : \\n\\n xxmaj anfragebeantwortungen : xxunk / xxup ab bis xxunk / xxup ab \\n\\n xxup xxunk xxmaj zuweisungen in dieser xxmaj sitzung : \\n\\n zur xxmaj xxunk : \\n\\n xxmaj ausschuss für xxmaj arbeit und xxmaj xxunk : \\n\\n xxmaj antrag der xxmaj abgeordneten xxmaj tanja   xxmaj graf , xxmaj mag .   xxmaj markus   xxmaj koza , xxmaj kolleginnen und xxmaj kollegen betreffend ein xxmaj bundesgesetz , mit dem das xxmaj xxunk geändert wird ( xxunk / xxup a ) \\n\\n xxmaj xxunk : \\n\\n xxmaj antrag der xxmaj abgeordneten xxmaj mag .</td>\n",
       "      <td>88386</td>\n",
       "    </tr>\n",
       "    <tr>\n",
       "      <th>1</th>\n",
       "      <td>xxbos xxmaj wir kommen xxunk zur xxmaj abstimmung über den xxmaj antrag der xxmaj abgeordneten xxmaj lukas   xxmaj hammer und xxmaj tanja   xxmaj graf , dem xxmaj ausschuss für xxmaj wirtschaft , xxmaj industrie und xxmaj energie zur xxmaj berichterstattung über die xxmaj xxunk xxunk   der xxmaj xxunk eine xxmaj frist bis zum 31 .   xxmaj mai 2023 zu setzen . \\n\\n xxmaj wer dafür ist , den bitte ich um ein xxunk xxmaj zeichen der xxmaj xxunk .   – xxmaj das ist angenommen . \\n\\n xxmaj wir kommen zur xxmaj abstimmung über den xxmaj antrag der xxmaj abgeordneten xxmaj lukas   xxmaj hammer und xxmaj tanja   xxmaj graf , dem xxmaj ausschuss für xxmaj wirtschaft , xxmaj industrie und xxmaj energie zur xxmaj berichterstattung über den xxmaj antrag   3426 / a eine xxmaj frist bis zum 31 .   xxmaj mai 2023</td>\n",
       "      <td>88386</td>\n",
       "    </tr>\n",
       "  </tbody>\n",
       "</table>"
      ],
      "text/plain": [
       "<IPython.core.display.HTML object>"
      ]
     },
     "metadata": {},
     "output_type": "display_data"
    }
   ],
   "source": [
    "from fastai.text.data import TextDataLoaders\n",
    "dl = TextDataLoaders.from_df(train_df, valid_pct=0.2, seed=None,text_col=\"text\", label_col=\"speaker\")\n",
    "dl.show_batch(max_n=2)"
   ]
  },
  {
   "cell_type": "code",
   "execution_count": 39,
   "id": "8971aca8-899d-4197-8426-d4271b284d2e",
   "metadata": {},
   "outputs": [],
   "source": [
    "from fastai.metrics import accuracy,Perplexity\n",
    "from fastai.text.learner import text_classifier_learner\n",
    "from fastai.text.models import AWD_LSTM\n",
    "learn = text_classifier_learner(dl, AWD_LSTM, metrics=[accuracy, Perplexity()])"
   ]
  },
  {
   "cell_type": "code",
   "execution_count": 41,
   "id": "e74b7b96-93b0-42cb-a6a2-97ceec1165b5",
   "metadata": {},
   "outputs": [
    {
     "data": {
      "text/html": [
       "\n",
       "<style>\n",
       "    /* Turns off some styling */\n",
       "    progress {\n",
       "        /* gets rid of default border in Firefox and Opera. */\n",
       "        border: none;\n",
       "        /* Needs to be in here for Safari polyfill so background images work as expected. */\n",
       "        background-size: auto;\n",
       "    }\n",
       "    progress:not([value]), progress:not([value])::-webkit-progress-bar {\n",
       "        background: repeating-linear-gradient(45deg, #7e7e7e, #7e7e7e 10px, #5c5c5c 10px, #5c5c5c 20px);\n",
       "    }\n",
       "    .progress-bar-interrupted, .progress-bar-interrupted::-webkit-progress-bar {\n",
       "        background: #F44336;\n",
       "    }\n",
       "</style>\n"
      ],
      "text/plain": [
       "<IPython.core.display.HTML object>"
      ]
     },
     "metadata": {},
     "output_type": "display_data"
    },
    {
     "data": {
      "text/html": [
       "\n",
       "    <div>\n",
       "      <progress value='0' class='' max='1' style='width:300px; height:20px; vertical-align: middle;'></progress>\n",
       "      0.00% [0/1 00:00&lt;?]\n",
       "    </div>\n",
       "    \n",
       "<table border=\"1\" class=\"dataframe\">\n",
       "  <thead>\n",
       "    <tr style=\"text-align: left;\">\n",
       "      <th>epoch</th>\n",
       "      <th>train_loss</th>\n",
       "      <th>valid_loss</th>\n",
       "      <th>accuracy</th>\n",
       "      <th>perplexity</th>\n",
       "      <th>time</th>\n",
       "    </tr>\n",
       "  </thead>\n",
       "  <tbody>\n",
       "  </tbody>\n",
       "</table><p>\n",
       "\n",
       "    <div>\n",
       "      <progress value='0' class='' max='1' style='width:300px; height:20px; vertical-align: middle;'></progress>\n",
       "      0.00% [0/1 00:00&lt;?]\n",
       "    </div>\n",
       "    "
      ],
      "text/plain": [
       "<IPython.core.display.HTML object>"
      ]
     },
     "metadata": {},
     "output_type": "display_data"
    },
    {
     "name": "stderr",
     "output_type": "stream",
     "text": [
      "IOStream.flush timed out\n"
     ]
    },
    {
     "ename": "KeyError",
     "evalue": "Caught KeyError in DataLoader worker process 0.\nOriginal Traceback (most recent call last):\n  File \"/home/georg/miniforge3/lib/python3.10/site-packages/fastai/data/transforms.py\", line 261, in encodes\n    return TensorCategory(self.vocab.o2i[o])\nKeyError: '83121'\n\nThe above exception was the direct cause of the following exception:\n\nTraceback (most recent call last):\n  File \"/home/georg/miniforge3/lib/python3.10/site-packages/torch/utils/data/_utils/worker.py\", line 308, in _worker_loop\n    data = fetcher.fetch(index)\n  File \"/home/georg/miniforge3/lib/python3.10/site-packages/torch/utils/data/_utils/fetch.py\", line 41, in fetch\n    data = next(self.dataset_iter)\n  File \"/home/georg/miniforge3/lib/python3.10/site-packages/fastai/data/load.py\", line 138, in create_batches\n    yield from map(self.do_batch, self.chunkify(res))\n  File \"/home/georg/miniforge3/lib/python3.10/site-packages/fastcore/basics.py\", line 230, in chunked\n    res = list(itertools.islice(it, chunk_sz))\n  File \"/home/georg/miniforge3/lib/python3.10/site-packages/fastai/data/load.py\", line 168, in do_item\n    try: return self.after_item(self.create_item(s))\n  File \"/home/georg/miniforge3/lib/python3.10/site-packages/fastai/data/load.py\", line 175, in create_item\n    if self.indexed: return self.dataset[s or 0]\n  File \"/home/georg/miniforge3/lib/python3.10/site-packages/fastai/data/core.py\", line 447, in __getitem__\n    res = tuple([tl[it] for tl in self.tls])\n  File \"/home/georg/miniforge3/lib/python3.10/site-packages/fastai/data/core.py\", line 447, in <listcomp>\n    res = tuple([tl[it] for tl in self.tls])\n  File \"/home/georg/miniforge3/lib/python3.10/site-packages/fastai/data/core.py\", line 406, in __getitem__\n    return self._after_item(res) if is_indexer(idx) else res.map(self._after_item)\n  File \"/home/georg/miniforge3/lib/python3.10/site-packages/fastai/data/core.py\", line 366, in _after_item\n    def _after_item(self, o): return self.tfms(o)\n  File \"/home/georg/miniforge3/lib/python3.10/site-packages/fastcore/transform.py\", line 208, in __call__\n    def __call__(self, o): return compose_tfms(o, tfms=self.fs, split_idx=self.split_idx)\n  File \"/home/georg/miniforge3/lib/python3.10/site-packages/fastcore/transform.py\", line 158, in compose_tfms\n    x = f(x, **kwargs)\n  File \"/home/georg/miniforge3/lib/python3.10/site-packages/fastcore/transform.py\", line 81, in __call__\n    def __call__(self, x, **kwargs): return self._call('encodes', x, **kwargs)\n  File \"/home/georg/miniforge3/lib/python3.10/site-packages/fastcore/transform.py\", line 91, in _call\n    return self._do_call(getattr(self, fn), x, **kwargs)\n  File \"/home/georg/miniforge3/lib/python3.10/site-packages/fastcore/transform.py\", line 97, in _do_call\n    return retain_type(f(x, **kwargs), x, ret)\n  File \"/home/georg/miniforge3/lib/python3.10/site-packages/fastcore/dispatch.py\", line 120, in __call__\n    return f(*args, **kwargs)\n  File \"/home/georg/miniforge3/lib/python3.10/site-packages/fastai/data/transforms.py\", line 263, in encodes\n    raise KeyError(f\"Label '{o}' was not included in the training dataset\") from e\nKeyError: \"Label '83121' was not included in the training dataset\"\n",
     "output_type": "error",
     "traceback": [
      "\u001b[0;31m---------------------------------------------------------------------------\u001b[0m",
      "\u001b[0;31mKeyError\u001b[0m                                  Traceback (most recent call last)",
      "Cell \u001b[0;32mIn[41], line 2\u001b[0m\n\u001b[1;32m      1\u001b[0m \u001b[38;5;28;01mfrom\u001b[39;00m \u001b[38;5;21;01mfastai\u001b[39;00m\u001b[38;5;21;01m.\u001b[39;00m\u001b[38;5;21;01mtext\u001b[39;00m\u001b[38;5;21;01m.\u001b[39;00m\u001b[38;5;21;01mall\u001b[39;00m \u001b[38;5;28;01mimport\u001b[39;00m \u001b[38;5;241m*\u001b[39m\n\u001b[0;32m----> 2\u001b[0m \u001b[43mlearn\u001b[49m\u001b[38;5;241;43m.\u001b[39;49m\u001b[43mfit_one_cycle\u001b[49m\u001b[43m(\u001b[49m\u001b[38;5;241;43m1\u001b[39;49m\u001b[43m,\u001b[49m\u001b[43m \u001b[49m\u001b[38;5;241;43m2e-2\u001b[39;49m\u001b[43m)\u001b[49m\n",
      "File \u001b[0;32m~/miniforge3/lib/python3.10/site-packages/fastai/callback/schedule.py:119\u001b[0m, in \u001b[0;36mfit_one_cycle\u001b[0;34m(self, n_epoch, lr_max, div, div_final, pct_start, wd, moms, cbs, reset_opt, start_epoch)\u001b[0m\n\u001b[1;32m    116\u001b[0m lr_max \u001b[38;5;241m=\u001b[39m np\u001b[38;5;241m.\u001b[39marray([h[\u001b[38;5;124m'\u001b[39m\u001b[38;5;124mlr\u001b[39m\u001b[38;5;124m'\u001b[39m] \u001b[38;5;28;01mfor\u001b[39;00m h \u001b[38;5;129;01min\u001b[39;00m \u001b[38;5;28mself\u001b[39m\u001b[38;5;241m.\u001b[39mopt\u001b[38;5;241m.\u001b[39mhypers])\n\u001b[1;32m    117\u001b[0m scheds \u001b[38;5;241m=\u001b[39m {\u001b[38;5;124m'\u001b[39m\u001b[38;5;124mlr\u001b[39m\u001b[38;5;124m'\u001b[39m: combined_cos(pct_start, lr_max\u001b[38;5;241m/\u001b[39mdiv, lr_max, lr_max\u001b[38;5;241m/\u001b[39mdiv_final),\n\u001b[1;32m    118\u001b[0m           \u001b[38;5;124m'\u001b[39m\u001b[38;5;124mmom\u001b[39m\u001b[38;5;124m'\u001b[39m: combined_cos(pct_start, \u001b[38;5;241m*\u001b[39m(\u001b[38;5;28mself\u001b[39m\u001b[38;5;241m.\u001b[39mmoms \u001b[38;5;28;01mif\u001b[39;00m moms \u001b[38;5;129;01mis\u001b[39;00m \u001b[38;5;28;01mNone\u001b[39;00m \u001b[38;5;28;01melse\u001b[39;00m moms))}\n\u001b[0;32m--> 119\u001b[0m \u001b[38;5;28;43mself\u001b[39;49m\u001b[38;5;241;43m.\u001b[39;49m\u001b[43mfit\u001b[49m\u001b[43m(\u001b[49m\u001b[43mn_epoch\u001b[49m\u001b[43m,\u001b[49m\u001b[43m \u001b[49m\u001b[43mcbs\u001b[49m\u001b[38;5;241;43m=\u001b[39;49m\u001b[43mParamScheduler\u001b[49m\u001b[43m(\u001b[49m\u001b[43mscheds\u001b[49m\u001b[43m)\u001b[49m\u001b[38;5;241;43m+\u001b[39;49m\u001b[43mL\u001b[49m\u001b[43m(\u001b[49m\u001b[43mcbs\u001b[49m\u001b[43m)\u001b[49m\u001b[43m,\u001b[49m\u001b[43m \u001b[49m\u001b[43mreset_opt\u001b[49m\u001b[38;5;241;43m=\u001b[39;49m\u001b[43mreset_opt\u001b[49m\u001b[43m,\u001b[49m\u001b[43m \u001b[49m\u001b[43mwd\u001b[49m\u001b[38;5;241;43m=\u001b[39;49m\u001b[43mwd\u001b[49m\u001b[43m,\u001b[49m\u001b[43m \u001b[49m\u001b[43mstart_epoch\u001b[49m\u001b[38;5;241;43m=\u001b[39;49m\u001b[43mstart_epoch\u001b[49m\u001b[43m)\u001b[49m\n",
      "File \u001b[0;32m~/miniforge3/lib/python3.10/site-packages/fastai/learner.py:264\u001b[0m, in \u001b[0;36mLearner.fit\u001b[0;34m(self, n_epoch, lr, wd, cbs, reset_opt, start_epoch)\u001b[0m\n\u001b[1;32m    262\u001b[0m \u001b[38;5;28mself\u001b[39m\u001b[38;5;241m.\u001b[39mopt\u001b[38;5;241m.\u001b[39mset_hypers(lr\u001b[38;5;241m=\u001b[39m\u001b[38;5;28mself\u001b[39m\u001b[38;5;241m.\u001b[39mlr \u001b[38;5;28;01mif\u001b[39;00m lr \u001b[38;5;129;01mis\u001b[39;00m \u001b[38;5;28;01mNone\u001b[39;00m \u001b[38;5;28;01melse\u001b[39;00m lr)\n\u001b[1;32m    263\u001b[0m \u001b[38;5;28mself\u001b[39m\u001b[38;5;241m.\u001b[39mn_epoch \u001b[38;5;241m=\u001b[39m n_epoch\n\u001b[0;32m--> 264\u001b[0m \u001b[38;5;28;43mself\u001b[39;49m\u001b[38;5;241;43m.\u001b[39;49m\u001b[43m_with_events\u001b[49m\u001b[43m(\u001b[49m\u001b[38;5;28;43mself\u001b[39;49m\u001b[38;5;241;43m.\u001b[39;49m\u001b[43m_do_fit\u001b[49m\u001b[43m,\u001b[49m\u001b[43m \u001b[49m\u001b[38;5;124;43m'\u001b[39;49m\u001b[38;5;124;43mfit\u001b[39;49m\u001b[38;5;124;43m'\u001b[39;49m\u001b[43m,\u001b[49m\u001b[43m \u001b[49m\u001b[43mCancelFitException\u001b[49m\u001b[43m,\u001b[49m\u001b[43m \u001b[49m\u001b[38;5;28;43mself\u001b[39;49m\u001b[38;5;241;43m.\u001b[39;49m\u001b[43m_end_cleanup\u001b[49m\u001b[43m)\u001b[49m\n",
      "File \u001b[0;32m~/miniforge3/lib/python3.10/site-packages/fastai/learner.py:199\u001b[0m, in \u001b[0;36mLearner._with_events\u001b[0;34m(self, f, event_type, ex, final)\u001b[0m\n\u001b[1;32m    198\u001b[0m \u001b[38;5;28;01mdef\u001b[39;00m \u001b[38;5;21m_with_events\u001b[39m(\u001b[38;5;28mself\u001b[39m, f, event_type, ex, final\u001b[38;5;241m=\u001b[39mnoop):\n\u001b[0;32m--> 199\u001b[0m     \u001b[38;5;28;01mtry\u001b[39;00m: \u001b[38;5;28mself\u001b[39m(\u001b[38;5;124mf\u001b[39m\u001b[38;5;124m'\u001b[39m\u001b[38;5;124mbefore_\u001b[39m\u001b[38;5;132;01m{\u001b[39;00mevent_type\u001b[38;5;132;01m}\u001b[39;00m\u001b[38;5;124m'\u001b[39m);  \u001b[43mf\u001b[49m\u001b[43m(\u001b[49m\u001b[43m)\u001b[49m\n\u001b[1;32m    200\u001b[0m     \u001b[38;5;28;01mexcept\u001b[39;00m ex: \u001b[38;5;28mself\u001b[39m(\u001b[38;5;124mf\u001b[39m\u001b[38;5;124m'\u001b[39m\u001b[38;5;124mafter_cancel_\u001b[39m\u001b[38;5;132;01m{\u001b[39;00mevent_type\u001b[38;5;132;01m}\u001b[39;00m\u001b[38;5;124m'\u001b[39m)\n\u001b[1;32m    201\u001b[0m     \u001b[38;5;28mself\u001b[39m(\u001b[38;5;124mf\u001b[39m\u001b[38;5;124m'\u001b[39m\u001b[38;5;124mafter_\u001b[39m\u001b[38;5;132;01m{\u001b[39;00mevent_type\u001b[38;5;132;01m}\u001b[39;00m\u001b[38;5;124m'\u001b[39m);  final()\n",
      "File \u001b[0;32m~/miniforge3/lib/python3.10/site-packages/fastai/learner.py:253\u001b[0m, in \u001b[0;36mLearner._do_fit\u001b[0;34m(self)\u001b[0m\n\u001b[1;32m    251\u001b[0m \u001b[38;5;28;01mfor\u001b[39;00m epoch \u001b[38;5;129;01min\u001b[39;00m \u001b[38;5;28mrange\u001b[39m(\u001b[38;5;28mself\u001b[39m\u001b[38;5;241m.\u001b[39mn_epoch):\n\u001b[1;32m    252\u001b[0m     \u001b[38;5;28mself\u001b[39m\u001b[38;5;241m.\u001b[39mepoch\u001b[38;5;241m=\u001b[39mepoch\n\u001b[0;32m--> 253\u001b[0m     \u001b[38;5;28;43mself\u001b[39;49m\u001b[38;5;241;43m.\u001b[39;49m\u001b[43m_with_events\u001b[49m\u001b[43m(\u001b[49m\u001b[38;5;28;43mself\u001b[39;49m\u001b[38;5;241;43m.\u001b[39;49m\u001b[43m_do_epoch\u001b[49m\u001b[43m,\u001b[49m\u001b[43m \u001b[49m\u001b[38;5;124;43m'\u001b[39;49m\u001b[38;5;124;43mepoch\u001b[39;49m\u001b[38;5;124;43m'\u001b[39;49m\u001b[43m,\u001b[49m\u001b[43m \u001b[49m\u001b[43mCancelEpochException\u001b[49m\u001b[43m)\u001b[49m\n",
      "File \u001b[0;32m~/miniforge3/lib/python3.10/site-packages/fastai/learner.py:199\u001b[0m, in \u001b[0;36mLearner._with_events\u001b[0;34m(self, f, event_type, ex, final)\u001b[0m\n\u001b[1;32m    198\u001b[0m \u001b[38;5;28;01mdef\u001b[39;00m \u001b[38;5;21m_with_events\u001b[39m(\u001b[38;5;28mself\u001b[39m, f, event_type, ex, final\u001b[38;5;241m=\u001b[39mnoop):\n\u001b[0;32m--> 199\u001b[0m     \u001b[38;5;28;01mtry\u001b[39;00m: \u001b[38;5;28mself\u001b[39m(\u001b[38;5;124mf\u001b[39m\u001b[38;5;124m'\u001b[39m\u001b[38;5;124mbefore_\u001b[39m\u001b[38;5;132;01m{\u001b[39;00mevent_type\u001b[38;5;132;01m}\u001b[39;00m\u001b[38;5;124m'\u001b[39m);  \u001b[43mf\u001b[49m\u001b[43m(\u001b[49m\u001b[43m)\u001b[49m\n\u001b[1;32m    200\u001b[0m     \u001b[38;5;28;01mexcept\u001b[39;00m ex: \u001b[38;5;28mself\u001b[39m(\u001b[38;5;124mf\u001b[39m\u001b[38;5;124m'\u001b[39m\u001b[38;5;124mafter_cancel_\u001b[39m\u001b[38;5;132;01m{\u001b[39;00mevent_type\u001b[38;5;132;01m}\u001b[39;00m\u001b[38;5;124m'\u001b[39m)\n\u001b[1;32m    201\u001b[0m     \u001b[38;5;28mself\u001b[39m(\u001b[38;5;124mf\u001b[39m\u001b[38;5;124m'\u001b[39m\u001b[38;5;124mafter_\u001b[39m\u001b[38;5;132;01m{\u001b[39;00mevent_type\u001b[38;5;132;01m}\u001b[39;00m\u001b[38;5;124m'\u001b[39m);  final()\n",
      "File \u001b[0;32m~/miniforge3/lib/python3.10/site-packages/fastai/learner.py:248\u001b[0m, in \u001b[0;36mLearner._do_epoch\u001b[0;34m(self)\u001b[0m\n\u001b[1;32m    246\u001b[0m \u001b[38;5;28;01mdef\u001b[39;00m \u001b[38;5;21m_do_epoch\u001b[39m(\u001b[38;5;28mself\u001b[39m):\n\u001b[1;32m    247\u001b[0m     \u001b[38;5;28mself\u001b[39m\u001b[38;5;241m.\u001b[39m_do_epoch_train()\n\u001b[0;32m--> 248\u001b[0m     \u001b[38;5;28;43mself\u001b[39;49m\u001b[38;5;241;43m.\u001b[39;49m\u001b[43m_do_epoch_validate\u001b[49m\u001b[43m(\u001b[49m\u001b[43m)\u001b[49m\n",
      "File \u001b[0;32m~/miniforge3/lib/python3.10/site-packages/fastai/learner.py:244\u001b[0m, in \u001b[0;36mLearner._do_epoch_validate\u001b[0;34m(self, ds_idx, dl)\u001b[0m\n\u001b[1;32m    242\u001b[0m \u001b[38;5;28;01mif\u001b[39;00m dl \u001b[38;5;129;01mis\u001b[39;00m \u001b[38;5;28;01mNone\u001b[39;00m: dl \u001b[38;5;241m=\u001b[39m \u001b[38;5;28mself\u001b[39m\u001b[38;5;241m.\u001b[39mdls[ds_idx]\n\u001b[1;32m    243\u001b[0m \u001b[38;5;28mself\u001b[39m\u001b[38;5;241m.\u001b[39mdl \u001b[38;5;241m=\u001b[39m dl\n\u001b[0;32m--> 244\u001b[0m \u001b[38;5;28;01mwith\u001b[39;00m torch\u001b[38;5;241m.\u001b[39mno_grad(): \u001b[38;5;28;43mself\u001b[39;49m\u001b[38;5;241;43m.\u001b[39;49m\u001b[43m_with_events\u001b[49m\u001b[43m(\u001b[49m\u001b[38;5;28;43mself\u001b[39;49m\u001b[38;5;241;43m.\u001b[39;49m\u001b[43mall_batches\u001b[49m\u001b[43m,\u001b[49m\u001b[43m \u001b[49m\u001b[38;5;124;43m'\u001b[39;49m\u001b[38;5;124;43mvalidate\u001b[39;49m\u001b[38;5;124;43m'\u001b[39;49m\u001b[43m,\u001b[49m\u001b[43m \u001b[49m\u001b[43mCancelValidException\u001b[49m\u001b[43m)\u001b[49m\n",
      "File \u001b[0;32m~/miniforge3/lib/python3.10/site-packages/fastai/learner.py:199\u001b[0m, in \u001b[0;36mLearner._with_events\u001b[0;34m(self, f, event_type, ex, final)\u001b[0m\n\u001b[1;32m    198\u001b[0m \u001b[38;5;28;01mdef\u001b[39;00m \u001b[38;5;21m_with_events\u001b[39m(\u001b[38;5;28mself\u001b[39m, f, event_type, ex, final\u001b[38;5;241m=\u001b[39mnoop):\n\u001b[0;32m--> 199\u001b[0m     \u001b[38;5;28;01mtry\u001b[39;00m: \u001b[38;5;28mself\u001b[39m(\u001b[38;5;124mf\u001b[39m\u001b[38;5;124m'\u001b[39m\u001b[38;5;124mbefore_\u001b[39m\u001b[38;5;132;01m{\u001b[39;00mevent_type\u001b[38;5;132;01m}\u001b[39;00m\u001b[38;5;124m'\u001b[39m);  \u001b[43mf\u001b[49m\u001b[43m(\u001b[49m\u001b[43m)\u001b[49m\n\u001b[1;32m    200\u001b[0m     \u001b[38;5;28;01mexcept\u001b[39;00m ex: \u001b[38;5;28mself\u001b[39m(\u001b[38;5;124mf\u001b[39m\u001b[38;5;124m'\u001b[39m\u001b[38;5;124mafter_cancel_\u001b[39m\u001b[38;5;132;01m{\u001b[39;00mevent_type\u001b[38;5;132;01m}\u001b[39;00m\u001b[38;5;124m'\u001b[39m)\n\u001b[1;32m    201\u001b[0m     \u001b[38;5;28mself\u001b[39m(\u001b[38;5;124mf\u001b[39m\u001b[38;5;124m'\u001b[39m\u001b[38;5;124mafter_\u001b[39m\u001b[38;5;132;01m{\u001b[39;00mevent_type\u001b[38;5;132;01m}\u001b[39;00m\u001b[38;5;124m'\u001b[39m);  final()\n",
      "File \u001b[0;32m~/miniforge3/lib/python3.10/site-packages/fastai/learner.py:205\u001b[0m, in \u001b[0;36mLearner.all_batches\u001b[0;34m(self)\u001b[0m\n\u001b[1;32m    203\u001b[0m \u001b[38;5;28;01mdef\u001b[39;00m \u001b[38;5;21mall_batches\u001b[39m(\u001b[38;5;28mself\u001b[39m):\n\u001b[1;32m    204\u001b[0m     \u001b[38;5;28mself\u001b[39m\u001b[38;5;241m.\u001b[39mn_iter \u001b[38;5;241m=\u001b[39m \u001b[38;5;28mlen\u001b[39m(\u001b[38;5;28mself\u001b[39m\u001b[38;5;241m.\u001b[39mdl)\n\u001b[0;32m--> 205\u001b[0m     \u001b[38;5;28;01mfor\u001b[39;00m o \u001b[38;5;129;01min\u001b[39;00m \u001b[38;5;28menumerate\u001b[39m(\u001b[38;5;28mself\u001b[39m\u001b[38;5;241m.\u001b[39mdl): \u001b[38;5;28mself\u001b[39m\u001b[38;5;241m.\u001b[39mone_batch(\u001b[38;5;241m*\u001b[39mo)\n",
      "File \u001b[0;32m~/miniforge3/lib/python3.10/site-packages/fastai/data/load.py:127\u001b[0m, in \u001b[0;36mDataLoader.__iter__\u001b[0;34m(self)\u001b[0m\n\u001b[1;32m    125\u001b[0m \u001b[38;5;28mself\u001b[39m\u001b[38;5;241m.\u001b[39mbefore_iter()\n\u001b[1;32m    126\u001b[0m \u001b[38;5;28mself\u001b[39m\u001b[38;5;241m.\u001b[39m__idxs\u001b[38;5;241m=\u001b[39m\u001b[38;5;28mself\u001b[39m\u001b[38;5;241m.\u001b[39mget_idxs() \u001b[38;5;66;03m# called in context of main process (not workers/subprocesses)\u001b[39;00m\n\u001b[0;32m--> 127\u001b[0m \u001b[38;5;28;01mfor\u001b[39;00m b \u001b[38;5;129;01min\u001b[39;00m _loaders[\u001b[38;5;28mself\u001b[39m\u001b[38;5;241m.\u001b[39mfake_l\u001b[38;5;241m.\u001b[39mnum_workers\u001b[38;5;241m==\u001b[39m\u001b[38;5;241m0\u001b[39m](\u001b[38;5;28mself\u001b[39m\u001b[38;5;241m.\u001b[39mfake_l):\n\u001b[1;32m    128\u001b[0m     \u001b[38;5;66;03m# pin_memory causes tuples to be converted to lists, so convert them back to tuples\u001b[39;00m\n\u001b[1;32m    129\u001b[0m     \u001b[38;5;28;01mif\u001b[39;00m \u001b[38;5;28mself\u001b[39m\u001b[38;5;241m.\u001b[39mpin_memory \u001b[38;5;129;01mand\u001b[39;00m \u001b[38;5;28mtype\u001b[39m(b) \u001b[38;5;241m==\u001b[39m \u001b[38;5;28mlist\u001b[39m: b \u001b[38;5;241m=\u001b[39m \u001b[38;5;28mtuple\u001b[39m(b)\n\u001b[1;32m    130\u001b[0m     \u001b[38;5;28;01mif\u001b[39;00m \u001b[38;5;28mself\u001b[39m\u001b[38;5;241m.\u001b[39mdevice \u001b[38;5;129;01mis\u001b[39;00m \u001b[38;5;129;01mnot\u001b[39;00m \u001b[38;5;28;01mNone\u001b[39;00m: b \u001b[38;5;241m=\u001b[39m to_device(b, \u001b[38;5;28mself\u001b[39m\u001b[38;5;241m.\u001b[39mdevice)\n",
      "File \u001b[0;32m~/miniforge3/lib/python3.10/site-packages/torch/utils/data/dataloader.py:631\u001b[0m, in \u001b[0;36m_BaseDataLoaderIter.__next__\u001b[0;34m(self)\u001b[0m\n\u001b[1;32m    628\u001b[0m \u001b[38;5;28;01mif\u001b[39;00m \u001b[38;5;28mself\u001b[39m\u001b[38;5;241m.\u001b[39m_sampler_iter \u001b[38;5;129;01mis\u001b[39;00m \u001b[38;5;28;01mNone\u001b[39;00m:\n\u001b[1;32m    629\u001b[0m     \u001b[38;5;66;03m# TODO(https://github.com/pytorch/pytorch/issues/76750)\u001b[39;00m\n\u001b[1;32m    630\u001b[0m     \u001b[38;5;28mself\u001b[39m\u001b[38;5;241m.\u001b[39m_reset()  \u001b[38;5;66;03m# type: ignore[call-arg]\u001b[39;00m\n\u001b[0;32m--> 631\u001b[0m data \u001b[38;5;241m=\u001b[39m \u001b[38;5;28;43mself\u001b[39;49m\u001b[38;5;241;43m.\u001b[39;49m\u001b[43m_next_data\u001b[49m\u001b[43m(\u001b[49m\u001b[43m)\u001b[49m\n\u001b[1;32m    632\u001b[0m \u001b[38;5;28mself\u001b[39m\u001b[38;5;241m.\u001b[39m_num_yielded \u001b[38;5;241m+\u001b[39m\u001b[38;5;241m=\u001b[39m \u001b[38;5;241m1\u001b[39m\n\u001b[1;32m    633\u001b[0m \u001b[38;5;28;01mif\u001b[39;00m \u001b[38;5;28mself\u001b[39m\u001b[38;5;241m.\u001b[39m_dataset_kind \u001b[38;5;241m==\u001b[39m _DatasetKind\u001b[38;5;241m.\u001b[39mIterable \u001b[38;5;129;01mand\u001b[39;00m \\\n\u001b[1;32m    634\u001b[0m         \u001b[38;5;28mself\u001b[39m\u001b[38;5;241m.\u001b[39m_IterableDataset_len_called \u001b[38;5;129;01mis\u001b[39;00m \u001b[38;5;129;01mnot\u001b[39;00m \u001b[38;5;28;01mNone\u001b[39;00m \u001b[38;5;129;01mand\u001b[39;00m \\\n\u001b[1;32m    635\u001b[0m         \u001b[38;5;28mself\u001b[39m\u001b[38;5;241m.\u001b[39m_num_yielded \u001b[38;5;241m>\u001b[39m \u001b[38;5;28mself\u001b[39m\u001b[38;5;241m.\u001b[39m_IterableDataset_len_called:\n",
      "File \u001b[0;32m~/miniforge3/lib/python3.10/site-packages/torch/utils/data/dataloader.py:1346\u001b[0m, in \u001b[0;36m_MultiProcessingDataLoaderIter._next_data\u001b[0;34m(self)\u001b[0m\n\u001b[1;32m   1344\u001b[0m \u001b[38;5;28;01melse\u001b[39;00m:\n\u001b[1;32m   1345\u001b[0m     \u001b[38;5;28;01mdel\u001b[39;00m \u001b[38;5;28mself\u001b[39m\u001b[38;5;241m.\u001b[39m_task_info[idx]\n\u001b[0;32m-> 1346\u001b[0m     \u001b[38;5;28;01mreturn\u001b[39;00m \u001b[38;5;28;43mself\u001b[39;49m\u001b[38;5;241;43m.\u001b[39;49m\u001b[43m_process_data\u001b[49m\u001b[43m(\u001b[49m\u001b[43mdata\u001b[49m\u001b[43m)\u001b[49m\n",
      "File \u001b[0;32m~/miniforge3/lib/python3.10/site-packages/torch/utils/data/dataloader.py:1372\u001b[0m, in \u001b[0;36m_MultiProcessingDataLoaderIter._process_data\u001b[0;34m(self, data)\u001b[0m\n\u001b[1;32m   1370\u001b[0m \u001b[38;5;28mself\u001b[39m\u001b[38;5;241m.\u001b[39m_try_put_index()\n\u001b[1;32m   1371\u001b[0m \u001b[38;5;28;01mif\u001b[39;00m \u001b[38;5;28misinstance\u001b[39m(data, ExceptionWrapper):\n\u001b[0;32m-> 1372\u001b[0m     \u001b[43mdata\u001b[49m\u001b[38;5;241;43m.\u001b[39;49m\u001b[43mreraise\u001b[49m\u001b[43m(\u001b[49m\u001b[43m)\u001b[49m\n\u001b[1;32m   1373\u001b[0m \u001b[38;5;28;01mreturn\u001b[39;00m data\n",
      "File \u001b[0;32m~/miniforge3/lib/python3.10/site-packages/torch/_utils.py:722\u001b[0m, in \u001b[0;36mExceptionWrapper.reraise\u001b[0;34m(self)\u001b[0m\n\u001b[1;32m    718\u001b[0m \u001b[38;5;28;01mexcept\u001b[39;00m \u001b[38;5;167;01mTypeError\u001b[39;00m:\n\u001b[1;32m    719\u001b[0m     \u001b[38;5;66;03m# If the exception takes multiple arguments, don't try to\u001b[39;00m\n\u001b[1;32m    720\u001b[0m     \u001b[38;5;66;03m# instantiate since we don't know how to\u001b[39;00m\n\u001b[1;32m    721\u001b[0m     \u001b[38;5;28;01mraise\u001b[39;00m \u001b[38;5;167;01mRuntimeError\u001b[39;00m(msg) \u001b[38;5;28;01mfrom\u001b[39;00m \u001b[38;5;28;01mNone\u001b[39;00m\n\u001b[0;32m--> 722\u001b[0m \u001b[38;5;28;01mraise\u001b[39;00m exception\n",
      "\u001b[0;31mKeyError\u001b[0m: Caught KeyError in DataLoader worker process 0.\nOriginal Traceback (most recent call last):\n  File \"/home/georg/miniforge3/lib/python3.10/site-packages/fastai/data/transforms.py\", line 261, in encodes\n    return TensorCategory(self.vocab.o2i[o])\nKeyError: '83121'\n\nThe above exception was the direct cause of the following exception:\n\nTraceback (most recent call last):\n  File \"/home/georg/miniforge3/lib/python3.10/site-packages/torch/utils/data/_utils/worker.py\", line 308, in _worker_loop\n    data = fetcher.fetch(index)\n  File \"/home/georg/miniforge3/lib/python3.10/site-packages/torch/utils/data/_utils/fetch.py\", line 41, in fetch\n    data = next(self.dataset_iter)\n  File \"/home/georg/miniforge3/lib/python3.10/site-packages/fastai/data/load.py\", line 138, in create_batches\n    yield from map(self.do_batch, self.chunkify(res))\n  File \"/home/georg/miniforge3/lib/python3.10/site-packages/fastcore/basics.py\", line 230, in chunked\n    res = list(itertools.islice(it, chunk_sz))\n  File \"/home/georg/miniforge3/lib/python3.10/site-packages/fastai/data/load.py\", line 168, in do_item\n    try: return self.after_item(self.create_item(s))\n  File \"/home/georg/miniforge3/lib/python3.10/site-packages/fastai/data/load.py\", line 175, in create_item\n    if self.indexed: return self.dataset[s or 0]\n  File \"/home/georg/miniforge3/lib/python3.10/site-packages/fastai/data/core.py\", line 447, in __getitem__\n    res = tuple([tl[it] for tl in self.tls])\n  File \"/home/georg/miniforge3/lib/python3.10/site-packages/fastai/data/core.py\", line 447, in <listcomp>\n    res = tuple([tl[it] for tl in self.tls])\n  File \"/home/georg/miniforge3/lib/python3.10/site-packages/fastai/data/core.py\", line 406, in __getitem__\n    return self._after_item(res) if is_indexer(idx) else res.map(self._after_item)\n  File \"/home/georg/miniforge3/lib/python3.10/site-packages/fastai/data/core.py\", line 366, in _after_item\n    def _after_item(self, o): return self.tfms(o)\n  File \"/home/georg/miniforge3/lib/python3.10/site-packages/fastcore/transform.py\", line 208, in __call__\n    def __call__(self, o): return compose_tfms(o, tfms=self.fs, split_idx=self.split_idx)\n  File \"/home/georg/miniforge3/lib/python3.10/site-packages/fastcore/transform.py\", line 158, in compose_tfms\n    x = f(x, **kwargs)\n  File \"/home/georg/miniforge3/lib/python3.10/site-packages/fastcore/transform.py\", line 81, in __call__\n    def __call__(self, x, **kwargs): return self._call('encodes', x, **kwargs)\n  File \"/home/georg/miniforge3/lib/python3.10/site-packages/fastcore/transform.py\", line 91, in _call\n    return self._do_call(getattr(self, fn), x, **kwargs)\n  File \"/home/georg/miniforge3/lib/python3.10/site-packages/fastcore/transform.py\", line 97, in _do_call\n    return retain_type(f(x, **kwargs), x, ret)\n  File \"/home/georg/miniforge3/lib/python3.10/site-packages/fastcore/dispatch.py\", line 120, in __call__\n    return f(*args, **kwargs)\n  File \"/home/georg/miniforge3/lib/python3.10/site-packages/fastai/data/transforms.py\", line 263, in encodes\n    raise KeyError(f\"Label '{o}' was not included in the training dataset\") from e\nKeyError: \"Label '83121' was not included in the training dataset\"\n"
     ]
    }
   ],
   "source": [
    "from fastai.text.all import *\n",
    "learn.fit_one_cycle(1, 2e-2)"
   ]
  },
  {
   "cell_type": "code",
   "execution_count": null,
   "id": "2c1643ae-0605-45db-9425-69381e423c0a",
   "metadata": {},
   "outputs": [],
   "source": [
    "learn.predict(\"Ich bin Wolfgang Sobotka.\")"
   ]
  },
  {
   "cell_type": "code",
   "execution_count": 44,
   "id": "587e41e7-077a-40b2-8cfb-fb2a1ab17ac2",
   "metadata": {},
   "outputs": [
    {
     "data": {
      "text/html": [
       "<div>\n",
       "<style scoped>\n",
       "    .dataframe tbody tr th:only-of-type {\n",
       "        vertical-align: middle;\n",
       "    }\n",
       "\n",
       "    .dataframe tbody tr th {\n",
       "        vertical-align: top;\n",
       "    }\n",
       "\n",
       "    .dataframe thead th {\n",
       "        text-align: right;\n",
       "    }\n",
       "</style>\n",
       "<table border=\"1\" class=\"dataframe\">\n",
       "  <thead>\n",
       "    <tr style=\"text-align: right;\">\n",
       "      <th></th>\n",
       "      <th>id</th>\n",
       "      <th>name</th>\n",
       "      <th>parties</th>\n",
       "      <th>periods</th>\n",
       "      <th>url</th>\n",
       "      <th>imageUrl</th>\n",
       "    </tr>\n",
       "  </thead>\n",
       "  <tbody>\n",
       "    <tr>\n",
       "      <th>600</th>\n",
       "      <td>18140</td>\n",
       "      <td>Mag. Dr. Martin Kocher</td>\n",
       "      <td>[]</td>\n",
       "      <td>[XXVII]</td>\n",
       "      <td>https://parlament.gv.at/person/18140</td>\n",
       "      <td>https://parlament.gv.at/dokument/bild/200504/20050490_384.jpg</td>\n",
       "    </tr>\n",
       "  </tbody>\n",
       "</table>\n",
       "</div>"
      ],
      "text/plain": [
       "        id                    name parties  periods  \\\n",
       "600  18140  Mag. Dr. Martin Kocher      []  [XXVII]   \n",
       "\n",
       "                                      url  \\\n",
       "600  https://parlament.gv.at/person/18140   \n",
       "\n",
       "                                                          imageUrl  \n",
       "600  https://parlament.gv.at/dokument/bild/200504/20050490_384.jpg  "
      ]
     },
     "execution_count": 44,
     "metadata": {},
     "output_type": "execute_result"
    }
   ],
   "source": [
    "#speaker[\"id\"] == 18140\n",
    "speaker.loc[speaker[\"id\"]==18140]"
   ]
  },
  {
   "cell_type": "code",
   "execution_count": 47,
   "id": "06018c60-b9fd-4434-9451-ae8af445cc18",
   "metadata": {},
   "outputs": [
    {
     "data": {
      "text/plain": [
       "17"
      ]
     },
     "execution_count": 47,
     "metadata": {},
     "output_type": "execute_result"
    }
   ],
   "source": [
    "len(train_df[\"speaker\"].unique())"
   ]
  },
  {
   "cell_type": "code",
   "execution_count": null,
   "id": "d42d8053-4f35-4bfe-8dc2-c454c32b9be2",
   "metadata": {},
   "outputs": [],
   "source": []
  }
 ],
 "metadata": {
  "kernelspec": {
   "display_name": "Python 3 (ipykernel)",
   "language": "python",
   "name": "python3"
  },
  "language_info": {
   "codemirror_mode": {
    "name": "ipython",
    "version": 3
   },
   "file_extension": ".py",
   "mimetype": "text/x-python",
   "name": "python",
   "nbconvert_exporter": "python",
   "pygments_lexer": "ipython3",
   "version": "3.10.13"
  }
 },
 "nbformat": 4,
 "nbformat_minor": 5
}
