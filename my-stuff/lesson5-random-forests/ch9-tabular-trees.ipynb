{
 "cells": [
  {
   "cell_type": "markdown",
   "id": "918ad9f0-7f24-4b08-a71d-d87681c7542c",
   "metadata": {},
   "source": [
    "# Bitcoin and random forests\n",
    "## Trying to generate a sensible dependent value. \n",
    "\n",
    "The goal of this notebook is to think about a binary dependent variable and employ a random forest. \n",
    "\n",
    "First, the following metrics are going to be calculated: \n",
    " - 20 candle moving average\n",
    " - volume weighted price\n",
    " - monthly, weekly, daily levels\n",
    "\n",
    "Afterwards, think of a good dependent variable. "
   ]
  },
  {
   "cell_type": "code",
   "execution_count": 9,
   "id": "c10443bf-5c6d-49c7-950f-48d81361bbee",
   "metadata": {},
   "outputs": [
    {
     "name": "stdout",
     "output_type": "stream",
     "text": [
      "(11716, 6)\n"
     ]
    },
    {
     "data": {
      "text/html": [
       "<div>\n",
       "<style scoped>\n",
       "    .dataframe tbody tr th:only-of-type {\n",
       "        vertical-align: middle;\n",
       "    }\n",
       "\n",
       "    .dataframe tbody tr th {\n",
       "        vertical-align: top;\n",
       "    }\n",
       "\n",
       "    .dataframe thead th {\n",
       "        text-align: right;\n",
       "    }\n",
       "</style>\n",
       "<table border=\"1\" class=\"dataframe\">\n",
       "  <thead>\n",
       "    <tr style=\"text-align: right;\">\n",
       "      <th></th>\n",
       "      <th>time</th>\n",
       "      <th>open</th>\n",
       "      <th>high</th>\n",
       "      <th>low</th>\n",
       "      <th>close</th>\n",
       "      <th>vol</th>\n",
       "    </tr>\n",
       "  </thead>\n",
       "  <tbody>\n",
       "    <tr>\n",
       "      <th>0</th>\n",
       "      <td>2023.06.01 00:00</td>\n",
       "      <td>27103.1</td>\n",
       "      <td>27108.1</td>\n",
       "      <td>27080.6</td>\n",
       "      <td>27096.9</td>\n",
       "      <td>386.675</td>\n",
       "    </tr>\n",
       "    <tr>\n",
       "      <th>1</th>\n",
       "      <td>2023.06.01 00:15</td>\n",
       "      <td>27096.9</td>\n",
       "      <td>27096.9</td>\n",
       "      <td>27036.7</td>\n",
       "      <td>27047.0</td>\n",
       "      <td>408.680</td>\n",
       "    </tr>\n",
       "    <tr>\n",
       "      <th>2</th>\n",
       "      <td>2023.06.01 00:30</td>\n",
       "      <td>27047.0</td>\n",
       "      <td>27077.4</td>\n",
       "      <td>27041.0</td>\n",
       "      <td>27054.9</td>\n",
       "      <td>275.080</td>\n",
       "    </tr>\n",
       "  </tbody>\n",
       "</table>\n",
       "</div>"
      ],
      "text/plain": [
       "               time     open     high      low    close      vol\n",
       "0  2023.06.01 00:00  27103.1  27108.1  27080.6  27096.9  386.675\n",
       "1  2023.06.01 00:15  27096.9  27096.9  27036.7  27047.0  408.680\n",
       "2  2023.06.01 00:30  27047.0  27077.4  27041.0  27054.9  275.080"
      ]
     },
     "execution_count": 9,
     "metadata": {},
     "output_type": "execute_result"
    }
   ],
   "source": [
    "# import data from septembre of 2022 since it was rather stable during this period\n",
    "import pandas as pd\n",
    "\n",
    "# data are 15 minute candlesticks\n",
    "df = pd.read_csv(\"btc-data/btcusdt-2023-6_9.csv\", index_col=0).reset_index(drop=True)\n",
    "\n",
    "# if on kaggle:\n",
    "# df = pd.read_csv(\"/kaggle/input/btcusdt-15-2023-09-01-2023-09-30/BTCUSDT_15_2023-09-01_2023-09-30.csv\", names=[\"time\",\"open\",\"high\",\"low\",\"close\",\"vol\"], header=None)\n",
    "\n",
    "print(df.shape)\n",
    "df.head(3)"
   ]
  },
  {
   "cell_type": "code",
   "execution_count": 10,
   "id": "15418e87-5311-4dc3-ba10-d31a05d5ef62",
   "metadata": {},
   "outputs": [
    {
     "name": "stdout",
     "output_type": "stream",
     "text": [
      "(11716, 30)\n"
     ]
    },
    {
     "data": {
      "text/html": [
       "<div>\n",
       "<style scoped>\n",
       "    .dataframe tbody tr th:only-of-type {\n",
       "        vertical-align: middle;\n",
       "    }\n",
       "\n",
       "    .dataframe tbody tr th {\n",
       "        vertical-align: top;\n",
       "    }\n",
       "\n",
       "    .dataframe thead th {\n",
       "        text-align: right;\n",
       "    }\n",
       "</style>\n",
       "<table border=\"1\" class=\"dataframe\">\n",
       "  <thead>\n",
       "    <tr style=\"text-align: right;\">\n",
       "      <th></th>\n",
       "      <th>time</th>\n",
       "      <th>open</th>\n",
       "      <th>high</th>\n",
       "      <th>low</th>\n",
       "      <th>close</th>\n",
       "      <th>vol</th>\n",
       "      <th>day</th>\n",
       "      <th>hour</th>\n",
       "      <th>10MA</th>\n",
       "      <th>10STD</th>\n",
       "      <th>...</th>\n",
       "      <th>low_p1</th>\n",
       "      <th>close_p1</th>\n",
       "      <th>open_p2</th>\n",
       "      <th>high_p2</th>\n",
       "      <th>low_p2</th>\n",
       "      <th>close_p2</th>\n",
       "      <th>open_p3</th>\n",
       "      <th>high_p3</th>\n",
       "      <th>low_p3</th>\n",
       "      <th>close_p3</th>\n",
       "    </tr>\n",
       "  </thead>\n",
       "  <tbody>\n",
       "    <tr>\n",
       "      <th>18</th>\n",
       "      <td>2023-06-01 04:30:00</td>\n",
       "      <td>27131.7</td>\n",
       "      <td>27152.2</td>\n",
       "      <td>27103.3</td>\n",
       "      <td>27103.4</td>\n",
       "      <td>657.897</td>\n",
       "      <td>1</td>\n",
       "      <td>4</td>\n",
       "      <td>27172.38</td>\n",
       "      <td>82.346447</td>\n",
       "      <td>...</td>\n",
       "      <td>27089.4</td>\n",
       "      <td>27131.7</td>\n",
       "      <td>27060.2</td>\n",
       "      <td>27135.0</td>\n",
       "      <td>27050.0</td>\n",
       "      <td>27115.9</td>\n",
       "      <td>27103.6</td>\n",
       "      <td>27103.6</td>\n",
       "      <td>27012.0</td>\n",
       "      <td>27060.2</td>\n",
       "    </tr>\n",
       "    <tr>\n",
       "      <th>19</th>\n",
       "      <td>2023-06-01 04:45:00</td>\n",
       "      <td>27103.4</td>\n",
       "      <td>27144.9</td>\n",
       "      <td>27064.5</td>\n",
       "      <td>27069.3</td>\n",
       "      <td>960.815</td>\n",
       "      <td>1</td>\n",
       "      <td>4</td>\n",
       "      <td>27160.82</td>\n",
       "      <td>88.292969</td>\n",
       "      <td>...</td>\n",
       "      <td>27103.3</td>\n",
       "      <td>27103.4</td>\n",
       "      <td>27115.9</td>\n",
       "      <td>27133.0</td>\n",
       "      <td>27089.4</td>\n",
       "      <td>27131.7</td>\n",
       "      <td>27060.2</td>\n",
       "      <td>27135.0</td>\n",
       "      <td>27050.0</td>\n",
       "      <td>27115.9</td>\n",
       "    </tr>\n",
       "    <tr>\n",
       "      <th>20</th>\n",
       "      <td>2023-06-01 05:00:00</td>\n",
       "      <td>27069.3</td>\n",
       "      <td>27078.8</td>\n",
       "      <td>27036.7</td>\n",
       "      <td>27044.4</td>\n",
       "      <td>451.196</td>\n",
       "      <td>1</td>\n",
       "      <td>5</td>\n",
       "      <td>27140.56</td>\n",
       "      <td>89.556180</td>\n",
       "      <td>...</td>\n",
       "      <td>27064.5</td>\n",
       "      <td>27069.3</td>\n",
       "      <td>27131.7</td>\n",
       "      <td>27152.2</td>\n",
       "      <td>27103.3</td>\n",
       "      <td>27103.4</td>\n",
       "      <td>27115.9</td>\n",
       "      <td>27133.0</td>\n",
       "      <td>27089.4</td>\n",
       "      <td>27131.7</td>\n",
       "    </tr>\n",
       "  </tbody>\n",
       "</table>\n",
       "<p>3 rows × 30 columns</p>\n",
       "</div>"
      ],
      "text/plain": [
       "                  time     open     high      low    close      vol  day  \\\n",
       "18 2023-06-01 04:30:00  27131.7  27152.2  27103.3  27103.4  657.897    1   \n",
       "19 2023-06-01 04:45:00  27103.4  27144.9  27064.5  27069.3  960.815    1   \n",
       "20 2023-06-01 05:00:00  27069.3  27078.8  27036.7  27044.4  451.196    1   \n",
       "\n",
       "    hour      10MA      10STD  ...   low_p1  close_p1  open_p2  high_p2  \\\n",
       "18     4  27172.38  82.346447  ...  27089.4   27131.7  27060.2  27135.0   \n",
       "19     4  27160.82  88.292969  ...  27103.3   27103.4  27115.9  27133.0   \n",
       "20     5  27140.56  89.556180  ...  27064.5   27069.3  27131.7  27152.2   \n",
       "\n",
       "     low_p2  close_p2  open_p3  high_p3   low_p3  close_p3  \n",
       "18  27050.0   27115.9  27103.6  27103.6  27012.0   27060.2  \n",
       "19  27089.4   27131.7  27060.2  27135.0  27050.0   27115.9  \n",
       "20  27103.3   27103.4  27115.9  27133.0  27089.4   27131.7  \n",
       "\n",
       "[3 rows x 30 columns]"
      ]
     },
     "execution_count": 10,
     "metadata": {},
     "output_type": "execute_result"
    }
   ],
   "source": [
    "# transform to date_time\n",
    "df[\"time\"] = pd.to_datetime(df[\"time\"])\n",
    "\n",
    "# Extracting day and hour\n",
    "df[\"day\"] = df[\"time\"].dt.day\n",
    "df[\"hour\"] = df[\"time\"].dt.hour\n",
    "\n",
    "# the 10-day moving average\n",
    "df[\"10MA\"] = df[\"close\"].rolling(window=10).mean()\n",
    "\n",
    "# Calculate the standard deviation of the closing prices over the same 20-day period\n",
    "df[\"10STD\"] = df[\"close\"].rolling(window=10).std()\n",
    "\n",
    "# volume weighted close price\n",
    "df[\"vwap\"] = df.close/df.vol\n",
    "\n",
    "# Bollinger Band: \n",
    "# simple_moving_average(20) + std x 2 | sma - std x 2\n",
    "df[\"bb_upper_band\"] = df[\"10MA\"] + 2 * df[\"10STD\"]\n",
    "df[\"bb_lower_band\"] = df[\"10MA\"] - 2 * df[\"10STD\"]\n",
    "\n",
    "# daily_open\n",
    "df[\"daily_open\"] = df.groupby(df[\"day\"])[\"open\"].transform(\"first\")\n",
    "\n",
    "# daily_close\n",
    "df[\"daily_close\"] = df.groupby(df[\"day\"])[\"close\"].transform(\"first\")\n",
    "\n",
    "\n",
    "# Calculate On-Balance Volume (OBV)\n",
    "df[\"change\"] = df[\"close\"].diff()\n",
    "df[\"direction\"] = df[\"change\"].apply(lambda x: 1 if x > 0 else (-1 if x < 0 else 0))\n",
    "df[\"obv\"] = df[\"vol\"] * df[\"direction\"]\n",
    "df[\"obv\"] = df[\"obv\"].cumsum()\n",
    "\n",
    "# define variables that look 1 to three periods into the future\n",
    "df[\"open_p1\"] = df[\"open\"].shift(1)\n",
    "df[\"high_p1\"] = df[\"high\"].shift(1)\n",
    "df[\"low_p1\"] = df[\"low\"].shift(1)\n",
    "df[\"close_p1\"] = df[\"close\"].shift(1)\n",
    "\n",
    "df[\"open_p2\"] = df[\"open\"].shift(2)\n",
    "df[\"high_p2\"] = df[\"high\"].shift(2)\n",
    "df[\"low_p2\"] = df[\"low\"].shift(2)\n",
    "df[\"close_p2\"] = df[\"close\"].shift(2)\n",
    "\n",
    "df[\"open_p3\"] = df[\"open\"].shift(3)\n",
    "df[\"high_p3\"] = df[\"high\"].shift(3)\n",
    "df[\"low_p3\"] = df[\"low\"].shift(3)\n",
    "df[\"close_p3\"] = df[\"close\"].shift(3)\n",
    "\n",
    "\n",
    "print(df.shape)\n",
    "df[18:].head(3) # data set starts with the 20th observation since the first 20 rows had to be used for the moving average"
   ]
  },
  {
   "cell_type": "code",
   "execution_count": 12,
   "id": "47e3af0f-112f-41fd-9596-6eb54a145345",
   "metadata": {},
   "outputs": [
    {
     "data": {
      "text/plain": [
       "<Axes: >"
      ]
     },
     "execution_count": 12,
     "metadata": {},
     "output_type": "execute_result"
    },
    {
     "data": {
      "image/png": "[encoded data removed]",
      "text/plain": [
       "<Figure size 640x480 with 1 Axes>"
      ]
     },
     "metadata": {},
     "output_type": "display_data"
    }
   ],
   "source": [
    "# check if everything looks ok\n",
    "df.close.plot()\n",
    "df[\"10MA\"].plot()"
   ]
  },
  {
   "cell_type": "markdown",
   "id": "7da6c1a9-9bca-4f51-80cf-c411082f0de6",
   "metadata": {},
   "source": [
    "# Dependent variable \n",
    "\n",
    "Now it is time to think about a dependent variable. \n",
    "\n",
    "First, I would like to try a binary variable which incorporates something with a moving averge kind of thing. \n",
    "\n",
    "Therefore: If the price is out of the Bollinger Bands, has the following candle [=some price in the range from high to low] a price that is at least 0.5% away from the value of the Bollinger Band value? "
   ]
  },
  {
   "cell_type": "code",
   "execution_count": 3,
   "id": "fe257ed9-81a0-47e4-82b9-8175f95ecab0",
   "metadata": {},
   "outputs": [
    {
     "data": {
      "image/png": "[encoded data removed]",
      "text/plain": [
       "<IPython.core.display.Image object>"
      ]
     },
     "execution_count": 3,
     "metadata": {},
     "output_type": "execute_result"
    }
   ],
   "source": [
    "from IPython.display import Image\n",
    "Image(filename=\"figs/dep_var1.png\") "
   ]
  },
  {
   "cell_type": "code",
   "execution_count": 19,
   "id": "bc9d2f22-b079-41be-b6d1-96f10199ed53",
   "metadata": {},
   "outputs": [
    {
     "name": "stdout",
     "output_type": "stream",
     "text": [
      "True\n",
      "True\n",
      "Both are true, therefore it is a goal for the model and afterwards maybe a trade worth taking, based on the model.\n"
     ]
    }
   ],
   "source": [
    "# simple example: \n",
    "\n",
    "candle_low = 25000\n",
    "bb_lower = 25100\n",
    "candle_high_plus1 = 25300\n",
    "\n",
    "print(candle_low < bb_lower)\n",
    "print(bb_lower*1.005 < candle_high_plus1)\n",
    "print(\"Both are true, therefore it is a goal for the model and afterwards maybe a trade worth taking, based on the model.\")"
   ]
  },
  {
   "cell_type": "code",
   "execution_count": 31,
   "id": "9a3a6c13-30d5-44e3-aa19-13792c50e2ff",
   "metadata": {},
   "outputs": [],
   "source": [
    "# GOAL:\n",
    "# if the price is outside of the bollinger bands: \n",
    "#    is the next candle 0.5% away from the bb value?\n",
    "\n",
    "# Create a new column \"y_bb\" initialized with False\n",
    "df[\"y_bb\"] = False\n",
    "\n",
    "# Check conditions and set values accordingly\n",
    "df.loc[(df[\"low\"] < df[\"bb_lower_band\"]) & (df[\"high_p1\"] > df[\"bb_lower_band\"]*1.005), \"y_bb\"] = True\n",
    "df.loc[(df[\"high\"] > df[\"bb_upper_band\"]) & (df[\"low_p1\"] < df[\"bb_upper_band\"]/1.005), \"y_bb\"] = True"
   ]
  },
  {
   "cell_type": "markdown",
   "id": "eb5caf66-4419-4f7a-8e70-69c1ae696f71",
   "metadata": {},
   "source": [
    "# Decision Tree & Random Forest\n",
    "Now, we have all the independent variables gathered and a binary independent variable created. "
   ]
  },
  {
   "cell_type": "code",
   "execution_count": null,
   "id": "acbf834a-f7e7-44e3-baef-0a492efb1a62",
   "metadata": {},
   "outputs": [],
   "source": []
  }
 ],
 "metadata": {
  "kernelspec": {
   "display_name": "Python 3 (ipykernel)",
   "language": "python",
   "name": "python3"
  },
  "language_info": {
   "codemirror_mode": {
    "name": "ipython",
    "version": 3
   },
   "file_extension": ".py",
   "mimetype": "text/x-python",
   "name": "python",
   "nbconvert_exporter": "python",
   "pygments_lexer": "ipython3",
   "version": "3.10.13"
  }
 },
 "nbformat": 4,
 "nbformat_minor": 5
}
