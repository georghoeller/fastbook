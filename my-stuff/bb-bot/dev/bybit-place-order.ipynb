{
 "cells": [
  {
   "cell_type": "markdown",
   "id": "bbb661fe-5dab-45d8-9d37-46808f4b96df",
   "metadata": {},
   "source": [
    "# Placing an order"
   ]
  },
  {
   "cell_type": "markdown",
   "id": "5453eb2b-3df3-4cbb-b8ea-7faaaf18bdd6",
   "metadata": {},
   "source": [
    "## Check for time consistency with server"
   ]
  },
  {
   "cell_type": "code",
   "execution_count": 4,
   "id": "7c7accc9-1062-4538-a35c-4b4d99de4cf3",
   "metadata": {},
   "outputs": [
    {
     "name": "stdout",
     "output_type": "stream",
     "text": [
      "1717410203113\n",
      "1717410201719\n",
      "True\n"
     ]
    }
   ],
   "source": [
    "# check for condition supplied in guide: \n",
    "# https://bybit-exchange.github.io/docs/v5/guide\n",
    "\n",
    "'''\n",
    "Please make sure that the timestamp parameter adheres to the following rule:\n",
    "server_time - recv_window <= timestamp < server_time + 1000\n",
    "server_time stands for Bybit server time, which can be queried via the Server Time endpoint.\n",
    "'''\n",
    "\n",
    "url = \"https://api-testnet.bybit.com/v5/market/time\"\n",
    "req = requests.request(\"GET\", url)\n",
    "res = req.json()\n",
    "print(res[\"time\"])#.result.time)\n",
    "print(int(time.time() * 1000))\n",
    "print(res[\"time\"]-5000 <= int(time.time() * 1000) and int(time.time() * 1000) < res[\"time\"])"
   ]
  },
  {
   "cell_type": "markdown",
   "id": "ae5c632b-a42f-4774-a765-83607ab21a82",
   "metadata": {},
   "source": [
    "# directly from bybit examples\n",
    "\n",
    "## important info\n",
    "It seems that there are four server spaces at bybit: mainnet, testnet, demo and demo-testnet. The Demo space seems to be the most fitting for the purpose I intend to use it, namely letting the bot run a little. See for further explanation: https://www.bybit.com/en/help-center/article/FAQ-Demo-Trading\n",
    "\n",
    "\n",
    "**other infos**\n",
    "\n",
    "get acc balance: https://bybit-exchange.github.io/docs/api-explorer/v5/account/wallet\n",
    "\n",
    "integration guide: https://bybit-exchange.github.io/docs/v5/guide\n",
    "\n",
    "demo von dem untenstehendem code: https://github.com/bybit-exchange/api-usage-examples/blob/master/V5_demo/api_demo/Encryption_HMAC.py\n",
    "\n",
    "liste von bybit errors: https://bybit-exchange.github.io/docs/v5/error"
   ]
  },
  {
   "cell_type": "code",
   "execution_count": 16,
   "id": "530bc552-b031-4e31-80d9-9bf64d16977d",
   "metadata": {},
   "outputs": [],
   "source": [
    "import requests\n",
    "import time\n",
    "import hashlib\n",
    "import hmac\n",
    "import uuid\n",
    "\n",
    "# HMAC KEY FOR TESTNET > idk NET\n",
    "#api_key = \"vgcrg9nWw7owVYEDdc\"\n",
    "#secret_key = \"YPz7eb0YzhOpa9s2yMEj3P4UdXrmSEtqRDCP\"\n",
    "\n",
    "# TESTNET\n",
    "# HMAC KEY FOR READ ONLY WALLET BALANCE\n",
    "# api_key = \"kO4Wf9sdmWk0IeFRBc\"\n",
    "# secret_key = \"ZxyPUKE893Alxq7aFdNSZUo5xYGrcp5hKgNO\"\n",
    "\n",
    "# DEMO NET\n",
    "api_key = \"GMUtVbMzRhohkOagoW\"\n",
    "secret_key = \"vexur1jjKy5AiQE0rXMhVYbjRFRy6jVxhIhf\"\n",
    "\n",
    "httpClient=requests.Session()\n",
    "recv_window=str(10000)\n",
    "# url = \"https://api-testnet.bybit.com\" # Testnet endpoint\n",
    "url = \"https://api-demo.bybit.com\" # DEMO endpoint\n",
    "\n",
    "def HTTP_Request(endPoint,method,payload,Info):\n",
    "    global time_stamp\n",
    "    time_stamp=str(int(time.time() * 10 ** 3))\n",
    "    signature=genSignature(payload)\n",
    "    headers = {\n",
    "        'X-BAPI-API-KEY': api_key,\n",
    "        'X-BAPI-SIGN': signature,\n",
    "        'X-BAPI-SIGN-TYPE': '2',\n",
    "        'X-BAPI-TIMESTAMP': time_stamp,\n",
    "        'X-BAPI-RECV-WINDOW': recv_window,\n",
    "        'Content-Type': 'application/json'\n",
    "    }\n",
    "    if(method==\"POST\"):\n",
    "        response = httpClient.request(method, url+endPoint, headers=headers, data=payload)\n",
    "    else:\n",
    "        response = httpClient.request(method, url+endPoint+\"?\"+payload, headers=headers)\n",
    "    print(response)\n",
    "    print(response.text)\n",
    "    print(Info + \" Elapsed Time : \" + str(response.elapsed))\n",
    "    return response#.json()\n",
    "\n",
    "def genSignature(payload):\n",
    "    param_str= str(time_stamp) + api_key + recv_window + payload\n",
    "    hash = hmac.new(bytes(secret_key, \"utf-8\"), param_str.encode(\"utf-8\"),hashlib.sha256)\n",
    "    signature = hash.hexdigest()\n",
    "    return signature"
   ]
  },
  {
   "cell_type": "markdown",
   "id": "dbd07e10-845a-44fb-ad17-00e08b4ee63d",
   "metadata": {},
   "source": [
    "# pybit functions"
   ]
  },
  {
   "cell_type": "code",
   "execution_count": 4,
   "id": "8103b319-4ebe-41b1-b41b-2328d3ed5c0c",
   "metadata": {},
   "outputs": [],
   "source": [
    "import time\n",
    "import hmac\n",
    "import hashlib\n",
    "from Crypto.Hash import SHA256\n",
    "from Crypto.PublicKey import RSA\n",
    "from Crypto.Signature import PKCS1_v1_5\n",
    "\n",
    "def generate_signature(use_rsa_authentication, secret, param_str):\n",
    "    def generate_hmac():\n",
    "        hash = hmac.new(\n",
    "            bytes(secret, \"utf-8\"),\n",
    "            param_str.encode(\"utf-8\"),\n",
    "            hashlib.sha256,\n",
    "        )\n",
    "        return hash.hexdigest()\n",
    "\n",
    "    def generate_rsa():\n",
    "        hash = SHA256.new(param_str.encode(\"utf-8\"))\n",
    "        encoded_signature = base64.b64encode(\n",
    "            PKCS1_v1_5.new(RSA.importKey(secret)).sign(\n",
    "                hash\n",
    "            )\n",
    "        )\n",
    "        return encoded_signature.decode()\n",
    "\n",
    "    if not use_rsa_authentication:\n",
    "        return generate_hmac()\n",
    "    else:\n",
    "        return generate_rsa()"
   ]
  },
  {
   "cell_type": "code",
   "execution_count": 7,
   "id": "4d6bef78-4980-47e4-9dfb-a39877fb35fd",
   "metadata": {},
   "outputs": [],
   "source": [
    "# pybit functions: \n",
    "\n",
    "payload = \"&\".join(\n",
    "            [\n",
    "                str(k) + \"=\" + str(v)\n",
    "                for k, v in sorted(parameters.items())\n",
    "                if v is not None\n",
    "            ]\n",
    "\n",
    "param_str = str(timestamp) + self.api_key + str(recv_window) + payload\n",
    "\n",
    "    return generate_signature(\n",
    "        self.rsa_authentication, self.api_secret, param_str\n",
    "    )\n",
    "\n",
    "\n",
    "def auth(self, payload, recv_window, timestamp):\n",
    "    \"\"\"\n",
    "    Prepares authentication signature per Bybit API specifications.\n",
    "    \"\"\"\n",
    "\n",
    "    if self.api_key is None or self.api_secret is None:\n",
    "        raise PermissionError(\"Authenticated endpoints require keys.\")\n",
    "\n",
    "    param_str = str(timestamp) + self.api_key + str(recv_window) + payload\n",
    "\n",
    "    return generate_signature(\n",
    "        self.rsa_authentication, self.api_secret, param_str\n",
    "    )\n",
    "    \n",
    "signature = auth(\n",
    "                payload=req_params,\n",
    "                recv_window=recv_window,\n",
    "                timestamp=timestamp,\n",
    "            )\n"
   ]
  },
  {
   "cell_type": "code",
   "execution_count": 17,
   "id": "b7a1bcc0-e3c7-4b50-933d-57579253670f",
   "metadata": {},
   "outputs": [
    {
     "name": "stdout",
     "output_type": "stream",
     "text": [
      "GMUtVbMzRhohkOagoW\n",
      "<Response [200]>\n",
      "{\"retCode\":0,\"retMsg\":\"OK\",\"result\":{\"list\":[{\"totalEquity\":\"172866.328628\",\"accountIMRate\":\"0\",\"totalMarginBalance\":\"99990.5\",\"totalInitialMargin\":\"0\",\"accountType\":\"UNIFIED\",\"totalAvailableBalance\":\"99990.5\",\"accountMMRate\":\"0\",\"totalPerpUPL\":\"0\",\"totalWalletBalance\":\"99990.5\",\"accountLTV\":\"0\",\"totalMaintenanceMargin\":\"0\",\"coin\":[{\"availableToBorrow\":\"\",\"bonus\":\"0\",\"accruedInterest\":\"0\",\"availableToWithdraw\":\"50000\",\"totalOrderIM\":\"0\",\"equity\":\"50000\",\"totalPositionMM\":\"0\",\"usdValue\":\"49998.7\",\"unrealisedPnl\":\"0\",\"collateralSwitch\":true,\"spotHedgingQty\":\"0\",\"borrowAmount\":\"0.000000000000000000\",\"totalPositionIM\":\"0\",\"walletBalance\":\"50000\",\"cumRealisedPnl\":\"0\",\"locked\":\"0\",\"marginCollateral\":true,\"coin\":\"USDC\"},{\"availableToBorrow\":\"\",\"bonus\":\"0\",\"accruedInterest\":\"0\",\"availableToWithdraw\":\"1\",\"totalOrderIM\":\"0\",\"equity\":\"1\",\"totalPositionMM\":\"0\",\"usdValue\":\"69105.04055\",\"unrealisedPnl\":\"0\",\"collateralSwitch\":false,\"spotHedgingQty\":\"0\",\"borrowAmount\":\"0.000000000000000000\",\"totalPositionIM\":\"0\",\"walletBalance\":\"1\",\"cumRealisedPnl\":\"0\",\"locked\":\"0\",\"marginCollateral\":true,\"coin\":\"BTC\"},{\"availableToBorrow\":\"\",\"bonus\":\"0\",\"accruedInterest\":\"0\",\"availableToWithdraw\":\"1\",\"totalOrderIM\":\"0\",\"equity\":\"1\",\"totalPositionMM\":\"0\",\"usdValue\":\"3770.788078\",\"unrealisedPnl\":\"0\",\"collateralSwitch\":false,\"spotHedgingQty\":\"0\",\"borrowAmount\":\"0.000000000000000000\",\"totalPositionIM\":\"0\",\"walletBalance\":\"1\",\"cumRealisedPnl\":\"0\",\"locked\":\"0\",\"marginCollateral\":true,\"coin\":\"ETH\"},{\"availableToBorrow\":\"\",\"bonus\":\"0\",\"accruedInterest\":\"0\",\"availableToWithdraw\":\"50000\",\"totalOrderIM\":\"0\",\"equity\":\"50000\",\"totalPositionMM\":\"0\",\"usdValue\":\"49991.8\",\"unrealisedPnl\":\"0\",\"collateralSwitch\":true,\"spotHedgingQty\":\"0\",\"borrowAmount\":\"0.000000000000000000\",\"totalPositionIM\":\"0\",\"walletBalance\":\"50000\",\"cumRealisedPnl\":\"0\",\"locked\":\"0\",\"marginCollateral\":true,\"coin\":\"USDT\"}]}]},\"retExtInfo\":{},\"time\":1717444919985}\n",
      "UNIFIED Elapsed Time : 0:00:00.713550\n"
     ]
    },
    {
     "data": {
      "text/plain": [
       "<Response [200]>"
      ]
     },
     "execution_count": 17,
     "metadata": {},
     "output_type": "execute_result"
    }
   ],
   "source": [
    "print(api_key)\n",
    "#Get Wallet Balance\n",
    "endpoint=\"/v5/account/wallet-balance\"\n",
    "method=\"GET\"\n",
    "params='accountType=UNIFIED'\n",
    "res = HTTP_Request(endpoint,method,params,\"UNIFIED\")\n",
    "res\n"
   ]
  },
  {
   "cell_type": "code",
   "execution_count": null,
   "id": "f54a4203-2dd3-47e4-86b6-16abe54bb437",
   "metadata": {},
   "outputs": [],
   "source": [
    "#Create Order\n",
    "endpoint=\"/v5/order/create\"\n",
    "method=\"POST\"\n",
    "orderLinkId=uuid.uuid4().hex\n",
    "params='{\"category\":\"linear\",\"symbol\": \"BTCUSDT\",\"side\": \"Buy\",\"positionIdx\": 0,\"orderType\": \"Limit\",\"qty\": \"0.001\",\"price\": \"60000\",\"timeInForce\": \"GTC\",\"orderLinkId\": \"' + orderLinkId + '\"}'\n",
    "HTTP_Request(endpoint,method,params,\"Create\")"
   ]
  },
  {
   "cell_type": "code",
   "execution_count": null,
   "id": "51611c06-64f0-4895-a3e8-0a763053c499",
   "metadata": {},
   "outputs": [],
   "source": [
    "'''\n",
    "#Get unfilled Orders\n",
    "endpoint=\"/v5/order/realtime\"\n",
    "method=\"GET\"\n",
    "params='category=linear&settleCoin=USDT'\n",
    "HTTP_Request(endpoint,method,params,\"UnFilled\")\n",
    "\n",
    "\n",
    "#Cancel Order\n",
    "endpoint=\"/v5/order/cancel\"\n",
    "method=\"POST\"\n",
    "params='{\"category\":\"linear\",\"symbol\": \"BTCUSDT\",\"orderLinkId\": \"'+orderLinkId+'\"}'\n",
    "HTTP_Request(endpoint,method,params,\"Cancel\")\n",
    "'''"
   ]
  },
  {
   "cell_type": "markdown",
   "id": "3b4ca15b-7980-495e-980a-ee875584c1a4",
   "metadata": {
    "jp-MarkdownHeadingCollapsed": true
   },
   "source": [
    "# first tries and other stuff"
   ]
  },
  {
   "cell_type": "code",
   "execution_count": 23,
   "id": "c5e11228-b159-4abe-a4a8-2f21dc0935f5",
   "metadata": {},
   "outputs": [
    {
     "name": "stdout",
     "output_type": "stream",
     "text": [
      "dict_items([('category', 'inverse'), ('symbol', 'BTCUSDT'), ('side', 'Buy'), ('orderType', 'Limit'), ('qty', '0.003'), ('price', 70000)])\n"
     ]
    },
    {
     "ename": "TypeError",
     "evalue": "new() takes from 1 to 3 positional arguments but 4 were given",
     "output_type": "error",
     "traceback": [
      "\u001b[0;31m---------------------------------------------------------------------------\u001b[0m",
      "\u001b[0;31mTypeError\u001b[0m                                 Traceback (most recent call last)",
      "Cell \u001b[0;32mIn[23], line 65\u001b[0m\n\u001b[1;32m     61\u001b[0m take_profit \u001b[38;5;241m=\u001b[39m \u001b[38;5;241m71000\u001b[39m\n\u001b[1;32m     62\u001b[0m stop_loss \u001b[38;5;241m=\u001b[39m \u001b[38;5;241m68000\u001b[39m\n\u001b[0;32m---> 65\u001b[0m order_response \u001b[38;5;241m=\u001b[39m \u001b[43mplace_order\u001b[49m\u001b[43m(\u001b[49m\u001b[43mapi_key\u001b[49m\u001b[43m,\u001b[49m\u001b[43m \u001b[49m\u001b[43mapi_secret\u001b[49m\u001b[43m,\u001b[49m\u001b[43m \u001b[49m\u001b[43mside\u001b[49m\u001b[43m,\u001b[49m\u001b[43m \u001b[49m\u001b[43mprice\u001b[49m\u001b[43m,\u001b[49m\u001b[43mtake_profit\u001b[49m\u001b[43m,\u001b[49m\u001b[43mstop_loss\u001b[49m\u001b[43m)\u001b[49m\n\u001b[1;32m     67\u001b[0m \u001b[38;5;28mprint\u001b[39m(order_response)\n\u001b[1;32m     68\u001b[0m \u001b[38;5;28mprint\u001b[39m(order_response\u001b[38;5;241m.\u001b[39mjson())\n",
      "Cell \u001b[0;32mIn[23], line 50\u001b[0m, in \u001b[0;36mplace_order\u001b[0;34m(api_key, api_secret, side, price, take_profit, stop_loss)\u001b[0m\n\u001b[1;32m     47\u001b[0m ts \u001b[38;5;241m=\u001b[39m \u001b[38;5;28mstr\u001b[39m(\u001b[38;5;28mint\u001b[39m(time\u001b[38;5;241m.\u001b[39mtime() \u001b[38;5;241m*\u001b[39m \u001b[38;5;241m1000\u001b[39m))\n\u001b[1;32m     49\u001b[0m \u001b[38;5;66;03m# Sign the query string\u001b[39;00m\n\u001b[0;32m---> 50\u001b[0m params[\u001b[38;5;124m'\u001b[39m\u001b[38;5;124msign\u001b[39m\u001b[38;5;124m'\u001b[39m] \u001b[38;5;241m=\u001b[39m \u001b[43msign\u001b[49m\u001b[43m(\u001b[49m\u001b[43mts\u001b[49m\u001b[43m,\u001b[49m\u001b[43m \u001b[49m\u001b[43mapi_secret\u001b[49m\u001b[43m,\u001b[49m\u001b[43mquery_string\u001b[49m\u001b[43m)\u001b[49m\n\u001b[1;32m     52\u001b[0m \u001b[38;5;66;03m# Send the request\u001b[39;00m\n\u001b[1;32m     53\u001b[0m response \u001b[38;5;241m=\u001b[39m requests\u001b[38;5;241m.\u001b[39mpost(url, data\u001b[38;5;241m=\u001b[39mparams)\n",
      "Cell \u001b[0;32mIn[23], line 16\u001b[0m, in \u001b[0;36msign\u001b[0;34m(ts, secret, payload)\u001b[0m\n\u001b[1;32m     15\u001b[0m \u001b[38;5;28;01mdef\u001b[39;00m \u001b[38;5;21msign\u001b[39m(ts, secret,payload):\n\u001b[0;32m---> 16\u001b[0m     \u001b[38;5;28;01mreturn\u001b[39;00m \u001b[43mhmac\u001b[49m\u001b[38;5;241;43m.\u001b[39;49m\u001b[43mnew\u001b[49m\u001b[43m(\u001b[49m\u001b[38;5;28;43mbytes\u001b[39;49m\u001b[43m(\u001b[49m\u001b[43mts\u001b[49m\u001b[43m,\u001b[49m\u001b[43m \u001b[49m\u001b[38;5;124;43m'\u001b[39;49m\u001b[38;5;124;43mutf-8\u001b[39;49m\u001b[38;5;124;43m'\u001b[39;49m\u001b[43m)\u001b[49m\u001b[43m,\u001b[49m\u001b[38;5;28;43mbytes\u001b[39;49m\u001b[43m(\u001b[49m\u001b[43msecret\u001b[49m\u001b[43m,\u001b[49m\u001b[43m \u001b[49m\u001b[38;5;124;43m'\u001b[39;49m\u001b[38;5;124;43mutf-8\u001b[39;49m\u001b[38;5;124;43m'\u001b[39;49m\u001b[43m)\u001b[49m\u001b[43m,\u001b[49m\u001b[43m \u001b[49m\u001b[38;5;28;43mbytes\u001b[39;49m\u001b[43m(\u001b[49m\u001b[43mpayload\u001b[49m\u001b[43m,\u001b[49m\u001b[43m \u001b[49m\u001b[38;5;124;43m'\u001b[39;49m\u001b[38;5;124;43mutf-8\u001b[39;49m\u001b[38;5;124;43m'\u001b[39;49m\u001b[43m)\u001b[49m\u001b[43m,\u001b[49m\u001b[43m \u001b[49m\u001b[43mhashlib\u001b[49m\u001b[38;5;241;43m.\u001b[39;49m\u001b[43msha256\u001b[49m\u001b[43m)\u001b[49m\u001b[38;5;241m.\u001b[39mhexdigest()\n",
      "\u001b[0;31mTypeError\u001b[0m: new() takes from 1 to 3 positional arguments but 4 were given"
     ]
    }
   ],
   "source": [
    "import time\n",
    "import hashlib\n",
    "import hmac\n",
    "import requests\n",
    "\n",
    "# Replace these with your API key and secret\n",
    "# api_key_testnet = \"yeOt7DrchkqM9r7sQy\"\n",
    "# api_secret_testnet = \"JJHVxNX2wc7di918pwjxSJemJd6j1bsAVRmO\"\n",
    "\n",
    "# hmac api keys\n",
    "api_key = \"vgcrg9nWw7owVYEDdc\"\n",
    "api_secret = \"YPz7eb0YzhOpa9s2yMEj3P4UdXrmSEtqRDCP\"\n",
    "\n",
    "\n",
    "def sign(secret,payload):\n",
    "    return hmac.new(bytes(secret, 'utf-8'), bytes(payload, 'utf-8'), hashlib.sha256).hexdigest()\n",
    "\n",
    "def place_order(api_key, api_secret, side, price,take_profit,stop_loss):\n",
    "    \n",
    "    url = 'https://api-testnet.bybit.com/v5/order/create'\n",
    "\n",
    "    params = {\n",
    "        #'timestamp': int(time.time() * 1000),\n",
    "        #'api_key': api_key,\n",
    "        #'recv_window': 5000,\n",
    "        'category' : 'inverse',\n",
    "        'symbol' : 'BTCUSDT',\n",
    "        #'isLeverage' : '0',\n",
    "        'side': side,\n",
    "        'orderType': 'Limit',\n",
    "        'qty': '0.003',\n",
    "        'price': price,\n",
    "        #'time_in_force': 'GTC',\n",
    "        #'takeProfit' : take_profit,\n",
    "        #'tpLimitPrice' : take_profit,\n",
    "        #'tpOrderType' : 'Limit',\n",
    "        #'stopLoss' : stop_loss,\n",
    "        #'slLimitPrice' : stop_loss,\n",
    "        #'slOrderType' : 'Limit',\n",
    "        #'tpslMode' : 'Partial',\n",
    "    }\n",
    "\n",
    "    # Create the query string\n",
    "    query_string = '&'.join([f\"{key}={value}\" for key, value in params.items()])\n",
    "\n",
    "    print(params.items())\n",
    "    ts = str(int(time.time() * 1000))\n",
    "    \n",
    "    # Sign the query string\n",
    "    params['sign'] = sign(ts, api_secret,query_string)\n",
    "\n",
    "    # Send the request\n",
    "    response = requests.post(url, data=params)\n",
    "    \n",
    "    return response\n",
    "\n",
    "# Example usage:\n",
    "symbol = 'BTCUSDT'\n",
    "side = 'Buy'\n",
    "price = 70000  # Limit price\n",
    "take_profit = 71000\n",
    "stop_loss = 68000\n",
    "\n",
    "\n",
    "order_response = place_order(api_key, api_secret, side, price,take_profit,stop_loss)\n",
    "\n",
    "print(order_response)\n",
    "print(order_response.json())\n"
   ]
  },
  {
   "cell_type": "code",
   "execution_count": 58,
   "id": "c2e96a98-f1ee-41da-a16c-1637ba6d7e2f",
   "metadata": {},
   "outputs": [
    {
     "name": "stdout",
     "output_type": "stream",
     "text": [
      "{\"retCode\":10003,\"retMsg\":\"API key is invalid.\",\"result\":{},\"retExtInfo\":{},\"time\":1717364367559}\n"
     ]
    }
   ],
   "source": [
    "import requests\n",
    "\n",
    "url = \"https://api-testnet.bybit.com/v5/order/create\"\n",
    "timestamp = int(time.time() * 1000)\n",
    "\n",
    "payload = \"{\\n  \\\"category\\\": \\\"linear\\\",\\n  \\\"symbol\\\": \\\"BTCUSDT\\\",\\n  \\\"side\\\": \\\"Buy\\\",\\n  \\\"orderType\\\": \\\"Limit\\\",\\n  \\\"qty\\\": \\\"0.002\\\",\\n  \\\"price\\\": \\\"70000\\\",\\n  \\\"triggerPrice\\\": null,\\n  \\\"triggerDirection\\\": null,\\n  \\\"triggerBy\\\": null,\\n  \\\"orderFilter\\\": null,\\n  \\\"orderIv\\\": null,\\n  \\\"timeInForce\\\": \\\"GTC\\\",\\n  \\\"positionIdx\\\": 0,\\n  \\\"orderLinkId\\\": \\\"test-xx1\\\",\\n  \\\"takeProfit\\\": null,\\n  \\\"stopLoss\\\": null,\\n  \\\"tpTriggerBy\\\": null,\\n  \\\"slTriggerBy\\\": null,\\n  \\\"reduceOnly\\\": false,\\n  \\\"closeOnTrigger\\\": false,\\n  \\\"smpType\\\": null,\\n  \\\"mmp\\\": null,\\n  \\\"tpslMode\\\": null,\\n  \\\"tpLimitPrice\\\": null,\\n  \\\"slLimitPrice\\\": null,\\n  \\\"tpOrderType\\\": null,\\n  \\\"slOrderType\\\": null\\n}\"\n",
    "headers = {\n",
    "    \"Content-Type\": \"application/json\",\n",
    "    'X-BAPI-API-KEY': str(api_key_testnet),\n",
    "    'X-BAPI-TIMESTAMP': str(timestamp),\n",
    "    'X-BAPI-RECV-WINDOW': '20000',\n",
    "    'X-BAPI-SIGN': '8b96a595c486b7b5ed0d7ad66f001b4d206026e761d73406080f9cae57cd9ecd'\n",
    "}\n",
    "\n",
    "  headers = {\n",
    "                    \"Content-Type\": \"application/json\",\n",
    "                    \"X-BAPI-API-KEY\": api_key,\n",
    "                    \"X-BAPI-SIGN\": signature,\n",
    "                    \"X-BAPI-SIGN-TYPE\": \"2\",\n",
    "                    \"X-BAPI-TIMESTAMP\": str(timestamp),\n",
    "                    \"X-BAPI-RECV-WINDOW\": str(recv_window),\n",
    "                }\n",
    "\n",
    "response = requests.request(\"POST\", url, headers=headers, data=payload)\n",
    "\n",
    "print(response.text)"
   ]
  }
 ],
 "metadata": {
  "kernelspec": {
   "display_name": "Python 3 (ipykernel)",
   "language": "python",
   "name": "python3"
  },
  "language_info": {
   "codemirror_mode": {
    "name": "ipython",
    "version": 3
   },
   "file_extension": ".py",
   "mimetype": "text/x-python",
   "name": "python",
   "nbconvert_exporter": "python",
   "pygments_lexer": "ipython3",
   "version": "3.10.13"
  }
 },
 "nbformat": 4,
 "nbformat_minor": 5
}
