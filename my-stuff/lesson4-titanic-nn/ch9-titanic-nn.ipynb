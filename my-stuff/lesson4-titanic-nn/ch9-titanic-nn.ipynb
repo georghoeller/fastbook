{
 "cells": [
  {
   "cell_type": "markdown",
   "id": "9b7428a6-9e86-4019-9a04-b618ad22e7ac",
   "metadata": {},
   "source": [
    "# NN from scratch with Titanic data set"
   ]
  },
  {
   "cell_type": "code",
   "execution_count": null,
   "id": "a37da5be-4985-412e-8a51-118b4efeeda1",
   "metadata": {},
   "outputs": [],
   "source": [
    "import torch, numpy as np, pandas as pd\n",
    "df = pd.read_csv(\"train.csv\")\n",
    "df.isna().sum()"
   ]
  },
  {
   "cell_type": "code",
   "execution_count": null,
   "id": "3102850d-579f-4990-95fd-c6dd6f3b06ae",
   "metadata": {},
   "outputs": [],
   "source": [
    "modes = df.mode().iloc[0]\n",
    "modes"
   ]
  },
  {
   "cell_type": "code",
   "execution_count": null,
   "id": "91f248d6-a717-4063-9a22-6c12b8cca22d",
   "metadata": {},
   "outputs": [],
   "source": [
    "df.fillna(modes, inplace=True)\n",
    "df.isna().sum()"
   ]
  },
  {
   "cell_type": "code",
   "execution_count": null,
   "id": "c59ef346-74cc-4903-96e6-5dee851f5a9b",
   "metadata": {},
   "outputs": [],
   "source": [
    "# log of fare \n",
    "df['LogFare'] = np.log(df['Fare']+1)"
   ]
  },
  {
   "cell_type": "code",
   "execution_count": null,
   "id": "23678ac8-d3a6-4c17-bf26-e91a3737456a",
   "metadata": {},
   "outputs": [],
   "source": [
    "df = pd.get_dummies(df, columns=[\"Sex\",\"Pclass\",\"Embarked\"])\n",
    "df.columns"
   ]
  },
  {
   "cell_type": "code",
   "execution_count": null,
   "id": "c77ce34b-96fa-4eb7-8ccc-c9de07f5fcff",
   "metadata": {},
   "outputs": [],
   "source": [
    "from torch import tensor\n",
    "\n",
    "# dependent variable Y is survived \n",
    "t_dep = tensor(df[\"Survived\"])\n",
    "\n",
    "# independent variably X are the rest (exclude str vars: name, ticket, cabin)\n",
    "cols = ['Age', 'SibSp', 'Parch', 'LogFare', 'Sex_female', 'Sex_male', 'Pclass_1', 'Pclass_2',\n",
    "       'Pclass_3', 'Embarked_C', 'Embarked_Q', 'Embarked_S']\n",
    "\n",
    "t_indep = tensor(df[cols].astype(float).values, dtype=torch.float)\n",
    "t_indep"
   ]
  },
  {
   "cell_type": "code",
   "execution_count": null,
   "id": "410208b4-0ebf-49b4-bf8d-d91520922511",
   "metadata": {},
   "outputs": [],
   "source": [
    "df[[\"Embarked_C\",\"Embarked_Q\"]].astype(int)\n",
    "\n",
    "df[cols].head()"
   ]
  },
  {
   "cell_type": "markdown",
   "id": "65b6f0f7-4c76-45e6-92ea-520d6b056dd2",
   "metadata": {},
   "source": [
    "## Linear Model with OLS\n",
    "\n",
    "Remember: \n",
    "$\n",
    "(X'X)^{-1} X'y\n",
    "$"
   ]
  },
  {
   "cell_type": "code",
   "execution_count": null,
   "id": "c561b3c6-a294-4aa8-a617-9e2578c73ca4",
   "metadata": {},
   "outputs": [],
   "source": [
    "ones = np.ones( (len(t_indep),1) )\n",
    "\n",
    "cols = ['Age', 'SibSp', 'Parch', 'LogFare', 'Sex_female', 'Pclass_1', 'Pclass_2', 'Embarked_C', 'Embarked_Q']\n",
    "\n",
    "t_indep_lin = tensor(df[cols].astype(float).values, dtype=torch.float)\n",
    "\n",
    "\n",
    "X = np.array(t_indep_lin)/np.array(t_indep_lin).max(axis=0) \n",
    "#X = np.vstack( (ones,X) ) #[np.ones(len(t_indep))\n",
    "X_ = np.append( ones ,X ,axis=1)\n",
    "y = np.array(t_dep)\n",
    "\n",
    "ols_coeffs = np.linalg.inv(X_.T.dot(X_)).dot(X_.T.dot(y))\n",
    "ols_coeffs = dict(zip( [\"const\"]+cols , ols_coeffs))\n",
    "ols_coeffs"
   ]
  },
  {
   "cell_type": "code",
   "execution_count": null,
   "id": "3468ff70-c70e-4277-b537-f9b6642b6f0f",
   "metadata": {},
   "outputs": [],
   "source": [
    "from sklearn import linear_model\n",
    "import statsmodels.api as sm\n",
    "\n",
    "reg = linear_model.LinearRegression()\n",
    "reg.fit(X,y)\n",
    "#LinearRegression()\n",
    "print(len(reg.coef_))\n",
    "sk_coeffs = dict(zip( cols , reg.coef_))\n",
    "sk_coeffs\n",
    "\n",
    "X2 = sm.add_constant(X)\n",
    "est = sm.OLS(y, X2)\n",
    "est2 = est.fit()\n",
    "print(est2.summary())"
   ]
  },
  {
   "cell_type": "code",
   "execution_count": null,
   "id": "a77035af-9db7-4df5-8add-63a40cad34d1",
   "metadata": {},
   "outputs": [],
   "source": [
    "#import seaborn as sbs\n",
    "#sbs.pairplot(df[cols])"
   ]
  },
  {
   "cell_type": "code",
   "execution_count": null,
   "id": "3cab50e5-3d68-475e-bd4c-0e02f4910962",
   "metadata": {},
   "outputs": [],
   "source": [
    "# normalizing the data to 0-1\n",
    "t_indep = t_indep/t_indep.max(dim=0).values\n",
    "t_indep"
   ]
  },
  {
   "cell_type": "markdown",
   "id": "ebcff9f9-05f2-4c8a-9125-05a1a309cf32",
   "metadata": {},
   "source": [
    "## Setting up the NN "
   ]
  },
  {
   "cell_type": "code",
   "execution_count": null,
   "id": "a7c2aa1f-78b9-40f7-9819-bcb4ac44c615",
   "metadata": {},
   "outputs": [],
   "source": [
    "torch.manual_seed(442)\n",
    "\n",
    "n_coeff = t_indep.shape[1]\n",
    "coeffs = torch.rand(n_coeff)-0.5\n",
    "coeffs"
   ]
  },
  {
   "cell_type": "code",
   "execution_count": null,
   "id": "8f8c979c-33b7-4a9a-ad5b-ef3f50e9eefa",
   "metadata": {},
   "outputs": [],
   "source": [
    "preds = (t_indep*coeffs).sum(axis=1)\n",
    "loss = torch.abs(preds-t_dep).mean()\n",
    "loss"
   ]
  },
  {
   "cell_type": "code",
   "execution_count": null,
   "id": "4292c47d-08b0-4f63-96dc-9fb19a45d250",
   "metadata": {},
   "outputs": [],
   "source": [
    "def calc_preds(coeffs, indeps): return (indeps*coeffs).sum(axis=1)\n",
    "def calc_loss(coeffs, indeps, deps): return torch.abs(calc_preds(coeffs, indeps)-deps).mean()"
   ]
  },
  {
   "cell_type": "code",
   "execution_count": null,
   "id": "9746d4c4-a65b-4c0a-a165-ead92101ff4e",
   "metadata": {},
   "outputs": [],
   "source": [
    "coeffs.requires_grad_()"
   ]
  },
  {
   "cell_type": "code",
   "execution_count": null,
   "id": "c62b6507-4d17-4014-af6c-a664d60ffd48",
   "metadata": {},
   "outputs": [],
   "source": [
    "loss = calc_loss(coeffs, t_indep, t_dep)\n",
    "loss"
   ]
  },
  {
   "cell_type": "code",
   "execution_count": null,
   "id": "b7a5e01d-8e66-4e8b-984d-13174d049321",
   "metadata": {},
   "outputs": [],
   "source": [
    "loss = calc_loss(coeffs, t_indep, t_dep)\n",
    "loss.backward()\n",
    "with torch.no_grad():\n",
    "    coeffs.sub_(coeffs.grad * 0.1)\n",
    "    coeffs.grad.zero_()\n",
    "    print(calc_loss(coeffs, t_indep, t_dep))"
   ]
  },
  {
   "cell_type": "markdown",
   "id": "894ff51e-6abb-4827-80ad-6bdeb2629ca3",
   "metadata": {},
   "source": [
    "## training the model"
   ]
  },
  {
   "cell_type": "code",
   "execution_count": null,
   "id": "3612dc93-89d1-4b31-9c10-4c047f8f4a21",
   "metadata": {},
   "outputs": [],
   "source": [
    "from fastai.data.transforms import RandomSplitter\n",
    "trn_split,val_split=RandomSplitter(seed=42)(df)\n",
    "\n",
    "trn_indep,val_indep = t_indep[trn_split],t_indep[val_split]\n",
    "trn_dep,val_dep = t_dep[trn_split],t_dep[val_split]\n",
    "len(trn_indep),len(val_indep)"
   ]
  },
  {
   "cell_type": "code",
   "execution_count": null,
   "id": "d842e8a0-c37f-4ee6-9b3a-a22b4aadd85b",
   "metadata": {},
   "outputs": [],
   "source": [
    "def update_coeffs(coeffs, lr):\n",
    "    coeffs.sub_(coeffs.grad * lr)\n",
    "    coeffs.grad.zero_()"
   ]
  },
  {
   "cell_type": "code",
   "execution_count": null,
   "id": "23f3e17a-40af-4d3f-90ce-6bc03cd5a0a2",
   "metadata": {},
   "outputs": [],
   "source": [
    "def one_epoch(coeffs, lr):\n",
    "    loss = calc_loss(coeffs, trn_indep, trn_dep)\n",
    "    loss.backward()\n",
    "    with torch.no_grad(): update_coeffs(coeffs, lr)\n",
    "    print(f\"{loss:.3f}\", end=\"; \")"
   ]
  },
  {
   "cell_type": "code",
   "execution_count": null,
   "id": "1cb6396a-301c-48ff-9cad-694db34f6e10",
   "metadata": {},
   "outputs": [],
   "source": [
    "def init_coeffs(): return (torch.rand(n_coeff)-0.5).requires_grad_()"
   ]
  },
  {
   "cell_type": "code",
   "execution_count": null,
   "id": "13d1ff6a-973a-4598-9a1f-495749fc03c7",
   "metadata": {},
   "outputs": [],
   "source": [
    "def train_model(epochs=30, lr=0.01):\n",
    "    torch.manual_seed(442)\n",
    "    coeffs = init_coeffs()\n",
    "    for i in range(epochs): one_epoch(coeffs, lr=lr)\n",
    "    return coeffs"
   ]
  },
  {
   "cell_type": "code",
   "execution_count": null,
   "id": "0ed011ad-78fc-442d-9b11-8aac7901173a",
   "metadata": {},
   "outputs": [],
   "source": [
    "coeffs = train_model(18, lr=0.2)"
   ]
  },
  {
   "cell_type": "code",
   "execution_count": null,
   "id": "90949c6d-c219-4891-aeeb-27ef688e0d85",
   "metadata": {},
   "outputs": [],
   "source": [
    "def show_coeffs(): return dict(zip(cols, coeffs.requires_grad_(False)))\n",
    "show_coeffs()"
   ]
  },
  {
   "cell_type": "code",
   "execution_count": null,
   "id": "371e10b9-1c09-4b5c-b9dd-5c1a7a45fe33",
   "metadata": {},
   "outputs": [],
   "source": [
    "sk_coeffs"
   ]
  },
  {
   "cell_type": "code",
   "execution_count": null,
   "id": "ceefb37c-7e6f-4d80-8f0f-435a3d516d6e",
   "metadata": {},
   "outputs": [],
   "source": []
  }
 ],
 "metadata": {
  "kernelspec": {
   "display_name": "Python 3 (ipykernel)",
   "language": "python",
   "name": "python3"
  },
  "language_info": {
   "codemirror_mode": {
    "name": "ipython",
    "version": 3
   },
   "file_extension": ".py",
   "mimetype": "text/x-python",
   "name": "python",
   "nbconvert_exporter": "python",
   "pygments_lexer": "ipython3",
   "version": "3.10.13"
  }
 },
 "nbformat": 4,
 "nbformat_minor": 5
}
