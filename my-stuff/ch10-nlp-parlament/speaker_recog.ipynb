{
 "cells": [
  {
   "cell_type": "markdown",
   "id": "ec32e439-a16d-4c88-a816-3fae5dd0c399",
   "metadata": {},
   "source": [
    "# Parlament Speaker Recogniction Model\n",
    "This notebook should predict what speaker said certain things based on the Austrian parlament speaches. \n",
    "\n",
    "This small project is based on the Dataset assembled by Mario Zechner (https://marioslab.io/)"
   ]
  },
  {
   "cell_type": "code",
   "execution_count": 5,
   "id": "10e76751-2472-4fa6-add4-6dcc5fe3a78f",
   "metadata": {},
   "outputs": [
    {
     "name": "stdout",
     "output_type": "stream",
     "text": [
      "(681, 6)\n"
     ]
    },
    {
     "data": {
      "text/html": [
       "<div>\n",
       "<style scoped>\n",
       "    .dataframe tbody tr th:only-of-type {\n",
       "        vertical-align: middle;\n",
       "    }\n",
       "\n",
       "    .dataframe tbody tr th {\n",
       "        vertical-align: top;\n",
       "    }\n",
       "\n",
       "    .dataframe thead th {\n",
       "        text-align: right;\n",
       "    }\n",
       "</style>\n",
       "<table border=\"1\" class=\"dataframe\">\n",
       "  <thead>\n",
       "    <tr style=\"text-align: right;\">\n",
       "      <th></th>\n",
       "      <th>id</th>\n",
       "      <th>name</th>\n",
       "      <th>parties</th>\n",
       "      <th>periods</th>\n",
       "      <th>url</th>\n",
       "      <th>imageUrl</th>\n",
       "    </tr>\n",
       "  </thead>\n",
       "  <tbody>\n",
       "    <tr>\n",
       "      <th>0</th>\n",
       "      <td>3612</td>\n",
       "      <td>Sonja Ablinger</td>\n",
       "      <td>[SPÖ]</td>\n",
       "      <td>[XX, XXIII, XXIV]</td>\n",
       "      <td>https://parlament.gv.at/person/3612</td>\n",
       "      <td>https://parlament.gv.at/dokument/bild/34898/34...</td>\n",
       "    </tr>\n",
       "    <tr>\n",
       "      <th>1</th>\n",
       "      <td>14854</td>\n",
       "      <td>Dipl.-Ing. Elke Achleitner</td>\n",
       "      <td>[BZÖ, FPÖ]</td>\n",
       "      <td>[XXII]</td>\n",
       "      <td>https://parlament.gv.at/person/14854</td>\n",
       "      <td>https://parlament.gv.at/dokument/bild/21013/21...</td>\n",
       "    </tr>\n",
       "    <tr>\n",
       "      <th>2</th>\n",
       "      <td>83119</td>\n",
       "      <td>Mag. Nikolaus Alm</td>\n",
       "      <td>[LIF, NEOS]</td>\n",
       "      <td>[XXV]</td>\n",
       "      <td>https://parlament.gv.at/person/83119</td>\n",
       "      <td>https://parlament.gv.at/dokument/bild/43808/43...</td>\n",
       "    </tr>\n",
       "    <tr>\n",
       "      <th>3</th>\n",
       "      <td>51879</td>\n",
       "      <td>Mag. Hannes Amesbauer, BA</td>\n",
       "      <td>[FPÖ]</td>\n",
       "      <td>[XXVI, XXVII]</td>\n",
       "      <td>https://parlament.gv.at/person/51879</td>\n",
       "      <td>https://parlament.gv.at/dokument/bild/200696/2...</td>\n",
       "    </tr>\n",
       "    <tr>\n",
       "      <th>4</th>\n",
       "      <td>2819</td>\n",
       "      <td>Werner Amon, MBA</td>\n",
       "      <td>[ÖVP]</td>\n",
       "      <td>[XIX, XX, XXI, XXII, XXIII, XXIV, XXV, XXVI]</td>\n",
       "      <td>https://parlament.gv.at/person/2819</td>\n",
       "      <td>https://parlament.gv.at/dokument/bild/90356/90...</td>\n",
       "    </tr>\n",
       "  </tbody>\n",
       "</table>\n",
       "</div>"
      ],
      "text/plain": [
       "      id                        name      parties  \\\n",
       "0   3612              Sonja Ablinger        [SPÖ]   \n",
       "1  14854  Dipl.-Ing. Elke Achleitner   [BZÖ, FPÖ]   \n",
       "2  83119           Mag. Nikolaus Alm  [LIF, NEOS]   \n",
       "3  51879   Mag. Hannes Amesbauer, BA        [FPÖ]   \n",
       "4   2819            Werner Amon, MBA        [ÖVP]   \n",
       "\n",
       "                                        periods  \\\n",
       "0                             [XX, XXIII, XXIV]   \n",
       "1                                        [XXII]   \n",
       "2                                         [XXV]   \n",
       "3                                 [XXVI, XXVII]   \n",
       "4  [XIX, XX, XXI, XXII, XXIII, XXIV, XXV, XXVI]   \n",
       "\n",
       "                                    url  \\\n",
       "0   https://parlament.gv.at/person/3612   \n",
       "1  https://parlament.gv.at/person/14854   \n",
       "2  https://parlament.gv.at/person/83119   \n",
       "3  https://parlament.gv.at/person/51879   \n",
       "4   https://parlament.gv.at/person/2819   \n",
       "\n",
       "                                            imageUrl  \n",
       "0  https://parlament.gv.at/dokument/bild/34898/34...  \n",
       "1  https://parlament.gv.at/dokument/bild/21013/21...  \n",
       "2  https://parlament.gv.at/dokument/bild/43808/43...  \n",
       "3  https://parlament.gv.at/dokument/bild/200696/2...  \n",
       "4  https://parlament.gv.at/dokument/bild/90356/90...  "
      ]
     },
     "execution_count": 5,
     "metadata": {},
     "output_type": "execute_result"
    }
   ],
   "source": [
    "# DATA FROM SPEAKER\n",
    "import pandas as pd\n",
    "\n",
    "# Either use direct download or load locally https://woswormeileistung.marioslab.io/data/persons.json\n",
    "#speaker = pd.read_json(\"https://woswormeileistung.marioslab.io/data/persons.json\")\n",
    "speaker = pd.read_json(\"persons.json\")\n",
    "print(speaker.shape)\n",
    "speaker.head()"
   ]
  },
  {
   "cell_type": "markdown",
   "id": "1fc8ee87-9c5f-4872-9b10-eebbbcd68159",
   "metadata": {},
   "source": [
    "As one can see there are about 681 Speakers from the austrian parlament, starting from 2002"
   ]
  },
  {
   "cell_type": "code",
   "execution_count": null,
   "id": "91469d18-e012-4370-be7a-e0b2c4660c7f",
   "metadata": {},
   "outputs": [],
   "source": [
    "# DATA FROM SESSIONS \n",
    "# BE AWARA: sessions data has 440 mb, so it is only imported locally \n",
    "# https://woswormeileistung.marioslab.io/data/sessions.json\n",
    "\n",
    "sessions = pd.read_json(\"sessions.json\")\n",
    "\n",
    "print(df.shape)\n",
    "df.head()"
   ]
  }
 ],
 "metadata": {
  "kernelspec": {
   "display_name": "Python 3 (ipykernel)",
   "language": "python",
   "name": "python3"
  },
  "language_info": {
   "codemirror_mode": {
    "name": "ipython",
    "version": 3
   },
   "file_extension": ".py",
   "mimetype": "text/x-python",
   "name": "python",
   "nbconvert_exporter": "python",
   "pygments_lexer": "ipython3",
   "version": "3.10.13"
  }
 },
 "nbformat": 4,
 "nbformat_minor": 5
}
