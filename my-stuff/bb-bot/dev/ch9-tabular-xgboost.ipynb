{
 "cells": [
  {
   "cell_type": "markdown",
   "id": "d116ef5b-1473-4a14-b140-173ed165b6ac",
   "metadata": {},
   "source": [
    "# xgboost and Tabular data\n",
    "## update tabular-trees notebook with xgboost and data preperation\n",
    "\n",
    "\n",
    "See: \n",
    "https://scikit-learn.org/stable/modules/generated/sklearn.ensemble.GradientBoostingClassifier.html#sklearn.ensemble.GradientBoostingClassifier\n",
    "\n",
    "This is done with a 15m data set. \n",
    "\n",
    "Another approaches are: \n",
    "- 1 minute data set (2 std and 0.1% profit)\n",
    "- more months\n",
    "- do some descriptive data on MA length and when prices are out of BB range\n",
    "- extending the dependent variable to more periods, so that the X% rise or fall occurs in the next e.g. 2-5 candles and not in the next candle "
   ]
  },
  {
   "cell_type": "code",
   "execution_count": 1,
   "id": "c4041461-3ec9-4af8-a4e5-5ac6b0ed62e8",
   "metadata": {},
   "outputs": [
    {
     "name": "stdout",
     "output_type": "stream",
     "text": [
      "(11716, 6)\n"
     ]
    },
    {
     "data": {
      "text/html": [
       "<div>\n",
       "<style scoped>\n",
       "    .dataframe tbody tr th:only-of-type {\n",
       "        vertical-align: middle;\n",
       "    }\n",
       "\n",
       "    .dataframe tbody tr th {\n",
       "        vertical-align: top;\n",
       "    }\n",
       "\n",
       "    .dataframe thead th {\n",
       "        text-align: right;\n",
       "    }\n",
       "</style>\n",
       "<table border=\"1\" class=\"dataframe\">\n",
       "  <thead>\n",
       "    <tr style=\"text-align: right;\">\n",
       "      <th></th>\n",
       "      <th>time</th>\n",
       "      <th>open</th>\n",
       "      <th>high</th>\n",
       "      <th>low</th>\n",
       "      <th>close</th>\n",
       "      <th>vol</th>\n",
       "    </tr>\n",
       "  </thead>\n",
       "  <tbody>\n",
       "    <tr>\n",
       "      <th>0</th>\n",
       "      <td>2023.06.01 00:00</td>\n",
       "      <td>27103.1</td>\n",
       "      <td>27108.1</td>\n",
       "      <td>27080.6</td>\n",
       "      <td>27096.9</td>\n",
       "      <td>386.675</td>\n",
       "    </tr>\n",
       "    <tr>\n",
       "      <th>1</th>\n",
       "      <td>2023.06.01 00:15</td>\n",
       "      <td>27096.9</td>\n",
       "      <td>27096.9</td>\n",
       "      <td>27036.7</td>\n",
       "      <td>27047.0</td>\n",
       "      <td>408.680</td>\n",
       "    </tr>\n",
       "    <tr>\n",
       "      <th>2</th>\n",
       "      <td>2023.06.01 00:30</td>\n",
       "      <td>27047.0</td>\n",
       "      <td>27077.4</td>\n",
       "      <td>27041.0</td>\n",
       "      <td>27054.9</td>\n",
       "      <td>275.080</td>\n",
       "    </tr>\n",
       "  </tbody>\n",
       "</table>\n",
       "</div>"
      ],
      "text/plain": [
       "               time     open     high      low    close      vol\n",
       "0  2023.06.01 00:00  27103.1  27108.1  27080.6  27096.9  386.675\n",
       "1  2023.06.01 00:15  27096.9  27096.9  27036.7  27047.0  408.680\n",
       "2  2023.06.01 00:30  27047.0  27077.4  27041.0  27054.9  275.080"
      ]
     },
     "execution_count": 1,
     "metadata": {},
     "output_type": "execute_result"
    }
   ],
   "source": [
    "# import data from septembre of 2022 since it was rather stable during this period\n",
    "import pandas as pd\n",
    "import numpy as np\n",
    "import os\n",
    "iskaggle = os.environ.get('KAGGLE_KERNEL_RUN_TYPE', '')\n",
    "\n",
    "if iskaggle:\n",
    "    df = pd.read_csv(\"/kaggle/input/btcusdt-2023-6-9/btcusdt-2023-6_9.csv\", index_col=0).reset_index(drop=True)\n",
    "else:\n",
    "    df = pd.read_csv(\"btc-data/btcusdt-2023-6_9.csv\", index_col=0).reset_index(drop=True)\n",
    "\n",
    "print(df.shape)\n",
    "df.head(3)"
   ]
  },
  {
   "cell_type": "code",
   "execution_count": 46,
   "id": "dd1eab83-8e49-4276-a8c3-83c631232be5",
   "metadata": {},
   "outputs": [
    {
     "data": {
      "text/plain": [
       "27103.1"
      ]
     },
     "execution_count": 46,
     "metadata": {},
     "output_type": "execute_result"
    }
   ],
   "source": [
    "df[\"open\"][0]"
   ]
  },
  {
   "cell_type": "code",
   "execution_count": 2,
   "id": "9b4b94d4-e167-4e8f-b505-ee3d3e386c5d",
   "metadata": {},
   "outputs": [
    {
     "name": "stdout",
     "output_type": "stream",
     "text": [
      "10476707.786249999\n"
     ]
    },
    {
     "data": {
      "text/plain": [
       "200075.70050442"
      ]
     },
     "execution_count": 2,
     "metadata": {},
     "output_type": "execute_result"
    }
   ],
   "source": [
    "# show that one can calculate the vol and vol_coin numbers from the API call 1\n",
    "print(386.675*((27108.1+27080.6)/2))\n",
    "\n",
    "# take average of high and low and then multiply by vol_coin (which is available)\n",
    "#  vol        vol_coin\n",
    "#, '200082', '2.81566749'\n",
    "2.81566749*((71063+71053)/2) "
   ]
  },
  {
   "cell_type": "code",
   "execution_count": 3,
   "id": "bee7f120-1be6-4f00-9c47-18fc04c1cef6",
   "metadata": {},
   "outputs": [
    {
     "data": {
      "text/plain": [
       "Index(['time', 'open', 'high', 'low', 'close', 'vol'], dtype='object')"
      ]
     },
     "execution_count": 3,
     "metadata": {},
     "output_type": "execute_result"
    }
   ],
   "source": [
    "df.columns"
   ]
  },
  {
   "cell_type": "code",
   "execution_count": 4,
   "id": "759fde58-14d8-47d0-ab5d-e609962f2d54",
   "metadata": {},
   "outputs": [
    {
     "data": {
      "text/plain": [
       "11716"
      ]
     },
     "execution_count": 4,
     "metadata": {},
     "output_type": "execute_result"
    }
   ],
   "source": [
    "len(df.high)"
   ]
  },
  {
   "cell_type": "code",
   "execution_count": 5,
   "id": "fe0e1a3f-fb2d-4539-a4a3-115a5342f985",
   "metadata": {},
   "outputs": [
    {
     "data": {
      "text/plain": [
       "11713"
      ]
     },
     "execution_count": 5,
     "metadata": {},
     "output_type": "execute_result"
    }
   ],
   "source": [
    "df_ = pd.read_csv(\"btc-data/btcusdt-2023-6_9.csv\", index_col=0).reset_index(drop=True)\n",
    "df_.drop_duplicates(subset = [\"time\"],inplace = True)\n",
    "len(df_)"
   ]
  },
  {
   "cell_type": "code",
   "execution_count": 6,
   "id": "1f0dde2e-a841-469c-b689-ba1ec35c4836",
   "metadata": {},
   "outputs": [
    {
     "data": {
      "text/html": [
       "<div>\n",
       "<style scoped>\n",
       "    .dataframe tbody tr th:only-of-type {\n",
       "        vertical-align: middle;\n",
       "    }\n",
       "\n",
       "    .dataframe tbody tr th {\n",
       "        vertical-align: top;\n",
       "    }\n",
       "\n",
       "    .dataframe thead th {\n",
       "        text-align: right;\n",
       "    }\n",
       "</style>\n",
       "<table border=\"1\" class=\"dataframe\">\n",
       "  <thead>\n",
       "    <tr style=\"text-align: right;\">\n",
       "      <th></th>\n",
       "      <th>time</th>\n",
       "      <th>open</th>\n",
       "      <th>high</th>\n",
       "      <th>low</th>\n",
       "      <th>close</th>\n",
       "      <th>vol</th>\n",
       "      <th>open_1</th>\n",
       "    </tr>\n",
       "  </thead>\n",
       "  <tbody>\n",
       "    <tr>\n",
       "      <th>0</th>\n",
       "      <td>2023.06.01 00:00</td>\n",
       "      <td>27103.1</td>\n",
       "      <td>27108.1</td>\n",
       "      <td>27080.6</td>\n",
       "      <td>27096.9</td>\n",
       "      <td>386.675</td>\n",
       "      <td>NaN</td>\n",
       "    </tr>\n",
       "    <tr>\n",
       "      <th>1</th>\n",
       "      <td>2023.06.01 00:15</td>\n",
       "      <td>27096.9</td>\n",
       "      <td>27096.9</td>\n",
       "      <td>27036.7</td>\n",
       "      <td>27047.0</td>\n",
       "      <td>408.680</td>\n",
       "      <td>27103.1</td>\n",
       "    </tr>\n",
       "    <tr>\n",
       "      <th>2</th>\n",
       "      <td>2023.06.01 00:30</td>\n",
       "      <td>27047.0</td>\n",
       "      <td>27077.4</td>\n",
       "      <td>27041.0</td>\n",
       "      <td>27054.9</td>\n",
       "      <td>275.080</td>\n",
       "      <td>27096.9</td>\n",
       "    </tr>\n",
       "    <tr>\n",
       "      <th>3</th>\n",
       "      <td>2023.06.01 00:45</td>\n",
       "      <td>27054.9</td>\n",
       "      <td>27084.0</td>\n",
       "      <td>27054.8</td>\n",
       "      <td>27084.0</td>\n",
       "      <td>218.143</td>\n",
       "      <td>27047.0</td>\n",
       "    </tr>\n",
       "    <tr>\n",
       "      <th>4</th>\n",
       "      <td>2023.06.01 01:00</td>\n",
       "      <td>27084.0</td>\n",
       "      <td>27113.9</td>\n",
       "      <td>27073.5</td>\n",
       "      <td>27100.0</td>\n",
       "      <td>329.412</td>\n",
       "      <td>27054.9</td>\n",
       "    </tr>\n",
       "  </tbody>\n",
       "</table>\n",
       "</div>"
      ],
      "text/plain": [
       "               time     open     high      low    close      vol   open_1\n",
       "0  2023.06.01 00:00  27103.1  27108.1  27080.6  27096.9  386.675      NaN\n",
       "1  2023.06.01 00:15  27096.9  27096.9  27036.7  27047.0  408.680  27103.1\n",
       "2  2023.06.01 00:30  27047.0  27077.4  27041.0  27054.9  275.080  27096.9\n",
       "3  2023.06.01 00:45  27054.9  27084.0  27054.8  27084.0  218.143  27047.0\n",
       "4  2023.06.01 01:00  27084.0  27113.9  27073.5  27100.0  329.412  27054.9"
      ]
     },
     "execution_count": 6,
     "metadata": {},
     "output_type": "execute_result"
    }
   ],
   "source": [
    "df_\n",
    "df_[\"open_1\"] = df_[\"open\"].shift(1)\n",
    "df_.head(5)"
   ]
  },
  {
   "cell_type": "code",
   "execution_count": 7,
   "id": "a6a76231-58be-4667-957d-1e5e681007e0",
   "metadata": {},
   "outputs": [
    {
     "name": "stdout",
     "output_type": "stream",
     "text": [
      "11713\n"
     ]
    }
   ],
   "source": [
    "# remove duplicates (every 1st entry of new data set was the same as last =3 duplicates)\n",
    "df.drop_duplicates(subset = [\"time\"],inplace = True)\n",
    "print(len(df))\n",
    "\n",
    "# clear column names of whitespaces etc. for renaming purposes\n",
    "df.columns = df.columns.str.strip()\n",
    "\n",
    "# rename vol to vol_coin bc of API call consistency data mapping (vol is in paper currency)\n",
    "df.rename(columns={\"vol\": \"vol_coin\"},inplace=True)\n",
    "\n",
    "\n",
    "# idx = 0\n",
    "# new_col = [7, 8, 9]  # can be a list, a Series, an array or a scalar   \n",
    "# df.insert(loc=idx, column='A', value=new_col)\n",
    "\n",
    "# add vol of coin in dollar currency\n",
    "vol = df.vol_coin * ((df.high+df.low)/2)\n",
    "\n",
    "df.insert(loc = 5, column = \"vol\",  value=vol)\n"
   ]
  },
  {
   "cell_type": "code",
   "execution_count": 8,
   "id": "443cce8b-3930-48c8-a294-60fca4772e06",
   "metadata": {},
   "outputs": [
    {
     "data": {
      "text/html": [
       "<div>\n",
       "<style scoped>\n",
       "    .dataframe tbody tr th:only-of-type {\n",
       "        vertical-align: middle;\n",
       "    }\n",
       "\n",
       "    .dataframe tbody tr th {\n",
       "        vertical-align: top;\n",
       "    }\n",
       "\n",
       "    .dataframe thead th {\n",
       "        text-align: right;\n",
       "    }\n",
       "</style>\n",
       "<table border=\"1\" class=\"dataframe\">\n",
       "  <thead>\n",
       "    <tr style=\"text-align: right;\">\n",
       "      <th></th>\n",
       "      <th>time</th>\n",
       "      <th>open</th>\n",
       "      <th>high</th>\n",
       "      <th>low</th>\n",
       "      <th>close</th>\n",
       "      <th>vol</th>\n",
       "      <th>vol_coin</th>\n",
       "    </tr>\n",
       "  </thead>\n",
       "  <tbody>\n",
       "    <tr>\n",
       "      <th>0</th>\n",
       "      <td>2023.06.01 00:00</td>\n",
       "      <td>27103.1</td>\n",
       "      <td>27108.1</td>\n",
       "      <td>27080.6</td>\n",
       "      <td>27096.9</td>\n",
       "      <td>1.047671e+07</td>\n",
       "      <td>386.675</td>\n",
       "    </tr>\n",
       "  </tbody>\n",
       "</table>\n",
       "</div>"
      ],
      "text/plain": [
       "               time     open     high      low    close           vol  \\\n",
       "0  2023.06.01 00:00  27103.1  27108.1  27080.6  27096.9  1.047671e+07   \n",
       "\n",
       "   vol_coin  \n",
       "0   386.675  "
      ]
     },
     "execution_count": 8,
     "metadata": {},
     "output_type": "execute_result"
    }
   ],
   "source": [
    "df.head(1) # now the mapping is in line with the API call structure "
   ]
  },
  {
   "cell_type": "code",
   "execution_count": 9,
   "id": "c3a39584-dc53-41f3-9f8c-9614701cee4c",
   "metadata": {},
   "outputs": [
    {
     "data": {
      "text/html": [
       "<div>\n",
       "<style scoped>\n",
       "    .dataframe tbody tr th:only-of-type {\n",
       "        vertical-align: middle;\n",
       "    }\n",
       "\n",
       "    .dataframe tbody tr th {\n",
       "        vertical-align: top;\n",
       "    }\n",
       "\n",
       "    .dataframe thead th {\n",
       "        text-align: right;\n",
       "    }\n",
       "</style>\n",
       "<table border=\"1\" class=\"dataframe\">\n",
       "  <thead>\n",
       "    <tr style=\"text-align: right;\">\n",
       "      <th></th>\n",
       "      <th>time</th>\n",
       "      <th>open</th>\n",
       "      <th>high</th>\n",
       "      <th>low</th>\n",
       "      <th>close</th>\n",
       "      <th>vol</th>\n",
       "      <th>vol_coin</th>\n",
       "      <th>day</th>\n",
       "      <th>hour</th>\n",
       "    </tr>\n",
       "  </thead>\n",
       "  <tbody>\n",
       "    <tr>\n",
       "      <th>0</th>\n",
       "      <td>2023-06-01</td>\n",
       "      <td>27103.1</td>\n",
       "      <td>27108.1</td>\n",
       "      <td>27080.6</td>\n",
       "      <td>27096.9</td>\n",
       "      <td>1.047671e+07</td>\n",
       "      <td>386.675</td>\n",
       "      <td>1</td>\n",
       "      <td>0</td>\n",
       "    </tr>\n",
       "  </tbody>\n",
       "</table>\n",
       "</div>"
      ],
      "text/plain": [
       "        time     open     high      low    close           vol  vol_coin  day  \\\n",
       "0 2023-06-01  27103.1  27108.1  27080.6  27096.9  1.047671e+07   386.675    1   \n",
       "\n",
       "   hour  \n",
       "0     0  "
      ]
     },
     "execution_count": 9,
     "metadata": {},
     "output_type": "execute_result"
    }
   ],
   "source": [
    "# transform to date_time\n",
    "df[\"time\"] = pd.to_datetime(df[\"time\"])\n",
    "\n",
    "# Extracting day and hour\n",
    "df[\"day\"] = df[\"time\"].dt.day\n",
    "df[\"hour\"] = df[\"time\"].dt.hour\n",
    "\n",
    "df.head(1)"
   ]
  },
  {
   "cell_type": "code",
   "execution_count": 10,
   "id": "f5b37a56-6e4f-4382-88ec-7c5f25a3674a",
   "metadata": {},
   "outputs": [],
   "source": [
    "# the 10-day moving average\n",
    "df[\"10MA\"] = df[\"close\"].rolling(window=10).mean()\n",
    "\n",
    "# Calculate the standard deviation of the closing prices over the same 20-day period\n",
    "df[\"10STD\"] = df[\"close\"].rolling(window=10).std()\n",
    "\n",
    "# volume weighted close price\n",
    "df[\"vwap\"] = df.close/df.vol\n",
    "\n",
    "# Bollinger Band: \n",
    "# simple_moving_average(20) + std x 2 | sma - std x 2\n",
    "df[\"bb_upper_band\"] = df[\"10MA\"] + 2 * df[\"10STD\"]\n",
    "df[\"bb_lower_band\"] = df[\"10MA\"] - 2 * df[\"10STD\"]\n",
    "\n",
    "# daily_open\n",
    "# df[\"daily_open\"] = df.groupby(df[\"day\"])[\"open\"].transform(\"first\")\n",
    "\n",
    "# daily_close\n",
    "# df[\"daily_close\"] = df.groupby(df[\"day\"])[\"close\"].transform(\"first\")\n",
    "\n",
    "\n",
    "# Calculate On-Balance Volume (OBV)\n",
    "df[\"change\"] = df[\"close\"].diff(periods=-1)\n",
    "df[\"direction\"] = df[\"change\"].apply(lambda x: 1 if x > 0 else (-1 if x < 0 else 0))\n",
    "df[\"obv\"] = df[\"vol\"] * df[\"direction\"]\n",
    "df[\"obv\"] = df[\"obv\"].cumsum()"
   ]
  },
  {
   "cell_type": "code",
   "execution_count": 11,
   "id": "d6c9acd3-e3bd-448a-ae25-456cb8506347",
   "metadata": {},
   "outputs": [
    {
     "data": {
      "text/plain": [
       "Index(['time', 'day', 'hour', '10MA', '10STD', 'bb_upper_band',\n",
       "       'bb_lower_band', 'open_-3', 'high_-3', 'low_-3',\n",
       "       ...\n",
       "       'open_8', 'high_8', 'low_8', 'close_8', 'vol_8', 'vol_coin_8', 'vwap_8',\n",
       "       'obv_8', 'change_8', 'direction_8'],\n",
       "      dtype='object', length=127)"
      ]
     },
     "execution_count": 11,
     "metadata": {},
     "output_type": "execute_result"
    }
   ],
   "source": [
    "cols = [\"open\",\"high\",\"low\",\"close\",\"vol\",\"vol_coin\",\"vwap\",\"obv\",\"change\",\"direction\"]\n",
    "\n",
    "shifted_columns = {}\n",
    "\n",
    "for i in range(12):\n",
    "    for col in cols: \n",
    "        shifted_columns[col+\"_\"+str(i-3)] = df[col].shift(i)\n",
    "\n",
    "\n",
    "# Concatenate the original DataFrame with the new shifted columns DataFrame\n",
    "final_cols = ['time', 'day', 'hour', '10MA', '10STD', 'bb_upper_band','bb_lower_band']\n",
    "shifted_df = pd.concat([df[final_cols], pd.DataFrame(shifted_columns)], axis=1)\n",
    "shifted_df.columns"
   ]
  },
  {
   "cell_type": "code",
   "execution_count": 12,
   "id": "5e36d855-2790-41da-9eeb-ee888c17f67d",
   "metadata": {},
   "outputs": [
    {
     "name": "stdout",
     "output_type": "stream",
     "text": [
      "127\n"
     ]
    }
   ],
   "source": [
    "print(len(shifted_df.columns))"
   ]
  },
  {
   "cell_type": "code",
   "execution_count": 13,
   "id": "22fd0f2e-f260-4d97-80a9-bf61ef79a366",
   "metadata": {},
   "outputs": [
    {
     "data": {
      "text/plain": [
       "Index(['time', 'day', 'hour', '10MA', '10STD', 'bb_upper_band',\n",
       "       'bb_lower_band', 'open_-3', 'high_-3', 'low_-3', 'close_-3', 'vol_-3',\n",
       "       'vol_coin_-3', 'vwap_-3', 'obv_-3', 'change_-3', 'direction_-3',\n",
       "       'open_-2', 'high_-2', 'low_-2', 'close_-2', 'vol_-2', 'vol_coin_-2',\n",
       "       'vwap_-2', 'obv_-2', 'change_-2', 'direction_-2', 'open_-1', 'high_-1',\n",
       "       'low_-1', 'close_-1', 'vol_-1', 'vol_coin_-1', 'vwap_-1', 'obv_-1',\n",
       "       'change_-1', 'direction_-1', 'open_0', 'high_0', 'low_0'],\n",
       "      dtype='object')"
      ]
     },
     "execution_count": 13,
     "metadata": {},
     "output_type": "execute_result"
    }
   ],
   "source": [
    "shifted_df.columns[:40]"
   ]
  },
  {
   "cell_type": "code",
   "execution_count": 14,
   "id": "00c81f3f-b982-452c-b046-8065bdfbfa55",
   "metadata": {},
   "outputs": [
    {
     "data": {
      "text/html": [
       "<div>\n",
       "<style scoped>\n",
       "    .dataframe tbody tr th:only-of-type {\n",
       "        vertical-align: middle;\n",
       "    }\n",
       "\n",
       "    .dataframe tbody tr th {\n",
       "        vertical-align: top;\n",
       "    }\n",
       "\n",
       "    .dataframe thead th {\n",
       "        text-align: right;\n",
       "    }\n",
       "</style>\n",
       "<table border=\"1\" class=\"dataframe\">\n",
       "  <thead>\n",
       "    <tr style=\"text-align: right;\">\n",
       "      <th></th>\n",
       "      <th>time</th>\n",
       "      <th>day</th>\n",
       "      <th>hour</th>\n",
       "      <th>10MA</th>\n",
       "      <th>10STD</th>\n",
       "      <th>bb_upper_band</th>\n",
       "      <th>bb_lower_band</th>\n",
       "      <th>open_-3</th>\n",
       "      <th>high_-3</th>\n",
       "      <th>low_-3</th>\n",
       "      <th>...</th>\n",
       "      <th>open_8</th>\n",
       "      <th>high_8</th>\n",
       "      <th>low_8</th>\n",
       "      <th>close_8</th>\n",
       "      <th>vol_8</th>\n",
       "      <th>vol_coin_8</th>\n",
       "      <th>vwap_8</th>\n",
       "      <th>obv_8</th>\n",
       "      <th>change_8</th>\n",
       "      <th>direction_8</th>\n",
       "    </tr>\n",
       "  </thead>\n",
       "  <tbody>\n",
       "    <tr>\n",
       "      <th>0</th>\n",
       "      <td>2023-06-01 00:00:00</td>\n",
       "      <td>1</td>\n",
       "      <td>0</td>\n",
       "      <td>NaN</td>\n",
       "      <td>NaN</td>\n",
       "      <td>NaN</td>\n",
       "      <td>NaN</td>\n",
       "      <td>27103.1</td>\n",
       "      <td>27108.1</td>\n",
       "      <td>27080.6</td>\n",
       "      <td>...</td>\n",
       "      <td>NaN</td>\n",
       "      <td>NaN</td>\n",
       "      <td>NaN</td>\n",
       "      <td>NaN</td>\n",
       "      <td>NaN</td>\n",
       "      <td>NaN</td>\n",
       "      <td>NaN</td>\n",
       "      <td>NaN</td>\n",
       "      <td>NaN</td>\n",
       "      <td>NaN</td>\n",
       "    </tr>\n",
       "    <tr>\n",
       "      <th>1</th>\n",
       "      <td>2023-06-01 00:15:00</td>\n",
       "      <td>1</td>\n",
       "      <td>0</td>\n",
       "      <td>NaN</td>\n",
       "      <td>NaN</td>\n",
       "      <td>NaN</td>\n",
       "      <td>NaN</td>\n",
       "      <td>27096.9</td>\n",
       "      <td>27096.9</td>\n",
       "      <td>27036.7</td>\n",
       "      <td>...</td>\n",
       "      <td>NaN</td>\n",
       "      <td>NaN</td>\n",
       "      <td>NaN</td>\n",
       "      <td>NaN</td>\n",
       "      <td>NaN</td>\n",
       "      <td>NaN</td>\n",
       "      <td>NaN</td>\n",
       "      <td>NaN</td>\n",
       "      <td>NaN</td>\n",
       "      <td>NaN</td>\n",
       "    </tr>\n",
       "    <tr>\n",
       "      <th>2</th>\n",
       "      <td>2023-06-01 00:30:00</td>\n",
       "      <td>1</td>\n",
       "      <td>0</td>\n",
       "      <td>NaN</td>\n",
       "      <td>NaN</td>\n",
       "      <td>NaN</td>\n",
       "      <td>NaN</td>\n",
       "      <td>27047.0</td>\n",
       "      <td>27077.4</td>\n",
       "      <td>27041.0</td>\n",
       "      <td>...</td>\n",
       "      <td>NaN</td>\n",
       "      <td>NaN</td>\n",
       "      <td>NaN</td>\n",
       "      <td>NaN</td>\n",
       "      <td>NaN</td>\n",
       "      <td>NaN</td>\n",
       "      <td>NaN</td>\n",
       "      <td>NaN</td>\n",
       "      <td>NaN</td>\n",
       "      <td>NaN</td>\n",
       "    </tr>\n",
       "    <tr>\n",
       "      <th>3</th>\n",
       "      <td>2023-06-01 00:45:00</td>\n",
       "      <td>1</td>\n",
       "      <td>0</td>\n",
       "      <td>NaN</td>\n",
       "      <td>NaN</td>\n",
       "      <td>NaN</td>\n",
       "      <td>NaN</td>\n",
       "      <td>27054.9</td>\n",
       "      <td>27084.0</td>\n",
       "      <td>27054.8</td>\n",
       "      <td>...</td>\n",
       "      <td>NaN</td>\n",
       "      <td>NaN</td>\n",
       "      <td>NaN</td>\n",
       "      <td>NaN</td>\n",
       "      <td>NaN</td>\n",
       "      <td>NaN</td>\n",
       "      <td>NaN</td>\n",
       "      <td>NaN</td>\n",
       "      <td>NaN</td>\n",
       "      <td>NaN</td>\n",
       "    </tr>\n",
       "    <tr>\n",
       "      <th>4</th>\n",
       "      <td>2023-06-01 01:00:00</td>\n",
       "      <td>1</td>\n",
       "      <td>1</td>\n",
       "      <td>NaN</td>\n",
       "      <td>NaN</td>\n",
       "      <td>NaN</td>\n",
       "      <td>NaN</td>\n",
       "      <td>27084.0</td>\n",
       "      <td>27113.9</td>\n",
       "      <td>27073.5</td>\n",
       "      <td>...</td>\n",
       "      <td>NaN</td>\n",
       "      <td>NaN</td>\n",
       "      <td>NaN</td>\n",
       "      <td>NaN</td>\n",
       "      <td>NaN</td>\n",
       "      <td>NaN</td>\n",
       "      <td>NaN</td>\n",
       "      <td>NaN</td>\n",
       "      <td>NaN</td>\n",
       "      <td>NaN</td>\n",
       "    </tr>\n",
       "  </tbody>\n",
       "</table>\n",
       "<p>5 rows × 127 columns</p>\n",
       "</div>"
      ],
      "text/plain": [
       "                 time  day  hour  10MA  10STD  bb_upper_band  bb_lower_band  \\\n",
       "0 2023-06-01 00:00:00    1     0   NaN    NaN            NaN            NaN   \n",
       "1 2023-06-01 00:15:00    1     0   NaN    NaN            NaN            NaN   \n",
       "2 2023-06-01 00:30:00    1     0   NaN    NaN            NaN            NaN   \n",
       "3 2023-06-01 00:45:00    1     0   NaN    NaN            NaN            NaN   \n",
       "4 2023-06-01 01:00:00    1     1   NaN    NaN            NaN            NaN   \n",
       "\n",
       "   open_-3  high_-3   low_-3  ...  open_8  high_8  low_8  close_8  vol_8  \\\n",
       "0  27103.1  27108.1  27080.6  ...     NaN     NaN    NaN      NaN    NaN   \n",
       "1  27096.9  27096.9  27036.7  ...     NaN     NaN    NaN      NaN    NaN   \n",
       "2  27047.0  27077.4  27041.0  ...     NaN     NaN    NaN      NaN    NaN   \n",
       "3  27054.9  27084.0  27054.8  ...     NaN     NaN    NaN      NaN    NaN   \n",
       "4  27084.0  27113.9  27073.5  ...     NaN     NaN    NaN      NaN    NaN   \n",
       "\n",
       "   vol_coin_8  vwap_8  obv_8  change_8  direction_8  \n",
       "0         NaN     NaN    NaN       NaN          NaN  \n",
       "1         NaN     NaN    NaN       NaN          NaN  \n",
       "2         NaN     NaN    NaN       NaN          NaN  \n",
       "3         NaN     NaN    NaN       NaN          NaN  \n",
       "4         NaN     NaN    NaN       NaN          NaN  \n",
       "\n",
       "[5 rows x 127 columns]"
      ]
     },
     "execution_count": 14,
     "metadata": {},
     "output_type": "execute_result"
    }
   ],
   "source": [
    "shifted_df.head()"
   ]
  },
  {
   "cell_type": "code",
   "execution_count": 15,
   "id": "cc4c824c-8731-42b1-8fe8-f25909c6de2a",
   "metadata": {},
   "outputs": [
    {
     "data": {
      "text/plain": [
       "<Axes: >"
      ]
     },
     "execution_count": 15,
     "metadata": {},
     "output_type": "execute_result"
    },
    {
     "data": {
      "image/png": "[encoded data removed]",
      "text/plain": [
       "<Figure size 640x480 with 1 Axes>"
      ]
     },
     "metadata": {},
     "output_type": "display_data"
    }
   ],
   "source": [
    "shifted_df.loc[0:100,[\"10MA\",\"bb_upper_band\",\"high_0\",\"low_0\",\"bb_lower_band\"]].plot()"
   ]
  },
  {
   "cell_type": "markdown",
   "id": "8e222e57-ffd7-4af6-be5d-c3b154a1b9cc",
   "metadata": {},
   "source": [
    "## dependent variable"
   ]
  },
  {
   "cell_type": "code",
   "execution_count": 16,
   "id": "7394f6e4-3216-4b0c-a3a9-3067c46a1359",
   "metadata": {},
   "outputs": [],
   "source": [
    "df_xg = shifted_df.dropna()\n",
    "\n",
    "# Create a new column \"y_bb\" initialized with False\n",
    "df_xg.loc[:, [\"y_bb_down\",\"y_bb_up\"]] = False"
   ]
  },
  {
   "cell_type": "code",
   "execution_count": 17,
   "id": "c22b630e-5872-48e8-87a3-4503a2010e46",
   "metadata": {},
   "outputs": [],
   "source": [
    "# GOAL:\n",
    "# if the price is outside of the bollinger bands: \n",
    "#    is one of the next three candle 0.5% away from the bb value?\n",
    "\n",
    "\n",
    "df_xg.loc[\n",
    "    (df_xg[\"close_0\"] < df_xg[\"bb_lower_band\"]) &\n",
    "    (df_xg[[\"high_-1\", \"high_-2\", \"high_-3\"]].gt(df_xg[\"bb_lower_band\"] * 1.002, axis=0).any(axis=1)), \n",
    "    \"y_bb_down\"\n",
    "] = True\n",
    "\n",
    "df_xg.loc[\n",
    "    (df_xg[\"close_0\"] > df_xg[\"bb_upper_band\"]) &\n",
    "    (df_xg[[\"low_-1\", \"low_-2\", \"low_-3\"]].lt(df_xg[\"bb_upper_band\"] / 1.002, axis=0).any(axis=1)), \n",
    "    \"y_bb_up\"\n",
    "] = True"
   ]
  },
  {
   "cell_type": "code",
   "execution_count": 18,
   "id": "4b57c730-c4b9-4030-ac02-ee97bfab352f",
   "metadata": {},
   "outputs": [
    {
     "data": {
      "text/plain": [
       "0     True\n",
       "1    False\n",
       "dtype: bool"
      ]
     },
     "execution_count": 18,
     "metadata": {},
     "output_type": "execute_result"
    }
   ],
   "source": [
    "# little showcase how \"any\" works in this scenario: \n",
    "# we have two cols and \"any\" checks if there is any true in any of these cols\n",
    "pd.DataFrame({\"A\": [True, False], \"B\": [False,False ]}).any(axis=1)"
   ]
  },
  {
   "cell_type": "code",
   "execution_count": 19,
   "id": "25261913-410d-494a-9d0f-e5b56c6462bc",
   "metadata": {},
   "outputs": [
    {
     "name": "stdout",
     "output_type": "stream",
     "text": [
      "11701 0.6580634133834715\n",
      "38\n",
      "39\n",
      "77\n"
     ]
    }
   ],
   "source": [
    "print(len(df_xg), 100*((df_xg.y_bb_down.sum()+df_xg.y_bb_up.sum())/len(df_xg)))\n",
    "print(df_xg.y_bb_down.sum())\n",
    "print(df_xg.y_bb_up.sum())\n",
    "print(df_xg.y_bb_down.sum()+df_xg.y_bb_up.sum())"
   ]
  },
  {
   "cell_type": "code",
   "execution_count": 20,
   "id": "ea2cca05-c36a-4700-b4e5-406beae48d6e",
   "metadata": {},
   "outputs": [
    {
     "name": "stdout",
     "output_type": "stream",
     "text": [
      "38\n",
      "39\n"
     ]
    }
   ],
   "source": [
    "print(len(df_xg[ (df_xg.y_bb_down == True)  &  (df_xg.close_0 < df_xg.bb_lower_band) ]))\n",
    "print(len(df_xg[ (df_xg.y_bb_up == True)  &  (df_xg.close_0 > df_xg.bb_upper_band) ]))"
   ]
  },
  {
   "cell_type": "code",
   "execution_count": 21,
   "id": "6dacfacf-1a85-4a4e-bf10-4fec165f4a0c",
   "metadata": {},
   "outputs": [
    {
     "name": "stderr",
     "output_type": "stream",
     "text": [
      "/tmp/ipykernel_6829/835649938.py:1: SettingWithCopyWarning: \n",
      "A value is trying to be set on a copy of a slice from a DataFrame.\n",
      "Try using .loc[row_indexer,col_indexer] = value instead\n",
      "\n",
      "See the caveats in the documentation: https://pandas.pydata.org/pandas-docs/stable/user_guide/indexing.html#returning-a-view-versus-a-copy\n",
      "  df_xg.loc[:, \"y_bb\"] = df_xg.loc[:,[\"y_bb_down\", \"y_bb_up\"]].any(axis=1)\n"
     ]
    }
   ],
   "source": [
    "df_xg.loc[:, \"y_bb\"] = df_xg.loc[:,[\"y_bb_down\", \"y_bb_up\"]].any(axis=1)"
   ]
  },
  {
   "cell_type": "code",
   "execution_count": 22,
   "id": "6498b8bb-2a39-41bd-af9d-357ac49008c5",
   "metadata": {},
   "outputs": [
    {
     "data": {
      "text/plain": [
       "77"
      ]
     },
     "execution_count": 22,
     "metadata": {},
     "output_type": "execute_result"
    }
   ],
   "source": [
    "df_xg.y_bb.sum()"
   ]
  },
  {
   "cell_type": "markdown",
   "id": "1350a59c-afe0-4bd6-8885-c5f5bfdf9c5d",
   "metadata": {},
   "source": [
    "**REFRAME FRAGESTELLUNG FÜR 15m candles:**\n",
    "\n",
    "Hat die nächste Candle ein low unter BB und die nächsten dreh Candles ein high mit Profit?\n",
    "\n",
    "...also ist nicht die candle der auslöser sondern die nächste."
   ]
  },
  {
   "cell_type": "code",
   "execution_count": 23,
   "id": "113be9db-e5c7-490f-adae-60fac52f3d0b",
   "metadata": {},
   "outputs": [],
   "source": [
    "df_xg.loc[:, [\"y_bb_down_test\",\"y_bb_up_test\"]] = False"
   ]
  },
  {
   "cell_type": "code",
   "execution_count": 24,
   "id": "b7e3dfd3-b7cf-4166-ad65-b8571f56cb9c",
   "metadata": {},
   "outputs": [],
   "source": [
    "# GOAL:\n",
    "# if the price is outside of the bollinger bands: \n",
    "#    is one of the next three candle 0.5% away from the bb value?\n",
    "\n",
    "\n",
    "df_xg.loc[\n",
    "    (df_xg[\"low_-1\"] < df_xg[\"bb_lower_band\"]) &\n",
    "    (df_xg[[\"high_-1\", \"high_-2\", \"high_-3\"]].gt(df_xg[\"bb_lower_band\"] * 1.002, axis=0).any(axis=1)), \n",
    "    \"y_bb_down_test\"\n",
    "] = True\n",
    "\n",
    "df_xg.loc[\n",
    "    (df_xg[\"high_-1\"] > df_xg[\"bb_upper_band\"]) &\n",
    "    (df_xg[[\"low_-1\", \"low_-2\", \"low_-3\"]].lt(df_xg[\"bb_upper_band\"] / 1.002, axis=0).any(axis=1)), \n",
    "    \"y_bb_up_test\"\n",
    "] = True"
   ]
  },
  {
   "cell_type": "code",
   "execution_count": 25,
   "id": "f8c546eb-0533-49b7-89cd-f0be9bcdde5a",
   "metadata": {},
   "outputs": [
    {
     "name": "stdout",
     "output_type": "stream",
     "text": [
      "11701 12.725408084779078\n",
      "796\n",
      "693\n",
      "1489\n"
     ]
    }
   ],
   "source": [
    "print(len(df_xg), 100*((df_xg.y_bb_down_test.sum()+df_xg.y_bb_up_test.sum())/len(df_xg)))\n",
    "print(df_xg.y_bb_down_test.sum())\n",
    "print(df_xg.y_bb_up_test.sum())\n",
    "print(df_xg.y_bb_down_test.sum()+df_xg.y_bb_up_test.sum())"
   ]
  },
  {
   "cell_type": "code",
   "execution_count": null,
   "id": "221e0957-00d0-4fa8-ab50-307c98685bb2",
   "metadata": {},
   "outputs": [],
   "source": []
  },
  {
   "cell_type": "code",
   "execution_count": 26,
   "id": "7df196ff-aa22-4d64-80c9-73f45eca2412",
   "metadata": {},
   "outputs": [
    {
     "data": {
      "text/plain": [
       "24"
      ]
     },
     "execution_count": 26,
     "metadata": {},
     "output_type": "execute_result"
    }
   ],
   "source": [
    "len(df_xg.query('y_bb_up_test == True and y_bb_down_test == True'))"
   ]
  },
  {
   "cell_type": "markdown",
   "id": "2227b509-59e8-4c5e-b295-c8d65e9d66fc",
   "metadata": {},
   "source": [
    "24 entries are above and below signals which is not much but I need a clear signal. \n",
    "\n",
    "Besides this, I need also an up or down signal for the entry, TP, SL parameters to pass on."
   ]
  },
  {
   "cell_type": "code",
   "execution_count": 27,
   "id": "e7aa411d-b2b7-4891-be99-1de9ee7a228d",
   "metadata": {},
   "outputs": [
    {
     "name": "stderr",
     "output_type": "stream",
     "text": [
      "/tmp/ipykernel_6829/2657478493.py:11: SettingWithCopyWarning: \n",
      "A value is trying to be set on a copy of a slice from a DataFrame.\n",
      "Try using .loc[row_indexer,col_indexer] = value instead\n",
      "\n",
      "See the caveats in the documentation: https://pandas.pydata.org/pandas-docs/stable/user_guide/indexing.html#returning-a-view-versus-a-copy\n",
      "  df_xg.loc[:, \"y_bb_test\"] = np.select(conditions, choices, default='null')\n"
     ]
    }
   ],
   "source": [
    "# this line has both signals inside its variable but I need a distinction\n",
    "# df_xg.loc[:, \"y_bb_test\"] = df_xg.loc[:,[\"y_bb_down_test\", \"y_bb_up_test\"]].any(axis=1)\n",
    "\n",
    "# Use np.select to vectorize the condition check and assignment\n",
    "conditions = [\n",
    "    df_xg['y_bb_down_test'],\n",
    "    df_xg['y_bb_up_test'] ]\n",
    "\n",
    "choices = ['down', 'up']\n",
    "\n",
    "df_xg.loc[:, \"y_bb_test\"] = np.select(conditions, choices, default='null')"
   ]
  },
  {
   "cell_type": "markdown",
   "id": "91446516-a567-4a6d-b1f2-c3ad30c78555",
   "metadata": {},
   "source": [
    "# XGBoost"
   ]
  },
  {
   "cell_type": "code",
   "execution_count": 28,
   "id": "09e6430f-4351-4aa0-88a0-61eebfa7483c",
   "metadata": {},
   "outputs": [
    {
     "name": "stdout",
     "output_type": "stream",
     "text": [
      "133\n"
     ]
    }
   ],
   "source": [
    "print(len(df_xg.columns))"
   ]
  },
  {
   "cell_type": "code",
   "execution_count": 29,
   "id": "e23d98c2-7b30-417d-bc81-f2675d1a2026",
   "metadata": {},
   "outputs": [],
   "source": [
    "y = df_xg.y_bb_test\n",
    "X = df_xg.drop(['time', 'y_bb_down', 'y_bb_up', 'y_bb',\"y_bb_test\",\"y_bb_down_test\", \"y_bb_up_test\",'open_-3', 'high_-3', 'low_-3', 'close_-3', 'vol_-3',\n",
    "       'vol_coin_-3', 'vwap_-3', 'obv_-3', 'change_-3', 'direction_-3',\n",
    "       'open_-2', 'high_-2', 'low_-2', 'close_-2', 'vol_-2', 'vol_coin_-2',\n",
    "       'vwap_-2', 'obv_-2', 'change_-2', 'direction_-2', 'open_-1', 'high_-1',\n",
    "       'low_-1', 'close_-1', 'vol_-1', 'vol_coin_-1', 'vwap_-1', 'obv_-1',\n",
    "       'change_-1', 'direction_-1'],axis=1)"
   ]
  },
  {
   "cell_type": "code",
   "execution_count": 30,
   "id": "b643953e-ba59-490a-aa39-af9fb46e211f",
   "metadata": {},
   "outputs": [
    {
     "data": {
      "text/plain": [
       "Index(['day', 'hour', '10MA', '10STD', 'bb_upper_band', 'bb_lower_band',\n",
       "       'open_0', 'high_0', 'low_0', 'close_0', 'vol_0', 'vol_coin_0', 'vwap_0',\n",
       "       'obv_0', 'change_0', 'direction_0', 'open_1', 'high_1', 'low_1',\n",
       "       'close_1', 'vol_1', 'vol_coin_1', 'vwap_1', 'obv_1', 'change_1',\n",
       "       'direction_1', 'open_2', 'high_2', 'low_2', 'close_2', 'vol_2',\n",
       "       'vol_coin_2', 'vwap_2', 'obv_2', 'change_2', 'direction_2', 'open_3',\n",
       "       'high_3', 'low_3', 'close_3', 'vol_3', 'vol_coin_3', 'vwap_3', 'obv_3',\n",
       "       'change_3', 'direction_3', 'open_4', 'high_4', 'low_4', 'close_4',\n",
       "       'vol_4', 'vol_coin_4', 'vwap_4', 'obv_4', 'change_4', 'direction_4',\n",
       "       'open_5', 'high_5', 'low_5', 'close_5', 'vol_5', 'vol_coin_5', 'vwap_5',\n",
       "       'obv_5', 'change_5', 'direction_5', 'open_6', 'high_6', 'low_6',\n",
       "       'close_6', 'vol_6', 'vol_coin_6', 'vwap_6', 'obv_6', 'change_6',\n",
       "       'direction_6', 'open_7', 'high_7', 'low_7', 'close_7', 'vol_7',\n",
       "       'vol_coin_7', 'vwap_7', 'obv_7', 'change_7', 'direction_7', 'open_8',\n",
       "       'high_8', 'low_8', 'close_8', 'vol_8', 'vol_coin_8', 'vwap_8', 'obv_8',\n",
       "       'change_8', 'direction_8'],\n",
       "      dtype='object')"
      ]
     },
     "execution_count": 30,
     "metadata": {},
     "output_type": "execute_result"
    }
   ],
   "source": [
    "X.columns"
   ]
  },
  {
   "cell_type": "code",
   "execution_count": 31,
   "id": "b3617b72-5c0e-4ab6-bf82-a6976d7c9af9",
   "metadata": {},
   "outputs": [],
   "source": [
    "from sklearn.model_selection import train_test_split\n",
    "# do the train test splitting \n",
    "X_train, X_test, y_train, y_test = train_test_split(X, y, stratify=None,shuffle=False) #do the split on variable y to avoid zero y entries"
   ]
  },
  {
   "cell_type": "code",
   "execution_count": 32,
   "id": "e8594e0d-e384-4768-aa77-4d7aca6b3452",
   "metadata": {},
   "outputs": [],
   "source": [
    "from sklearn.ensemble import GradientBoostingClassifier\n",
    "\n",
    "xg = GradientBoostingClassifier().fit(X_train, y_train)"
   ]
  },
  {
   "cell_type": "code",
   "execution_count": 33,
   "id": "b6a3c6ef-a4a4-4353-8cec-d94d0f12f6ae",
   "metadata": {},
   "outputs": [
    {
     "data": {
      "text/plain": [
       "0.8855092276144908"
      ]
     },
     "execution_count": 33,
     "metadata": {},
     "output_type": "execute_result"
    }
   ],
   "source": [
    "from sklearn.metrics import accuracy_score, confusion_matrix, classification_report\n",
    "\n",
    "y_pred_test = xg.predict(X_test)\n",
    "accuracy_score(y_test, y_pred_test)"
   ]
  },
  {
   "cell_type": "code",
   "execution_count": 34,
   "id": "36480ade-2ffd-4199-9384-3d74b427daac",
   "metadata": {},
   "outputs": [
    {
     "data": {
      "text/plain": [
       "array([[  24,  148,    1],\n",
       "       [   8, 2551,    4],\n",
       "       [   0,  174,   16]])"
      ]
     },
     "execution_count": 34,
     "metadata": {},
     "output_type": "execute_result"
    }
   ],
   "source": [
    "conf_m = confusion_matrix(y_test, y_pred_test)\n",
    "conf_m"
   ]
  },
  {
   "cell_type": "code",
   "execution_count": 35,
   "id": "4f03c6b5-e0a7-4535-b3df-9b5fc92f7cad",
   "metadata": {},
   "outputs": [
    {
     "data": {
      "text/plain": [
       "<Axes: >"
      ]
     },
     "execution_count": 35,
     "metadata": {},
     "output_type": "execute_result"
    },
    {
     "data": {
      "image/png": "[encoded data removed]",
      "text/plain": [
       "<Figure size 640x480 with 2 Axes>"
      ]
     },
     "metadata": {},
     "output_type": "display_data"
    }
   ],
   "source": [
    "import seaborn as sns\n",
    "sns.heatmap(conf_m/np.sum(conf_m,axis=0), annot=True, fmt='.2%', cmap='Blues')"
   ]
  },
  {
   "cell_type": "code",
   "execution_count": 36,
   "id": "2d3ecdc9-1fdf-4a69-8889-d54f202bdaba",
   "metadata": {},
   "outputs": [
    {
     "name": "stdout",
     "output_type": "stream",
     "text": [
      "              precision    recall  f1-score   support\n",
      "\n",
      "        down       0.75      0.14      0.23       173\n",
      "        null       0.89      1.00      0.94      2563\n",
      "          up       0.76      0.08      0.15       190\n",
      "\n",
      "    accuracy                           0.89      2926\n",
      "   macro avg       0.80      0.41      0.44      2926\n",
      "weighted avg       0.87      0.89      0.85      2926\n",
      "\n"
     ]
    }
   ],
   "source": [
    "print(classification_report(y_test, y_pred_test))"
   ]
  },
  {
   "cell_type": "markdown",
   "id": "2d171334-dff4-4a0c-9ab3-63e3b66ccfd3",
   "metadata": {},
   "source": [
    "Overall, it seems like a useful model. However it is spurious that the precision is at exactly 75%. \n",
    "\n",
    "More ways to improve the model would be to \n",
    "- get more data\n",
    "- add other symbols, like ETH, EUR/USD pair, S&P 500, etc."
   ]
  },
  {
   "cell_type": "code",
   "execution_count": 37,
   "id": "dcb21a5c-b032-4420-89c5-58a3724b5843",
   "metadata": {},
   "outputs": [
    {
     "data": {
      "image/png": "[encoded data removed]",
      "text/plain": [
       "<Figure size 1000x2000 with 1 Axes>"
      ]
     },
     "metadata": {},
     "output_type": "display_data"
    }
   ],
   "source": [
    "pd.DataFrame(dict(cols=X_train.columns, imp=xg.feature_importances_)).sort_values(by=['imp']).plot('cols', 'imp', 'barh',figsize=(10,20));"
   ]
  },
  {
   "cell_type": "code",
   "execution_count": 38,
   "id": "defbd530-697d-4913-a52c-6467473d12ab",
   "metadata": {},
   "outputs": [],
   "source": [
    "# only works for binary classifier\n",
    "# from sklearn.metrics import RocCurveDisplay\n",
    "# RocCurveDisplay.from_estimator(xg, X_test, y_test)"
   ]
  },
  {
   "cell_type": "code",
   "execution_count": 39,
   "id": "2da3e5ec-ac4d-4be9-98ea-26d974d9733b",
   "metadata": {},
   "outputs": [],
   "source": [
    "import pickle\n",
    "\n",
    "# Save the model to a file\n",
    "with open('../bb-bot/src/xgboost_model.pkl', 'wb') as file:\n",
    "    pickle.dump(xg, file)\n"
   ]
  },
  {
   "cell_type": "code",
   "execution_count": 40,
   "id": "5faeab07-b9fe-4daa-947c-7c0d5d181eea",
   "metadata": {},
   "outputs": [],
   "source": [
    "\n",
    "# Load the model from the file\n",
    "with open('../bb-bot/src/xgboost_model.pkl', 'rb') as file:\n",
    "    model = pickle.load(file)\n"
   ]
  },
  {
   "cell_type": "code",
   "execution_count": 41,
   "id": "fab681ac-592a-4d5f-a9c6-34865618ffbc",
   "metadata": {},
   "outputs": [
    {
     "data": {
      "text/html": [
       "<div>\n",
       "<style scoped>\n",
       "    .dataframe tbody tr th:only-of-type {\n",
       "        vertical-align: middle;\n",
       "    }\n",
       "\n",
       "    .dataframe tbody tr th {\n",
       "        vertical-align: top;\n",
       "    }\n",
       "\n",
       "    .dataframe thead th {\n",
       "        text-align: right;\n",
       "    }\n",
       "</style>\n",
       "<table border=\"1\" class=\"dataframe\">\n",
       "  <thead>\n",
       "    <tr style=\"text-align: right;\">\n",
       "      <th></th>\n",
       "      <th>day</th>\n",
       "      <th>hour</th>\n",
       "      <th>10MA</th>\n",
       "      <th>10STD</th>\n",
       "      <th>bb_upper_band</th>\n",
       "      <th>bb_lower_band</th>\n",
       "      <th>open_0</th>\n",
       "      <th>high_0</th>\n",
       "      <th>low_0</th>\n",
       "      <th>close_0</th>\n",
       "      <th>...</th>\n",
       "      <th>open_8</th>\n",
       "      <th>high_8</th>\n",
       "      <th>low_8</th>\n",
       "      <th>close_8</th>\n",
       "      <th>vol_8</th>\n",
       "      <th>vol_coin_8</th>\n",
       "      <th>vwap_8</th>\n",
       "      <th>obv_8</th>\n",
       "      <th>change_8</th>\n",
       "      <th>direction_8</th>\n",
       "    </tr>\n",
       "  </thead>\n",
       "  <tbody>\n",
       "    <tr>\n",
       "      <th>8788</th>\n",
       "      <td>31</td>\n",
       "      <td>12</td>\n",
       "      <td>27226.45</td>\n",
       "      <td>25.003078</td>\n",
       "      <td>27276.456155</td>\n",
       "      <td>27176.443845</td>\n",
       "      <td>27222.7</td>\n",
       "      <td>27225.3</td>\n",
       "      <td>27211.8</td>\n",
       "      <td>27225.3</td>\n",
       "      <td>...</td>\n",
       "      <td>27249.0</td>\n",
       "      <td>27276.0</td>\n",
       "      <td>27238.4</td>\n",
       "      <td>27238.5</td>\n",
       "      <td>1.062671e+07</td>\n",
       "      <td>389.868</td>\n",
       "      <td>0.002563</td>\n",
       "      <td>2.675012e+09</td>\n",
       "      <td>-2.5</td>\n",
       "      <td>-1.0</td>\n",
       "    </tr>\n",
       "  </tbody>\n",
       "</table>\n",
       "<p>1 rows × 96 columns</p>\n",
       "</div>"
      ],
      "text/plain": [
       "      day  hour      10MA      10STD  bb_upper_band  bb_lower_band   open_0  \\\n",
       "8788   31    12  27226.45  25.003078   27276.456155   27176.443845  27222.7   \n",
       "\n",
       "       high_0    low_0  close_0  ...   open_8   high_8    low_8  close_8  \\\n",
       "8788  27225.3  27211.8  27225.3  ...  27249.0  27276.0  27238.4  27238.5   \n",
       "\n",
       "             vol_8  vol_coin_8    vwap_8         obv_8  change_8  direction_8  \n",
       "8788  1.062671e+07     389.868  0.002563  2.675012e+09      -2.5         -1.0  \n",
       "\n",
       "[1 rows x 96 columns]"
      ]
     },
     "execution_count": 41,
     "metadata": {},
     "output_type": "execute_result"
    }
   ],
   "source": [
    "X_test.head(1)"
   ]
  },
  {
   "cell_type": "code",
   "execution_count": 42,
   "id": "0e311ea0-77ef-404d-b5e2-cd644774ec37",
   "metadata": {},
   "outputs": [
    {
     "data": {
      "text/plain": [
       "array(['null'], dtype=object)"
      ]
     },
     "execution_count": 42,
     "metadata": {},
     "output_type": "execute_result"
    }
   ],
   "source": [
    "pred = model.predict(X_test.head(1))\n",
    "pred"
   ]
  },
  {
   "cell_type": "code",
   "execution_count": 43,
   "id": "72fae2d2-39cf-46e0-b328-b0d26c0996d3",
   "metadata": {},
   "outputs": [
    {
     "data": {
      "text/plain": [
       "array(['day', 'hour', '10MA', '10STD', 'bb_upper_band', 'bb_lower_band',\n",
       "       'open_0', 'high_0', 'low_0', 'close_0', 'vol_0', 'vol_coin_0',\n",
       "       'vwap_0', 'obv_0', 'change_0', 'direction_0', 'open_1', 'high_1',\n",
       "       'low_1', 'close_1', 'vol_1', 'vol_coin_1', 'vwap_1', 'obv_1',\n",
       "       'change_1', 'direction_1', 'open_2', 'high_2', 'low_2', 'close_2',\n",
       "       'vol_2', 'vol_coin_2', 'vwap_2', 'obv_2', 'change_2',\n",
       "       'direction_2', 'open_3', 'high_3', 'low_3', 'close_3', 'vol_3',\n",
       "       'vol_coin_3', 'vwap_3', 'obv_3', 'change_3', 'direction_3',\n",
       "       'open_4', 'high_4', 'low_4', 'close_4', 'vol_4', 'vol_coin_4',\n",
       "       'vwap_4', 'obv_4', 'change_4', 'direction_4', 'open_5', 'high_5',\n",
       "       'low_5', 'close_5', 'vol_5', 'vol_coin_5', 'vwap_5', 'obv_5',\n",
       "       'change_5', 'direction_5', 'open_6', 'high_6', 'low_6', 'close_6',\n",
       "       'vol_6', 'vol_coin_6', 'vwap_6', 'obv_6', 'change_6',\n",
       "       'direction_6', 'open_7', 'high_7', 'low_7', 'close_7', 'vol_7',\n",
       "       'vol_coin_7', 'vwap_7', 'obv_7', 'change_7', 'direction_7',\n",
       "       'open_8', 'high_8', 'low_8', 'close_8', 'vol_8', 'vol_coin_8',\n",
       "       'vwap_8', 'obv_8', 'change_8', 'direction_8'], dtype=object)"
      ]
     },
     "execution_count": 43,
     "metadata": {},
     "output_type": "execute_result"
    }
   ],
   "source": [
    "xg.feature_names_in_"
   ]
  },
  {
   "cell_type": "markdown",
   "id": "6a6b3dbe-b737-4cb5-9610-f5103e714d15",
   "metadata": {
    "jp-MarkdownHeadingCollapsed": true
   },
   "source": [
    "# use live data"
   ]
  },
  {
   "cell_type": "code",
   "execution_count": 44,
   "id": "8469e720-b830-486e-b4ba-86eec1521e11",
   "metadata": {},
   "outputs": [
    {
     "name": "stdout",
     "output_type": "stream",
     "text": [
      "{'retCode': 0, 'retMsg': 'OK', 'result': {'symbol': 'BTCUSD', 'category': 'linear', 'list': [['1717343100000', '68112', '68112', '68089', '68089', '368907', '5.41780079'], ['1717343040000', '68099', '68112', '68099', '68112', '204', '0.00299537'], ['1717342980000', '68088.5', '68102.5', '68088.5', '68099', '326503', '4.79441399'], ['1717342920000', '68114.5', '68114.5', '68088', '68088.5', '339862', '4.99001248']]}, 'retExtInfo': {}, 'time': 1717343125174}\n",
      "2024-06-02 15:45:25.174000\n",
      "[['1717343100000', '68112', '68112', '68089', '68089', '368907', '5.41780079'], ['1717343040000', '68099', '68112', '68099', '68112', '204', '0.00299537'], ['1717342980000', '68088.5', '68102.5', '68088.5', '68099', '326503', '4.79441399'], ['1717342920000', '68114.5', '68114.5', '68088', '68088.5', '339862', '4.99001248']]\n"
     ]
    }
   ],
   "source": [
    "import requests\n",
    "import time\n",
    "import pandas as pd\n",
    "\n",
    "# Define the endpoint and parameters\n",
    "base_url = \"https://api-testnet.bybit.com\"\n",
    "endpoint = \"/v5/market/kline\"\n",
    "symbol = \"BTCUSD\"  # Example trading pair\n",
    "interval = \"1\"    # Kline interval, e.g., \"1\", \"5\", \"15\", \"60\", \"240\", etc.\n",
    "limit = 4        # Number of klines to fetch\n",
    "start_time = int(time.time()) - 3600 * 24  # Start time in seconds (e.g., 24 hours ago)\n",
    "\n",
    "# Construct the URL\n",
    "url = f\"{base_url}{endpoint}?category=linear&symbol={symbol}&interval={interval}&limit={limit}\"#&start_time={start_time}\"\n",
    "\n",
    "# Make the GET request\n",
    "response = requests.get(url,headers={}, data={})\n",
    "data = response.json() \n",
    "\n",
    "print(data)\n",
    "print(pd.Timestamp(data[\"time\"],unit=\"ms\"))\n",
    "print(data[\"result\"][\"list\"])\n",
    "\n"
   ]
  }
 ],
 "metadata": {
  "kernelspec": {
   "display_name": "Python 3 (ipykernel)",
   "language": "python",
   "name": "python3"
  },
  "language_info": {
   "codemirror_mode": {
    "name": "ipython",
    "version": 3
   },
   "file_extension": ".py",
   "mimetype": "text/x-python",
   "name": "python",
   "nbconvert_exporter": "python",
   "pygments_lexer": "ipython3",
   "version": "3.10.13"
  }
 },
 "nbformat": 4,
 "nbformat_minor": 5
}
