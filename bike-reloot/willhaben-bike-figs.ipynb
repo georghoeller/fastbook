{
 "cells": [
  {
   "cell_type": "markdown",
   "id": "b20aa86e-24af-467e-880b-65e70290421f",
   "metadata": {},
   "source": [
    "# bike-reloot data set\n",
    "## assembling a dat set for a prototype \n",
    "\n",
    "This notebook has the purpose of making a data set for the _bike-reloot_ project. \n",
    "\n",
    "Steps are the following: \n",
    "- scrape will haben bike pictures\n",
    "- rename them to \"stolen\" and \"not_stolen\" with consecutive IDs\n",
    "\n",
    "---"
   ]
  },
  {
   "cell_type": "markdown",
   "id": "1bddfc3a-ff9a-420e-a601-dcf96ca1589a",
   "metadata": {},
   "source": [
    "Inside of a loop through a list of willhaben URLs with different \"&pages=1\": \n",
    "\n",
    "Structure of the \"a-tag\" I want to scrap, which is one entry of a bike.\n",
    "\n",
    "```\n",
    "<a \n",
    "    href=\"/iad/kaufen-und-verkaufen/d/bike-discounter-angebot-kross-trans-4-0-s-28-zoll-0401-578744109/\" \n",
    "    id=\"search-result-entry-header-578744109\" \n",
    "    aria-labelledby=\"search-result-entry-header-578744109\" \n",
    "    class=\"sc-ca51e2d8-0 lkgIJQ sc-deecb898-1 imWndm\" \n",
    "    data-testid=\"search-result-entry-header-578744109\">\n",
    "</a>\n",
    "```\n",
    "\n",
    "Then retreive the href and save it to a dataframe, for n number of pages which lead to n number of entries (say, 600 entries).\n"
   ]
  },
  {
   "cell_type": "code",
   "execution_count": 1,
   "id": "e859b3d1-a60e-49b1-9857-8af41c4ea24b",
   "metadata": {},
   "outputs": [
    {
     "name": "stdout",
     "output_type": "stream",
     "text": [
      "5\n",
      "/iad/kaufen-und-verkaufen/d/scotter-769333716/\n"
     ]
    }
   ],
   "source": [
    "import requests\n",
    "from bs4 import BeautifulSoup\n",
    "\n",
    "# DEFINE BASE URL \n",
    "# = \"https://www.willhaben.at/iad/kaufen-und-verkaufen/marktplatz/fahrraeder-4552&rows=1\"\n",
    "url_fahrräder = \"https://www.willhaben.at/iad/kaufen-und-verkaufen/marktplatz/fahrraeder-radsport/fahrraeder-4552\"\n",
    "# and &page=9 &rows=1\n",
    "\n",
    "# MAKE REQUEST ON BASE URL \n",
    "page = requests.get(url_fahrräder)\n",
    "soup = BeautifulSoup(page.content, \"html.parser\")\n",
    "\n",
    "# Define a function to filter elements based on their IDs within the div with ID \"skip-to-resultlist\"\n",
    "def find_by_id_custom(tag):\n",
    "    return (\n",
    "        tag.name == 'a' and \n",
    "        tag.get('id', '').startswith('search-result-entry-header') and \n",
    "        tag.has_attr('id')\n",
    "    )\n",
    "\n",
    "# FIND ALL a tags within ID\n",
    "links = soup.find(id=\"skip-to-resultlist\").find_all(find_by_id_custom)\n",
    "print(len(links))\n",
    "print(links[0].get('href'))\n",
    "\n"
   ]
  },
  {
   "cell_type": "code",
   "execution_count": 21,
   "id": "c2a7906d-6dff-449d-ba31-059421b56104",
   "metadata": {},
   "outputs": [
    {
     "data": {
      "text/plain": [
       "'https://www.willhaben.at/iad/kaufen-und-verkaufen/d/hard-enduro-bike-prototyp-scurra-2-769333386/'"
      ]
     },
     "execution_count": 21,
     "metadata": {},
     "output_type": "execute_result"
    }
   ],
   "source": [
    "import pandas as pd\n",
    "\n",
    "list_id = [ link.get('id') for link in links]\n",
    "list_href = [ link.get('href') for link in links]\n",
    "\n",
    "df = pd.DataFrame({\"id\": list_id,\n",
    "                   \"href\": list_href})\n",
    "\n",
    "# split ID into all parts and extract the unique ID \n",
    "df['id_int'] = df['id'].str.split('-',expand=True)[4]\n",
    "df['links'] = \"https://www.willhaben.at\"+df['href']\n",
    "df['links'][1]"
   ]
  },
  {
   "cell_type": "markdown",
   "id": "9150a26a-9be2-4364-bf84-4733d00e568c",
   "metadata": {},
   "source": [
    "# Extracting images of bikes"
   ]
  },
  {
   "cell_type": "code",
   "execution_count": null,
   "id": "dc5c088a-cce8-4e68-8a69-e4d2e5f949ff",
   "metadata": {},
   "outputs": [],
   "source": [
    "import requests\n",
    "from bs4 import BeautifulSoup\n",
    "from PIL import Image\n",
    "\n",
    "base_url = \"https://www.willhaben.at\""
   ]
  }
 ],
 "metadata": {
  "kernelspec": {
   "display_name": "Python 3 (ipykernel)",
   "language": "python",
   "name": "python3"
  },
  "language_info": {
   "codemirror_mode": {
    "name": "ipython",
    "version": 3
   },
   "file_extension": ".py",
   "mimetype": "text/x-python",
   "name": "python",
   "nbconvert_exporter": "python",
   "pygments_lexer": "ipython3",
   "version": "3.11.5"
  }
 },
 "nbformat": 4,
 "nbformat_minor": 5
}
