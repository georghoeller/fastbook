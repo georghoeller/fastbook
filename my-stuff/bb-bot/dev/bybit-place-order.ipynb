{
 "cells": [
  {
   "cell_type": "markdown",
   "id": "bbb661fe-5dab-45d8-9d37-46808f4b96df",
   "metadata": {},
   "source": [
    "# Placing an order"
   ]
  },
  {
   "cell_type": "markdown",
   "id": "5453eb2b-3df3-4cbb-b8ea-7faaaf18bdd6",
   "metadata": {},
   "source": [
    "## Check for time consistency with server"
   ]
  },
  {
   "cell_type": "code",
   "execution_count": 1,
   "id": "bf75c4b9-0359-4f95-99b4-c36177e0bdc4",
   "metadata": {},
   "outputs": [
    {
     "data": {
      "text/plain": [
       "True"
      ]
     },
     "execution_count": 1,
     "metadata": {},
     "output_type": "execute_result"
    }
   ],
   "source": [
    "import torch\n",
    "torch.cuda.is_available() "
   ]
  },
  {
   "cell_type": "code",
   "execution_count": 2,
   "id": "7c7accc9-1062-4538-a35c-4b4d99de4cf3",
   "metadata": {},
   "outputs": [
    {
     "name": "stdout",
     "output_type": "stream",
     "text": [
      "1717678366048\n",
      "1717678366145\n",
      "False\n"
     ]
    }
   ],
   "source": [
    "import requests\n",
    "import time\n",
    "# check for condition supplied in guide: \n",
    "# https://bybit-exchange.github.io/docs/v5/guide\n",
    "\n",
    "'''\n",
    "Please make sure that the timestamp parameter adheres to the following rule:\n",
    "server_time - recv_window <= timestamp < server_time + 1000\n",
    "server_time stands for Bybit server time, which can be queried via the Server Time endpoint.   \n",
    "'''\n",
    "\n",
    "url = \"https://api-testnet.bybit.com/v5/market/time\"\n",
    "req = requests.request(\"GET\", url)\n",
    "res = req.json()\n",
    "print(res[\"time\"])#.result.time)\n",
    "print(int(time.time() * 1000))\n",
    "print(res[\"time\"]-5000 <= int(time.time() * 1000) and int(time.time() * 1000) < res[\"time\"])"
   ]
  },
  {
   "cell_type": "markdown",
   "id": "ae5c632b-a42f-4774-a765-83607ab21a82",
   "metadata": {},
   "source": [
    "# directly from bybit examples\n",
    "\n",
    "## important info\n",
    "It seems that there are four server spaces at bybit: mainnet, testnet, demo and demo-testnet. The Demo space seems to be the most fitting for the purpose I intend to use it, namely letting the bot run a little. See for further explanation: https://www.bybit.com/en/help-center/article/FAQ-Demo-Trading\n",
    "\n",
    "\n",
    "**other infos**\n",
    "\n",
    "get acc balance: https://bybit-exchange.github.io/docs/api-explorer/v5/account/wallet\n",
    "\n",
    "integration guide: https://bybit-exchange.github.io/docs/v5/guide\n",
    "\n",
    "demo von dem untenstehendem code: https://github.com/bybit-exchange/api-usage-examples/blob/master/V5_demo/api_demo/Encryption_HMAC.py\n",
    "\n",
    "liste von bybit errors: https://bybit-exchange.github.io/docs/v5/error"
   ]
  },
  {
   "cell_type": "code",
   "execution_count": 3,
   "id": "530bc552-b031-4e31-80d9-9bf64d16977d",
   "metadata": {},
   "outputs": [],
   "source": [
    "import requests\n",
    "import time\n",
    "import hashlib\n",
    "import hmac\n",
    "import uuid\n",
    "\n",
    "# HMAC KEY FOR TESTNET > idk NET\n",
    "#api_key = \"vgcrg9nWw7owVYEDdc\"\n",
    "#secret_key = \"YPz7eb0YzhOpa9s2yMEj3P4UdXrmSEtqRDCP\"\n",
    "\n",
    "# TESTNET\n",
    "# HMAC KEY FOR READ ONLY WALLET BALANCE\n",
    "# api_key = \"kO4Wf9sdmWk0IeFRBc\"\n",
    "# secret_key = \"ZxyPUKE893Alxq7aFdNSZUo5xYGrcp5hKgNO\"\n",
    "\n",
    "# DEMO NET\n",
    "api_key = \"GMUtVbMzRhohkOagoW\"\n",
    "secret_key = \"vexur1jjKy5AiQE0rXMhVYbjRFRy6jVxhIhf\"\n",
    "\n",
    "httpClient=requests.Session()\n",
    "recv_window=str(10000)\n",
    "# url = \"https://api-testnet.bybit.com\" # Testnet endpoint\n",
    "url = \"https://api-demo.bybit.com\" # DEMO endpoint\n",
    "\n",
    "def HTTP_Request(endPoint,method,payload,Info):\n",
    "    global time_stamp\n",
    "    time_stamp=str(int(time.time() * 10 ** 3))\n",
    "    signature=genSignature(payload)\n",
    "    headers = {\n",
    "        'X-BAPI-API-KEY': api_key,\n",
    "        'X-BAPI-SIGN': signature,\n",
    "        'X-BAPI-SIGN-TYPE': '2',\n",
    "        'X-BAPI-TIMESTAMP': time_stamp,\n",
    "        'X-BAPI-RECV-WINDOW': recv_window,\n",
    "        'Content-Type': 'application/json'\n",
    "    }\n",
    "    if(method==\"POST\"):\n",
    "        response = httpClient.request(method, url+endPoint, headers=headers, data=payload)\n",
    "    else:\n",
    "        response = httpClient.request(method, url+endPoint+\"?\"+payload, headers=headers)\n",
    "    print(response)\n",
    "    print(response.text)\n",
    "    print(Info + \" Elapsed Time : \" + str(response.elapsed))\n",
    "    return response#.json()\n",
    "\n",
    "def genSignature(payload):\n",
    "    param_str= str(time_stamp) + api_key + recv_window + payload\n",
    "    hash = hmac.new(bytes(secret_key, \"utf-8\"), param_str.encode(\"utf-8\"),hashlib.sha256)\n",
    "    signature = hash.hexdigest()\n",
    "    return signature"
   ]
  },
  {
   "cell_type": "code",
   "execution_count": 4,
   "id": "b7a1bcc0-e3c7-4b50-933d-57579253670f",
   "metadata": {
    "scrolled": true
   },
   "outputs": [
    {
     "name": "stdout",
     "output_type": "stream",
     "text": [
      "GMUtVbMzRhohkOagoW\n",
      "<Response [200]>\n",
      "{\"retCode\":0,\"retMsg\":\"OK\",\"result\":{\"list\":[{\"totalEquity\":\"174873.48165828\",\"accountIMRate\":\"0\",\"totalMarginBalance\":\"99985.95794728\",\"totalInitialMargin\":\"7.13945405\",\"accountType\":\"UNIFIED\",\"totalAvailableBalance\":\"99978.81849322\",\"accountMMRate\":\"0\",\"totalPerpUPL\":\"-0.1190651\",\"totalWalletBalance\":\"99986.07701238\",\"accountLTV\":\"0\",\"totalMaintenanceMargin\":\"0.39775995\",\"coin\":[{\"availableToBorrow\":\"\",\"bonus\":\"0\",\"accruedInterest\":\"0\",\"availableToWithdraw\":\"50000\",\"totalOrderIM\":\"0\",\"equity\":\"50000\",\"totalPositionMM\":\"0\",\"usdValue\":\"50000.85\",\"unrealisedPnl\":\"0\",\"collateralSwitch\":true,\"spotHedgingQty\":\"0\",\"borrowAmount\":\"0.000000000000000000\",\"totalPositionIM\":\"0\",\"walletBalance\":\"50000\",\"cumRealisedPnl\":\"0\",\"locked\":\"0\",\"marginCollateral\":true,\"coin\":\"USDC\"},{\"availableToBorrow\":\"\",\"bonus\":\"0\",\"accruedInterest\":\"0\",\"availableToWithdraw\":\"1\",\"totalOrderIM\":\"0\",\"equity\":\"1\",\"totalPositionMM\":\"0\",\"usdValue\":\"71046.141743\",\"unrealisedPnl\":\"0\",\"collateralSwitch\":false,\"spotHedgingQty\":\"0\",\"borrowAmount\":\"0.000000000000000000\",\"totalPositionIM\":\"0\",\"walletBalance\":\"1\",\"cumRealisedPnl\":\"0\",\"locked\":\"0\",\"marginCollateral\":true,\"coin\":\"BTC\"},{\"availableToBorrow\":\"\",\"bonus\":\"0\",\"accruedInterest\":\"0\",\"availableToWithdraw\":\"1\",\"totalOrderIM\":\"0\",\"equity\":\"1\",\"totalPositionMM\":\"0\",\"usdValue\":\"3841.381968\",\"unrealisedPnl\":\"0\",\"collateralSwitch\":false,\"spotHedgingQty\":\"0\",\"borrowAmount\":\"0.000000000000000000\",\"totalPositionIM\":\"0\",\"walletBalance\":\"1\",\"cumRealisedPnl\":\"0\",\"locked\":\"0\",\"marginCollateral\":true,\"coin\":\"ETH\"},{\"availableToBorrow\":\"\",\"bonus\":\"0\",\"accruedInterest\":\"0\",\"availableToWithdraw\":\"49999.75787634\",\"totalOrderIM\":\"0\",\"equity\":\"49999.75787634\",\"totalPositionMM\":\"0.39787653\",\"usdValue\":\"49985.10794728\",\"unrealisedPnl\":\"-0.1191\",\"collateralSwitch\":true,\"spotHedgingQty\":\"0\",\"borrowAmount\":\"0.000000000000000000\",\"totalPositionIM\":\"7.14154653\",\"walletBalance\":\"49999.87697634\",\"cumRealisedPnl\":\"-0.12302366\",\"locked\":\"0\",\"marginCollateral\":true,\"coin\":\"USDT\"}]}]},\"retExtInfo\":{},\"time\":1717678366737}\n",
      "UNIFIED Elapsed Time : 0:00:00.661462\n"
     ]
    },
    {
     "data": {
      "text/plain": [
       "{'retCode': 0,\n",
       " 'retMsg': 'OK',\n",
       " 'result': {'list': [{'totalEquity': '174873.48165828',\n",
       "    'accountIMRate': '0',\n",
       "    'totalMarginBalance': '99985.95794728',\n",
       "    'totalInitialMargin': '7.13945405',\n",
       "    'accountType': 'UNIFIED',\n",
       "    'totalAvailableBalance': '99978.81849322',\n",
       "    'accountMMRate': '0',\n",
       "    'totalPerpUPL': '-0.1190651',\n",
       "    'totalWalletBalance': '99986.07701238',\n",
       "    'accountLTV': '0',\n",
       "    'totalMaintenanceMargin': '0.39775995',\n",
       "    'coin': [{'availableToBorrow': '',\n",
       "      'bonus': '0',\n",
       "      'accruedInterest': '0',\n",
       "      'availableToWithdraw': '50000',\n",
       "      'totalOrderIM': '0',\n",
       "      'equity': '50000',\n",
       "      'totalPositionMM': '0',\n",
       "      'usdValue': '50000.85',\n",
       "      'unrealisedPnl': '0',\n",
       "      'collateralSwitch': True,\n",
       "      'spotHedgingQty': '0',\n",
       "      'borrowAmount': '0.000000000000000000',\n",
       "      'totalPositionIM': '0',\n",
       "      'walletBalance': '50000',\n",
       "      'cumRealisedPnl': '0',\n",
       "      'locked': '0',\n",
       "      'marginCollateral': True,\n",
       "      'coin': 'USDC'},\n",
       "     {'availableToBorrow': '',\n",
       "      'bonus': '0',\n",
       "      'accruedInterest': '0',\n",
       "      'availableToWithdraw': '1',\n",
       "      'totalOrderIM': '0',\n",
       "      'equity': '1',\n",
       "      'totalPositionMM': '0',\n",
       "      'usdValue': '71046.141743',\n",
       "      'unrealisedPnl': '0',\n",
       "      'collateralSwitch': False,\n",
       "      'spotHedgingQty': '0',\n",
       "      'borrowAmount': '0.000000000000000000',\n",
       "      'totalPositionIM': '0',\n",
       "      'walletBalance': '1',\n",
       "      'cumRealisedPnl': '0',\n",
       "      'locked': '0',\n",
       "      'marginCollateral': True,\n",
       "      'coin': 'BTC'},\n",
       "     {'availableToBorrow': '',\n",
       "      'bonus': '0',\n",
       "      'accruedInterest': '0',\n",
       "      'availableToWithdraw': '1',\n",
       "      'totalOrderIM': '0',\n",
       "      'equity': '1',\n",
       "      'totalPositionMM': '0',\n",
       "      'usdValue': '3841.381968',\n",
       "      'unrealisedPnl': '0',\n",
       "      'collateralSwitch': False,\n",
       "      'spotHedgingQty': '0',\n",
       "      'borrowAmount': '0.000000000000000000',\n",
       "      'totalPositionIM': '0',\n",
       "      'walletBalance': '1',\n",
       "      'cumRealisedPnl': '0',\n",
       "      'locked': '0',\n",
       "      'marginCollateral': True,\n",
       "      'coin': 'ETH'},\n",
       "     {'availableToBorrow': '',\n",
       "      'bonus': '0',\n",
       "      'accruedInterest': '0',\n",
       "      'availableToWithdraw': '49999.75787634',\n",
       "      'totalOrderIM': '0',\n",
       "      'equity': '49999.75787634',\n",
       "      'totalPositionMM': '0.39787653',\n",
       "      'usdValue': '49985.10794728',\n",
       "      'unrealisedPnl': '-0.1191',\n",
       "      'collateralSwitch': True,\n",
       "      'spotHedgingQty': '0',\n",
       "      'borrowAmount': '0.000000000000000000',\n",
       "      'totalPositionIM': '7.14154653',\n",
       "      'walletBalance': '49999.87697634',\n",
       "      'cumRealisedPnl': '-0.12302366',\n",
       "      'locked': '0',\n",
       "      'marginCollateral': True,\n",
       "      'coin': 'USDT'}]}]},\n",
       " 'retExtInfo': {},\n",
       " 'time': 1717678366737}"
      ]
     },
     "execution_count": 4,
     "metadata": {},
     "output_type": "execute_result"
    }
   ],
   "source": [
    "print(api_key)\n",
    "#Get Wallet Balance\n",
    "endpoint=\"/v5/account/wallet-balance\"\n",
    "method=\"GET\"\n",
    "params='accountType=UNIFIED'\n",
    "res = HTTP_Request(endpoint,method,params,\"UNIFIED\")\n",
    "res.json()\n"
   ]
  },
  {
   "cell_type": "code",
   "execution_count": 5,
   "id": "f54a4203-2dd3-47e4-86b6-16abe54bb437",
   "metadata": {},
   "outputs": [
    {
     "data": {
      "text/plain": [
       "'\\n#Create Order\\nendpoint=\"/v5/order/create\"\\nmethod=\"POST\"\\norderLinkId=uuid.uuid4().hex\\nparams=\\'{\"category\":\"linear\",\"symbol\": \"BTCUSDT\",\"side\": \"Buy\",\"positionIdx\": 0,\"orderType\": \"Limit\",\"qty\": \"0.001\",\"price\": \"60000\",\"timeInForce\": \"GTC\",\"orderLinkId\": \"\\' + orderLinkId + \\'\"}\\'\\nHTTP_Request(endpoint,method,params,\"Create\")\\n'"
      ]
     },
     "execution_count": 5,
     "metadata": {},
     "output_type": "execute_result"
    }
   ],
   "source": [
    "'''\n",
    "#Create Order\n",
    "endpoint=\"/v5/order/create\"\n",
    "method=\"POST\"\n",
    "orderLinkId=uuid.uuid4().hex\n",
    "params='{\"category\":\"linear\",\"symbol\": \"BTCUSDT\",\"side\": \"Buy\",\"positionIdx\": 0,\"orderType\": \"Limit\",\"qty\": \"0.001\",\"price\": \"60000\",\"timeInForce\": \"GTC\",\"orderLinkId\": \"' + orderLinkId + '\"}'\n",
    "HTTP_Request(endpoint,method,params,\"Create\")\n",
    "'''"
   ]
  },
  {
   "cell_type": "code",
   "execution_count": 28,
   "id": "0b87a1d0-4852-497b-b3d2-659961159008",
   "metadata": {},
   "outputs": [
    {
     "name": "stdout",
     "output_type": "stream",
     "text": [
      "<Response [200]>\n",
      "{\"retCode\":0,\"retMsg\":\"OK\",\"result\":{\"orderId\":\"b435fcdf-02c8-43f5-bd64-fcb8e64582b1\",\"orderLinkId\":\"\"},\"retExtInfo\":{},\"time\":1717681928964}\n",
      "Create Elapsed Time : 0:00:00.580417\n"
     ]
    },
    {
     "data": {
      "text/plain": [
       "<Response [200]>"
      ]
     },
     "execution_count": 28,
     "metadata": {},
     "output_type": "execute_result"
    }
   ],
   "source": [
    "#Create Order\n",
    "import json\n",
    "symbol = \"BTCUSDT\"\n",
    "params={\n",
    "\"category\":\"linear\",\n",
    "\"symbol\": symbol,\n",
    "\"side\": \"Buy\",\n",
    "\"orderType\": \"Limit\",\n",
    "\"qty\": \"0.001\",\n",
    "\"price\": \"60000\"}\n",
    "\n",
    "params = json.dumps(params)\n",
    "\n",
    "#\"positionIdx\": 0,\n",
    "#\"timeInForce\": \"GTC\"\n",
    "#\"orderLinkId\": \"' + orderLinkId + '\"\n",
    "endpoint=\"/v5/order/create\"\n",
    "method=\"POST\"\n",
    "orderLinkId=uuid.uuid4().hex\n",
    "res = HTTP_Request(endpoint,method,params,\"Create\")\n",
    "res"
   ]
  },
  {
   "cell_type": "code",
   "execution_count": 7,
   "id": "17b93e65-6926-46df-a73f-3ccb298abce3",
   "metadata": {
    "scrolled": true
   },
   "outputs": [
    {
     "name": "stdout",
     "output_type": "stream",
     "text": [
      "<Response [200]>\n",
      "{\"retCode\":0,\"retMsg\":\"OK\",\"result\":{\"nextPageCursor\":\"3c06db75-16e0-456e-9a02-6df05f64250a%3A1717678367486%2C2d0d5018-2c56-4606-a7cd-504f76080d89%3A1717673992329\",\"category\":\"linear\",\"list\":[{\"symbol\":\"BTCUSDT\",\"orderType\":\"Limit\",\"orderLinkId\":\"\",\"slLimitPrice\":\"0\",\"orderId\":\"3c06db75-16e0-456e-9a02-6df05f64250a\",\"cancelType\":\"UNKNOWN\",\"avgPrice\":\"\",\"stopOrderType\":\"\",\"lastPriceOnCreated\":\"71129.8\",\"orderStatus\":\"New\",\"createType\":\"CreateByUser\",\"takeProfit\":\"\",\"cumExecValue\":\"0\",\"tpslMode\":\"\",\"smpType\":\"None\",\"triggerDirection\":0,\"blockTradeId\":\"\",\"isLeverage\":\"\",\"rejectReason\":\"EC_NoError\",\"price\":\"60000\",\"orderIv\":\"\",\"createdTime\":\"1717678367486\",\"tpTriggerBy\":\"\",\"positionIdx\":0,\"timeInForce\":\"GTC\",\"leavesValue\":\"60\",\"updatedTime\":\"1717678367486\",\"side\":\"Buy\",\"smpGroup\":0,\"triggerPrice\":\"\",\"tpLimitPrice\":\"0\",\"cumExecFee\":\"0\",\"leavesQty\":\"0.001\",\"slTriggerBy\":\"\",\"closeOnTrigger\":false,\"placeType\":\"\",\"cumExecQty\":\"0\",\"reduceOnly\":false,\"qty\":\"0.001\",\"stopLoss\":\"\",\"marketUnit\":\"\",\"smpOrderId\":\"\",\"triggerBy\":\"\"},{\"symbol\":\"BTCUSDT\",\"orderType\":\"Limit\",\"orderLinkId\":\"\",\"slLimitPrice\":\"0\",\"orderId\":\"2d0d5018-2c56-4606-a7cd-504f76080d89\",\"cancelType\":\"UNKNOWN\",\"avgPrice\":\"\",\"stopOrderType\":\"\",\"lastPriceOnCreated\":\"71148.5\",\"orderStatus\":\"New\",\"createType\":\"CreateByUser\",\"takeProfit\":\"\",\"cumExecValue\":\"0\",\"tpslMode\":\"\",\"smpType\":\"None\",\"triggerDirection\":0,\"blockTradeId\":\"\",\"isLeverage\":\"\",\"rejectReason\":\"EC_NoError\",\"price\":\"60000\",\"orderIv\":\"\",\"createdTime\":\"1717673992329\",\"tpTriggerBy\":\"\",\"positionIdx\":0,\"timeInForce\":\"GTC\",\"leavesValue\":\"60\",\"updatedTime\":\"1717673992330\",\"side\":\"Buy\",\"smpGroup\":0,\"triggerPrice\":\"\",\"tpLimitPrice\":\"0\",\"cumExecFee\":\"0\",\"leavesQty\":\"0.001\",\"slTriggerBy\":\"\",\"closeOnTrigger\":false,\"placeType\":\"\",\"cumExecQty\":\"0\",\"reduceOnly\":false,\"qty\":\"0.001\",\"stopLoss\":\"\",\"marketUnit\":\"\",\"smpOrderId\":\"\",\"triggerBy\":\"\"}]},\"retExtInfo\":{},\"time\":1717678368226}\n",
      "Order List Elapsed Time : 0:00:00.722204\n"
     ]
    },
    {
     "data": {
      "text/plain": [
       "{'retCode': 0,\n",
       " 'retMsg': 'OK',\n",
       " 'result': {'nextPageCursor': '3c06db75-16e0-456e-9a02-6df05f64250a%3A1717678367486%2C2d0d5018-2c56-4606-a7cd-504f76080d89%3A1717673992329',\n",
       "  'category': 'linear',\n",
       "  'list': [{'symbol': 'BTCUSDT',\n",
       "    'orderType': 'Limit',\n",
       "    'orderLinkId': '',\n",
       "    'slLimitPrice': '0',\n",
       "    'orderId': '3c06db75-16e0-456e-9a02-6df05f64250a',\n",
       "    'cancelType': 'UNKNOWN',\n",
       "    'avgPrice': '',\n",
       "    'stopOrderType': '',\n",
       "    'lastPriceOnCreated': '71129.8',\n",
       "    'orderStatus': 'New',\n",
       "    'createType': 'CreateByUser',\n",
       "    'takeProfit': '',\n",
       "    'cumExecValue': '0',\n",
       "    'tpslMode': '',\n",
       "    'smpType': 'None',\n",
       "    'triggerDirection': 0,\n",
       "    'blockTradeId': '',\n",
       "    'isLeverage': '',\n",
       "    'rejectReason': 'EC_NoError',\n",
       "    'price': '60000',\n",
       "    'orderIv': '',\n",
       "    'createdTime': '1717678367486',\n",
       "    'tpTriggerBy': '',\n",
       "    'positionIdx': 0,\n",
       "    'timeInForce': 'GTC',\n",
       "    'leavesValue': '60',\n",
       "    'updatedTime': '1717678367486',\n",
       "    'side': 'Buy',\n",
       "    'smpGroup': 0,\n",
       "    'triggerPrice': '',\n",
       "    'tpLimitPrice': '0',\n",
       "    'cumExecFee': '0',\n",
       "    'leavesQty': '0.001',\n",
       "    'slTriggerBy': '',\n",
       "    'closeOnTrigger': False,\n",
       "    'placeType': '',\n",
       "    'cumExecQty': '0',\n",
       "    'reduceOnly': False,\n",
       "    'qty': '0.001',\n",
       "    'stopLoss': '',\n",
       "    'marketUnit': '',\n",
       "    'smpOrderId': '',\n",
       "    'triggerBy': ''},\n",
       "   {'symbol': 'BTCUSDT',\n",
       "    'orderType': 'Limit',\n",
       "    'orderLinkId': '',\n",
       "    'slLimitPrice': '0',\n",
       "    'orderId': '2d0d5018-2c56-4606-a7cd-504f76080d89',\n",
       "    'cancelType': 'UNKNOWN',\n",
       "    'avgPrice': '',\n",
       "    'stopOrderType': '',\n",
       "    'lastPriceOnCreated': '71148.5',\n",
       "    'orderStatus': 'New',\n",
       "    'createType': 'CreateByUser',\n",
       "    'takeProfit': '',\n",
       "    'cumExecValue': '0',\n",
       "    'tpslMode': '',\n",
       "    'smpType': 'None',\n",
       "    'triggerDirection': 0,\n",
       "    'blockTradeId': '',\n",
       "    'isLeverage': '',\n",
       "    'rejectReason': 'EC_NoError',\n",
       "    'price': '60000',\n",
       "    'orderIv': '',\n",
       "    'createdTime': '1717673992329',\n",
       "    'tpTriggerBy': '',\n",
       "    'positionIdx': 0,\n",
       "    'timeInForce': 'GTC',\n",
       "    'leavesValue': '60',\n",
       "    'updatedTime': '1717673992330',\n",
       "    'side': 'Buy',\n",
       "    'smpGroup': 0,\n",
       "    'triggerPrice': '',\n",
       "    'tpLimitPrice': '0',\n",
       "    'cumExecFee': '0',\n",
       "    'leavesQty': '0.001',\n",
       "    'slTriggerBy': '',\n",
       "    'closeOnTrigger': False,\n",
       "    'placeType': '',\n",
       "    'cumExecQty': '0',\n",
       "    'reduceOnly': False,\n",
       "    'qty': '0.001',\n",
       "    'stopLoss': '',\n",
       "    'marketUnit': '',\n",
       "    'smpOrderId': '',\n",
       "    'triggerBy': ''}]},\n",
       " 'retExtInfo': {},\n",
       " 'time': 1717678368226}"
      ]
     },
     "execution_count": 7,
     "metadata": {},
     "output_type": "execute_result"
    }
   ],
   "source": [
    "# geet open orders // see \"openOnly\" option\n",
    "endpoint=\"/v5/order/realtime\"\n",
    "method=\"GET\"\n",
    "params='category=linear&settleCoin=USDT'\n",
    "res = HTTP_Request(endpoint,method,params,\"Order List\")\n",
    "res = res.json()\n",
    "num_orders = len(res['result']['list'])\n",
    "symbols = [entry[\"symbol\"] for entry in res['result']['list']]\n",
    "res\n"
   ]
  },
  {
   "cell_type": "code",
   "execution_count": null,
   "id": "4ea4e0de-3d7f-48d0-a00b-dc2eaa79c78f",
   "metadata": {},
   "outputs": [],
   "source": []
  },
  {
   "cell_type": "code",
   "execution_count": 8,
   "id": "8eb29832-6b07-43ba-88a1-d826cf997994",
   "metadata": {},
   "outputs": [
    {
     "name": "stdout",
     "output_type": "stream",
     "text": [
      "<Response [200]>\n",
      "{\"retCode\":0,\"retMsg\":\"OK\",\"result\":{\"nextPageCursor\":\"BTCUSDT%2C1717669802036%2C0\",\"category\":\"linear\",\"list\":[{\"symbol\":\"BTCUSDT\",\"leverage\":\"10\",\"autoAddMargin\":0,\"avgPrice\":\"70986\",\"liqPrice\":\"\",\"riskLimitValue\":\"2000000\",\"takeProfit\":\"\",\"positionValue\":\"70.986\",\"isReduceOnly\":false,\"tpslMode\":\"Full\",\"riskId\":1,\"trailingStop\":\"0\",\"unrealisedPnl\":\"-0.1281\",\"markPrice\":\"71114.1\",\"adlRankIndicator\":2,\"cumRealisedPnl\":\"-0.12302366\",\"positionMM\":\"0.39787653\",\"createdTime\":\"1717669747543\",\"positionIdx\":0,\"positionIM\":\"7.14154653\",\"seq\":457843443,\"updatedTime\":\"1717669802036\",\"side\":\"Sell\",\"bustPrice\":\"\",\"positionBalance\":\"0\",\"leverageSysUpdatedTime\":\"\",\"curRealisedPnl\":\"-0.0390423\",\"size\":\"0.001\",\"positionStatus\":\"Normal\",\"mmrSysUpdatedTime\":\"\",\"stopLoss\":\"\",\"tradeMode\":0,\"sessionAvgPrice\":\"\"}]},\"retExtInfo\":{},\"time\":1717678368448}\n",
      "Position List Elapsed Time : 0:00:00.196680\n"
     ]
    },
    {
     "data": {
      "text/plain": [
       "[{'symbol': 'BTCUSDT',\n",
       "  'leverage': '10',\n",
       "  'autoAddMargin': 0,\n",
       "  'avgPrice': '70986',\n",
       "  'liqPrice': '',\n",
       "  'riskLimitValue': '2000000',\n",
       "  'takeProfit': '',\n",
       "  'positionValue': '70.986',\n",
       "  'isReduceOnly': False,\n",
       "  'tpslMode': 'Full',\n",
       "  'riskId': 1,\n",
       "  'trailingStop': '0',\n",
       "  'unrealisedPnl': '-0.1281',\n",
       "  'markPrice': '71114.1',\n",
       "  'adlRankIndicator': 2,\n",
       "  'cumRealisedPnl': '-0.12302366',\n",
       "  'positionMM': '0.39787653',\n",
       "  'createdTime': '1717669747543',\n",
       "  'positionIdx': 0,\n",
       "  'positionIM': '7.14154653',\n",
       "  'seq': 457843443,\n",
       "  'updatedTime': '1717669802036',\n",
       "  'side': 'Sell',\n",
       "  'bustPrice': '',\n",
       "  'positionBalance': '0',\n",
       "  'leverageSysUpdatedTime': '',\n",
       "  'curRealisedPnl': '-0.0390423',\n",
       "  'size': '0.001',\n",
       "  'positionStatus': 'Normal',\n",
       "  'mmrSysUpdatedTime': '',\n",
       "  'stopLoss': '',\n",
       "  'tradeMode': 0,\n",
       "  'sessionAvgPrice': ''}]"
      ]
     },
     "execution_count": 8,
     "metadata": {},
     "output_type": "execute_result"
    }
   ],
   "source": [
    "#Get open positions\n",
    "endpoint=\"/v5/position/list\"\n",
    "method=\"GET\"\n",
    "params='category=linear&settleCoin=USDT'\n",
    "res = HTTP_Request(endpoint,method,params,\"Position List\")\n",
    "res = res.json()\n",
    "res['result']['list']"
   ]
  },
  {
   "cell_type": "code",
   "execution_count": 9,
   "id": "51611c06-64f0-4895-a3e8-0a763053c499",
   "metadata": {},
   "outputs": [
    {
     "data": {
      "text/plain": [
       "'\\n#Get unfilled Orders\\nendpoint=\"/v5/order/realtime\"\\nmethod=\"GET\"\\nparams=\\'category=linear&settleCoin=USDT\\'\\nHTTP_Request(endpoint,method,params,\"UnFilled\")\\n\\n\\n#Cancel Order\\nendpoint=\"/v5/order/cancel\"\\nmethod=\"POST\"\\nparams=\\'{\"category\":\"linear\",\"symbol\": \"BTCUSDT\",\"orderLinkId\": \"\\'+orderLinkId+\\'\"}\\'\\nHTTP_Request(endpoint,method,params,\"Cancel\")\\n'"
      ]
     },
     "execution_count": 9,
     "metadata": {},
     "output_type": "execute_result"
    }
   ],
   "source": [
    "'''\n",
    "#Get unfilled Orders\n",
    "endpoint=\"/v5/order/realtime\"\n",
    "method=\"GET\"\n",
    "params='category=linear&settleCoin=USDT'\n",
    "HTTP_Request(endpoint,method,params,\"UnFilled\")\n",
    "\n",
    "\n",
    "#Cancel Order\n",
    "endpoint=\"/v5/order/cancel\"\n",
    "method=\"POST\"\n",
    "params='{\"category\":\"linear\",\"symbol\": \"BTCUSDT\",\"orderLinkId\": \"'+orderLinkId+'\"}'\n",
    "HTTP_Request(endpoint,method,params,\"Cancel\")\n",
    "'''"
   ]
  },
  {
   "cell_type": "code",
   "execution_count": 10,
   "id": "434f3420-3955-4d2a-ae75-064073000d2b",
   "metadata": {},
   "outputs": [
    {
     "data": {
      "text/plain": [
       "2"
      ]
     },
     "execution_count": 10,
     "metadata": {},
     "output_type": "execute_result"
    }
   ],
   "source": [
    "x = [{'symbol': 'BTCUSDT',\n",
    "  'leverage': '10',\n",
    "  'autoAddMargin': 0,\n",
    "  'stopLoss': '',\n",
    "  'tradeMode': 0,\n",
    "  'sessionAvgPrice': ''},\n",
    "     {'symbol': 'BTCUSDT',\n",
    "  'leverage': '10',\n",
    "  'autoAddMargin': 0,\n",
    "  'stopLoss': '',\n",
    "  'tradeMode': 0,\n",
    "  'sessionAvgPrice': ''}\n",
    "    ]\n",
    "x_ = [entry[\"symbol\"] for entry in x]\n",
    "len(x)"
   ]
  },
  {
   "cell_type": "code",
   "execution_count": 11,
   "id": "7be9d14f-91bb-452b-8558-a389dcfc90a9",
   "metadata": {},
   "outputs": [
    {
     "data": {
      "text/plain": [
       "False"
      ]
     },
     "execution_count": 11,
     "metadata": {},
     "output_type": "execute_result"
    }
   ],
   "source": [
    "active_symbol = [\"ETH\",\"BTC\"]\n",
    "active_symbol_ = [\"CTC\"]\n",
    "symbol = \"ETH\"\n",
    "\n",
    "symbol not in active_symbol+active_symbol_"
   ]
  },
  {
   "cell_type": "code",
   "execution_count": 12,
   "id": "fdf47e79-96dc-4d43-908e-bc50fe15f25e",
   "metadata": {},
   "outputs": [
    {
     "data": {
      "text/plain": [
       "'Buy'"
      ]
     },
     "execution_count": 12,
     "metadata": {},
     "output_type": "execute_result"
    }
   ],
   "source": [
    "side = \"up\"\n",
    "side = \"Buy\" if side == \"up\" else \"Sell\"\n",
    "side"
   ]
  },
  {
   "cell_type": "code",
   "execution_count": 33,
   "id": "293959d2-718d-4d77-9843-39b3c4b4fc24",
   "metadata": {},
   "outputs": [
    {
     "name": "stdout",
     "output_type": "stream",
     "text": [
      "<Response [200]>\n",
      "{\"retCode\":0,\"retMsg\":\"OK\",\"result\":{\"nextPageCursor\":\"\",\"category\":\"linear\",\"list\":[]},\"retExtInfo\":{},\"time\":1717682363670}\n",
      "Position List Elapsed Time : 0:00:00.565519\n",
      "<Response [200]>\n",
      "{\"retCode\":0,\"retMsg\":\"OK\",\"result\":{\"nextPageCursor\":\"\",\"category\":\"linear\",\"list\":[]},\"retExtInfo\":{},\"time\":1717682364382}\n",
      "Position List Elapsed Time : 0:00:00.707034\n",
      "<Response [200]>\n",
      "{\"retCode\":0,\"retMsg\":\"OK\",\"result\":{\"orderId\":\"791d5144-fd96-42f3-9acd-790c33ded61d\",\"orderLinkId\":\"\"},\"retExtInfo\":{},\"time\":1717682364910}\n",
      "Create Order Elapsed Time : 0:00:00.524859\n"
     ]
    },
    {
     "data": {
      "text/plain": [
       "<Response [200]>"
      ]
     },
     "execution_count": 33,
     "metadata": {},
     "output_type": "execute_result"
    }
   ],
   "source": [
    "# DEMO NET\n",
    "api_key = \"GMUtVbMzRhohkOagoW\"\n",
    "secret_key = \"vexur1jjKy5AiQE0rXMhVYbjRFRy6jVxhIhf\"\n",
    "side = \"up\"\n",
    "entry = str(60000)\n",
    "take_profit = entry\n",
    "stop_loss = entry\n",
    "\n",
    "\n",
    "def active_orders(api_key,api_secret):\n",
    "    endpoint=\"/v5/order/realtime\"\n",
    "    method=\"GET\"\n",
    "    params='category=linear&settleCoin=USDT'\n",
    "    res = HTTP_Request(endpoint,method,params,\"Position List\")\n",
    "    res = res.json()\n",
    "    num_orders = len(res['result']['list'])\n",
    "    symbols = [entry[\"symbol\"] for entry in res['result']['list']]\n",
    "    return num_orders,symbols\n",
    "\n",
    "\n",
    "def active_positions(api_key,api_secret):\n",
    "    endpoint=\"/v5/position/list\"\n",
    "    method=\"GET\"\n",
    "    params='category=linear&settleCoin=USDT'\n",
    "    res = HTTP_Request(endpoint,method,params,\"Position List\")\n",
    "    res = res.json()\n",
    "    num_orders = len(res['result']['list'])\n",
    "    symbols = [entry[\"symbol\"] for entry in res['result']['list']]\n",
    "    return num_orders,symbols\n",
    "\n",
    "def place_order(api_key,api_secret,side,entry,take_profit,stop_loss):\n",
    "    '''\n",
    "    places an order at the bybit exchange only if there is no active order or position\n",
    "    '''\n",
    "    endpoint=\"/v5/order/create\"\n",
    "    method=\"POST\"\n",
    "    symbol = \"BTCUSDT\"\n",
    "    side = \"Buy\" if side == \"up\" else \"Sell\"\n",
    "    \n",
    "    params={\n",
    "    \"category\":\"linear\",\n",
    "    \"symbol\": symbol,\n",
    "    \"side\": side,\n",
    "    \"orderType\": \"Limit\",\n",
    "    \"qty\": \"0.001\",\n",
    "    \"price\": str(entry),\n",
    "    \"takeProfit\" : str(take_profit),\n",
    "    \"tpLimitPrice\" : str(take_profit),\n",
    "    \"tpOrderType\" : \"Limit\",\n",
    "    \"stopLoss\" : str(stop_loss),\n",
    "    \"slLimitPrice\" : str(stop_loss),\n",
    "    \"slOrderType\" : \"Limit\",\n",
    "    \"tpslMode\" : \"Partial\"\n",
    "    }\n",
    "    params = json.dumps(params)\n",
    "    \n",
    "    # check active order\n",
    "    active_positions_count, active_symbols_pos = active_positions(api_key, api_secret)\n",
    "    active_orders_count, active_symbols_order = active_orders(api_key, api_secret)\n",
    "\n",
    "    if symbol not in active_symbols_pos + active_symbols_order:\n",
    "        if (active_positions_count < 1) & (active_orders_count < 1):\n",
    "            res = HTTP_Request(endpoint, method, params, \"Create Order\")\n",
    "        else: \n",
    "            res = \"No order placed because of active orders or positions.\"\n",
    "    else:\n",
    "        res = \"No order placed because of active Symbols.\"\n",
    "            \n",
    "    return res\n",
    "    \n",
    "place_order(api_key,secret_key,side,entry,take_profit,stop_loss)"
   ]
  },
  {
   "cell_type": "markdown",
   "id": "f0886f76-46e3-49c8-9b76-84e340756af3",
   "metadata": {},
   "source": [
    "# fetch kline"
   ]
  },
  {
   "cell_type": "code",
   "execution_count": null,
   "id": "b0b59792-f72c-4e75-96d5-f2947fe24f48",
   "metadata": {},
   "outputs": [],
   "source": [
    "\n",
    "def fetch_kline():\n",
    "    '''\n",
    "    fetches data from bybit with hard-coded characteristics. \n",
    "    '''\n",
    "    # Define the endpoint and parameters\n",
    "    base_url = \"https://api-demo.bybit.com\"\n",
    "    endpoint = \"/v5/market/kline\"\n",
    "    symbol = \"BTCUSDT\"  # Example trading pair\n",
    "    interval = \"15\"    # Kline interval, e.g., \"1\", \"5\", \"15\", \"60\", \"240\", etc.\n",
    "    limit = 10        # Number of klines to fetch\n",
    "    start_time = int(time.time()) - 3600 * 24  # Start time in seconds (e.g., 24 hours ago)\n",
    "    \n",
    "    # Construct the URL\n",
    "    url = f\"{base_url}{endpoint}?category=linear&symbol={symbol}&interval={interval}&limit={limit}\"#&start_time={start_time}\"\n",
    "    \n",
    "    # Make the GET request\n",
    "    response = requests.get(url,headers={}, data={})\n",
    "    data = response.json() \n",
    "    \n",
    "    # print(data)\n",
    "    # print(Timestamp(data[\"time\"],unit=\"ms\"))\n",
    "    return data\n",
    "fetch_kline()"
   ]
  },
  {
   "cell_type": "markdown",
   "id": "dbd07e10-845a-44fb-ad17-00e08b4ee63d",
   "metadata": {
    "jp-MarkdownHeadingCollapsed": true
   },
   "source": [
    "# pybit functions"
   ]
  },
  {
   "cell_type": "code",
   "execution_count": null,
   "id": "8103b319-4ebe-41b1-b41b-2328d3ed5c0c",
   "metadata": {},
   "outputs": [],
   "source": [
    "import time\n",
    "import hmac\n",
    "import hashlib\n",
    "from Crypto.Hash import SHA256\n",
    "from Crypto.PublicKey import RSA\n",
    "from Crypto.Signature import PKCS1_v1_5\n",
    "\n",
    "def generate_signature(use_rsa_authentication, secret, param_str):\n",
    "    def generate_hmac():\n",
    "        hash = hmac.new(\n",
    "            bytes(secret, \"utf-8\"),\n",
    "            param_str.encode(\"utf-8\"),\n",
    "            hashlib.sha256,\n",
    "        )\n",
    "        return hash.hexdigest()\n",
    "\n",
    "    def generate_rsa():\n",
    "        hash = SHA256.new(param_str.encode(\"utf-8\"))\n",
    "        encoded_signature = base64.b64encode(\n",
    "            PKCS1_v1_5.new(RSA.importKey(secret)).sign(\n",
    "                hash\n",
    "            )\n",
    "        )\n",
    "        return encoded_signature.decode()\n",
    "\n",
    "    if not use_rsa_authentication:\n",
    "        return generate_hmac()\n",
    "    else:\n",
    "        return generate_rsa()"
   ]
  },
  {
   "cell_type": "code",
   "execution_count": null,
   "id": "4d6bef78-4980-47e4-9dfb-a39877fb35fd",
   "metadata": {},
   "outputs": [],
   "source": [
    "# pybit functions: \n",
    "\n",
    "\n",
    "parameters = {\n",
    "    'category' : 'inverse',\n",
    "    'symbol' : 'BTCUSDT',\n",
    "    'side': 'Buy',\n",
    "    'orderType': 'Limit',\n",
    "    'qty': '0.003',\n",
    "    'price': '60000'\n",
    "}\n",
    "\n",
    "timestamp = str(int(time.time() * 1000))\n",
    "\n",
    "payload = \"&\".join(\n",
    "            [\n",
    "                str(k) + \"=\" + str(v)\n",
    "                for k, v in sorted(parameters.items())\n",
    "                if v is not None\n",
    "            ])\n",
    "\n",
    "param_str = str(timestamp) + api_key + str(recv_window) + payload\n",
    "\n",
    "generate_signature(rsa_authentication, api_secret, param_str)\n",
    "\n",
    "\n",
    "def auth(self, payload, recv_window, timestamp):\n",
    "    \"\"\"\n",
    "    Prepares authentication signature per Bybit API specifications.\n",
    "    \"\"\"\n",
    "\n",
    "    if api_key is None or api_secret is None:\n",
    "        raise PermissionError(\"Authenticated endpoints require keys.\")\n",
    "\n",
    "    param_str = str(timestamp) + api_key + str(recv_window) + payload\n",
    "\n",
    "    return generate_signature(\n",
    "        rsa_authentication, api_secret, param_str\n",
    "    )\n",
    "    \n",
    "signature = auth(\n",
    "                payload=req_params,\n",
    "                recv_window=recv_window,\n",
    "                timestamp=timestamp,\n",
    "            )\n"
   ]
  },
  {
   "cell_type": "markdown",
   "id": "3b4ca15b-7980-495e-980a-ee875584c1a4",
   "metadata": {},
   "source": [
    "# first tries and other stuff"
   ]
  },
  {
   "cell_type": "code",
   "execution_count": null,
   "id": "c5e11228-b159-4abe-a4a8-2f21dc0935f5",
   "metadata": {},
   "outputs": [],
   "source": [
    "import time\n",
    "import hashlib\n",
    "import hmac\n",
    "import requests\n",
    "\n",
    "# Replace these with your API key and secret\n",
    "# api_key_testnet = \"yeOt7DrchkqM9r7sQy\"\n",
    "# api_secret_testnet = \"JJHVxNX2wc7di918pwjxSJemJd6j1bsAVRmO\"\n",
    "\n",
    "# hmac api keys\n",
    "api_key = \"vgcrg9nWw7owVYEDdc\"\n",
    "api_secret = \"YPz7eb0YzhOpa9s2yMEj3P4UdXrmSEtqRDCP\"\n",
    "\n",
    "\n",
    "def sign(secret,payload):\n",
    "    return hmac.new(bytes(secret, 'utf-8'), bytes(payload, 'utf-8'), hashlib.sha256).hexdigest()\n",
    "\n",
    "def place_order(api_key, api_secret, side, price,take_profit,stop_loss):\n",
    "    \n",
    "    url = 'https://api-testnet.bybit.com/v5/order/create'\n",
    "\n",
    "    params = {\n",
    "        #'timestamp': int(time.time() * 1000),\n",
    "        #'api_key': api_key,\n",
    "        #'recv_window': 5000,\n",
    "        'category' : 'inverse',\n",
    "        'symbol' : 'BTCUSDT',\n",
    "        #'isLeverage' : '0',\n",
    "        'side': side,\n",
    "        'orderType': 'Limit',\n",
    "        'qty': '0.003',\n",
    "        'price': price,\n",
    "        #'time_in_force': 'GTC',\n",
    "        #'takeProfit' : take_profit,\n",
    "        #'tpLimitPrice' : take_profit,\n",
    "        #'tpOrderType' : 'Limit',\n",
    "        #'stopLoss' : stop_loss,\n",
    "        #'slLimitPrice' : stop_loss,\n",
    "        #'slOrderType' : 'Limit',\n",
    "        #'tpslMode' : 'Partial',\n",
    "    }\n",
    "\n",
    "    # Create the query string\n",
    "    query_string = '&'.join([f\"{key}={value}\" for key, value in params.items()])\n",
    "\n",
    "    print(params.items())\n",
    "    ts = str(int(time.time() * 1000))\n",
    "    \n",
    "    # Sign the query string\n",
    "    params['sign'] = sign(ts, api_secret,query_string)\n",
    "\n",
    "    # Send the request\n",
    "    response = requests.post(url, data=params)\n",
    "    \n",
    "    return response\n",
    "\n",
    "# Example usage:\n",
    "symbol = 'BTCUSDT'\n",
    "side = 'Buy'\n",
    "price = 70000  # Limit price\n",
    "take_profit = 71000\n",
    "stop_loss = 68000\n",
    "\n",
    "\n",
    "order_response = place_order(api_key, api_secret, side, price,take_profit,stop_loss)\n",
    "\n",
    "print(order_response)\n",
    "print(order_response.json())\n"
   ]
  },
  {
   "cell_type": "code",
   "execution_count": null,
   "id": "c2e96a98-f1ee-41da-a16c-1637ba6d7e2f",
   "metadata": {},
   "outputs": [],
   "source": [
    "import requests\n",
    "\n",
    "url = \"https://api-testnet.bybit.com/v5/order/create\"\n",
    "timestamp = int(time.time() * 1000)\n",
    "\n",
    "payload = \"{\\n  \\\"category\\\": \\\"linear\\\",\\n  \\\"symbol\\\": \\\"BTCUSDT\\\",\\n  \\\"side\\\": \\\"Buy\\\",\\n  \\\"orderType\\\": \\\"Limit\\\",\\n  \\\"qty\\\": \\\"0.002\\\",\\n  \\\"price\\\": \\\"70000\\\",\\n  \\\"triggerPrice\\\": null,\\n  \\\"triggerDirection\\\": null,\\n  \\\"triggerBy\\\": null,\\n  \\\"orderFilter\\\": null,\\n  \\\"orderIv\\\": null,\\n  \\\"timeInForce\\\": \\\"GTC\\\",\\n  \\\"positionIdx\\\": 0,\\n  \\\"orderLinkId\\\": \\\"test-xx1\\\",\\n  \\\"takeProfit\\\": null,\\n  \\\"stopLoss\\\": null,\\n  \\\"tpTriggerBy\\\": null,\\n  \\\"slTriggerBy\\\": null,\\n  \\\"reduceOnly\\\": false,\\n  \\\"closeOnTrigger\\\": false,\\n  \\\"smpType\\\": null,\\n  \\\"mmp\\\": null,\\n  \\\"tpslMode\\\": null,\\n  \\\"tpLimitPrice\\\": null,\\n  \\\"slLimitPrice\\\": null,\\n  \\\"tpOrderType\\\": null,\\n  \\\"slOrderType\\\": null\\n}\"\n",
    "headers = {\n",
    "    \"Content-Type\": \"application/json\",\n",
    "    'X-BAPI-API-KEY': str(api_key_testnet),\n",
    "    'X-BAPI-TIMESTAMP': str(timestamp),\n",
    "    'X-BAPI-RECV-WINDOW': '20000',\n",
    "    'X-BAPI-SIGN': '8b96a595c486b7b5ed0d7ad66f001b4d206026e761d73406080f9cae57cd9ecd'\n",
    "}\n",
    "\n",
    "  headers = {\n",
    "                    \"Content-Type\": \"application/json\",\n",
    "                    \"X-BAPI-API-KEY\": api_key,\n",
    "                    \"X-BAPI-SIGN\": signature,\n",
    "                    \"X-BAPI-SIGN-TYPE\": \"2\",\n",
    "                    \"X-BAPI-TIMESTAMP\": str(timestamp),\n",
    "                    \"X-BAPI-RECV-WINDOW\": str(recv_window),\n",
    "                }\n",
    "\n",
    "response = requests.request(\"POST\", url, headers=headers, data=payload)\n",
    "\n",
    "print(response.text)"
   ]
  }
 ],
 "metadata": {
  "kernelspec": {
   "display_name": "Python 3 (ipykernel)",
   "language": "python",
   "name": "python3"
  },
  "language_info": {
   "codemirror_mode": {
    "name": "ipython",
    "version": 3
   },
   "file_extension": ".py",
   "mimetype": "text/x-python",
   "name": "python",
   "nbconvert_exporter": "python",
   "pygments_lexer": "ipython3",
   "version": "3.10.13"
  }
 },
 "nbformat": 4,
 "nbformat_minor": 5
}
