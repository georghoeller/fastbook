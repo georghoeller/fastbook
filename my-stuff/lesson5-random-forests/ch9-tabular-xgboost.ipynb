{
 "cells": [
  {
   "cell_type": "markdown",
   "id": "d116ef5b-1473-4a14-b140-173ed165b6ac",
   "metadata": {},
   "source": [
    "# xgboost and Tabular data\n",
    "## update tabular-trees notebook with xgboost and data preperation\n",
    "\n",
    "\n",
    "See: \n",
    "https://scikit-learn.org/stable/modules/generated/sklearn.ensemble.GradientBoostingClassifier.html#sklearn.ensemble.GradientBoostingClassifier\n",
    "\n",
    "This is done with a 15m data set. \n",
    "\n",
    "Another approaches are: \n",
    "- 1 minute data set (2 std and 0.1% profit)\n",
    "- more months\n",
    "- do some descriptive data on MA length and when prices are out of BB range\n",
    "- extending the dependent variable to more periods, so that the X% rise or fall occurs in the next e.g. 2-5 candles and not in the next candle "
   ]
  },
  {
   "cell_type": "code",
   "execution_count": 20,
   "id": "c4041461-3ec9-4af8-a4e5-5ac6b0ed62e8",
   "metadata": {},
   "outputs": [
    {
     "name": "stdout",
     "output_type": "stream",
     "text": [
      "(11716, 6)\n"
     ]
    },
    {
     "data": {
      "text/html": [
       "<div>\n",
       "<style scoped>\n",
       "    .dataframe tbody tr th:only-of-type {\n",
       "        vertical-align: middle;\n",
       "    }\n",
       "\n",
       "    .dataframe tbody tr th {\n",
       "        vertical-align: top;\n",
       "    }\n",
       "\n",
       "    .dataframe thead th {\n",
       "        text-align: right;\n",
       "    }\n",
       "</style>\n",
       "<table border=\"1\" class=\"dataframe\">\n",
       "  <thead>\n",
       "    <tr style=\"text-align: right;\">\n",
       "      <th></th>\n",
       "      <th>time</th>\n",
       "      <th>open</th>\n",
       "      <th>high</th>\n",
       "      <th>low</th>\n",
       "      <th>close</th>\n",
       "      <th>vol</th>\n",
       "    </tr>\n",
       "  </thead>\n",
       "  <tbody>\n",
       "    <tr>\n",
       "      <th>0</th>\n",
       "      <td>2023.06.01 00:00</td>\n",
       "      <td>27103.1</td>\n",
       "      <td>27108.1</td>\n",
       "      <td>27080.6</td>\n",
       "      <td>27096.9</td>\n",
       "      <td>386.675</td>\n",
       "    </tr>\n",
       "    <tr>\n",
       "      <th>1</th>\n",
       "      <td>2023.06.01 00:15</td>\n",
       "      <td>27096.9</td>\n",
       "      <td>27096.9</td>\n",
       "      <td>27036.7</td>\n",
       "      <td>27047.0</td>\n",
       "      <td>408.680</td>\n",
       "    </tr>\n",
       "    <tr>\n",
       "      <th>2</th>\n",
       "      <td>2023.06.01 00:30</td>\n",
       "      <td>27047.0</td>\n",
       "      <td>27077.4</td>\n",
       "      <td>27041.0</td>\n",
       "      <td>27054.9</td>\n",
       "      <td>275.080</td>\n",
       "    </tr>\n",
       "  </tbody>\n",
       "</table>\n",
       "</div>"
      ],
      "text/plain": [
       "               time     open     high      low    close      vol\n",
       "0  2023.06.01 00:00  27103.1  27108.1  27080.6  27096.9  386.675\n",
       "1  2023.06.01 00:15  27096.9  27096.9  27036.7  27047.0  408.680\n",
       "2  2023.06.01 00:30  27047.0  27077.4  27041.0  27054.9  275.080"
      ]
     },
     "execution_count": 20,
     "metadata": {},
     "output_type": "execute_result"
    }
   ],
   "source": [
    "# import data from septembre of 2022 since it was rather stable during this period\n",
    "import pandas as pd\n",
    "import numpy as np\n",
    "import os\n",
    "iskaggle = os.environ.get('KAGGLE_KERNEL_RUN_TYPE', '')\n",
    "\n",
    "if iskaggle:\n",
    "    df = pd.read_csv(\"/kaggle/input/btcusdt-2023-6-9/btcusdt-2023-6_9.csv\", index_col=0).reset_index(drop=True)\n",
    "else:\n",
    "    df = pd.read_csv(\"btc-data/btcusdt-2023-6_9.csv\", index_col=0).reset_index(drop=True)\n",
    "\n",
    "\n",
    "print(df.shape)\n",
    "df.head(3)"
   ]
  },
  {
   "cell_type": "code",
   "execution_count": 21,
   "id": "9b4b94d4-e167-4e8f-b505-ee3d3e386c5d",
   "metadata": {},
   "outputs": [
    {
     "name": "stdout",
     "output_type": "stream",
     "text": [
      "10476707.786249999\n"
     ]
    },
    {
     "data": {
      "text/plain": [
       "200075.70050442"
      ]
     },
     "execution_count": 21,
     "metadata": {},
     "output_type": "execute_result"
    }
   ],
   "source": [
    "# show that one can calculate the vol and vol_coin numbers from the API call 1\n",
    "print(386.675*((27108.1+27080.6)/2))\n",
    "\n",
    "# take average of high and low and then multiply by vol_coin (which is available)\n",
    "#  vol        vol_coin\n",
    "#, '200082', '2.81566749'\n",
    "2.81566749*((71063+71053)/2) "
   ]
  },
  {
   "cell_type": "code",
   "execution_count": 22,
   "id": "bee7f120-1be6-4f00-9c47-18fc04c1cef6",
   "metadata": {},
   "outputs": [
    {
     "data": {
      "text/plain": [
       "Index(['time', 'open', 'high', 'low', 'close', 'vol'], dtype='object')"
      ]
     },
     "execution_count": 22,
     "metadata": {},
     "output_type": "execute_result"
    }
   ],
   "source": [
    "df.columns"
   ]
  },
  {
   "cell_type": "code",
   "execution_count": 23,
   "id": "759fde58-14d8-47d0-ab5d-e609962f2d54",
   "metadata": {},
   "outputs": [
    {
     "data": {
      "text/plain": [
       "11716"
      ]
     },
     "execution_count": 23,
     "metadata": {},
     "output_type": "execute_result"
    }
   ],
   "source": [
    "len(df.high)"
   ]
  },
  {
   "cell_type": "code",
   "execution_count": 24,
   "id": "a6a76231-58be-4667-957d-1e5e681007e0",
   "metadata": {},
   "outputs": [],
   "source": [
    "# clear column names of whitespaces etc. for renaming purposes\n",
    "df.columns = df.columns.str.strip()\n",
    "\n",
    "# rename vol to vol_coin bc of API call consistency data mapping (vol is in paper currency)\n",
    "df.rename(columns={\"vol\": \"vol_coin\"},inplace=True)\n",
    "\n",
    "\n",
    "# idx = 0\n",
    "# new_col = [7, 8, 9]  # can be a list, a Series, an array or a scalar   \n",
    "# df.insert(loc=idx, column='A', value=new_col)\n",
    "\n",
    "# add vol of coin in dollar currency\n",
    "vol = df.vol_coin * ((df.high+df.low)/2)\n",
    "\n",
    "df.insert(loc = 5, column = \"vol\",  value=vol)\n"
   ]
  },
  {
   "cell_type": "code",
   "execution_count": 25,
   "id": "443cce8b-3930-48c8-a294-60fca4772e06",
   "metadata": {},
   "outputs": [
    {
     "data": {
      "text/html": [
       "<div>\n",
       "<style scoped>\n",
       "    .dataframe tbody tr th:only-of-type {\n",
       "        vertical-align: middle;\n",
       "    }\n",
       "\n",
       "    .dataframe tbody tr th {\n",
       "        vertical-align: top;\n",
       "    }\n",
       "\n",
       "    .dataframe thead th {\n",
       "        text-align: right;\n",
       "    }\n",
       "</style>\n",
       "<table border=\"1\" class=\"dataframe\">\n",
       "  <thead>\n",
       "    <tr style=\"text-align: right;\">\n",
       "      <th></th>\n",
       "      <th>time</th>\n",
       "      <th>open</th>\n",
       "      <th>high</th>\n",
       "      <th>low</th>\n",
       "      <th>close</th>\n",
       "      <th>vol</th>\n",
       "      <th>vol_coin</th>\n",
       "    </tr>\n",
       "  </thead>\n",
       "  <tbody>\n",
       "    <tr>\n",
       "      <th>0</th>\n",
       "      <td>2023.06.01 00:00</td>\n",
       "      <td>27103.1</td>\n",
       "      <td>27108.1</td>\n",
       "      <td>27080.6</td>\n",
       "      <td>27096.9</td>\n",
       "      <td>1.047671e+07</td>\n",
       "      <td>386.675</td>\n",
       "    </tr>\n",
       "  </tbody>\n",
       "</table>\n",
       "</div>"
      ],
      "text/plain": [
       "               time     open     high      low    close           vol  \\\n",
       "0  2023.06.01 00:00  27103.1  27108.1  27080.6  27096.9  1.047671e+07   \n",
       "\n",
       "   vol_coin  \n",
       "0   386.675  "
      ]
     },
     "execution_count": 25,
     "metadata": {},
     "output_type": "execute_result"
    }
   ],
   "source": [
    "df.head(1) # now the mapping is in line with the API call structure "
   ]
  },
  {
   "cell_type": "code",
   "execution_count": 26,
   "id": "c3a39584-dc53-41f3-9f8c-9614701cee4c",
   "metadata": {},
   "outputs": [
    {
     "data": {
      "text/html": [
       "<div>\n",
       "<style scoped>\n",
       "    .dataframe tbody tr th:only-of-type {\n",
       "        vertical-align: middle;\n",
       "    }\n",
       "\n",
       "    .dataframe tbody tr th {\n",
       "        vertical-align: top;\n",
       "    }\n",
       "\n",
       "    .dataframe thead th {\n",
       "        text-align: right;\n",
       "    }\n",
       "</style>\n",
       "<table border=\"1\" class=\"dataframe\">\n",
       "  <thead>\n",
       "    <tr style=\"text-align: right;\">\n",
       "      <th></th>\n",
       "      <th>time</th>\n",
       "      <th>open</th>\n",
       "      <th>high</th>\n",
       "      <th>low</th>\n",
       "      <th>close</th>\n",
       "      <th>vol</th>\n",
       "      <th>vol_coin</th>\n",
       "      <th>day</th>\n",
       "      <th>hour</th>\n",
       "    </tr>\n",
       "  </thead>\n",
       "  <tbody>\n",
       "    <tr>\n",
       "      <th>0</th>\n",
       "      <td>2023-06-01</td>\n",
       "      <td>27103.1</td>\n",
       "      <td>27108.1</td>\n",
       "      <td>27080.6</td>\n",
       "      <td>27096.9</td>\n",
       "      <td>1.047671e+07</td>\n",
       "      <td>386.675</td>\n",
       "      <td>1</td>\n",
       "      <td>0</td>\n",
       "    </tr>\n",
       "  </tbody>\n",
       "</table>\n",
       "</div>"
      ],
      "text/plain": [
       "        time     open     high      low    close           vol  vol_coin  day  \\\n",
       "0 2023-06-01  27103.1  27108.1  27080.6  27096.9  1.047671e+07   386.675    1   \n",
       "\n",
       "   hour  \n",
       "0     0  "
      ]
     },
     "execution_count": 26,
     "metadata": {},
     "output_type": "execute_result"
    }
   ],
   "source": [
    "# transform to date_time\n",
    "df[\"time\"] = pd.to_datetime(df[\"time\"])\n",
    "\n",
    "# Extracting day and hour\n",
    "df[\"day\"] = df[\"time\"].dt.day\n",
    "df[\"hour\"] = df[\"time\"].dt.hour\n",
    "\n",
    "df.head(1)"
   ]
  },
  {
   "cell_type": "code",
   "execution_count": 32,
   "id": "f5b37a56-6e4f-4382-88ec-7c5f25a3674a",
   "metadata": {},
   "outputs": [],
   "source": [
    "# the 10-day moving average\n",
    "df[\"10MA\"] = df[\"close\"].rolling(window=10).mean().shift(-9)\n",
    "\n",
    "# Calculate the standard deviation of the closing prices over the same 20-day period\n",
    "df[\"10STD\"] = df[\"close\"].rolling(window=10).std().shift(-9)\n",
    "\n",
    "# volume weighted close price\n",
    "df[\"vwap\"] = df.close/df.vol\n",
    "\n",
    "# Bollinger Band: \n",
    "# simple_moving_average(20) + std x 2 | sma - std x 2\n",
    "df[\"bb_upper_band\"] = df[\"10MA\"] + 2 * df[\"10STD\"]\n",
    "df[\"bb_lower_band\"] = df[\"10MA\"] - 2 * df[\"10STD\"]\n",
    "\n",
    "# daily_open\n",
    "# df[\"daily_open\"] = df.groupby(df[\"day\"])[\"open\"].transform(\"first\")\n",
    "\n",
    "# daily_close\n",
    "# df[\"daily_close\"] = df.groupby(df[\"day\"])[\"close\"].transform(\"first\")\n",
    "\n",
    "\n",
    "# Calculate On-Balance Volume (OBV)\n",
    "df[\"change\"] = df[\"close\"].diff(periods=-1)\n",
    "df[\"direction\"] = df[\"change\"].apply(lambda x: 1 if x > 0 else (-1 if x < 0 else 0))\n",
    "df[\"obv\"] = df[\"vol\"] * df[\"direction\"]\n",
    "df[\"obv\"] = df[\"obv\"].cumsum()"
   ]
  },
  {
   "cell_type": "code",
   "execution_count": 28,
   "id": "b47cffd3-c65b-4b36-bdff-c2217d1d951c",
   "metadata": {},
   "outputs": [
    {
     "data": {
      "text/html": [
       "<div>\n",
       "<style scoped>\n",
       "    .dataframe tbody tr th:only-of-type {\n",
       "        vertical-align: middle;\n",
       "    }\n",
       "\n",
       "    .dataframe tbody tr th {\n",
       "        vertical-align: top;\n",
       "    }\n",
       "\n",
       "    .dataframe thead th {\n",
       "        text-align: right;\n",
       "    }\n",
       "</style>\n",
       "<table border=\"1\" class=\"dataframe\">\n",
       "  <thead>\n",
       "    <tr style=\"text-align: right;\">\n",
       "      <th></th>\n",
       "      <th>time</th>\n",
       "      <th>day</th>\n",
       "      <th>hour</th>\n",
       "      <th>10MA</th>\n",
       "      <th>10STD</th>\n",
       "      <th>bb_upper_band</th>\n",
       "      <th>bb_lower_band</th>\n",
       "    </tr>\n",
       "  </thead>\n",
       "  <tbody>\n",
       "    <tr>\n",
       "      <th>0</th>\n",
       "      <td>2023-06-01 00:00:00</td>\n",
       "      <td>1</td>\n",
       "      <td>0</td>\n",
       "      <td>27117.44</td>\n",
       "      <td>47.868273</td>\n",
       "      <td>27213.176546</td>\n",
       "      <td>27021.703454</td>\n",
       "    </tr>\n",
       "    <tr>\n",
       "      <th>1</th>\n",
       "      <td>2023-06-01 00:15:00</td>\n",
       "      <td>1</td>\n",
       "      <td>0</td>\n",
       "      <td>27132.45</td>\n",
       "      <td>62.122858</td>\n",
       "      <td>27256.695715</td>\n",
       "      <td>27008.204285</td>\n",
       "    </tr>\n",
       "    <tr>\n",
       "      <th>2</th>\n",
       "      <td>2023-06-01 00:30:00</td>\n",
       "      <td>1</td>\n",
       "      <td>0</td>\n",
       "      <td>27147.65</td>\n",
       "      <td>57.300422</td>\n",
       "      <td>27262.250844</td>\n",
       "      <td>27033.049156</td>\n",
       "    </tr>\n",
       "    <tr>\n",
       "      <th>3</th>\n",
       "      <td>2023-06-01 00:45:00</td>\n",
       "      <td>1</td>\n",
       "      <td>0</td>\n",
       "      <td>27172.57</td>\n",
       "      <td>66.008435</td>\n",
       "      <td>27304.586869</td>\n",
       "      <td>27040.553131</td>\n",
       "    </tr>\n",
       "    <tr>\n",
       "      <th>4</th>\n",
       "      <td>2023-06-01 01:00:00</td>\n",
       "      <td>1</td>\n",
       "      <td>1</td>\n",
       "      <td>27191.57</td>\n",
       "      <td>65.019160</td>\n",
       "      <td>27321.608321</td>\n",
       "      <td>27061.531679</td>\n",
       "    </tr>\n",
       "    <tr>\n",
       "      <th>...</th>\n",
       "      <td>...</td>\n",
       "      <td>...</td>\n",
       "      <td>...</td>\n",
       "      <td>...</td>\n",
       "      <td>...</td>\n",
       "      <td>...</td>\n",
       "      <td>...</td>\n",
       "    </tr>\n",
       "    <tr>\n",
       "      <th>11711</th>\n",
       "      <td>2023-09-30 23:00:00</td>\n",
       "      <td>30</td>\n",
       "      <td>23</td>\n",
       "      <td>NaN</td>\n",
       "      <td>NaN</td>\n",
       "      <td>NaN</td>\n",
       "      <td>NaN</td>\n",
       "    </tr>\n",
       "    <tr>\n",
       "      <th>11712</th>\n",
       "      <td>2023-09-30 23:15:00</td>\n",
       "      <td>30</td>\n",
       "      <td>23</td>\n",
       "      <td>NaN</td>\n",
       "      <td>NaN</td>\n",
       "      <td>NaN</td>\n",
       "      <td>NaN</td>\n",
       "    </tr>\n",
       "    <tr>\n",
       "      <th>11713</th>\n",
       "      <td>2023-09-30 23:30:00</td>\n",
       "      <td>30</td>\n",
       "      <td>23</td>\n",
       "      <td>NaN</td>\n",
       "      <td>NaN</td>\n",
       "      <td>NaN</td>\n",
       "      <td>NaN</td>\n",
       "    </tr>\n",
       "    <tr>\n",
       "      <th>11714</th>\n",
       "      <td>2023-09-30 23:45:00</td>\n",
       "      <td>30</td>\n",
       "      <td>23</td>\n",
       "      <td>NaN</td>\n",
       "      <td>NaN</td>\n",
       "      <td>NaN</td>\n",
       "      <td>NaN</td>\n",
       "    </tr>\n",
       "    <tr>\n",
       "      <th>11715</th>\n",
       "      <td>2023-10-01 00:00:00</td>\n",
       "      <td>1</td>\n",
       "      <td>0</td>\n",
       "      <td>NaN</td>\n",
       "      <td>NaN</td>\n",
       "      <td>NaN</td>\n",
       "      <td>NaN</td>\n",
       "    </tr>\n",
       "  </tbody>\n",
       "</table>\n",
       "<p>11716 rows × 7 columns</p>\n",
       "</div>"
      ],
      "text/plain": [
       "                     time  day  hour      10MA      10STD  bb_upper_band  \\\n",
       "0     2023-06-01 00:00:00    1     0  27117.44  47.868273   27213.176546   \n",
       "1     2023-06-01 00:15:00    1     0  27132.45  62.122858   27256.695715   \n",
       "2     2023-06-01 00:30:00    1     0  27147.65  57.300422   27262.250844   \n",
       "3     2023-06-01 00:45:00    1     0  27172.57  66.008435   27304.586869   \n",
       "4     2023-06-01 01:00:00    1     1  27191.57  65.019160   27321.608321   \n",
       "...                   ...  ...   ...       ...        ...            ...   \n",
       "11711 2023-09-30 23:00:00   30    23       NaN        NaN            NaN   \n",
       "11712 2023-09-30 23:15:00   30    23       NaN        NaN            NaN   \n",
       "11713 2023-09-30 23:30:00   30    23       NaN        NaN            NaN   \n",
       "11714 2023-09-30 23:45:00   30    23       NaN        NaN            NaN   \n",
       "11715 2023-10-01 00:00:00    1     0       NaN        NaN            NaN   \n",
       "\n",
       "       bb_lower_band  \n",
       "0       27021.703454  \n",
       "1       27008.204285  \n",
       "2       27033.049156  \n",
       "3       27040.553131  \n",
       "4       27061.531679  \n",
       "...              ...  \n",
       "11711            NaN  \n",
       "11712            NaN  \n",
       "11713            NaN  \n",
       "11714            NaN  \n",
       "11715            NaN  \n",
       "\n",
       "[11716 rows x 7 columns]"
      ]
     },
     "execution_count": 28,
     "metadata": {},
     "output_type": "execute_result"
    }
   ],
   "source": [
    "df[final_cols]"
   ]
  },
  {
   "cell_type": "code",
   "execution_count": 29,
   "id": "d6c9acd3-e3bd-448a-ae25-456cb8506347",
   "metadata": {},
   "outputs": [
    {
     "data": {
      "text/plain": [
       "Index(['time', 'day', 'hour', '10MA', '10STD', 'bb_upper_band',\n",
       "       'bb_lower_band', 'open_0', 'high_0', 'low_0', 'close_0', 'vol_0',\n",
       "       'vol_coin_0', 'vwap_0', 'obv_0', 'change_0', 'direction_0', 'open_1',\n",
       "       'high_1', 'low_1', 'close_1', 'vol_1', 'vol_coin_1', 'vwap_1', 'obv_1',\n",
       "       'change_1', 'direction_1', 'open_2', 'high_2', 'low_2', 'close_2',\n",
       "       'vol_2', 'vol_coin_2', 'vwap_2', 'obv_2', 'change_2', 'direction_2',\n",
       "       'open_3', 'high_3', 'low_3', 'close_3', 'vol_3', 'vol_coin_3', 'vwap_3',\n",
       "       'obv_3', 'change_3', 'direction_3', 'open_4', 'high_4', 'low_4',\n",
       "       'close_4', 'vol_4', 'vol_coin_4', 'vwap_4', 'obv_4', 'change_4',\n",
       "       'direction_4', 'open_5', 'high_5', 'low_5', 'close_5', 'vol_5',\n",
       "       'vol_coin_5', 'vwap_5', 'obv_5', 'change_5', 'direction_5', 'open_6',\n",
       "       'high_6', 'low_6', 'close_6', 'vol_6', 'vol_coin_6', 'vwap_6', 'obv_6',\n",
       "       'change_6', 'direction_6', 'open_7', 'high_7', 'low_7', 'close_7',\n",
       "       'vol_7', 'vol_coin_7', 'vwap_7', 'obv_7', 'change_7', 'direction_7',\n",
       "       'open_8', 'high_8', 'low_8', 'close_8', 'vol_8', 'vol_coin_8', 'vwap_8',\n",
       "       'obv_8', 'change_8', 'direction_8'],\n",
       "      dtype='object')"
      ]
     },
     "execution_count": 29,
     "metadata": {},
     "output_type": "execute_result"
    }
   ],
   "source": [
    "cols = [\"open\",\"high\",\"low\",\"close\",\"vol\",\"vol_coin\",\"vwap\",\"obv\",\"change\",\"direction\"]\n",
    "\n",
    "shifted_columns = {}\n",
    "\n",
    "for i in range(9):\n",
    "    for col in cols: \n",
    "        shifted_columns[col+\"_\"+str(i)] = df[col].shift(i)\n",
    "\n",
    "\n",
    "# Concatenate the original DataFrame with the new shifted columns DataFrame\n",
    "final_cols = ['time', 'day', 'hour', '10MA', '10STD', 'bb_upper_band','bb_lower_band']\n",
    "shifted_df = pd.concat([df[final_cols], pd.DataFrame(shifted_columns)], axis=1)\n",
    "shifted_df.columns"
   ]
  },
  {
   "cell_type": "code",
   "execution_count": 31,
   "id": "5e36d855-2790-41da-9eeb-ee888c17f67d",
   "metadata": {},
   "outputs": [
    {
     "name": "stdout",
     "output_type": "stream",
     "text": [
      "97\n"
     ]
    }
   ],
   "source": [
    "print(len(shifted_df.columns))"
   ]
  },
  {
   "cell_type": "code",
   "execution_count": 24,
   "id": "22fd0f2e-f260-4d97-80a9-bf61ef79a366",
   "metadata": {},
   "outputs": [
    {
     "data": {
      "text/plain": [
       "Index(['time', 'open', 'high', 'low', 'close', 'vol', 'vol_coin', 'day',\n",
       "       'hour', '10MA', '10STD', 'vwap', 'bb_upper_band', 'bb_lower_band',\n",
       "       'change', 'direction', 'obv', 'open_0', 'high_0', 'low_0', 'close_0',\n",
       "       'vol_0', 'vol_coin_0', 'open_1', 'high_1', 'low_1', 'close_1', 'vol_1',\n",
       "       'vol_coin_1', 'open_2', 'high_2', 'low_2', 'close_2', 'vol_2',\n",
       "       'vol_coin_2', 'open_3', 'high_3', 'low_3', 'close_3', 'vol_3',\n",
       "       'vol_coin_3'],\n",
       "      dtype='object')"
      ]
     },
     "execution_count": 24,
     "metadata": {},
     "output_type": "execute_result"
    }
   ],
   "source": [
    "df.columns"
   ]
  },
  {
   "cell_type": "code",
   "execution_count": 16,
   "id": "00c81f3f-b982-452c-b046-8065bdfbfa55",
   "metadata": {},
   "outputs": [
    {
     "data": {
      "text/html": [
       "<div>\n",
       "<style scoped>\n",
       "    .dataframe tbody tr th:only-of-type {\n",
       "        vertical-align: middle;\n",
       "    }\n",
       "\n",
       "    .dataframe tbody tr th {\n",
       "        vertical-align: top;\n",
       "    }\n",
       "\n",
       "    .dataframe thead th {\n",
       "        text-align: right;\n",
       "    }\n",
       "</style>\n",
       "<table border=\"1\" class=\"dataframe\">\n",
       "  <thead>\n",
       "    <tr style=\"text-align: right;\">\n",
       "      <th></th>\n",
       "      <th>time</th>\n",
       "      <th>day</th>\n",
       "      <th>hour</th>\n",
       "      <th>10MA</th>\n",
       "      <th>10STD</th>\n",
       "      <th>bb_upper_band</th>\n",
       "      <th>bb_lower_band</th>\n",
       "      <th>open_0</th>\n",
       "      <th>high_0</th>\n",
       "      <th>low_0</th>\n",
       "      <th>...</th>\n",
       "      <th>open_9</th>\n",
       "      <th>high_9</th>\n",
       "      <th>low_9</th>\n",
       "      <th>close_9</th>\n",
       "      <th>vol_9</th>\n",
       "      <th>vol_coin_9</th>\n",
       "      <th>vwap_9</th>\n",
       "      <th>obv_9</th>\n",
       "      <th>change_9</th>\n",
       "      <th>direction_9</th>\n",
       "    </tr>\n",
       "  </thead>\n",
       "  <tbody>\n",
       "    <tr>\n",
       "      <th>0</th>\n",
       "      <td>2023-06-01 00:00:00</td>\n",
       "      <td>1</td>\n",
       "      <td>0</td>\n",
       "      <td>27117.44</td>\n",
       "      <td>47.868273</td>\n",
       "      <td>27213.176546</td>\n",
       "      <td>27021.703454</td>\n",
       "      <td>27103.1</td>\n",
       "      <td>27108.1</td>\n",
       "      <td>27080.6</td>\n",
       "      <td>...</td>\n",
       "      <td>NaN</td>\n",
       "      <td>NaN</td>\n",
       "      <td>NaN</td>\n",
       "      <td>NaN</td>\n",
       "      <td>NaN</td>\n",
       "      <td>NaN</td>\n",
       "      <td>NaN</td>\n",
       "      <td>NaN</td>\n",
       "      <td>NaN</td>\n",
       "      <td>NaN</td>\n",
       "    </tr>\n",
       "    <tr>\n",
       "      <th>1</th>\n",
       "      <td>2023-06-01 00:15:00</td>\n",
       "      <td>1</td>\n",
       "      <td>0</td>\n",
       "      <td>27132.45</td>\n",
       "      <td>62.122858</td>\n",
       "      <td>27256.695715</td>\n",
       "      <td>27008.204285</td>\n",
       "      <td>27096.9</td>\n",
       "      <td>27096.9</td>\n",
       "      <td>27036.7</td>\n",
       "      <td>...</td>\n",
       "      <td>NaN</td>\n",
       "      <td>NaN</td>\n",
       "      <td>NaN</td>\n",
       "      <td>NaN</td>\n",
       "      <td>NaN</td>\n",
       "      <td>NaN</td>\n",
       "      <td>NaN</td>\n",
       "      <td>NaN</td>\n",
       "      <td>NaN</td>\n",
       "      <td>NaN</td>\n",
       "    </tr>\n",
       "    <tr>\n",
       "      <th>2</th>\n",
       "      <td>2023-06-01 00:30:00</td>\n",
       "      <td>1</td>\n",
       "      <td>0</td>\n",
       "      <td>27147.65</td>\n",
       "      <td>57.300422</td>\n",
       "      <td>27262.250844</td>\n",
       "      <td>27033.049156</td>\n",
       "      <td>27047.0</td>\n",
       "      <td>27077.4</td>\n",
       "      <td>27041.0</td>\n",
       "      <td>...</td>\n",
       "      <td>NaN</td>\n",
       "      <td>NaN</td>\n",
       "      <td>NaN</td>\n",
       "      <td>NaN</td>\n",
       "      <td>NaN</td>\n",
       "      <td>NaN</td>\n",
       "      <td>NaN</td>\n",
       "      <td>NaN</td>\n",
       "      <td>NaN</td>\n",
       "      <td>NaN</td>\n",
       "    </tr>\n",
       "    <tr>\n",
       "      <th>3</th>\n",
       "      <td>2023-06-01 00:45:00</td>\n",
       "      <td>1</td>\n",
       "      <td>0</td>\n",
       "      <td>27172.57</td>\n",
       "      <td>66.008435</td>\n",
       "      <td>27304.586869</td>\n",
       "      <td>27040.553131</td>\n",
       "      <td>27054.9</td>\n",
       "      <td>27084.0</td>\n",
       "      <td>27054.8</td>\n",
       "      <td>...</td>\n",
       "      <td>NaN</td>\n",
       "      <td>NaN</td>\n",
       "      <td>NaN</td>\n",
       "      <td>NaN</td>\n",
       "      <td>NaN</td>\n",
       "      <td>NaN</td>\n",
       "      <td>NaN</td>\n",
       "      <td>NaN</td>\n",
       "      <td>NaN</td>\n",
       "      <td>NaN</td>\n",
       "    </tr>\n",
       "    <tr>\n",
       "      <th>4</th>\n",
       "      <td>2023-06-01 01:00:00</td>\n",
       "      <td>1</td>\n",
       "      <td>1</td>\n",
       "      <td>27191.57</td>\n",
       "      <td>65.019160</td>\n",
       "      <td>27321.608321</td>\n",
       "      <td>27061.531679</td>\n",
       "      <td>27084.0</td>\n",
       "      <td>27113.9</td>\n",
       "      <td>27073.5</td>\n",
       "      <td>...</td>\n",
       "      <td>NaN</td>\n",
       "      <td>NaN</td>\n",
       "      <td>NaN</td>\n",
       "      <td>NaN</td>\n",
       "      <td>NaN</td>\n",
       "      <td>NaN</td>\n",
       "      <td>NaN</td>\n",
       "      <td>NaN</td>\n",
       "      <td>NaN</td>\n",
       "      <td>NaN</td>\n",
       "    </tr>\n",
       "  </tbody>\n",
       "</table>\n",
       "<p>5 rows × 107 columns</p>\n",
       "</div>"
      ],
      "text/plain": [
       "                 time  day  hour      10MA      10STD  bb_upper_band  \\\n",
       "0 2023-06-01 00:00:00    1     0  27117.44  47.868273   27213.176546   \n",
       "1 2023-06-01 00:15:00    1     0  27132.45  62.122858   27256.695715   \n",
       "2 2023-06-01 00:30:00    1     0  27147.65  57.300422   27262.250844   \n",
       "3 2023-06-01 00:45:00    1     0  27172.57  66.008435   27304.586869   \n",
       "4 2023-06-01 01:00:00    1     1  27191.57  65.019160   27321.608321   \n",
       "\n",
       "   bb_lower_band   open_0   high_0    low_0  ...  open_9  high_9  low_9  \\\n",
       "0   27021.703454  27103.1  27108.1  27080.6  ...     NaN     NaN    NaN   \n",
       "1   27008.204285  27096.9  27096.9  27036.7  ...     NaN     NaN    NaN   \n",
       "2   27033.049156  27047.0  27077.4  27041.0  ...     NaN     NaN    NaN   \n",
       "3   27040.553131  27054.9  27084.0  27054.8  ...     NaN     NaN    NaN   \n",
       "4   27061.531679  27084.0  27113.9  27073.5  ...     NaN     NaN    NaN   \n",
       "\n",
       "   close_9  vol_9  vol_coin_9  vwap_9  obv_9  change_9  direction_9  \n",
       "0      NaN    NaN         NaN     NaN    NaN       NaN          NaN  \n",
       "1      NaN    NaN         NaN     NaN    NaN       NaN          NaN  \n",
       "2      NaN    NaN         NaN     NaN    NaN       NaN          NaN  \n",
       "3      NaN    NaN         NaN     NaN    NaN       NaN          NaN  \n",
       "4      NaN    NaN         NaN     NaN    NaN       NaN          NaN  \n",
       "\n",
       "[5 rows x 107 columns]"
      ]
     },
     "execution_count": 16,
     "metadata": {},
     "output_type": "execute_result"
    }
   ],
   "source": [
    "shifted_df.head()"
   ]
  },
  {
   "cell_type": "markdown",
   "id": "8e222e57-ffd7-4af6-be5d-c3b154a1b9cc",
   "metadata": {},
   "source": [
    "## dependent variable"
   ]
  },
  {
   "cell_type": "code",
   "execution_count": 33,
   "id": "862f3315-1add-447b-afda-8c74b8c45de9",
   "metadata": {},
   "outputs": [
    {
     "ename": "KeyError",
     "evalue": "'high_p1'",
     "output_type": "error",
     "traceback": [
      "\u001b[0;31m---------------------------------------------------------------------------\u001b[0m",
      "\u001b[0;31mKeyError\u001b[0m                                  Traceback (most recent call last)",
      "File \u001b[0;32m~/miniforge3/lib/python3.10/site-packages/pandas/core/indexes/base.py:3802\u001b[0m, in \u001b[0;36mIndex.get_loc\u001b[0;34m(self, key)\u001b[0m\n\u001b[1;32m   3801\u001b[0m \u001b[38;5;28;01mtry\u001b[39;00m:\n\u001b[0;32m-> 3802\u001b[0m     \u001b[38;5;28;01mreturn\u001b[39;00m \u001b[38;5;28;43mself\u001b[39;49m\u001b[38;5;241;43m.\u001b[39;49m\u001b[43m_engine\u001b[49m\u001b[38;5;241;43m.\u001b[39;49m\u001b[43mget_loc\u001b[49m\u001b[43m(\u001b[49m\u001b[43mcasted_key\u001b[49m\u001b[43m)\u001b[49m\n\u001b[1;32m   3803\u001b[0m \u001b[38;5;28;01mexcept\u001b[39;00m \u001b[38;5;167;01mKeyError\u001b[39;00m \u001b[38;5;28;01mas\u001b[39;00m err:\n",
      "File \u001b[0;32mindex.pyx:153\u001b[0m, in \u001b[0;36mpandas._libs.index.IndexEngine.get_loc\u001b[0;34m()\u001b[0m\n",
      "File \u001b[0;32mindex.pyx:182\u001b[0m, in \u001b[0;36mpandas._libs.index.IndexEngine.get_loc\u001b[0;34m()\u001b[0m\n",
      "File \u001b[0;32mpandas/_libs/hashtable_class_helper.pxi:7081\u001b[0m, in \u001b[0;36mpandas._libs.hashtable.PyObjectHashTable.get_item\u001b[0;34m()\u001b[0m\n",
      "File \u001b[0;32mpandas/_libs/hashtable_class_helper.pxi:7089\u001b[0m, in \u001b[0;36mpandas._libs.hashtable.PyObjectHashTable.get_item\u001b[0;34m()\u001b[0m\n",
      "\u001b[0;31mKeyError\u001b[0m: 'high_p1'",
      "\nThe above exception was the direct cause of the following exception:\n",
      "\u001b[0;31mKeyError\u001b[0m                                  Traceback (most recent call last)",
      "Cell \u001b[0;32mIn[33], line 9\u001b[0m\n\u001b[1;32m      6\u001b[0m dep \u001b[38;5;241m=\u001b[39m \u001b[38;5;28;01mFalse\u001b[39;00m\n\u001b[1;32m      8\u001b[0m \u001b[38;5;66;03m# Check conditions and set values accordingly\u001b[39;00m\n\u001b[0;32m----> 9\u001b[0m df\u001b[38;5;241m.\u001b[39mloc[(df[\u001b[38;5;124m\"\u001b[39m\u001b[38;5;124mlow\u001b[39m\u001b[38;5;124m\"\u001b[39m] \u001b[38;5;241m<\u001b[39m df[\u001b[38;5;124m\"\u001b[39m\u001b[38;5;124mbb_lower_band\u001b[39m\u001b[38;5;124m\"\u001b[39m]) \u001b[38;5;241m&\u001b[39m (\u001b[43mdf\u001b[49m\u001b[43m[\u001b[49m\u001b[38;5;124;43m\"\u001b[39;49m\u001b[38;5;124;43mhigh_p1\u001b[39;49m\u001b[38;5;124;43m\"\u001b[39;49m\u001b[43m]\u001b[49m \u001b[38;5;241m>\u001b[39m df[\u001b[38;5;124m\"\u001b[39m\u001b[38;5;124mbb_lower_band\u001b[39m\u001b[38;5;124m\"\u001b[39m]\u001b[38;5;241m*\u001b[39m\u001b[38;5;241m1.002\u001b[39m), \u001b[38;5;124m\"\u001b[39m\u001b[38;5;124my_bb\u001b[39m\u001b[38;5;124m\"\u001b[39m] \u001b[38;5;241m=\u001b[39m \u001b[38;5;28;01mTrue\u001b[39;00m\n\u001b[1;32m     10\u001b[0m df\u001b[38;5;241m.\u001b[39mloc[(df[\u001b[38;5;124m\"\u001b[39m\u001b[38;5;124mhigh\u001b[39m\u001b[38;5;124m\"\u001b[39m] \u001b[38;5;241m>\u001b[39m df[\u001b[38;5;124m\"\u001b[39m\u001b[38;5;124mbb_upper_band\u001b[39m\u001b[38;5;124m\"\u001b[39m]) \u001b[38;5;241m&\u001b[39m (df[\u001b[38;5;124m\"\u001b[39m\u001b[38;5;124mlow_p1\u001b[39m\u001b[38;5;124m\"\u001b[39m] \u001b[38;5;241m<\u001b[39m df[\u001b[38;5;124m\"\u001b[39m\u001b[38;5;124mbb_upper_band\u001b[39m\u001b[38;5;124m\"\u001b[39m]\u001b[38;5;241m/\u001b[39m\u001b[38;5;241m1.002\u001b[39m), \u001b[38;5;124m\"\u001b[39m\u001b[38;5;124my_bb\u001b[39m\u001b[38;5;124m\"\u001b[39m] \u001b[38;5;241m=\u001b[39m \u001b[38;5;28;01mTrue\u001b[39;00m\n",
      "File \u001b[0;32m~/miniforge3/lib/python3.10/site-packages/pandas/core/frame.py:4090\u001b[0m, in \u001b[0;36mDataFrame.__getitem__\u001b[0;34m(self, key)\u001b[0m\n\u001b[1;32m   4088\u001b[0m \u001b[38;5;28;01mif\u001b[39;00m \u001b[38;5;28mself\u001b[39m\u001b[38;5;241m.\u001b[39mcolumns\u001b[38;5;241m.\u001b[39mnlevels \u001b[38;5;241m>\u001b[39m \u001b[38;5;241m1\u001b[39m:\n\u001b[1;32m   4089\u001b[0m     \u001b[38;5;28;01mreturn\u001b[39;00m \u001b[38;5;28mself\u001b[39m\u001b[38;5;241m.\u001b[39m_getitem_multilevel(key)\n\u001b[0;32m-> 4090\u001b[0m indexer \u001b[38;5;241m=\u001b[39m \u001b[38;5;28;43mself\u001b[39;49m\u001b[38;5;241;43m.\u001b[39;49m\u001b[43mcolumns\u001b[49m\u001b[38;5;241;43m.\u001b[39;49m\u001b[43mget_loc\u001b[49m\u001b[43m(\u001b[49m\u001b[43mkey\u001b[49m\u001b[43m)\u001b[49m\n\u001b[1;32m   4091\u001b[0m \u001b[38;5;28;01mif\u001b[39;00m is_integer(indexer):\n\u001b[1;32m   4092\u001b[0m     indexer \u001b[38;5;241m=\u001b[39m [indexer]\n",
      "File \u001b[0;32m~/miniforge3/lib/python3.10/site-packages/pandas/core/indexes/base.py:3809\u001b[0m, in \u001b[0;36mIndex.get_loc\u001b[0;34m(self, key)\u001b[0m\n\u001b[1;32m   3804\u001b[0m     \u001b[38;5;28;01mif\u001b[39;00m \u001b[38;5;28misinstance\u001b[39m(casted_key, \u001b[38;5;28mslice\u001b[39m) \u001b[38;5;129;01mor\u001b[39;00m (\n\u001b[1;32m   3805\u001b[0m         \u001b[38;5;28misinstance\u001b[39m(casted_key, abc\u001b[38;5;241m.\u001b[39mIterable)\n\u001b[1;32m   3806\u001b[0m         \u001b[38;5;129;01mand\u001b[39;00m \u001b[38;5;28many\u001b[39m(\u001b[38;5;28misinstance\u001b[39m(x, \u001b[38;5;28mslice\u001b[39m) \u001b[38;5;28;01mfor\u001b[39;00m x \u001b[38;5;129;01min\u001b[39;00m casted_key)\n\u001b[1;32m   3807\u001b[0m     ):\n\u001b[1;32m   3808\u001b[0m         \u001b[38;5;28;01mraise\u001b[39;00m InvalidIndexError(key)\n\u001b[0;32m-> 3809\u001b[0m     \u001b[38;5;28;01mraise\u001b[39;00m \u001b[38;5;167;01mKeyError\u001b[39;00m(key) \u001b[38;5;28;01mfrom\u001b[39;00m \u001b[38;5;21;01merr\u001b[39;00m\n\u001b[1;32m   3810\u001b[0m \u001b[38;5;28;01mexcept\u001b[39;00m \u001b[38;5;167;01mTypeError\u001b[39;00m:\n\u001b[1;32m   3811\u001b[0m     \u001b[38;5;66;03m# If we have a listlike key, _check_indexing_error will raise\u001b[39;00m\n\u001b[1;32m   3812\u001b[0m     \u001b[38;5;66;03m#  InvalidIndexError. Otherwise we fall through and re-raise\u001b[39;00m\n\u001b[1;32m   3813\u001b[0m     \u001b[38;5;66;03m#  the TypeError.\u001b[39;00m\n\u001b[1;32m   3814\u001b[0m     \u001b[38;5;28mself\u001b[39m\u001b[38;5;241m.\u001b[39m_check_indexing_error(key)\n",
      "\u001b[0;31mKeyError\u001b[0m: 'high_p1'"
     ]
    }
   ],
   "source": [
    "\n",
    "# GOAL:\n",
    "# if the price is outside of the bollinger bands: \n",
    "#    is the next candle 0.5% away from the bb value?\n",
    "\n",
    "# Create a new column \"y_bb\" initialized with False\n",
    "df[\"y_bb\"] = False\n",
    "\n",
    "# Check conditions and set values accordingly\n",
    "df.loc[(df[\"low\"] < df[\"bb_lower_band\"]) & (df[\"high_p1\"] > df[\"bb_lower_band\"]*1.002), \"y_bb\"] = True\n",
    "df.loc[(df[\"high\"] > df[\"bb_upper_band\"]) & (df[\"low_p1\"] < df[\"bb_upper_band\"]/1.002), \"y_bb\"] = True"
   ]
  },
  {
   "cell_type": "code",
   "execution_count": 14,
   "id": "25261913-410d-494a-9d0f-e5b56c6462bc",
   "metadata": {},
   "outputs": [
    {
     "data": {
      "text/plain": [
       "1349"
      ]
     },
     "execution_count": 14,
     "metadata": {},
     "output_type": "execute_result"
    }
   ],
   "source": [
    "df.y_bb.sum()"
   ]
  },
  {
   "cell_type": "markdown",
   "id": "91446516-a567-4a6d-b1f2-c3ad30c78555",
   "metadata": {},
   "source": [
    "# XGBoost"
   ]
  },
  {
   "cell_type": "code",
   "execution_count": 15,
   "id": "09e6430f-4351-4aa0-88a0-61eebfa7483c",
   "metadata": {},
   "outputs": [
    {
     "data": {
      "text/plain": [
       "Index(['time', 'open', 'high', 'low', 'close', 'vol', 'vol_coin', 'day',\n",
       "       'hour', '10MA', '10STD', 'vwap', 'bb_upper_band', 'bb_lower_band',\n",
       "       'change', 'direction', 'obv', 'open_p1', 'high_p1', 'low_p1',\n",
       "       'close_p1', 'open_p2', 'high_p2', 'low_p2', 'close_p2', 'open_p3',\n",
       "       'high_p3', 'low_p3', 'close_p3', 'y_bb'],\n",
       "      dtype='object')"
      ]
     },
     "execution_count": 15,
     "metadata": {},
     "output_type": "execute_result"
    }
   ],
   "source": [
    "df.columns"
   ]
  },
  {
   "cell_type": "code",
   "execution_count": 16,
   "id": "6065680e-7b18-42be-9580-a702b4b32e27",
   "metadata": {},
   "outputs": [
    {
     "ename": "KeyError",
     "evalue": "\"['daily_open', 'daily_close'] not in index\"",
     "output_type": "error",
     "traceback": [
      "\u001b[0;31m---------------------------------------------------------------------------\u001b[0m",
      "\u001b[0;31mKeyError\u001b[0m                                  Traceback (most recent call last)",
      "Cell \u001b[0;32mIn[16], line 8\u001b[0m\n\u001b[1;32m      3\u001b[0m cols \u001b[38;5;241m=\u001b[39m [\u001b[38;5;124m'\u001b[39m\u001b[38;5;124mopen\u001b[39m\u001b[38;5;124m'\u001b[39m, \u001b[38;5;124m'\u001b[39m\u001b[38;5;124mhigh\u001b[39m\u001b[38;5;124m'\u001b[39m, \u001b[38;5;124m'\u001b[39m\u001b[38;5;124mlow\u001b[39m\u001b[38;5;124m'\u001b[39m, \u001b[38;5;124m'\u001b[39m\u001b[38;5;124mclose\u001b[39m\u001b[38;5;124m'\u001b[39m, \u001b[38;5;124m'\u001b[39m\u001b[38;5;124mvol\u001b[39m\u001b[38;5;124m'\u001b[39m, \u001b[38;5;124m'\u001b[39m\u001b[38;5;124mday\u001b[39m\u001b[38;5;124m'\u001b[39m, \u001b[38;5;124m'\u001b[39m\u001b[38;5;124mhour\u001b[39m\u001b[38;5;124m'\u001b[39m, \u001b[38;5;124m'\u001b[39m\u001b[38;5;124m10MA\u001b[39m\u001b[38;5;124m'\u001b[39m, \n\u001b[1;32m      4\u001b[0m        \u001b[38;5;124m'\u001b[39m\u001b[38;5;124m10STD\u001b[39m\u001b[38;5;124m'\u001b[39m, \u001b[38;5;124m'\u001b[39m\u001b[38;5;124mvwap\u001b[39m\u001b[38;5;124m'\u001b[39m, \u001b[38;5;124m'\u001b[39m\u001b[38;5;124mbb_upper_band\u001b[39m\u001b[38;5;124m'\u001b[39m, \u001b[38;5;124m'\u001b[39m\u001b[38;5;124mbb_lower_band\u001b[39m\u001b[38;5;124m'\u001b[39m, \u001b[38;5;124m'\u001b[39m\u001b[38;5;124mdaily_open\u001b[39m\u001b[38;5;124m'\u001b[39m, \n\u001b[1;32m      5\u001b[0m        \u001b[38;5;124m'\u001b[39m\u001b[38;5;124mdaily_close\u001b[39m\u001b[38;5;124m'\u001b[39m, \u001b[38;5;124m'\u001b[39m\u001b[38;5;124mchange\u001b[39m\u001b[38;5;124m'\u001b[39m, \u001b[38;5;124m'\u001b[39m\u001b[38;5;124mdirection\u001b[39m\u001b[38;5;124m'\u001b[39m, \u001b[38;5;124m'\u001b[39m\u001b[38;5;124mobv\u001b[39m\u001b[38;5;124m'\u001b[39m]\n\u001b[1;32m      7\u001b[0m df \u001b[38;5;241m=\u001b[39m df\u001b[38;5;241m.\u001b[39mdropna()\n\u001b[0;32m----> 8\u001b[0m X,y \u001b[38;5;241m=\u001b[39m \u001b[43mdf\u001b[49m\u001b[43m[\u001b[49m\u001b[43mcols\u001b[49m\u001b[43m]\u001b[49m,df[\u001b[38;5;124m\"\u001b[39m\u001b[38;5;124my_bb\u001b[39m\u001b[38;5;124m\"\u001b[39m]\n\u001b[1;32m     10\u001b[0m \u001b[38;5;66;03m# do the train test splitting \u001b[39;00m\n\u001b[1;32m     11\u001b[0m X_train, X_test, y_train, y_test \u001b[38;5;241m=\u001b[39m train_test_split(X, y, stratify\u001b[38;5;241m=\u001b[39m\u001b[38;5;28;01mNone\u001b[39;00m,shuffle\u001b[38;5;241m=\u001b[39m\u001b[38;5;28;01mFalse\u001b[39;00m) \u001b[38;5;66;03m#do the split on variable y to avoid zero y entries\u001b[39;00m\n",
      "File \u001b[0;32m~/miniforge3/lib/python3.10/site-packages/pandas/core/frame.py:4096\u001b[0m, in \u001b[0;36mDataFrame.__getitem__\u001b[0;34m(self, key)\u001b[0m\n\u001b[1;32m   4094\u001b[0m     \u001b[38;5;28;01mif\u001b[39;00m is_iterator(key):\n\u001b[1;32m   4095\u001b[0m         key \u001b[38;5;241m=\u001b[39m \u001b[38;5;28mlist\u001b[39m(key)\n\u001b[0;32m-> 4096\u001b[0m     indexer \u001b[38;5;241m=\u001b[39m \u001b[38;5;28;43mself\u001b[39;49m\u001b[38;5;241;43m.\u001b[39;49m\u001b[43mcolumns\u001b[49m\u001b[38;5;241;43m.\u001b[39;49m\u001b[43m_get_indexer_strict\u001b[49m\u001b[43m(\u001b[49m\u001b[43mkey\u001b[49m\u001b[43m,\u001b[49m\u001b[43m \u001b[49m\u001b[38;5;124;43m\"\u001b[39;49m\u001b[38;5;124;43mcolumns\u001b[39;49m\u001b[38;5;124;43m\"\u001b[39;49m\u001b[43m)\u001b[49m[\u001b[38;5;241m1\u001b[39m]\n\u001b[1;32m   4098\u001b[0m \u001b[38;5;66;03m# take() does not accept boolean indexers\u001b[39;00m\n\u001b[1;32m   4099\u001b[0m \u001b[38;5;28;01mif\u001b[39;00m \u001b[38;5;28mgetattr\u001b[39m(indexer, \u001b[38;5;124m\"\u001b[39m\u001b[38;5;124mdtype\u001b[39m\u001b[38;5;124m\"\u001b[39m, \u001b[38;5;28;01mNone\u001b[39;00m) \u001b[38;5;241m==\u001b[39m \u001b[38;5;28mbool\u001b[39m:\n",
      "File \u001b[0;32m~/miniforge3/lib/python3.10/site-packages/pandas/core/indexes/base.py:6199\u001b[0m, in \u001b[0;36mIndex._get_indexer_strict\u001b[0;34m(self, key, axis_name)\u001b[0m\n\u001b[1;32m   6196\u001b[0m \u001b[38;5;28;01melse\u001b[39;00m:\n\u001b[1;32m   6197\u001b[0m     keyarr, indexer, new_indexer \u001b[38;5;241m=\u001b[39m \u001b[38;5;28mself\u001b[39m\u001b[38;5;241m.\u001b[39m_reindex_non_unique(keyarr)\n\u001b[0;32m-> 6199\u001b[0m \u001b[38;5;28;43mself\u001b[39;49m\u001b[38;5;241;43m.\u001b[39;49m\u001b[43m_raise_if_missing\u001b[49m\u001b[43m(\u001b[49m\u001b[43mkeyarr\u001b[49m\u001b[43m,\u001b[49m\u001b[43m \u001b[49m\u001b[43mindexer\u001b[49m\u001b[43m,\u001b[49m\u001b[43m \u001b[49m\u001b[43maxis_name\u001b[49m\u001b[43m)\u001b[49m\n\u001b[1;32m   6201\u001b[0m keyarr \u001b[38;5;241m=\u001b[39m \u001b[38;5;28mself\u001b[39m\u001b[38;5;241m.\u001b[39mtake(indexer)\n\u001b[1;32m   6202\u001b[0m \u001b[38;5;28;01mif\u001b[39;00m \u001b[38;5;28misinstance\u001b[39m(key, Index):\n\u001b[1;32m   6203\u001b[0m     \u001b[38;5;66;03m# GH 42790 - Preserve name from an Index\u001b[39;00m\n",
      "File \u001b[0;32m~/miniforge3/lib/python3.10/site-packages/pandas/core/indexes/base.py:6251\u001b[0m, in \u001b[0;36mIndex._raise_if_missing\u001b[0;34m(self, key, indexer, axis_name)\u001b[0m\n\u001b[1;32m   6248\u001b[0m     \u001b[38;5;28;01mraise\u001b[39;00m \u001b[38;5;167;01mKeyError\u001b[39;00m(\u001b[38;5;124mf\u001b[39m\u001b[38;5;124m\"\u001b[39m\u001b[38;5;124mNone of [\u001b[39m\u001b[38;5;132;01m{\u001b[39;00mkey\u001b[38;5;132;01m}\u001b[39;00m\u001b[38;5;124m] are in the [\u001b[39m\u001b[38;5;132;01m{\u001b[39;00maxis_name\u001b[38;5;132;01m}\u001b[39;00m\u001b[38;5;124m]\u001b[39m\u001b[38;5;124m\"\u001b[39m)\n\u001b[1;32m   6250\u001b[0m not_found \u001b[38;5;241m=\u001b[39m \u001b[38;5;28mlist\u001b[39m(ensure_index(key)[missing_mask\u001b[38;5;241m.\u001b[39mnonzero()[\u001b[38;5;241m0\u001b[39m]]\u001b[38;5;241m.\u001b[39munique())\n\u001b[0;32m-> 6251\u001b[0m \u001b[38;5;28;01mraise\u001b[39;00m \u001b[38;5;167;01mKeyError\u001b[39;00m(\u001b[38;5;124mf\u001b[39m\u001b[38;5;124m\"\u001b[39m\u001b[38;5;132;01m{\u001b[39;00mnot_found\u001b[38;5;132;01m}\u001b[39;00m\u001b[38;5;124m not in index\u001b[39m\u001b[38;5;124m\"\u001b[39m)\n",
      "\u001b[0;31mKeyError\u001b[0m: \"['daily_open', 'daily_close'] not in index\""
     ]
    }
   ],
   "source": [
    "from sklearn.model_selection import train_test_split\n",
    "\n",
    "y = dep\n",
    "X = shifted_df.dropna()\n",
    "\n",
    "# do the train test splitting \n",
    "X_train, X_test, y_train, y_test = train_test_split(X, y, stratify=None,shuffle=False) #do the split on variable y to avoid zero y entries"
   ]
  },
  {
   "cell_type": "code",
   "execution_count": null,
   "id": "e8594e0d-e384-4768-aa77-4d7aca6b3452",
   "metadata": {},
   "outputs": [],
   "source": [
    "from sklearn.ensemble import GradientBoostingClassifier\n",
    "\n",
    "xg = GradientBoostingClassifier() # min_samples_leaf=4\n",
    "xg.fit(X_train, y_train)"
   ]
  },
  {
   "cell_type": "code",
   "execution_count": null,
   "id": "b6a3c6ef-a4a4-4353-8cec-d94d0f12f6ae",
   "metadata": {},
   "outputs": [],
   "source": [
    "from sklearn.metrics import accuracy_score, confusion_matrix, classification_report\n",
    "\n",
    "y_pred_test = xg.predict(X_test)\n",
    "accuracy_score(y_test, y_pred_test)"
   ]
  },
  {
   "cell_type": "code",
   "execution_count": null,
   "id": "36480ade-2ffd-4199-9384-3d74b427daac",
   "metadata": {},
   "outputs": [],
   "source": [
    "conf_m = confusion_matrix(y_test, y_pred_test)\n",
    "conf_m"
   ]
  },
  {
   "cell_type": "code",
   "execution_count": null,
   "id": "4f03c6b5-e0a7-4535-b3df-9b5fc92f7cad",
   "metadata": {},
   "outputs": [],
   "source": [
    "import seaborn as sns\n",
    "sns.heatmap(conf_m/np.sum(conf_m,axis=0), annot=True, fmt='.2%', cmap='Blues')"
   ]
  },
  {
   "cell_type": "code",
   "execution_count": null,
   "id": "2d3ecdc9-1fdf-4a69-8889-d54f202bdaba",
   "metadata": {},
   "outputs": [],
   "source": [
    "print(classification_report(y_test, y_pred_test))"
   ]
  },
  {
   "cell_type": "markdown",
   "id": "2d171334-dff4-4a0c-9ab3-63e3b66ccfd3",
   "metadata": {},
   "source": [
    "Overall, it seems like a useful model. However it is spurious that the precision is at exactly 75%. \n",
    "\n",
    "More ways to improve the model would be to \n",
    "- get more data\n",
    "- add other symbols, like ETH, EUR/USD pair, S&P 500, etc."
   ]
  },
  {
   "cell_type": "code",
   "execution_count": null,
   "id": "dcb21a5c-b032-4420-89c5-58a3724b5843",
   "metadata": {},
   "outputs": [],
   "source": [
    "pd.DataFrame(dict(cols=X_train.columns, imp=xg.feature_importances_)).sort_values(by=['imp']).plot('cols', 'imp', 'barh');"
   ]
  },
  {
   "cell_type": "code",
   "execution_count": null,
   "id": "2da3e5ec-ac4d-4be9-98ea-26d974d9733b",
   "metadata": {},
   "outputs": [],
   "source": [
    "import pickle\n",
    "\n",
    "# Save the model to a file\n",
    "with open('../bb-bot/src/xgboost_model.pkl', 'wb') as file:\n",
    "    pickle.dump(xg, file)\n"
   ]
  },
  {
   "cell_type": "code",
   "execution_count": null,
   "id": "5faeab07-b9fe-4daa-947c-7c0d5d181eea",
   "metadata": {},
   "outputs": [],
   "source": [
    "\n",
    "# Load the model from the file\n",
    "with open('xgboost_model.pkl', 'rb') as file:\n",
    "    model = pickle.load(file)\n"
   ]
  },
  {
   "cell_type": "code",
   "execution_count": null,
   "id": "0e311ea0-77ef-404d-b5e2-cd644774ec37",
   "metadata": {},
   "outputs": [],
   "source": [
    "pred = model.predict(X_test.head(1))\n",
    "pred"
   ]
  },
  {
   "cell_type": "code",
   "execution_count": null,
   "id": "1ef4cbd5-31b4-4229-a259-b8194cabd04a",
   "metadata": {},
   "outputs": [],
   "source": [
    "X_test.head(20)"
   ]
  },
  {
   "cell_type": "markdown",
   "id": "6a6b3dbe-b737-4cb5-9610-f5103e714d15",
   "metadata": {
    "jp-MarkdownHeadingCollapsed": true
   },
   "source": [
    "# use live data"
   ]
  },
  {
   "cell_type": "code",
   "execution_count": null,
   "id": "8469e720-b830-486e-b4ba-86eec1521e11",
   "metadata": {},
   "outputs": [],
   "source": [
    "import requests\n",
    "import time\n",
    "import pandas as pd\n",
    "\n",
    "# Define the endpoint and parameters\n",
    "base_url = \"https://api-testnet.bybit.com\"\n",
    "endpoint = \"/v5/market/kline\"\n",
    "symbol = \"BTCUSD\"  # Example trading pair\n",
    "interval = \"1\"    # Kline interval, e.g., \"1\", \"5\", \"15\", \"60\", \"240\", etc.\n",
    "limit = 4        # Number of klines to fetch\n",
    "start_time = int(time.time()) - 3600 * 24  # Start time in seconds (e.g., 24 hours ago)\n",
    "\n",
    "# Construct the URL\n",
    "url = f\"{base_url}{endpoint}?category=linear&symbol={symbol}&interval={interval}&limit={limit}\"#&start_time={start_time}\"\n",
    "\n",
    "# Make the GET request\n",
    "response = requests.get(url,headers={}, data={})\n",
    "data = response.json() \n",
    "\n",
    "print(data)\n",
    "print(pd.Timestamp(data[\"time\"],unit=\"ms\"))\n",
    "print(data[\"result\"][\"list\"])\n",
    "\n"
   ]
  }
 ],
 "metadata": {
  "kernelspec": {
   "display_name": "Python 3 (ipykernel)",
   "language": "python",
   "name": "python3"
  },
  "language_info": {
   "codemirror_mode": {
    "name": "ipython",
    "version": 3
   },
   "file_extension": ".py",
   "mimetype": "text/x-python",
   "name": "python",
   "nbconvert_exporter": "python",
   "pygments_lexer": "ipython3",
   "version": "3.10.13"
  }
 },
 "nbformat": 4,
 "nbformat_minor": 5
}
