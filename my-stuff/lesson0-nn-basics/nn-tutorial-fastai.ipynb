{
 "cells": [
  {
   "cell_type": "markdown",
   "id": "d226b733-9c8d-4a0c-952d-4d47766c8b70",
   "metadata": {},
   "source": [
    "# Basic Neural Net from scratch\n",
    "## along fast.ai tutorial\n",
    "\n",
    "https://www.kaggle.com/code/jhoward/linear-model-and-neural-net-from-scratch"
   ]
  },
  {
   "cell_type": "markdown",
   "id": "d1ccff0b-346f-41db-a011-091f54fbc409",
   "metadata": {},
   "source": [
    "## import data"
   ]
  },
  {
   "cell_type": "code",
   "execution_count": 1,
   "id": "317f8d60-a2aa-4796-9c0b-18464d72047c",
   "metadata": {},
   "outputs": [
    {
     "name": "stdout",
     "output_type": "stream",
     "text": [
      "(11713, 44)\n"
     ]
    },
    {
     "data": {
      "text/html": [
       "<div>\n",
       "<style scoped>\n",
       "    .dataframe tbody tr th:only-of-type {\n",
       "        vertical-align: middle;\n",
       "    }\n",
       "\n",
       "    .dataframe tbody tr th {\n",
       "        vertical-align: top;\n",
       "    }\n",
       "\n",
       "    .dataframe thead th {\n",
       "        text-align: right;\n",
       "    }\n",
       "</style>\n",
       "<table border=\"1\" class=\"dataframe\">\n",
       "  <thead>\n",
       "    <tr style=\"text-align: right;\">\n",
       "      <th></th>\n",
       "      <th>time_s3</th>\n",
       "      <th>open_s3</th>\n",
       "      <th>high_s3</th>\n",
       "      <th>low_s3</th>\n",
       "      <th>close_s3</th>\n",
       "      <th>vol_s3</th>\n",
       "      <th>log_open_s3</th>\n",
       "      <th>log_high_s3</th>\n",
       "      <th>log_low_s3</th>\n",
       "      <th>log_close_s3</th>\n",
       "      <th>...</th>\n",
       "      <th>open</th>\n",
       "      <th>high</th>\n",
       "      <th>low</th>\n",
       "      <th>close</th>\n",
       "      <th>vol</th>\n",
       "      <th>log_open</th>\n",
       "      <th>log_high</th>\n",
       "      <th>log_low</th>\n",
       "      <th>log_close</th>\n",
       "      <th>norm_vol</th>\n",
       "    </tr>\n",
       "  </thead>\n",
       "  <tbody>\n",
       "    <tr>\n",
       "      <th>0</th>\n",
       "      <td>2023.06.01 00:00</td>\n",
       "      <td>27103.1</td>\n",
       "      <td>27108.1</td>\n",
       "      <td>27080.6</td>\n",
       "      <td>27096.9</td>\n",
       "      <td>386.675</td>\n",
       "      <td>10.207403</td>\n",
       "      <td>10.207588</td>\n",
       "      <td>10.206573</td>\n",
       "      <td>10.207175</td>\n",
       "      <td>...</td>\n",
       "      <td>27054.9</td>\n",
       "      <td>27084.0</td>\n",
       "      <td>27054.8</td>\n",
       "      <td>27084.0</td>\n",
       "      <td>218.143</td>\n",
       "      <td>10.205623</td>\n",
       "      <td>10.206698</td>\n",
       "      <td>10.205620</td>\n",
       "      <td>10.206698</td>\n",
       "      <td>0.003386</td>\n",
       "    </tr>\n",
       "    <tr>\n",
       "      <th>1</th>\n",
       "      <td>2023.06.01 00:15</td>\n",
       "      <td>27096.9</td>\n",
       "      <td>27096.9</td>\n",
       "      <td>27036.7</td>\n",
       "      <td>27047.0</td>\n",
       "      <td>408.680</td>\n",
       "      <td>10.207175</td>\n",
       "      <td>10.207175</td>\n",
       "      <td>10.204950</td>\n",
       "      <td>10.205331</td>\n",
       "      <td>...</td>\n",
       "      <td>27084.0</td>\n",
       "      <td>27113.9</td>\n",
       "      <td>27073.5</td>\n",
       "      <td>27100.0</td>\n",
       "      <td>329.412</td>\n",
       "      <td>10.206698</td>\n",
       "      <td>10.207802</td>\n",
       "      <td>10.206311</td>\n",
       "      <td>10.207289</td>\n",
       "      <td>0.005114</td>\n",
       "    </tr>\n",
       "    <tr>\n",
       "      <th>2</th>\n",
       "      <td>2023.06.01 00:30</td>\n",
       "      <td>27047.0</td>\n",
       "      <td>27077.4</td>\n",
       "      <td>27041.0</td>\n",
       "      <td>27054.9</td>\n",
       "      <td>275.080</td>\n",
       "      <td>10.205331</td>\n",
       "      <td>10.206455</td>\n",
       "      <td>10.205110</td>\n",
       "      <td>10.205623</td>\n",
       "      <td>...</td>\n",
       "      <td>27100.0</td>\n",
       "      <td>27159.0</td>\n",
       "      <td>27100.0</td>\n",
       "      <td>27142.4</td>\n",
       "      <td>979.655</td>\n",
       "      <td>10.207289</td>\n",
       "      <td>10.209464</td>\n",
       "      <td>10.207289</td>\n",
       "      <td>10.208852</td>\n",
       "      <td>0.015208</td>\n",
       "    </tr>\n",
       "  </tbody>\n",
       "</table>\n",
       "<p>3 rows × 44 columns</p>\n",
       "</div>"
      ],
      "text/plain": [
       "            time_s3  open_s3  high_s3   low_s3  close_s3   vol_s3  \\\n",
       "0  2023.06.01 00:00  27103.1  27108.1  27080.6   27096.9  386.675   \n",
       "1  2023.06.01 00:15  27096.9  27096.9  27036.7   27047.0  408.680   \n",
       "2  2023.06.01 00:30  27047.0  27077.4  27041.0   27054.9  275.080   \n",
       "\n",
       "   log_open_s3  log_high_s3  log_low_s3  log_close_s3  ...     open     high  \\\n",
       "0    10.207403    10.207588   10.206573     10.207175  ...  27054.9  27084.0   \n",
       "1    10.207175    10.207175   10.204950     10.205331  ...  27084.0  27113.9   \n",
       "2    10.205331    10.206455   10.205110     10.205623  ...  27100.0  27159.0   \n",
       "\n",
       "       low    close      vol   log_open   log_high    log_low  log_close  \\\n",
       "0  27054.8  27084.0  218.143  10.205623  10.206698  10.205620  10.206698   \n",
       "1  27073.5  27100.0  329.412  10.206698  10.207802  10.206311  10.207289   \n",
       "2  27100.0  27142.4  979.655  10.207289  10.209464  10.207289  10.208852   \n",
       "\n",
       "   norm_vol  \n",
       "0  0.003386  \n",
       "1  0.005114  \n",
       "2  0.015208  \n",
       "\n",
       "[3 rows x 44 columns]"
      ]
     },
     "execution_count": 1,
     "metadata": {},
     "output_type": "execute_result"
    }
   ],
   "source": [
    "import pandas as pd\n",
    "\n",
    "import os\n",
    "iskaggle = os.environ.get('KAGGLE_KERNEL_RUN_TYPE', '')\n",
    "\n",
    "if iskaggle:\n",
    "    df = pd.read_csv(\"nnbasic-btc-data.csv\", index_col=0).reset_index(drop=True)\n",
    "else:\n",
    "    df = pd.read_csv(\"nnbasic-btc-data.csv\", index_col=0).reset_index(drop=True)\n",
    "\n",
    "\n",
    "print(df.shape)\n",
    "df.head(3)"
   ]
  },
  {
   "cell_type": "code",
   "execution_count": 2,
   "id": "5109d662-2b61-46cc-95c3-1a59b9147fae",
   "metadata": {},
   "outputs": [
    {
     "name": "stdout",
     "output_type": "stream",
     "text": [
      "(11713, 19)\n"
     ]
    },
    {
     "data": {
      "text/html": [
       "<div>\n",
       "<style scoped>\n",
       "    .dataframe tbody tr th:only-of-type {\n",
       "        vertical-align: middle;\n",
       "    }\n",
       "\n",
       "    .dataframe tbody tr th {\n",
       "        vertical-align: top;\n",
       "    }\n",
       "\n",
       "    .dataframe thead th {\n",
       "        text-align: right;\n",
       "    }\n",
       "</style>\n",
       "<table border=\"1\" class=\"dataframe\">\n",
       "  <thead>\n",
       "    <tr style=\"text-align: right;\">\n",
       "      <th></th>\n",
       "      <th>log_open_s3</th>\n",
       "      <th>log_high_s3</th>\n",
       "      <th>log_low_s3</th>\n",
       "      <th>log_close_s3</th>\n",
       "      <th>norm_vol_s3</th>\n",
       "      <th>log_open_s2</th>\n",
       "      <th>log_high_s2</th>\n",
       "      <th>log_low_s2</th>\n",
       "      <th>log_close_s2</th>\n",
       "      <th>norm_vol_s2</th>\n",
       "      <th>log_open_s1</th>\n",
       "      <th>log_high_s1</th>\n",
       "      <th>log_low_s1</th>\n",
       "      <th>log_close_s1</th>\n",
       "      <th>log_open</th>\n",
       "      <th>log_high</th>\n",
       "      <th>log_low</th>\n",
       "      <th>log_close</th>\n",
       "      <th>norm_vol</th>\n",
       "    </tr>\n",
       "  </thead>\n",
       "  <tbody>\n",
       "    <tr>\n",
       "      <th>0</th>\n",
       "      <td>10.207403</td>\n",
       "      <td>10.207588</td>\n",
       "      <td>10.206573</td>\n",
       "      <td>10.207175</td>\n",
       "      <td>0.006003</td>\n",
       "      <td>10.207175</td>\n",
       "      <td>10.207175</td>\n",
       "      <td>10.20495</td>\n",
       "      <td>10.205331</td>\n",
       "      <td>0.006344</td>\n",
       "      <td>10.205331</td>\n",
       "      <td>10.206455</td>\n",
       "      <td>10.205110</td>\n",
       "      <td>10.205623</td>\n",
       "      <td>10.205623</td>\n",
       "      <td>10.206698</td>\n",
       "      <td>10.205620</td>\n",
       "      <td>10.206698</td>\n",
       "      <td>0.003386</td>\n",
       "    </tr>\n",
       "    <tr>\n",
       "      <th>1</th>\n",
       "      <td>10.207175</td>\n",
       "      <td>10.207175</td>\n",
       "      <td>10.204950</td>\n",
       "      <td>10.205331</td>\n",
       "      <td>0.006344</td>\n",
       "      <td>10.205331</td>\n",
       "      <td>10.206455</td>\n",
       "      <td>10.20511</td>\n",
       "      <td>10.205623</td>\n",
       "      <td>0.004270</td>\n",
       "      <td>10.205623</td>\n",
       "      <td>10.206698</td>\n",
       "      <td>10.205620</td>\n",
       "      <td>10.206698</td>\n",
       "      <td>10.206698</td>\n",
       "      <td>10.207802</td>\n",
       "      <td>10.206311</td>\n",
       "      <td>10.207289</td>\n",
       "      <td>0.005114</td>\n",
       "    </tr>\n",
       "    <tr>\n",
       "      <th>2</th>\n",
       "      <td>10.205331</td>\n",
       "      <td>10.206455</td>\n",
       "      <td>10.205110</td>\n",
       "      <td>10.205623</td>\n",
       "      <td>0.004270</td>\n",
       "      <td>10.205623</td>\n",
       "      <td>10.206698</td>\n",
       "      <td>10.20562</td>\n",
       "      <td>10.206698</td>\n",
       "      <td>0.003386</td>\n",
       "      <td>10.206698</td>\n",
       "      <td>10.207802</td>\n",
       "      <td>10.206311</td>\n",
       "      <td>10.207289</td>\n",
       "      <td>10.207289</td>\n",
       "      <td>10.209464</td>\n",
       "      <td>10.207289</td>\n",
       "      <td>10.208852</td>\n",
       "      <td>0.015208</td>\n",
       "    </tr>\n",
       "  </tbody>\n",
       "</table>\n",
       "</div>"
      ],
      "text/plain": [
       "   log_open_s3  log_high_s3  log_low_s3  log_close_s3  norm_vol_s3  \\\n",
       "0    10.207403    10.207588   10.206573     10.207175     0.006003   \n",
       "1    10.207175    10.207175   10.204950     10.205331     0.006344   \n",
       "2    10.205331    10.206455   10.205110     10.205623     0.004270   \n",
       "\n",
       "   log_open_s2  log_high_s2  log_low_s2  log_close_s2  norm_vol_s2  \\\n",
       "0    10.207175    10.207175    10.20495     10.205331     0.006344   \n",
       "1    10.205331    10.206455    10.20511     10.205623     0.004270   \n",
       "2    10.205623    10.206698    10.20562     10.206698     0.003386   \n",
       "\n",
       "   log_open_s1  log_high_s1  log_low_s1  log_close_s1   log_open   log_high  \\\n",
       "0    10.205331    10.206455   10.205110     10.205623  10.205623  10.206698   \n",
       "1    10.205623    10.206698   10.205620     10.206698  10.206698  10.207802   \n",
       "2    10.206698    10.207802   10.206311     10.207289  10.207289  10.209464   \n",
       "\n",
       "     log_low  log_close  norm_vol  \n",
       "0  10.205620  10.206698  0.003386  \n",
       "1  10.206311  10.207289  0.005114  \n",
       "2  10.207289  10.208852  0.015208  "
      ]
     },
     "execution_count": 2,
     "metadata": {},
     "output_type": "execute_result"
    }
   ],
   "source": [
    "# do not use the time columns \n",
    "\n",
    "df_train = df.filter(items = ['log_open_s3', 'log_high_s3', 'log_low_s3', 'log_close_s3', 'norm_vol_s3',\n",
    "       'log_open_s2', 'log_high_s2', 'log_low_s2', 'log_close_s2', 'norm_vol_s2',\n",
    "       'log_open_s1', 'log_high_s1', 'log_low_s1', 'log_close_s1', 'norm_s1', \n",
    "       'log_open', 'log_high', 'log_low', 'log_close', 'norm_vol']).dropna()\n",
    "print(df_train.shape)\n",
    "df_train.head(3)"
   ]
  },
  {
   "cell_type": "markdown",
   "id": "cf0bc9d3-4fe4-4419-8545-2e260f056adf",
   "metadata": {
    "jp-MarkdownHeadingCollapsed": true
   },
   "source": [
    "### hist plots to check log normalization"
   ]
  },
  {
   "cell_type": "code",
   "execution_count": 3,
   "id": "7bb19caa-edad-408b-bb7d-aec5b50566d6",
   "metadata": {},
   "outputs": [
    {
     "data": {
      "image/png": "[encoded data removed]",
      "text/plain": [
       "<Figure size 640x480 with 1 Axes>"
      ]
     },
     "metadata": {},
     "output_type": "display_data"
    }
   ],
   "source": [
    "#df_train['norm_vol'].where(df_train.vol < 10000).hist();\n",
    "df_train['norm_vol'].where(df_train.norm_vol < 0.1).hist();"
   ]
  },
  {
   "cell_type": "code",
   "execution_count": 4,
   "id": "d48c657d-39a3-459a-8d93-887f0ff4d924",
   "metadata": {},
   "outputs": [
    {
     "data": {
      "image/png": "[encoded data removed]",
      "text/plain": [
       "<Figure size 640x480 with 1 Axes>"
      ]
     },
     "metadata": {},
     "output_type": "display_data"
    }
   ],
   "source": [
    "df_train['log_open'].hist();"
   ]
  },
  {
   "cell_type": "markdown",
   "id": "e9e8b751-62e4-4c0c-a726-dbbcba096c41",
   "metadata": {},
   "source": [
    "## dep, indep, weights and bias"
   ]
  },
  {
   "cell_type": "markdown",
   "id": "6f4e8f29-1e4c-4ee9-b3ac-c9a0819d4dca",
   "metadata": {},
   "source": [
    "In this setting we will just try to predict the high value based on the previous three candles. The results will likely not be good since point predictions are tricky."
   ]
  },
  {
   "cell_type": "code",
   "execution_count": 5,
   "id": "7d51e56e-8444-48d6-ab95-9c968874a3f3",
   "metadata": {},
   "outputs": [
    {
     "name": "stdout",
     "output_type": "stream",
     "text": [
      "torch.Size([11713])\n"
     ]
    },
    {
     "data": {
      "text/plain": [
       "tensor([10.2067, 10.2078, 10.2095,  ..., 10.2057, 10.2059, 10.2061])"
      ]
     },
     "execution_count": 5,
     "metadata": {},
     "output_type": "execute_result"
    }
   ],
   "source": [
    "import torch\n",
    "from torch import tensor\n",
    "\n",
    "t_dep = tensor(df_train['log_high'].values, dtype=torch.float)\n",
    "print(t_dep.shape) # 1 D tensor\n",
    "t_dep"
   ]
  },
  {
   "cell_type": "markdown",
   "id": "231d7217-9310-4206-b796-81064b9c23e7",
   "metadata": {},
   "source": [
    "All variables are used instead of the high value which is the dependend value."
   ]
  },
  {
   "cell_type": "code",
   "execution_count": 6,
   "id": "d6cdafd0-5d00-443d-8ee0-f1627d0bf8bb",
   "metadata": {},
   "outputs": [
    {
     "data": {
      "text/plain": [
       "torch.Size([11713, 18])"
      ]
     },
     "execution_count": 6,
     "metadata": {},
     "output_type": "execute_result"
    }
   ],
   "source": [
    "t_indep = tensor(df_train.loc[:, df_train.columns != \"log_high\"].values, dtype=torch.float)\n",
    "\n",
    "t_indep.shape # 2 D tensor > rows with observations and columns with features"
   ]
  },
  {
   "cell_type": "markdown",
   "id": "a8d0dbe2-25b5-45ed-b702-45827532831e",
   "metadata": {},
   "source": [
    "The number of features needs to be the same as the lenght of the weights, because they will be multiplicated."
   ]
  },
  {
   "cell_type": "code",
   "execution_count": 7,
   "id": "d4efdff5-f768-41a4-a953-ecf3f3f41bc1",
   "metadata": {},
   "outputs": [
    {
     "data": {
      "text/plain": [
       "torch.Size([18])"
      ]
     },
     "execution_count": 7,
     "metadata": {},
     "output_type": "execute_result"
    }
   ],
   "source": [
    "import math\n",
    "\n",
    "n,c = t_indep.shape\n",
    "\n",
    "# \"We are initializing the weights here with Xavier initialisation (by multiplying n random weights with 1/sqrt(n)).\"\n",
    "weights = torch.randn(c) / math.sqrt(n)\n",
    "weights.requires_grad_()\n",
    "bias = torch.zeros(n, requires_grad=True)\n",
    "weights.shape"
   ]
  },
  {
   "cell_type": "code",
   "execution_count": 8,
   "id": "f4c496b7-e5c8-44ca-992d-e9c52ba39878",
   "metadata": {},
   "outputs": [
    {
     "data": {
      "text/plain": [
       "torch.Size([11713])"
      ]
     },
     "execution_count": 8,
     "metadata": {},
     "output_type": "execute_result"
    }
   ],
   "source": [
    "(t_indep*weights).sum(axis=1).shape #checking the axis sum"
   ]
  },
  {
   "cell_type": "markdown",
   "id": "29df76c8-f0ad-4575-afbf-8e3aa5a3c546",
   "metadata": {},
   "source": [
    "## making the first prediction"
   ]
  },
  {
   "cell_type": "markdown",
   "id": "485b60ba-475b-4f6a-b82d-b32449e11b43",
   "metadata": {},
   "source": [
    "Since we are making a linear classifier the formula for yhat or the predictions is the sum of the products of coefficients and observations. \n",
    "\n",
    "In other words: \n",
    "\n",
    "$ y = x_0 \\times b_0 + x_1 \\times b_1 $\n",
    "\n",
    "where $x_0$ is the first vector of observations (=features) and $b_0$ is the first coefficient.\n",
    "\n",
    "and then is $y$ the vector with the predictions the same length as the data frame, so this formula can be read \"rowwise\"."
   ]
  },
  {
   "cell_type": "code",
   "execution_count": 9,
   "id": "a9f77b4c-d9d5-4293-89d7-cd4c1b4f4e6d",
   "metadata": {},
   "outputs": [
    {
     "name": "stdout",
     "output_type": "stream",
     "text": [
      "torch.Size([11713])\n"
     ]
    },
    {
     "data": {
      "text/plain": [
       "tensor([0.0565, 0.0565, 0.0568], grad_fn=<SliceBackward0>)"
      ]
     },
     "execution_count": 9,
     "metadata": {},
     "output_type": "execute_result"
    }
   ],
   "source": [
    "preds = (t_indep*weights).sum(axis=1)\n",
    "print(preds.shape) # 1d vector of predictions\n",
    "preds[0:3] # the first three predictions of n"
   ]
  },
  {
   "cell_type": "code",
   "execution_count": 10,
   "id": "36e7ae65-46cc-4e8d-8211-1b6864e3c79c",
   "metadata": {},
   "outputs": [
    {
     "name": "stdout",
     "output_type": "stream",
     "text": [
      "indep[0]: tensor([1.0207e+01, 1.0208e+01, 1.0207e+01, 1.0207e+01, 6.0028e-03, 1.0207e+01,\n",
      "        1.0207e+01, 1.0205e+01, 1.0205e+01, 6.3444e-03, 1.0205e+01, 1.0206e+01,\n",
      "        1.0205e+01, 1.0206e+01, 1.0206e+01, 1.0206e+01, 1.0207e+01, 3.3865e-03])\n",
      "\n",
      " weights: tensor([-0.0127, -0.0110,  0.0020, -0.0134, -0.0124,  0.0056,  0.0134,  0.0070,\n",
      "        -0.0021,  0.0042, -0.0012, -0.0005, -0.0056,  0.0083,  0.0062,  0.0162,\n",
      "        -0.0066,  0.0151], requires_grad=True)\n",
      "\n",
      " first entry of Indep * weights: \n",
      " tensor(-0.1293, grad_fn=<MulBackward0>)\n",
      "\n",
      " Indep * weights : \n",
      " tensor([-1.2933e-01, -1.1212e-01,  2.0182e-02, -1.3697e-01, -7.4239e-05,\n",
      "         5.7013e-02,  1.3672e-01,  7.1254e-02, -2.1332e-02,  2.6561e-05,\n",
      "        -1.1969e-02, -5.3569e-03, -5.7542e-02,  8.5025e-02,  6.3092e-02,\n",
      "         1.6515e-01, -6.7318e-02,  5.1026e-05], grad_fn=<MulBackward0>)\n",
      "\n",
      " sum of Indep * weights = 1d vector: \n",
      " tensor([0.0565, 0.0565, 0.0568,  ..., 0.0565, 0.0566, 0.0566],\n",
      "       grad_fn=<SumBackward1>)\n"
     ]
    }
   ],
   "source": [
    "# quick check for first row: \n",
    "\n",
    "print(f\"indep[0]: {t_indep[0]}\")\n",
    "print(f\"\\n weights: {weights}\")\n",
    "print(\"\\n first entry of Indep * weights: \\n\",t_indep[0][0]*weights[0])\n",
    "print(\"\\n Indep * weights : \\n\",t_indep[0]*weights)\n",
    "print(\"\\n sum of Indep * weights = 1d vector: \\n\", (t_indep*weights).sum(axis=1) ) #axis=1 is along the colums\n"
   ]
  },
  {
   "cell_type": "markdown",
   "id": "b7a1c0d6-cf00-4df2-b19b-9212de33bef4",
   "metadata": {},
   "source": [
    "## loss: mean absolute error"
   ]
  },
  {
   "cell_type": "code",
   "execution_count": 11,
   "id": "2c86eccd-9527-41ac-be67-0ff42710cd6a",
   "metadata": {},
   "outputs": [
    {
     "name": "stdout",
     "output_type": "stream",
     "text": [
      "torch.Size([])\n"
     ]
    },
    {
     "data": {
      "text/plain": [
       "tensor(10.1820, grad_fn=<MeanBackward0>)"
      ]
     },
     "execution_count": 11,
     "metadata": {},
     "output_type": "execute_result"
    }
   ],
   "source": [
    "loss_mae_manual = torch.abs(preds-t_dep).mean()\n",
    "print(loss_mae_manual.shape)\n",
    "loss_mae_manual"
   ]
  },
  {
   "cell_type": "code",
   "execution_count": 12,
   "id": "251f35d6-81e6-4122-963f-48a304cc52be",
   "metadata": {},
   "outputs": [],
   "source": [
    "# initialise coeffs and define the independent variable \n",
    "t_indep*weights\n",
    "\n",
    "# define it as a function \n",
    "def calc_preds(weights, indeps): return (indeps*weights).sum(axis=1)\n",
    "    \n",
    "preds = (t_indep*weights).sum(axis=1) #along columns, therefore length n vector"
   ]
  },
  {
   "cell_type": "code",
   "execution_count": 13,
   "id": "98e35997-8906-400f-a2bd-a0c53780c4b4",
   "metadata": {},
   "outputs": [],
   "source": [
    "# define the loss function\n",
    "\n",
    "# herer it is mean absolute error\n",
    "loss = torch.abs(preds-t_dep).mean()\n",
    "\n",
    "# define it in a function\n",
    "def calc_loss(dep, indep, weights): return torch.abs( (indep*weights).sum(axis=1) - dep).mean()"
   ]
  },
  {
   "cell_type": "code",
   "execution_count": 14,
   "id": "549e1604-65c1-43ae-ad71-4c7d04b79fbe",
   "metadata": {},
   "outputs": [
    {
     "name": "stdout",
     "output_type": "stream",
     "text": [
      "tensor([0.0565, 0.0565, 0.0568,  ..., 0.0565, 0.0566, 0.0566],\n",
      "       grad_fn=<SumBackward1>)\n",
      "tensor(10.1820, grad_fn=<MeanBackward0>)\n"
     ]
    }
   ],
   "source": [
    "print(calc_preds(t_indep,weights))\n",
    "print(calc_loss(t_dep,t_indep,weights))"
   ]
  },
  {
   "cell_type": "markdown",
   "id": "4ba4bea3-f3e1-496c-a9c1-9ed972a67133",
   "metadata": {},
   "source": [
    "## sidebar: cross entropy loss via pytorch functional"
   ]
  },
  {
   "cell_type": "code",
   "execution_count": 15,
   "id": "efd97542-f5d7-4fff-aa9e-a171499f021c",
   "metadata": {},
   "outputs": [
    {
     "name": "stdout",
     "output_type": "stream",
     "text": [
      "mean absolute error: tensor(103.6769, grad_fn=<MseLossBackward0>)\n",
      "mean squared error: tensor(103.6769, grad_fn=<MseLossBackward0>)\n",
      "cross entropy: tensor(1123529., grad_fn=<DivBackward1>)\n"
     ]
    }
   ],
   "source": [
    "import torch.nn.functional as F\n",
    "loss_ce = F.cross_entropy(preds, t_dep)\n",
    "loss_mae = F.l1_loss(preds, t_dep)\n",
    "loss_mae = F.mse_loss(preds, t_dep)\n",
    "\n",
    "print(\"mean absolute error:\",loss_mae)\n",
    "print(\"mean squared error:\",loss_mae)\n",
    "print(\"cross entropy:\",loss_ce)"
   ]
  },
  {
   "cell_type": "markdown",
   "id": "2cc49ca9-b3cc-49f0-b275-53d59257b1bd",
   "metadata": {},
   "source": [
    "## gradients & learning rate"
   ]
  },
  {
   "cell_type": "code",
   "execution_count": 16,
   "id": "c563222d-e96a-45ce-9f7f-df6f15eab8df",
   "metadata": {},
   "outputs": [
    {
     "data": {
      "text/plain": [
       "tensor([-10.2377, -10.2388, -10.2366, -10.2377,  -0.0172, -10.2377, -10.2388,\n",
       "        -10.2366, -10.2377,  -0.0172, -10.2377, -10.2388, -10.2366, -10.2377,\n",
       "        -10.2377, -10.2366, -10.2377,  -0.0172])"
      ]
     },
     "execution_count": 16,
     "metadata": {},
     "output_type": "execute_result"
    }
   ],
   "source": [
    "loss = calc_loss(t_dep, t_indep,weights)\n",
    "loss.backward(retain_graph=True)\n",
    "weights.grad"
   ]
  },
  {
   "cell_type": "code",
   "execution_count": 17,
   "id": "b3422789-673c-4975-ad1c-db59980152d6",
   "metadata": {},
   "outputs": [
    {
     "name": "stdout",
     "output_type": "stream",
     "text": [
      "tensor([-20.4755, -20.4776, -20.4732, -20.4755,  -0.0345, -20.4755, -20.4776,\n",
      "        -20.4732, -20.4755,  -0.0345, -20.4755, -20.4776, -20.4732, -20.4755,\n",
      "        -20.4755, -20.4732, -20.4755,  -0.0345])\n"
     ]
    }
   ],
   "source": [
    "# if done twice or more: the gradients are added together\n",
    "loss.backward(retain_graph=True)\n",
    "print(weights.grad)"
   ]
  },
  {
   "cell_type": "markdown",
   "id": "d7c5e52c-6723-4f1d-9ee5-a01f11ee079e",
   "metadata": {},
   "source": [
    "## gradient descent step"
   ]
  },
  {
   "cell_type": "code",
   "execution_count": 18,
   "id": "f12d0dd4-683a-455d-90ca-e272cd8e0b30",
   "metadata": {},
   "outputs": [
    {
     "name": "stdout",
     "output_type": "stream",
     "text": [
      "tensor([-30.7132, -30.7163, -30.7099, -30.7132,  -0.0517, -30.7132, -30.7163,\n",
      "        -30.7099, -30.7132,  -0.0517, -30.7132, -30.7163, -30.7099, -30.7132,\n",
      "        -30.7132, -30.7099, -30.7132,  -0.0517])\n",
      "tensor(461.4607)\n"
     ]
    }
   ],
   "source": [
    "# loss = calc_loss(coeffs, t_indep, t_dep) # already done \n",
    "loss.backward(retain_graph=True) \n",
    "with torch.no_grad():\n",
    "    print(weights.grad)\n",
    "    weights.sub_(weights.grad * 0.1) # subtract inplace gradients*learning_rate > i.e. move one step \n",
    "    weights.grad.zero_() \n",
    "    print(calc_loss(t_dep, t_indep,weights))"
   ]
  },
  {
   "cell_type": "markdown",
   "id": "f6431e4a-0b03-41d2-831f-9d4f08bc791f",
   "metadata": {},
   "source": [
    "**by adding the steps _grad_zero_ and recalculating the _loss_ the weights stay the same when executing this cell multiple times**"
   ]
  },
  {
   "cell_type": "markdown",
   "id": "9c48c2d3-dc53-4b01-8083-ea9affc02a9b",
   "metadata": {},
   "source": [
    "## putting everything in a function"
   ]
  },
  {
   "cell_type": "markdown",
   "id": "f70e4498-c5fd-4c7a-ae26-e2c9ec29e16b",
   "metadata": {},
   "source": [
    "What does one iteration need?\n",
    "\n",
    "It proceeds in the following order: \n",
    "- dependent and independent variables are given\n",
    "- epochs and learning rate are given\n",
    "- weights and bias are initialized\n",
    "- loss is calculated\n",
    "- gradients are calculated\n",
    "- one step is moved: $weights - (gradients*learning\\ rate)$"
   ]
  },
  {
   "cell_type": "code",
   "execution_count": 22,
   "id": "4efbd257-83c2-40d4-850b-87c74214eb71",
   "metadata": {},
   "outputs": [],
   "source": [
    "#reminder: \n",
    "def calc_loss(dep, indep, weights): return torch.abs( (indep*weights).sum(axis=1) - dep).mean()\n",
    "\n",
    "def one_epoch(dep, indep,lr):\n",
    "    \n",
    "    # \"We are initializing the weights here with Xavier initialisation (by multiplying n random weights with 1/sqrt(n)).\"\n",
    "    n,c = indep.shape\n",
    "    weights = (torch.randn(c) / math.sqrt(n)).requires_grad_()\n",
    "\n",
    "    # start with loss\n",
    "    loss = calc_loss(dep, indep, weights)\n",
    "\n",
    "    # calc gradients\n",
    "    loss.backward(retain_graph=True) \n",
    "\n",
    "    # update weights = move one step \n",
    "    with torch.no_grad():\n",
    "        \n",
    "        # subtract inplace gradients*learning_rate \n",
    "        weights.sub_(weights.grad * lr) \n",
    "\n",
    "        # zeroing gradients\n",
    "        weights.grad.zero_() \n",
    "\n",
    "        #printing loss\n",
    "        print(f\"{loss:.3f}\", end=\"; \")\n",
    "    return torch.sigmoid(weights)"
   ]
  },
  {
   "cell_type": "code",
   "execution_count": 33,
   "id": "47958ec5-69b9-4b92-b3af-a01bd7647d58",
   "metadata": {},
   "outputs": [],
   "source": [
    "def train_model(dep,indep,epochs=50, lr=0.01):\n",
    "    torch.manual_seed(420)\n",
    "    for i in range(epochs): one_epoch(dep,indep, lr=lr)\n",
    "    return weights"
   ]
  },
  {
   "cell_type": "code",
   "execution_count": 34,
   "id": "ac2517aa-c349-4be0-b44a-762796b226ca",
   "metadata": {},
   "outputs": [
    {
     "name": "stdout",
     "output_type": "stream",
     "text": [
      "10.423; 10.620; 10.535; 9.832; 10.153; 10.557; 10.240; 10.014; 10.437; 10.392; 10.011; 10.309; 9.939; 10.462; 10.275; 10.095; 10.464; 10.087; 10.392; 10.751; 10.325; 9.680; 9.445; 10.306; 10.705; 9.711; 10.638; 9.727; 9.830; 9.738; 10.553; 10.246; 9.897; 9.818; 10.050; 10.110; 11.080; 10.846; 10.399; 9.662; 10.190; 9.844; 9.950; 10.374; 9.866; 9.776; 10.345; 10.377; 9.877; 10.396; "
     ]
    },
    {
     "data": {
      "text/plain": [
       "tensor([ 3.0587,  3.0607,  3.0730,  3.0579, -0.0072,  3.0769,  3.0850,  3.0780,\n",
       "         3.0692,  0.0094,  3.0701,  3.0711,  3.0653,  3.0797,  3.0775,  3.0872,\n",
       "         3.0647,  0.0202], requires_grad=True)"
      ]
     },
     "execution_count": 34,
     "metadata": {},
     "output_type": "execute_result"
    }
   ],
   "source": [
    "train_model(t_dep,t_indep)"
   ]
  },
  {
   "cell_type": "markdown",
   "id": "a4f849c2-e006-4b56-99a1-a7039b1dde1b",
   "metadata": {},
   "source": [
    "## next steps: done! \n",
    "\n",
    " - figure out when and how to use backward() and require_grad\n",
    " - put the pieces togehter: calc preds > calc loss > get gradients > subtract gradients*learningrate with preds\n",
    "\n",
    "Note on gradients: \\n\n",
    "My current understand is that you need to specify the tensor of where to calculate the gradients on, to access them explicitly. \\n\n",
    "It seems, that the backward function needs to know the input, target and weights."
   ]
  },
  {
   "cell_type": "markdown",
   "id": "74d8c077-84e3-4ca5-82a2-dcf98abc6c3b",
   "metadata": {},
   "source": [
    "## next steps\n",
    "\n",
    "- rework the dataset to be somewhere between 0 and 1\n",
    "- add activation function\n",
    "- measure accuracy/loss"
   ]
  },
  {
   "cell_type": "markdown",
   "id": "3f9a1409-3d9e-48ec-bc99-69dcbde866d3",
   "metadata": {},
   "source": [
    "### check against trees"
   ]
  },
  {
   "cell_type": "code",
   "execution_count": null,
   "id": "e8fe2afa-952f-44be-a175-fa58fdecad49",
   "metadata": {},
   "outputs": [],
   "source": [
    "from sklearn.ensemble import GradientBoostingRegressor\n",
    "from sklearn.model_selection import train_test_split\n",
    "X, y = make_regression(random_state=0)\n",
    ", X_test, y_train, y_test = train_test_split(X, y, random_state=0)\n",
    "reg = GradientBoostingRegressor(random_state=0)\n",
    "reg.fit(X_train, y_train)\n",
    "GradientBoostingRegressor(random_state=0)\n",
    "reg.predict(X_test[1:2])\n",
    "reg.score(X_test, y_test)"
   ]
  }
 ],
 "metadata": {
  "kernelspec": {
   "display_name": "Python 3 (ipykernel)",
   "language": "python",
   "name": "python3"
  },
  "language_info": {
   "codemirror_mode": {
    "name": "ipython",
    "version": 3
   },
   "file_extension": ".py",
   "mimetype": "text/x-python",
   "name": "python",
   "nbconvert_exporter": "python",
   "pygments_lexer": "ipython3",
   "version": "3.10.13"
  }
 },
 "nbformat": 4,
 "nbformat_minor": 5
}
