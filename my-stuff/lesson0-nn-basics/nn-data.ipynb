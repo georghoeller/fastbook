{
 "cells": [
  {
   "cell_type": "markdown",
   "id": "bb195108-6691-4e91-9755-b6ab28f93e5f",
   "metadata": {},
   "source": [
    "## create data "
   ]
  },
  {
   "cell_type": "code",
   "execution_count": null,
   "id": "3283ccc0-b163-41a7-bd1a-a3adc211cba2",
   "metadata": {},
   "outputs": [],
   "source": [
    "import pandas as pd\n",
    "\n",
    "import os\n",
    "iskaggle = os.environ.get('KAGGLE_KERNEL_RUN_TYPE', '')\n",
    "\n",
    "if iskaggle:\n",
    "    df = pd.read_csv(\"/kaggle/input/btcusdt-2023-6-9/btcusdt-2023-6_9.csv\", index_col=0).reset_index(drop=True)\n",
    "else:\n",
    "    df = pd.read_csv(\"../lesson5-random-forests/btc-data/btcusdt-2023-6_9.csv\", index_col=0).reset_index(drop=True)\n",
    "\n",
    "\n",
    "print(df.shape)\n",
    "df.head(3)"
   ]
  },
  {
   "cell_type": "code",
   "execution_count": null,
   "id": "54d917c1-1fc1-4d6f-acd9-f634375c3d63",
   "metadata": {},
   "outputs": [],
   "source": [
    "df.columns"
   ]
  },
  {
   "cell_type": "markdown",
   "id": "1d99fefa-58c6-4597-8627-20c9a69fb407",
   "metadata": {},
   "source": [
    "#### add logs and normalization"
   ]
  },
  {
   "cell_type": "code",
   "execution_count": null,
   "id": "390b4768-1737-4a74-b47f-928c7cd4e015",
   "metadata": {},
   "outputs": [],
   "source": [
    "import numpy as np\n",
    "\n",
    "for col in df.columns[1:5]:\n",
    "    df[\"log_\"+str(col)] = np.log(df[str(col)])\n",
    "\n",
    "df[\"norm_vol\"] = df.vol / np.max(df.vol)\n",
    "\n",
    "print(df.shape)\n",
    "df.head(3)"
   ]
  },
  {
   "cell_type": "code",
   "execution_count": null,
   "id": "2e1dd0a6-bfb7-4222-b14d-efb04e47efc5",
   "metadata": {},
   "outputs": [],
   "source": [
    "# shift data 3 times, so that in one row there is information on the last 3 candles \n",
    "# therefore: the original candle data is the target data\n",
    "\n",
    "df_s1 = df.shift(1).add_suffix(\"_s1\")\n",
    "df_s2 = df.shift(2).add_suffix(\"_s2\")\n",
    "df_s3 = df.shift(3).add_suffix(\"_s3\")\n",
    "df_s3 = df.shift(3).add_suffix(\"_s3\")\n",
    "df_s3 = df.shift(3).add_suffix(\"_s3\")\n",
    "\n",
    "print(df_s3.shape)\n",
    "df_s3.head(3)"
   ]
  },
  {
   "cell_type": "code",
   "execution_count": null,
   "id": "b4dc81a3-2f98-4058-94ed-f1a6c4b56967",
   "metadata": {},
   "outputs": [],
   "source": [
    "df_merge = pd.concat([df_s3,df_s2, df_s1, df], axis=1)\n",
    "print(df_merge.shape)\n",
    "df_merge.head(5)"
   ]
  },
  {
   "cell_type": "code",
   "execution_count": null,
   "id": "cbc78656-c1e0-4fbf-9218-320505c0255e",
   "metadata": {},
   "outputs": [],
   "source": [
    "df_merge.columns"
   ]
  },
  {
   "cell_type": "code",
   "execution_count": null,
   "id": "46d130c7-2ba6-49f1-9c2a-b542f573daff",
   "metadata": {},
   "outputs": [],
   "source": [
    "df_merge.dropna().to_csv(\"nnbasic-btc-data.csv\")"
   ]
  },
  {
   "cell_type": "code",
   "execution_count": null,
   "id": "7b342c41-8a9a-43f1-a5c1-e10e186a7be0",
   "metadata": {},
   "outputs": [],
   "source": [
    "# do not use the time columns \n",
    "\n",
    "df_train = df_merge.filter(items = ['open_s3', 'high_s3', 'low_s3', 'close_s3', 'vol_s3',\n",
    "       'open_s2', 'high_s2', 'low_s2', 'close_s2', 'vol_s2',\n",
    "       'open_s1', 'high_s1', 'low_s1', 'close_s1', 'vol_s1', \n",
    "       'open', 'high', 'low', 'close', 'vol']).dropna()\n",
    "print(df_train.shape)\n",
    "df_train.head(3)"
   ]
  }
 ],
 "metadata": {
  "kernelspec": {
   "display_name": "Python 3 (ipykernel)",
   "language": "python",
   "name": "python3"
  },
  "language_info": {
   "codemirror_mode": {
    "name": "ipython",
    "version": 3
   },
   "file_extension": ".py",
   "mimetype": "text/x-python",
   "name": "python",
   "nbconvert_exporter": "python",
   "pygments_lexer": "ipython3",
   "version": "3.10.13"
  }
 },
 "nbformat": 4,
 "nbformat_minor": 5
}
