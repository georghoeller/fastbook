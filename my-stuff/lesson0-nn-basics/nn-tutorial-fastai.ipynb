{
 "cells": [
  {
   "cell_type": "markdown",
   "id": "d226b733-9c8d-4a0c-952d-4d47766c8b70",
   "metadata": {},
   "source": [
    "# Basic Neural Net from scratch\n",
    "## along fast.ai tutorial\n",
    "\n",
    "https://www.kaggle.com/code/jhoward/linear-model-and-neural-net-from-scratch"
   ]
  },
  {
   "cell_type": "markdown",
   "id": "d1ccff0b-346f-41db-a011-091f54fbc409",
   "metadata": {
    "jp-MarkdownHeadingCollapsed": true
   },
   "source": [
    "## import data"
   ]
  },
  {
   "cell_type": "code",
   "execution_count": 1,
   "id": "317f8d60-a2aa-4796-9c0b-18464d72047c",
   "metadata": {},
   "outputs": [
    {
     "name": "stdout",
     "output_type": "stream",
     "text": [
      "(11713, 24)\n"
     ]
    },
    {
     "data": {
      "text/html": [
       "<div>\n",
       "<style scoped>\n",
       "    .dataframe tbody tr th:only-of-type {\n",
       "        vertical-align: middle;\n",
       "    }\n",
       "\n",
       "    .dataframe tbody tr th {\n",
       "        vertical-align: top;\n",
       "    }\n",
       "\n",
       "    .dataframe thead th {\n",
       "        text-align: right;\n",
       "    }\n",
       "</style>\n",
       "<table border=\"1\" class=\"dataframe\">\n",
       "  <thead>\n",
       "    <tr style=\"text-align: right;\">\n",
       "      <th></th>\n",
       "      <th>time_s3</th>\n",
       "      <th>open_s3</th>\n",
       "      <th>high_s3</th>\n",
       "      <th>low_s3</th>\n",
       "      <th>close_s3</th>\n",
       "      <th>vol_s3</th>\n",
       "      <th>time_s2</th>\n",
       "      <th>open_s2</th>\n",
       "      <th>high_s2</th>\n",
       "      <th>low_s2</th>\n",
       "      <th>...</th>\n",
       "      <th>high_s1</th>\n",
       "      <th>low_s1</th>\n",
       "      <th>close_s1</th>\n",
       "      <th>vol_s1</th>\n",
       "      <th>time</th>\n",
       "      <th>open</th>\n",
       "      <th>high</th>\n",
       "      <th>low</th>\n",
       "      <th>close</th>\n",
       "      <th>vol</th>\n",
       "    </tr>\n",
       "  </thead>\n",
       "  <tbody>\n",
       "    <tr>\n",
       "      <th>0</th>\n",
       "      <td>2023.06.01 00:00</td>\n",
       "      <td>27103.1</td>\n",
       "      <td>27108.1</td>\n",
       "      <td>27080.6</td>\n",
       "      <td>27096.9</td>\n",
       "      <td>386.675</td>\n",
       "      <td>2023.06.01 00:15</td>\n",
       "      <td>27096.9</td>\n",
       "      <td>27096.9</td>\n",
       "      <td>27036.7</td>\n",
       "      <td>...</td>\n",
       "      <td>27077.4</td>\n",
       "      <td>27041.0</td>\n",
       "      <td>27054.9</td>\n",
       "      <td>275.080</td>\n",
       "      <td>2023.06.01 00:45</td>\n",
       "      <td>27054.9</td>\n",
       "      <td>27084.0</td>\n",
       "      <td>27054.8</td>\n",
       "      <td>27084.0</td>\n",
       "      <td>218.143</td>\n",
       "    </tr>\n",
       "    <tr>\n",
       "      <th>1</th>\n",
       "      <td>2023.06.01 00:15</td>\n",
       "      <td>27096.9</td>\n",
       "      <td>27096.9</td>\n",
       "      <td>27036.7</td>\n",
       "      <td>27047.0</td>\n",
       "      <td>408.680</td>\n",
       "      <td>2023.06.01 00:30</td>\n",
       "      <td>27047.0</td>\n",
       "      <td>27077.4</td>\n",
       "      <td>27041.0</td>\n",
       "      <td>...</td>\n",
       "      <td>27084.0</td>\n",
       "      <td>27054.8</td>\n",
       "      <td>27084.0</td>\n",
       "      <td>218.143</td>\n",
       "      <td>2023.06.01 01:00</td>\n",
       "      <td>27084.0</td>\n",
       "      <td>27113.9</td>\n",
       "      <td>27073.5</td>\n",
       "      <td>27100.0</td>\n",
       "      <td>329.412</td>\n",
       "    </tr>\n",
       "    <tr>\n",
       "      <th>2</th>\n",
       "      <td>2023.06.01 00:30</td>\n",
       "      <td>27047.0</td>\n",
       "      <td>27077.4</td>\n",
       "      <td>27041.0</td>\n",
       "      <td>27054.9</td>\n",
       "      <td>275.080</td>\n",
       "      <td>2023.06.01 00:45</td>\n",
       "      <td>27054.9</td>\n",
       "      <td>27084.0</td>\n",
       "      <td>27054.8</td>\n",
       "      <td>...</td>\n",
       "      <td>27113.9</td>\n",
       "      <td>27073.5</td>\n",
       "      <td>27100.0</td>\n",
       "      <td>329.412</td>\n",
       "      <td>2023.06.01 01:15</td>\n",
       "      <td>27100.0</td>\n",
       "      <td>27159.0</td>\n",
       "      <td>27100.0</td>\n",
       "      <td>27142.4</td>\n",
       "      <td>979.655</td>\n",
       "    </tr>\n",
       "  </tbody>\n",
       "</table>\n",
       "<p>3 rows × 24 columns</p>\n",
       "</div>"
      ],
      "text/plain": [
       "            time_s3  open_s3  high_s3   low_s3  close_s3   vol_s3  \\\n",
       "0  2023.06.01 00:00  27103.1  27108.1  27080.6   27096.9  386.675   \n",
       "1  2023.06.01 00:15  27096.9  27096.9  27036.7   27047.0  408.680   \n",
       "2  2023.06.01 00:30  27047.0  27077.4  27041.0   27054.9  275.080   \n",
       "\n",
       "            time_s2  open_s2  high_s2   low_s2  ...  high_s1   low_s1  \\\n",
       "0  2023.06.01 00:15  27096.9  27096.9  27036.7  ...  27077.4  27041.0   \n",
       "1  2023.06.01 00:30  27047.0  27077.4  27041.0  ...  27084.0  27054.8   \n",
       "2  2023.06.01 00:45  27054.9  27084.0  27054.8  ...  27113.9  27073.5   \n",
       "\n",
       "  close_s1   vol_s1              time     open     high      low    close  \\\n",
       "0  27054.9  275.080  2023.06.01 00:45  27054.9  27084.0  27054.8  27084.0   \n",
       "1  27084.0  218.143  2023.06.01 01:00  27084.0  27113.9  27073.5  27100.0   \n",
       "2  27100.0  329.412  2023.06.01 01:15  27100.0  27159.0  27100.0  27142.4   \n",
       "\n",
       "       vol  \n",
       "0  218.143  \n",
       "1  329.412  \n",
       "2  979.655  \n",
       "\n",
       "[3 rows x 24 columns]"
      ]
     },
     "execution_count": 1,
     "metadata": {},
     "output_type": "execute_result"
    }
   ],
   "source": [
    "import pandas as pd\n",
    "\n",
    "import os\n",
    "iskaggle = os.environ.get('KAGGLE_KERNEL_RUN_TYPE', '')\n",
    "\n",
    "if iskaggle:\n",
    "    df = pd.read_csv(\"nnbasic-btc-data.csv\", index_col=0).reset_index(drop=True)\n",
    "else:\n",
    "    df = pd.read_csv(\"nnbasic-btc-data.csv\", index_col=0).reset_index(drop=True)\n",
    "\n",
    "\n",
    "print(df.shape)\n",
    "df.head(3)"
   ]
  },
  {
   "cell_type": "code",
   "execution_count": 3,
   "id": "5109d662-2b61-46cc-95c3-1a59b9147fae",
   "metadata": {},
   "outputs": [
    {
     "name": "stdout",
     "output_type": "stream",
     "text": [
      "(11713, 20)\n"
     ]
    },
    {
     "data": {
      "text/html": [
       "<div>\n",
       "<style scoped>\n",
       "    .dataframe tbody tr th:only-of-type {\n",
       "        vertical-align: middle;\n",
       "    }\n",
       "\n",
       "    .dataframe tbody tr th {\n",
       "        vertical-align: top;\n",
       "    }\n",
       "\n",
       "    .dataframe thead th {\n",
       "        text-align: right;\n",
       "    }\n",
       "</style>\n",
       "<table border=\"1\" class=\"dataframe\">\n",
       "  <thead>\n",
       "    <tr style=\"text-align: right;\">\n",
       "      <th></th>\n",
       "      <th>open_s3</th>\n",
       "      <th>high_s3</th>\n",
       "      <th>low_s3</th>\n",
       "      <th>close_s3</th>\n",
       "      <th>vol_s3</th>\n",
       "      <th>open_s2</th>\n",
       "      <th>high_s2</th>\n",
       "      <th>low_s2</th>\n",
       "      <th>close_s2</th>\n",
       "      <th>vol_s2</th>\n",
       "      <th>open_s1</th>\n",
       "      <th>high_s1</th>\n",
       "      <th>low_s1</th>\n",
       "      <th>close_s1</th>\n",
       "      <th>vol_s1</th>\n",
       "      <th>open</th>\n",
       "      <th>high</th>\n",
       "      <th>low</th>\n",
       "      <th>close</th>\n",
       "      <th>vol</th>\n",
       "    </tr>\n",
       "  </thead>\n",
       "  <tbody>\n",
       "    <tr>\n",
       "      <th>0</th>\n",
       "      <td>27103.1</td>\n",
       "      <td>27108.1</td>\n",
       "      <td>27080.6</td>\n",
       "      <td>27096.9</td>\n",
       "      <td>386.675</td>\n",
       "      <td>27096.9</td>\n",
       "      <td>27096.9</td>\n",
       "      <td>27036.7</td>\n",
       "      <td>27047.0</td>\n",
       "      <td>408.680</td>\n",
       "      <td>27047.0</td>\n",
       "      <td>27077.4</td>\n",
       "      <td>27041.0</td>\n",
       "      <td>27054.9</td>\n",
       "      <td>275.080</td>\n",
       "      <td>27054.9</td>\n",
       "      <td>27084.0</td>\n",
       "      <td>27054.8</td>\n",
       "      <td>27084.0</td>\n",
       "      <td>218.143</td>\n",
       "    </tr>\n",
       "    <tr>\n",
       "      <th>1</th>\n",
       "      <td>27096.9</td>\n",
       "      <td>27096.9</td>\n",
       "      <td>27036.7</td>\n",
       "      <td>27047.0</td>\n",
       "      <td>408.680</td>\n",
       "      <td>27047.0</td>\n",
       "      <td>27077.4</td>\n",
       "      <td>27041.0</td>\n",
       "      <td>27054.9</td>\n",
       "      <td>275.080</td>\n",
       "      <td>27054.9</td>\n",
       "      <td>27084.0</td>\n",
       "      <td>27054.8</td>\n",
       "      <td>27084.0</td>\n",
       "      <td>218.143</td>\n",
       "      <td>27084.0</td>\n",
       "      <td>27113.9</td>\n",
       "      <td>27073.5</td>\n",
       "      <td>27100.0</td>\n",
       "      <td>329.412</td>\n",
       "    </tr>\n",
       "    <tr>\n",
       "      <th>2</th>\n",
       "      <td>27047.0</td>\n",
       "      <td>27077.4</td>\n",
       "      <td>27041.0</td>\n",
       "      <td>27054.9</td>\n",
       "      <td>275.080</td>\n",
       "      <td>27054.9</td>\n",
       "      <td>27084.0</td>\n",
       "      <td>27054.8</td>\n",
       "      <td>27084.0</td>\n",
       "      <td>218.143</td>\n",
       "      <td>27084.0</td>\n",
       "      <td>27113.9</td>\n",
       "      <td>27073.5</td>\n",
       "      <td>27100.0</td>\n",
       "      <td>329.412</td>\n",
       "      <td>27100.0</td>\n",
       "      <td>27159.0</td>\n",
       "      <td>27100.0</td>\n",
       "      <td>27142.4</td>\n",
       "      <td>979.655</td>\n",
       "    </tr>\n",
       "  </tbody>\n",
       "</table>\n",
       "</div>"
      ],
      "text/plain": [
       "   open_s3  high_s3   low_s3  close_s3   vol_s3  open_s2  high_s2   low_s2  \\\n",
       "0  27103.1  27108.1  27080.6   27096.9  386.675  27096.9  27096.9  27036.7   \n",
       "1  27096.9  27096.9  27036.7   27047.0  408.680  27047.0  27077.4  27041.0   \n",
       "2  27047.0  27077.4  27041.0   27054.9  275.080  27054.9  27084.0  27054.8   \n",
       "\n",
       "   close_s2   vol_s2  open_s1  high_s1   low_s1  close_s1   vol_s1     open  \\\n",
       "0   27047.0  408.680  27047.0  27077.4  27041.0   27054.9  275.080  27054.9   \n",
       "1   27054.9  275.080  27054.9  27084.0  27054.8   27084.0  218.143  27084.0   \n",
       "2   27084.0  218.143  27084.0  27113.9  27073.5   27100.0  329.412  27100.0   \n",
       "\n",
       "      high      low    close      vol  \n",
       "0  27084.0  27054.8  27084.0  218.143  \n",
       "1  27113.9  27073.5  27100.0  329.412  \n",
       "2  27159.0  27100.0  27142.4  979.655  "
      ]
     },
     "execution_count": 3,
     "metadata": {},
     "output_type": "execute_result"
    }
   ],
   "source": [
    "# do not use the time columns \n",
    "\n",
    "df_train = df.filter(items = ['open_s3', 'high_s3', 'low_s3', 'close_s3', 'vol_s3',\n",
    "       'open_s2', 'high_s2', 'low_s2', 'close_s2', 'vol_s2',\n",
    "       'open_s1', 'high_s1', 'low_s1', 'close_s1', 'vol_s1', \n",
    "       'open', 'high', 'low', 'close', 'vol']).dropna()\n",
    "print(df_train.shape)\n",
    "df_train.head(3)"
   ]
  },
  {
   "cell_type": "markdown",
   "id": "cf0bc9d3-4fe4-4419-8545-2e260f056adf",
   "metadata": {
    "jp-MarkdownHeadingCollapsed": true
   },
   "source": [
    "### hist plots to check log normalization"
   ]
  },
  {
   "cell_type": "code",
   "execution_count": 6,
   "id": "7bb19caa-edad-408b-bb7d-aec5b50566d6",
   "metadata": {},
   "outputs": [
    {
     "data": {
      "image/png": "[encoded data removed]",
      "text/plain": [
       "<Figure size 640x480 with 1 Axes>"
      ]
     },
     "metadata": {},
     "output_type": "display_data"
    }
   ],
   "source": [
    "df_train['vol'].where(df_train.vol < 10000).hist();"
   ]
  },
  {
   "cell_type": "code",
   "execution_count": 7,
   "id": "d48c657d-39a3-459a-8d93-887f0ff4d924",
   "metadata": {},
   "outputs": [
    {
     "data": {
      "image/png": "[encoded data removed]",
      "text/plain": [
       "<Figure size 640x480 with 1 Axes>"
      ]
     },
     "metadata": {},
     "output_type": "display_data"
    }
   ],
   "source": [
    "df_train['open'].hist();"
   ]
  },
  {
   "cell_type": "markdown",
   "id": "0f2ddb06-1651-44cf-9ec1-8ae9efba05a5",
   "metadata": {},
   "source": [
    "### next"
   ]
  },
  {
   "cell_type": "code",
   "execution_count": null,
   "id": "c19eee85-5fe0-40ff-9446-6a8a5a2455db",
   "metadata": {},
   "outputs": [],
   "source": []
  },
  {
   "cell_type": "markdown",
   "id": "e9e8b751-62e4-4c0c-a726-dbbcba096c41",
   "metadata": {
    "jp-MarkdownHeadingCollapsed": true
   },
   "source": [
    "## dep, indep, weights and bias"
   ]
  },
  {
   "cell_type": "markdown",
   "id": "6f4e8f29-1e4c-4ee9-b3ac-c9a0819d4dca",
   "metadata": {},
   "source": [
    "In this setting we will just try to predict the high value based on the previous three candles. The results will likely not be good since point predictions are tricky."
   ]
  },
  {
   "cell_type": "code",
   "execution_count": null,
   "id": "7d51e56e-8444-48d6-ab95-9c968874a3f3",
   "metadata": {},
   "outputs": [],
   "source": [
    "t_dep = tensor(df_train['high'].values, dtype=torch.float)\n",
    "print(t_dep.shape) # 1 D tensor\n",
    "t_dep"
   ]
  },
  {
   "cell_type": "markdown",
   "id": "231d7217-9310-4206-b796-81064b9c23e7",
   "metadata": {},
   "source": [
    "All variables are used instead of the high value which is the dependend value."
   ]
  },
  {
   "cell_type": "code",
   "execution_count": null,
   "id": "d6cdafd0-5d00-443d-8ee0-f1627d0bf8bb",
   "metadata": {},
   "outputs": [],
   "source": [
    "t_indep = tensor(df_train.loc[:, df_train.columns != \"high\"].values, dtype=torch.float)\n",
    "\n",
    "t_indep.shape # 2 D tensor > rows with observations and columns with features"
   ]
  },
  {
   "cell_type": "markdown",
   "id": "a8d0dbe2-25b5-45ed-b702-45827532831e",
   "metadata": {},
   "source": [
    "The number of features needs to be the same as the lenght of the weights, because they will be multiplicated."
   ]
  },
  {
   "cell_type": "code",
   "execution_count": null,
   "id": "d4efdff5-f768-41a4-a953-ecf3f3f41bc1",
   "metadata": {},
   "outputs": [],
   "source": [
    "import math\n",
    "\n",
    "n,c = t_indep.shape\n",
    "\n",
    "# \"We are initializing the weights here with Xavier initialisation (by multiplying with 1/sqrt(n)).\"\n",
    "weights = torch.randn(c) / math.sqrt(n)\n",
    "weights.requires_grad_()\n",
    "bias = torch.zeros(n, requires_grad=True)\n",
    "weights.shape"
   ]
  },
  {
   "cell_type": "code",
   "execution_count": null,
   "id": "f4c496b7-e5c8-44ca-992d-e9c52ba39878",
   "metadata": {},
   "outputs": [],
   "source": [
    "t_indep*weights"
   ]
  },
  {
   "cell_type": "code",
   "execution_count": null,
   "id": "371b5037-acaf-468a-81a9-b63274533354",
   "metadata": {},
   "outputs": [],
   "source": []
  },
  {
   "cell_type": "markdown",
   "id": "29df76c8-f0ad-4575-afbf-8e3aa5a3c546",
   "metadata": {
    "jp-MarkdownHeadingCollapsed": true
   },
   "source": [
    "## making the first prediction"
   ]
  },
  {
   "cell_type": "markdown",
   "id": "485b60ba-475b-4f6a-b82d-b32449e11b43",
   "metadata": {},
   "source": [
    "Since we are making a linear classifier the formula for yhat or the predictions is the sum of the products of coefficients and observations. \n",
    "\n",
    "In other words: \n",
    "\n",
    "$ y = x_0 \\times b_0 + x_1 \\times b_1 $\n",
    "\n",
    "where $x_0$ is the first vector of observations (=features) and $b_0$ is the first coefficient.\n",
    "\n",
    "and then is $y$ the vector with the predictions the same length as the data frame, so this formula can be read \"rowwise\"."
   ]
  },
  {
   "cell_type": "code",
   "execution_count": null,
   "id": "a9f77b4c-d9d5-4293-89d7-cd4c1b4f4e6d",
   "metadata": {},
   "outputs": [],
   "source": [
    "preds = (t_indep*coeffs).sum(axis=1)\n",
    "print(preds.shape) # 1d vector of predictions\n",
    "preds[0]"
   ]
  },
  {
   "cell_type": "code",
   "execution_count": null,
   "id": "36e7ae65-46cc-4e8d-8211-1b6864e3c79c",
   "metadata": {},
   "outputs": [],
   "source": [
    "# quick check for first row: \n",
    "\n",
    "print(t_indep[0])\n",
    "print(coeffs)\n",
    "print(\"\\n first entry of Indep * coeffs: \\n\",t_indep[0][0]*coeffs[0])\n",
    "print(\"\\n Indep * coeffs: \\n\",t_indep[0]*coeffs)\n",
    "print(\"\\n sum of Indep * coeffs: \\n\", (t_indep[0]*coeffs).sum() ) #axis=1 is along the colums\n"
   ]
  },
  {
   "cell_type": "markdown",
   "id": "4ba4bea3-f3e1-496c-a9c1-9ed972a67133",
   "metadata": {
    "jp-MarkdownHeadingCollapsed": true
   },
   "source": [
    "## loss: cross entropy "
   ]
  },
  {
   "cell_type": "code",
   "execution_count": null,
   "id": "efd97542-f5d7-4fff-aa9e-a171499f021c",
   "metadata": {},
   "outputs": [],
   "source": [
    "import torch.nn.functional as F\n",
    "loss_ce = F.cross_entropy(preds, t_dep)\n",
    "loss_mae = F.l1_loss(preds, t_dep)\n",
    "loss_mae = F.mse_loss(preds, t_dep)\n",
    "\n",
    "print(\"mean absolute error:\",loss_mae)\n",
    "print(\"mean squared error:\",loss_mae)\n",
    "print(\"cross entropy:\",loss_ce)"
   ]
  },
  {
   "cell_type": "markdown",
   "id": "2cc49ca9-b3cc-49f0-b275-53d59257b1bd",
   "metadata": {
    "jp-MarkdownHeadingCollapsed": true
   },
   "source": [
    "## gradients & learning rate"
   ]
  },
  {
   "cell_type": "code",
   "execution_count": null,
   "id": "2469580b-012c-48ed-878e-9149e34035a8",
   "metadata": {},
   "outputs": [],
   "source": [
    "coeffs"
   ]
  },
  {
   "cell_type": "code",
   "execution_count": null,
   "id": "c563222d-e96a-45ce-9f7f-df6f15eab8df",
   "metadata": {},
   "outputs": [],
   "source": [
    "coeffs.requires_grad_()"
   ]
  },
  {
   "cell_type": "code",
   "execution_count": null,
   "id": "4cd96fb2-2bf3-454a-a975-48da7a33767a",
   "metadata": {},
   "outputs": [],
   "source": [
    "# I am not sure if the above way works if I only use the loss functions in a functional style\n",
    "# therefore, I document a way to use it instantiated as a class\n",
    "\n",
    "from torch import nn\n",
    "\n",
    "cel = nn.CrossEntropyLoss()\n",
    "\n",
    "preds = (t_indep*coeffs.requires_grad_()).sum(axis=1)\n",
    "\n",
    "loss = cel(preds,t_dep)\n",
    "print(loss)\n",
    "loss.backward(retain_graph=True)\n",
    "\n",
    "gradients = coeffs.grad\n",
    "print(gradients)"
   ]
  },
  {
   "cell_type": "code",
   "execution_count": null,
   "id": "b3422789-673c-4975-ad1c-db59980152d6",
   "metadata": {},
   "outputs": [],
   "source": [
    "loss.backward(retain_graph=True)\n",
    "print(coeffs.grad)"
   ]
  },
  {
   "cell_type": "code",
   "execution_count": null,
   "id": "251f35d6-81e6-4122-963f-48a304cc52be",
   "metadata": {},
   "outputs": [],
   "source": [
    "# initialise coeffs and define the independent variable \n",
    "t_indep*coeffs\n",
    "\n",
    "# define it as a function \n",
    "def calc_preds(coeffs, indeps): return (indeps*coeffs).sum(axis=1)\n",
    "    \n",
    "preds = (t_indep*coeffs).sum(axis=1)"
   ]
  },
  {
   "cell_type": "code",
   "execution_count": null,
   "id": "98e35997-8906-400f-a2bd-a0c53780c4b4",
   "metadata": {},
   "outputs": [],
   "source": [
    "# define the loss function\n",
    "\n",
    "# herer it is mean absolute error\n",
    "loss = torch.abs(preds-t_dep).mean()\n",
    "\n",
    "# define it in a function\n",
    "def calc_loss(coeffs, indeps, deps): return torch.abs(calc_preds(coeffs, indeps)-deps).mean()"
   ]
  },
  {
   "cell_type": "markdown",
   "id": "a4f849c2-e006-4b56-99a1-a7039b1dde1b",
   "metadata": {},
   "source": [
    "## next steps\n",
    "\n",
    " - figure out when and how to use backward() and require_grad\n",
    " - put the pieces togehter: calc preds > calc loss > get gradients > subtract gradients*learningrate with preds\n",
    "\n",
    "Note on gradients: \\n\n",
    "My current understand is that you need to specify the tensor of where to calculate the gradients on, to access them explicitly. \\n\n",
    "It seems, that the backward function needs to know the input, target and weights."
   ]
  }
 ],
 "metadata": {
  "kernelspec": {
   "display_name": "Python 3 (ipykernel)",
   "language": "python",
   "name": "python3"
  },
  "language_info": {
   "codemirror_mode": {
    "name": "ipython",
    "version": 3
   },
   "file_extension": ".py",
   "mimetype": "text/x-python",
   "name": "python",
   "nbconvert_exporter": "python",
   "pygments_lexer": "ipython3",
   "version": "3.10.13"
  }
 },
 "nbformat": 4,
 "nbformat_minor": 5
}
