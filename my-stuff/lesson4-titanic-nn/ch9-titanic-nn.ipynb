{
 "cells": [
  {
   "cell_type": "markdown",
   "id": "9b7428a6-9e86-4019-9a04-b618ad22e7ac",
   "metadata": {},
   "source": [
    "# NN from scratch with Titanic data set"
   ]
  },
  {
   "cell_type": "code",
   "execution_count": 1,
   "id": "a37da5be-4985-412e-8a51-118b4efeeda1",
   "metadata": {},
   "outputs": [
    {
     "data": {
      "text/plain": [
       "PassengerId      0\n",
       "Survived         0\n",
       "Pclass           0\n",
       "Name             0\n",
       "Sex              0\n",
       "Age            177\n",
       "SibSp            0\n",
       "Parch            0\n",
       "Ticket           0\n",
       "Fare             0\n",
       "Cabin          687\n",
       "Embarked         2\n",
       "dtype: int64"
      ]
     },
     "execution_count": 1,
     "metadata": {},
     "output_type": "execute_result"
    }
   ],
   "source": [
    "import torch, numpy as np, pandas as pd\n",
    "df = pd.read_csv(\"train.csv\")\n",
    "df.isna().sum()"
   ]
  },
  {
   "cell_type": "code",
   "execution_count": 2,
   "id": "3102850d-579f-4990-95fd-c6dd6f3b06ae",
   "metadata": {},
   "outputs": [
    {
     "data": {
      "text/plain": [
       "PassengerId                      1\n",
       "Survived                       0.0\n",
       "Pclass                         3.0\n",
       "Name           Abbing, Mr. Anthony\n",
       "Sex                           male\n",
       "Age                           24.0\n",
       "SibSp                          0.0\n",
       "Parch                          0.0\n",
       "Ticket                        1601\n",
       "Fare                          8.05\n",
       "Cabin                      B96 B98\n",
       "Embarked                         S\n",
       "Name: 0, dtype: object"
      ]
     },
     "execution_count": 2,
     "metadata": {},
     "output_type": "execute_result"
    }
   ],
   "source": [
    "modes = df.mode().iloc[0]\n",
    "modes"
   ]
  },
  {
   "cell_type": "code",
   "execution_count": 3,
   "id": "91f248d6-a717-4063-9a22-6c12b8cca22d",
   "metadata": {},
   "outputs": [
    {
     "data": {
      "text/plain": [
       "PassengerId    0\n",
       "Survived       0\n",
       "Pclass         0\n",
       "Name           0\n",
       "Sex            0\n",
       "Age            0\n",
       "SibSp          0\n",
       "Parch          0\n",
       "Ticket         0\n",
       "Fare           0\n",
       "Cabin          0\n",
       "Embarked       0\n",
       "dtype: int64"
      ]
     },
     "execution_count": 3,
     "metadata": {},
     "output_type": "execute_result"
    }
   ],
   "source": [
    "df.fillna(modes, inplace=True)\n",
    "df.isna().sum()"
   ]
  },
  {
   "cell_type": "code",
   "execution_count": 4,
   "id": "c59ef346-74cc-4903-96e6-5dee851f5a9b",
   "metadata": {},
   "outputs": [],
   "source": [
    "# log of fare \n",
    "df['LogFare'] = np.log(df['Fare']+1)"
   ]
  },
  {
   "cell_type": "code",
   "execution_count": 5,
   "id": "23678ac8-d3a6-4c17-bf26-e91a3737456a",
   "metadata": {},
   "outputs": [
    {
     "data": {
      "text/plain": [
       "Index(['PassengerId', 'Survived', 'Name', 'Age', 'SibSp', 'Parch', 'Ticket',\n",
       "       'Fare', 'Cabin', 'LogFare', 'Sex_female', 'Sex_male', 'Pclass_1',\n",
       "       'Pclass_2', 'Pclass_3', 'Embarked_C', 'Embarked_Q', 'Embarked_S'],\n",
       "      dtype='object')"
      ]
     },
     "execution_count": 5,
     "metadata": {},
     "output_type": "execute_result"
    }
   ],
   "source": [
    "df = pd.get_dummies(df, columns=[\"Sex\",\"Pclass\",\"Embarked\"])\n",
    "df.columns"
   ]
  },
  {
   "cell_type": "code",
   "execution_count": 6,
   "id": "c77ce34b-96fa-4eb7-8ccc-c9de07f5fcff",
   "metadata": {},
   "outputs": [
    {
     "data": {
      "text/plain": [
       "tensor([[22.,  1.,  0.,  ...,  0.,  0.,  1.],\n",
       "        [38.,  1.,  0.,  ...,  1.,  0.,  0.],\n",
       "        [26.,  0.,  0.,  ...,  0.,  0.,  1.],\n",
       "        ...,\n",
       "        [24.,  1.,  2.,  ...,  0.,  0.,  1.],\n",
       "        [26.,  0.,  0.,  ...,  1.,  0.,  0.],\n",
       "        [32.,  0.,  0.,  ...,  0.,  1.,  0.]])"
      ]
     },
     "execution_count": 6,
     "metadata": {},
     "output_type": "execute_result"
    }
   ],
   "source": [
    "from torch import tensor\n",
    "\n",
    "# dependent variable Y is survived \n",
    "t_dep = tensor(df[\"Survived\"])\n",
    "\n",
    "# independent variably X are the rest (exclude str vars: name, ticket, cabin)\n",
    "cols = ['Age', 'SibSp', 'Parch', 'LogFare', 'Sex_female', 'Sex_male', 'Pclass_1', 'Pclass_2',\n",
    "       'Pclass_3', 'Embarked_C', 'Embarked_Q', 'Embarked_S']\n",
    "\n",
    "t_indep = tensor(df[cols].astype(float).values, dtype=torch.float)\n",
    "t_indep"
   ]
  },
  {
   "cell_type": "code",
   "execution_count": 7,
   "id": "410208b4-0ebf-49b4-bf8d-d91520922511",
   "metadata": {},
   "outputs": [
    {
     "data": {
      "text/html": [
       "<div>\n",
       "<style scoped>\n",
       "    .dataframe tbody tr th:only-of-type {\n",
       "        vertical-align: middle;\n",
       "    }\n",
       "\n",
       "    .dataframe tbody tr th {\n",
       "        vertical-align: top;\n",
       "    }\n",
       "\n",
       "    .dataframe thead th {\n",
       "        text-align: right;\n",
       "    }\n",
       "</style>\n",
       "<table border=\"1\" class=\"dataframe\">\n",
       "  <thead>\n",
       "    <tr style=\"text-align: right;\">\n",
       "      <th></th>\n",
       "      <th>Age</th>\n",
       "      <th>SibSp</th>\n",
       "      <th>Parch</th>\n",
       "      <th>LogFare</th>\n",
       "      <th>Sex_female</th>\n",
       "      <th>Sex_male</th>\n",
       "      <th>Pclass_1</th>\n",
       "      <th>Pclass_2</th>\n",
       "      <th>Pclass_3</th>\n",
       "      <th>Embarked_C</th>\n",
       "      <th>Embarked_Q</th>\n",
       "      <th>Embarked_S</th>\n",
       "    </tr>\n",
       "  </thead>\n",
       "  <tbody>\n",
       "    <tr>\n",
       "      <th>0</th>\n",
       "      <td>22.0</td>\n",
       "      <td>1</td>\n",
       "      <td>0</td>\n",
       "      <td>2.110213</td>\n",
       "      <td>False</td>\n",
       "      <td>True</td>\n",
       "      <td>False</td>\n",
       "      <td>False</td>\n",
       "      <td>True</td>\n",
       "      <td>False</td>\n",
       "      <td>False</td>\n",
       "      <td>True</td>\n",
       "    </tr>\n",
       "    <tr>\n",
       "      <th>1</th>\n",
       "      <td>38.0</td>\n",
       "      <td>1</td>\n",
       "      <td>0</td>\n",
       "      <td>4.280593</td>\n",
       "      <td>True</td>\n",
       "      <td>False</td>\n",
       "      <td>True</td>\n",
       "      <td>False</td>\n",
       "      <td>False</td>\n",
       "      <td>True</td>\n",
       "      <td>False</td>\n",
       "      <td>False</td>\n",
       "    </tr>\n",
       "    <tr>\n",
       "      <th>2</th>\n",
       "      <td>26.0</td>\n",
       "      <td>0</td>\n",
       "      <td>0</td>\n",
       "      <td>2.188856</td>\n",
       "      <td>True</td>\n",
       "      <td>False</td>\n",
       "      <td>False</td>\n",
       "      <td>False</td>\n",
       "      <td>True</td>\n",
       "      <td>False</td>\n",
       "      <td>False</td>\n",
       "      <td>True</td>\n",
       "    </tr>\n",
       "    <tr>\n",
       "      <th>3</th>\n",
       "      <td>35.0</td>\n",
       "      <td>1</td>\n",
       "      <td>0</td>\n",
       "      <td>3.990834</td>\n",
       "      <td>True</td>\n",
       "      <td>False</td>\n",
       "      <td>True</td>\n",
       "      <td>False</td>\n",
       "      <td>False</td>\n",
       "      <td>False</td>\n",
       "      <td>False</td>\n",
       "      <td>True</td>\n",
       "    </tr>\n",
       "    <tr>\n",
       "      <th>4</th>\n",
       "      <td>35.0</td>\n",
       "      <td>0</td>\n",
       "      <td>0</td>\n",
       "      <td>2.202765</td>\n",
       "      <td>False</td>\n",
       "      <td>True</td>\n",
       "      <td>False</td>\n",
       "      <td>False</td>\n",
       "      <td>True</td>\n",
       "      <td>False</td>\n",
       "      <td>False</td>\n",
       "      <td>True</td>\n",
       "    </tr>\n",
       "  </tbody>\n",
       "</table>\n",
       "</div>"
      ],
      "text/plain": [
       "    Age  SibSp  Parch   LogFare  Sex_female  Sex_male  Pclass_1  Pclass_2  \\\n",
       "0  22.0      1      0  2.110213       False      True     False     False   \n",
       "1  38.0      1      0  4.280593        True     False      True     False   \n",
       "2  26.0      0      0  2.188856        True     False     False     False   \n",
       "3  35.0      1      0  3.990834        True     False      True     False   \n",
       "4  35.0      0      0  2.202765       False      True     False     False   \n",
       "\n",
       "   Pclass_3  Embarked_C  Embarked_Q  Embarked_S  \n",
       "0      True       False       False        True  \n",
       "1     False        True       False       False  \n",
       "2      True       False       False        True  \n",
       "3     False       False       False        True  \n",
       "4      True       False       False        True  "
      ]
     },
     "execution_count": 7,
     "metadata": {},
     "output_type": "execute_result"
    }
   ],
   "source": [
    "df[[\"Embarked_C\",\"Embarked_Q\"]].astype(int)\n",
    "\n",
    "df[cols].head()"
   ]
  },
  {
   "cell_type": "markdown",
   "id": "65b6f0f7-4c76-45e6-92ea-520d6b056dd2",
   "metadata": {},
   "source": [
    "## Linear Model with OLS\n",
    "\n",
    "Remember: \n",
    "$\n",
    "(X'X)^{-1} X'y\n",
    "$"
   ]
  },
  {
   "cell_type": "code",
   "execution_count": 8,
   "id": "c561b3c6-a294-4aa8-a617-9e2578c73ca4",
   "metadata": {},
   "outputs": [
    {
     "data": {
      "text/plain": [
       "{'const': -356472154361620.25,\n",
       " 'Age': -0.3916277742165166,\n",
       " 'SibSp': -1.7176744764188352,\n",
       " 'Parch': -0.652258897770639,\n",
       " 'LogFare': 5.432247480076669,\n",
       " 'Sex_female': 1590430026047686.0,\n",
       " 'Sex_male': 1590430026047685.5,\n",
       " 'Pclass_1': -1233957871686064.0,\n",
       " 'Pclass_2': -1233957871686067.0,\n",
       " 'Pclass_3': -1233957871686066.0,\n",
       " 'Embarked_C': 2.5,\n",
       " 'Embarked_Q': 2.5,\n",
       " 'Embarked_S': 2.75}"
      ]
     },
     "execution_count": 8,
     "metadata": {},
     "output_type": "execute_result"
    }
   ],
   "source": [
    "ones = np.ones( (len(t_indep),1) )\n",
    "X = np.array(t_indep)/np.array(t_indep).max(axis=0) \n",
    "#X = np.vstack( (ones,X) ) #[np.ones(len(t_indep))\n",
    "X_ = np.append( ones ,X ,axis=1)\n",
    "y = np.array(t_dep)\n",
    "\n",
    "ols_coeffs = np.linalg.inv(X_.T.dot(X_)).dot(X_.T.dot(y))\n",
    "ols_coeffs = dict(zip( [\"const\"]+cols , ols_coeffs))\n",
    "ols_coeffs"
   ]
  },
  {
   "cell_type": "code",
   "execution_count": 34,
   "id": "3468ff70-c70e-4277-b537-f9b6642b6f0f",
   "metadata": {},
   "outputs": [
    {
     "name": "stdout",
     "output_type": "stream",
     "text": [
      "12\n",
      "                            OLS Regression Results                            \n",
      "==============================================================================\n",
      "Dep. Variable:                      y   R-squared:                       0.400\n",
      "Model:                            OLS   Adj. R-squared:                  0.394\n",
      "Method:                 Least Squares   F-statistic:                     65.35\n",
      "Date:                Fri, 01 Mar 2024   Prob (F-statistic):           9.56e-92\n",
      "Time:                        17:47:05   Log-Likelihood:                -394.14\n",
      "No. Observations:                 891   AIC:                             808.3\n",
      "Df Residuals:                     881   BIC:                             856.2\n",
      "Df Model:                           9                                         \n",
      "Covariance Type:            nonrobust                                         \n",
      "==============================================================================\n",
      "                 coef    std err          t      P>|t|      [0.025      0.975]\n",
      "------------------------------------------------------------------------------\n",
      "const          0.2524      0.036      6.982      0.000       0.181       0.323\n",
      "x1            -0.4380      0.085     -5.133      0.000      -0.605      -0.270\n",
      "x2            -0.4258      0.112     -3.796      0.000      -0.646      -0.206\n",
      "x3            -0.1530      0.112     -1.361      0.174      -0.374       0.068\n",
      "x4             0.3616      0.140      2.574      0.010       0.086       0.637\n",
      "x5             0.3745      0.024     15.343      0.000       0.327       0.422\n",
      "x6            -0.1221      0.022     -5.676      0.000      -0.164      -0.080\n",
      "x7             0.2050      0.040      5.162      0.000       0.127       0.283\n",
      "x8             0.1094      0.024      4.612      0.000       0.063       0.156\n",
      "x9            -0.0620      0.018     -3.472      0.001      -0.097      -0.027\n",
      "x10            0.1051      0.029      3.564      0.000       0.047       0.163\n",
      "x11            0.0999      0.036      2.810      0.005       0.030       0.170\n",
      "x12            0.0474      0.022      2.173      0.030       0.005       0.090\n",
      "==============================================================================\n",
      "Omnibus:                       39.566   Durbin-Watson:                   1.932\n",
      "Prob(Omnibus):                  0.000   Jarque-Bera (JB):               43.860\n",
      "Skew:                           0.540   Prob(JB):                     2.99e-10\n",
      "Kurtosis:                       3.116   Cond. No.                     2.24e+16\n",
      "==============================================================================\n",
      "\n",
      "Notes:\n",
      "[1] Standard Errors assume that the covariance matrix of the errors is correctly specified.\n",
      "[2] The smallest eigenvalue is 5.17e-30. This might indicate that there are\n",
      "strong multicollinearity problems or that the design matrix is singular.\n"
     ]
    }
   ],
   "source": [
    "from sklearn import linear_model\n",
    "import statsmodels.api as sm\n",
    "\n",
    "reg = linear_model.LinearRegression()\n",
    "reg.fit(X,y)\n",
    "#LinearRegression()\n",
    "print(len(reg.coef_))\n",
    "sk_coeffs = dict(zip( cols , reg.coef_))\n",
    "sk_coeffs\n",
    "\n",
    "X2 = sm.add_constant(X)\n",
    "est = sm.OLS(y, X2)\n",
    "est2 = est.fit()\n",
    "print(est2.summary())"
   ]
  },
  {
   "cell_type": "code",
   "execution_count": null,
   "id": "a77035af-9db7-4df5-8add-63a40cad34d1",
   "metadata": {},
   "outputs": [],
   "source": [
    "#import seaborn as sbs\n",
    "#sbs.pairplot(df[cols])"
   ]
  },
  {
   "cell_type": "code",
   "execution_count": null,
   "id": "3cab50e5-3d68-475e-bd4c-0e02f4910962",
   "metadata": {},
   "outputs": [],
   "source": [
    "# normalizing the data to 0-1\n",
    "t_indep = t_indep/t_indep.max(dim=0).values\n",
    "t_indep"
   ]
  },
  {
   "cell_type": "markdown",
   "id": "ebcff9f9-05f2-4c8a-9125-05a1a309cf32",
   "metadata": {},
   "source": [
    "## Setting up the NN "
   ]
  },
  {
   "cell_type": "code",
   "execution_count": 13,
   "id": "a7c2aa1f-78b9-40f7-9819-bcb4ac44c615",
   "metadata": {},
   "outputs": [
    {
     "data": {
      "text/plain": [
       "tensor([-0.4629,  0.1386,  0.2409, -0.2262, -0.2632, -0.3147,  0.4876,  0.3136,\n",
       "         0.2799, -0.4392,  0.2103,  0.3625])"
      ]
     },
     "execution_count": 13,
     "metadata": {},
     "output_type": "execute_result"
    }
   ],
   "source": [
    "torch.manual_seed(442)\n",
    "\n",
    "n_coeff = t_indep.shape[1]\n",
    "coeffs = torch.rand(n_coeff)-0.5\n",
    "coeffs"
   ]
  },
  {
   "cell_type": "code",
   "execution_count": 14,
   "id": "8f8c979c-33b7-4a9a-ad5b-ef3f50e9eefa",
   "metadata": {},
   "outputs": [
    {
     "data": {
      "text/plain": [
       "tensor(13.8746)"
      ]
     },
     "execution_count": 14,
     "metadata": {},
     "output_type": "execute_result"
    }
   ],
   "source": [
    "preds = (t_indep*coeffs).sum(axis=1)\n",
    "loss = torch.abs(preds-t_dep).mean()\n",
    "loss"
   ]
  },
  {
   "cell_type": "code",
   "execution_count": 15,
   "id": "4292c47d-08b0-4f63-96dc-9fb19a45d250",
   "metadata": {},
   "outputs": [],
   "source": [
    "def calc_preds(coeffs, indeps): return (indeps*coeffs).sum(axis=1)\n",
    "def calc_loss(coeffs, indeps, deps): return torch.abs(calc_preds(coeffs, indeps)-deps).mean()"
   ]
  },
  {
   "cell_type": "code",
   "execution_count": 16,
   "id": "9746d4c4-a65b-4c0a-a165-ead92101ff4e",
   "metadata": {},
   "outputs": [
    {
     "data": {
      "text/plain": [
       "tensor([-0.4629,  0.1386,  0.2409, -0.2262, -0.2632, -0.3147,  0.4876,  0.3136,\n",
       "         0.2799, -0.4392,  0.2103,  0.3625], requires_grad=True)"
      ]
     },
     "execution_count": 16,
     "metadata": {},
     "output_type": "execute_result"
    }
   ],
   "source": [
    "coeffs.requires_grad_()"
   ]
  },
  {
   "cell_type": "code",
   "execution_count": 17,
   "id": "c62b6507-4d17-4014-af6c-a664d60ffd48",
   "metadata": {},
   "outputs": [
    {
     "data": {
      "text/plain": [
       "tensor(13.8746, grad_fn=<MeanBackward0>)"
      ]
     },
     "execution_count": 17,
     "metadata": {},
     "output_type": "execute_result"
    }
   ],
   "source": [
    "loss = calc_loss(coeffs, t_indep, t_dep)\n",
    "loss"
   ]
  },
  {
   "cell_type": "code",
   "execution_count": 18,
   "id": "b7a5e01d-8e66-4e8b-984d-13174d049321",
   "metadata": {},
   "outputs": [
    {
     "name": "stdout",
     "output_type": "stream",
     "text": [
      "tensor(68.7940)\n"
     ]
    }
   ],
   "source": [
    "loss = calc_loss(coeffs, t_indep, t_dep)\n",
    "loss.backward()\n",
    "with torch.no_grad():\n",
    "    coeffs.sub_(coeffs.grad * 0.1)\n",
    "    coeffs.grad.zero_()\n",
    "    print(calc_loss(coeffs, t_indep, t_dep))"
   ]
  },
  {
   "cell_type": "markdown",
   "id": "894ff51e-6abb-4827-80ad-6bdeb2629ca3",
   "metadata": {},
   "source": [
    "## training the model"
   ]
  },
  {
   "cell_type": "code",
   "execution_count": 19,
   "id": "3612dc93-89d1-4b31-9c10-4c047f8f4a21",
   "metadata": {},
   "outputs": [
    {
     "data": {
      "text/plain": [
       "(713, 178)"
      ]
     },
     "execution_count": 19,
     "metadata": {},
     "output_type": "execute_result"
    }
   ],
   "source": [
    "from fastai.data.transforms import RandomSplitter\n",
    "trn_split,val_split=RandomSplitter(seed=42)(df)\n",
    "\n",
    "trn_indep,val_indep = t_indep[trn_split],t_indep[val_split]\n",
    "trn_dep,val_dep = t_dep[trn_split],t_dep[val_split]\n",
    "len(trn_indep),len(val_indep)"
   ]
  },
  {
   "cell_type": "code",
   "execution_count": 20,
   "id": "d842e8a0-c37f-4ee6-9b3a-a22b4aadd85b",
   "metadata": {},
   "outputs": [],
   "source": [
    "def update_coeffs(coeffs, lr):\n",
    "    coeffs.sub_(coeffs.grad * lr)\n",
    "    coeffs.grad.zero_()"
   ]
  },
  {
   "cell_type": "code",
   "execution_count": 21,
   "id": "23f3e17a-40af-4d3f-90ce-6bc03cd5a0a2",
   "metadata": {},
   "outputs": [],
   "source": [
    "def one_epoch(coeffs, lr):\n",
    "    loss = calc_loss(coeffs, trn_indep, trn_dep)\n",
    "    loss.backward()\n",
    "    with torch.no_grad(): update_coeffs(coeffs, lr)\n",
    "    print(f\"{loss:.3f}\", end=\"; \")"
   ]
  },
  {
   "cell_type": "code",
   "execution_count": 22,
   "id": "1cb6396a-301c-48ff-9cad-694db34f6e10",
   "metadata": {},
   "outputs": [],
   "source": [
    "def init_coeffs(): return (torch.rand(n_coeff)-0.5).requires_grad_()"
   ]
  },
  {
   "cell_type": "code",
   "execution_count": 23,
   "id": "13d1ff6a-973a-4598-9a1f-495749fc03c7",
   "metadata": {},
   "outputs": [],
   "source": [
    "def train_model(epochs=30, lr=0.01):\n",
    "    torch.manual_seed(442)\n",
    "    coeffs = init_coeffs()\n",
    "    for i in range(epochs): one_epoch(coeffs, lr=lr)\n",
    "    return coeffs"
   ]
  },
  {
   "cell_type": "code",
   "execution_count": 24,
   "id": "0ed011ad-78fc-442d-9b11-8aac7901173a",
   "metadata": {},
   "outputs": [
    {
     "name": "stdout",
     "output_type": "stream",
     "text": [
      "13.853; 150.990; 13.853; 150.990; 13.853; 150.990; 13.853; 150.990; 13.853; 150.990; 13.853; 150.990; 13.853; 150.990; 13.853; 150.990; 13.853; 150.990; "
     ]
    }
   ],
   "source": [
    "coeffs = train_model(18, lr=0.2)"
   ]
  },
  {
   "cell_type": "code",
   "execution_count": 25,
   "id": "90949c6d-c219-4891-aeeb-27ef688e0d85",
   "metadata": {},
   "outputs": [
    {
     "data": {
      "text/plain": [
       "{'Age': tensor(-0.4629),\n",
       " 'SibSp': tensor(0.1386),\n",
       " 'Parch': tensor(0.2409),\n",
       " 'LogFare': tensor(-0.2262),\n",
       " 'Sex_female': tensor(-0.2632),\n",
       " 'Sex_male': tensor(-0.3147),\n",
       " 'Pclass_1': tensor(0.4876),\n",
       " 'Pclass_2': tensor(0.3136),\n",
       " 'Pclass_3': tensor(0.2799),\n",
       " 'Embarked_C': tensor(-0.4392),\n",
       " 'Embarked_Q': tensor(0.2103),\n",
       " 'Embarked_S': tensor(0.3625)}"
      ]
     },
     "execution_count": 25,
     "metadata": {},
     "output_type": "execute_result"
    }
   ],
   "source": [
    "def show_coeffs(): return dict(zip(cols, coeffs.requires_grad_(False)))\n",
    "show_coeffs()"
   ]
  },
  {
   "cell_type": "code",
   "execution_count": 33,
   "id": "371e10b9-1c09-4b5c-b9dd-5c1a7a45fe33",
   "metadata": {},
   "outputs": [
    {
     "data": {
      "text/plain": [
       "{'Age': -0.43796274,\n",
       " 'SibSp': -0.42575407,\n",
       " 'Parch': -0.15299387,\n",
       " 'LogFare': 0.36158663,\n",
       " 'Sex_female': 0.24832955,\n",
       " 'Sex_male': -0.24832933,\n",
       " 'Pclass_1': 0.12090873,\n",
       " 'Pclass_2': 0.02524759,\n",
       " 'Pclass_3': -0.1461561,\n",
       " 'Embarked_C': 0.020932771,\n",
       " 'Embarked_Q': 0.015777865,\n",
       " 'Embarked_S': -0.036710616}"
      ]
     },
     "execution_count": 33,
     "metadata": {},
     "output_type": "execute_result"
    }
   ],
   "source": [
    "sk_coeffs"
   ]
  },
  {
   "cell_type": "code",
   "execution_count": null,
   "id": "ceefb37c-7e6f-4d80-8f0f-435a3d516d6e",
   "metadata": {},
   "outputs": [],
   "source": []
  }
 ],
 "metadata": {
  "kernelspec": {
   "display_name": "Python 3 (ipykernel)",
   "language": "python",
   "name": "python3"
  },
  "language_info": {
   "codemirror_mode": {
    "name": "ipython",
    "version": 3
   },
   "file_extension": ".py",
   "mimetype": "text/x-python",
   "name": "python",
   "nbconvert_exporter": "python",
   "pygments_lexer": "ipython3",
   "version": "3.10.13"
  }
 },
 "nbformat": 4,
 "nbformat_minor": 5
}
