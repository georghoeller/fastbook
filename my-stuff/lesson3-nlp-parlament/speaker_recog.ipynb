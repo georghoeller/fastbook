{
 "cells": [
  {
   "cell_type": "markdown",
   "id": "ec32e439-a16d-4c88-a816-3fae5dd0c399",
   "metadata": {},
   "source": [
    "# Parlament Speaker Recogniction Model\n",
    "This notebook should predict what speaker said certain things based on the Austrian parlament speaches. \n",
    "\n",
    "This small project is based on the Dataset assembled by Mario Zechner (https://marioslab.io/)"
   ]
  },
  {
   "cell_type": "code",
   "execution_count": 30,
   "id": "10e76751-2472-4fa6-add4-6dcc5fe3a78f",
   "metadata": {},
   "outputs": [
    {
     "name": "stdout",
     "output_type": "stream",
     "text": [
      "(681, 6)\n"
     ]
    },
    {
     "data": {
      "text/html": [
       "<div>\n",
       "<style scoped>\n",
       "    .dataframe tbody tr th:only-of-type {\n",
       "        vertical-align: middle;\n",
       "    }\n",
       "\n",
       "    .dataframe tbody tr th {\n",
       "        vertical-align: top;\n",
       "    }\n",
       "\n",
       "    .dataframe thead th {\n",
       "        text-align: right;\n",
       "    }\n",
       "</style>\n",
       "<table border=\"1\" class=\"dataframe\">\n",
       "  <thead>\n",
       "    <tr style=\"text-align: right;\">\n",
       "      <th></th>\n",
       "      <th>id</th>\n",
       "      <th>name</th>\n",
       "      <th>parties</th>\n",
       "      <th>periods</th>\n",
       "      <th>url</th>\n",
       "      <th>imageUrl</th>\n",
       "    </tr>\n",
       "  </thead>\n",
       "  <tbody>\n",
       "    <tr>\n",
       "      <th>0</th>\n",
       "      <td>3612</td>\n",
       "      <td>Sonja Ablinger</td>\n",
       "      <td>[SPÖ]</td>\n",
       "      <td>[XX, XXIII, XXIV]</td>\n",
       "      <td>https://parlament.gv.at/person/3612</td>\n",
       "      <td>https://parlament.gv.at/dokument/bild/34898/3489874_384.jpg</td>\n",
       "    </tr>\n",
       "    <tr>\n",
       "      <th>1</th>\n",
       "      <td>14854</td>\n",
       "      <td>Dipl.-Ing. Elke Achleitner</td>\n",
       "      <td>[BZÖ, FPÖ]</td>\n",
       "      <td>[XXII]</td>\n",
       "      <td>https://parlament.gv.at/person/14854</td>\n",
       "      <td>https://parlament.gv.at/dokument/bild/21013/2101309_384.jpg</td>\n",
       "    </tr>\n",
       "    <tr>\n",
       "      <th>2</th>\n",
       "      <td>83119</td>\n",
       "      <td>Mag. Nikolaus Alm</td>\n",
       "      <td>[LIF, NEOS]</td>\n",
       "      <td>[XXV]</td>\n",
       "      <td>https://parlament.gv.at/person/83119</td>\n",
       "      <td>https://parlament.gv.at/dokument/bild/43808/4380895_384.jpg</td>\n",
       "    </tr>\n",
       "    <tr>\n",
       "      <th>3</th>\n",
       "      <td>51879</td>\n",
       "      <td>Mag. Hannes Amesbauer, BA</td>\n",
       "      <td>[FPÖ]</td>\n",
       "      <td>[XXVI, XXVII]</td>\n",
       "      <td>https://parlament.gv.at/person/51879</td>\n",
       "      <td>https://parlament.gv.at/dokument/bild/200696/20069643_384.jpg</td>\n",
       "    </tr>\n",
       "    <tr>\n",
       "      <th>4</th>\n",
       "      <td>2819</td>\n",
       "      <td>Werner Amon, MBA</td>\n",
       "      <td>[ÖVP]</td>\n",
       "      <td>[XIX, XX, XXI, XXII, XXIII, XXIV, XXV, XXVI]</td>\n",
       "      <td>https://parlament.gv.at/person/2819</td>\n",
       "      <td>https://parlament.gv.at/dokument/bild/90356/9035616_384.jpg</td>\n",
       "    </tr>\n",
       "  </tbody>\n",
       "</table>\n",
       "</div>"
      ],
      "text/plain": [
       "      id                        name      parties  \\\n",
       "0   3612              Sonja Ablinger        [SPÖ]   \n",
       "1  14854  Dipl.-Ing. Elke Achleitner   [BZÖ, FPÖ]   \n",
       "2  83119           Mag. Nikolaus Alm  [LIF, NEOS]   \n",
       "3  51879   Mag. Hannes Amesbauer, BA        [FPÖ]   \n",
       "4   2819            Werner Amon, MBA        [ÖVP]   \n",
       "\n",
       "                                        periods  \\\n",
       "0                             [XX, XXIII, XXIV]   \n",
       "1                                        [XXII]   \n",
       "2                                         [XXV]   \n",
       "3                                 [XXVI, XXVII]   \n",
       "4  [XIX, XX, XXI, XXII, XXIII, XXIV, XXV, XXVI]   \n",
       "\n",
       "                                    url  \\\n",
       "0   https://parlament.gv.at/person/3612   \n",
       "1  https://parlament.gv.at/person/14854   \n",
       "2  https://parlament.gv.at/person/83119   \n",
       "3  https://parlament.gv.at/person/51879   \n",
       "4   https://parlament.gv.at/person/2819   \n",
       "\n",
       "                                                        imageUrl  \n",
       "0    https://parlament.gv.at/dokument/bild/34898/3489874_384.jpg  \n",
       "1    https://parlament.gv.at/dokument/bild/21013/2101309_384.jpg  \n",
       "2    https://parlament.gv.at/dokument/bild/43808/4380895_384.jpg  \n",
       "3  https://parlament.gv.at/dokument/bild/200696/20069643_384.jpg  \n",
       "4    https://parlament.gv.at/dokument/bild/90356/9035616_384.jpg  "
      ]
     },
     "execution_count": 30,
     "metadata": {},
     "output_type": "execute_result"
    }
   ],
   "source": [
    "# DATA FROM SPEAKER\n",
    "import pandas as pd\n",
    "\n",
    "# Either use direct download or load locally https://woswormeileistung.marioslab.io/data/persons.json\n",
    "#speaker = pd.read_json(\"https://woswormeileistung.marioslab.io/data/persons.json\")\n",
    "speaker = pd.read_json(\"persons.json\")\n",
    "print(speaker.shape)\n",
    "speaker.head()"
   ]
  },
  {
   "cell_type": "markdown",
   "id": "1fc8ee87-9c5f-4872-9b10-eebbbcd68159",
   "metadata": {},
   "source": [
    "As one can see there are about 681 Speakers from the austrian parlament, starting from 2002"
   ]
  },
  {
   "cell_type": "code",
   "execution_count": 2,
   "id": "91469d18-e012-4370-be7a-e0b2c4660c7f",
   "metadata": {
    "scrolled": true
   },
   "outputs": [
    {
     "name": "stdout",
     "output_type": "stream",
     "text": [
      "(1001, 7)\n"
     ]
    },
    {
     "data": {
      "text/html": [
       "<div>\n",
       "<style scoped>\n",
       "    .dataframe tbody tr th:only-of-type {\n",
       "        vertical-align: middle;\n",
       "    }\n",
       "\n",
       "    .dataframe tbody tr th {\n",
       "        vertical-align: top;\n",
       "    }\n",
       "\n",
       "    .dataframe thead th {\n",
       "        text-align: right;\n",
       "    }\n",
       "</style>\n",
       "<table border=\"1\" class=\"dataframe\">\n",
       "  <thead>\n",
       "    <tr style=\"text-align: right;\">\n",
       "      <th></th>\n",
       "      <th>url</th>\n",
       "      <th>period</th>\n",
       "      <th>sessionNumber</th>\n",
       "      <th>sessionLabel</th>\n",
       "      <th>date</th>\n",
       "      <th>protocolUrls</th>\n",
       "      <th>sections</th>\n",
       "    </tr>\n",
       "  </thead>\n",
       "  <tbody>\n",
       "    <tr>\n",
       "      <th>0</th>\n",
       "      <td>https://parlament.gv.at/gegenstand/XXVII/NRSIT...</td>\n",
       "      <td>XXVII</td>\n",
       "      <td>251</td>\n",
       "      <td>251. Sitzung (251/NRSITZ)</td>\n",
       "      <td>2024-01-31</td>\n",
       "      <td>[]</td>\n",
       "      <td>[]</td>\n",
       "    </tr>\n",
       "    <tr>\n",
       "      <th>1</th>\n",
       "      <td>https://parlament.gv.at/gegenstand/XXVII/NRSIT...</td>\n",
       "      <td>XXVII</td>\n",
       "      <td>250</td>\n",
       "      <td>250. Sitzung (250/NRSITZ)</td>\n",
       "      <td>2024-01-31</td>\n",
       "      <td>[]</td>\n",
       "      <td>[]</td>\n",
       "    </tr>\n",
       "    <tr>\n",
       "      <th>2</th>\n",
       "      <td>https://parlament.gv.at/gegenstand/XXVII/NRSIT...</td>\n",
       "      <td>XXVII</td>\n",
       "      <td>249</td>\n",
       "      <td>249. Sitzung (249/NRSITZ)</td>\n",
       "      <td>2024-01-31</td>\n",
       "      <td>[]</td>\n",
       "      <td>[]</td>\n",
       "    </tr>\n",
       "    <tr>\n",
       "      <th>3</th>\n",
       "      <td>https://parlament.gv.at/gegenstand/XXVII/NRSIT...</td>\n",
       "      <td>XXVII</td>\n",
       "      <td>248</td>\n",
       "      <td>248. Sitzung (248/NRSITZ)</td>\n",
       "      <td>2023-12-15</td>\n",
       "      <td>[]</td>\n",
       "      <td>[]</td>\n",
       "    </tr>\n",
       "    <tr>\n",
       "      <th>4</th>\n",
       "      <td>https://parlament.gv.at/gegenstand/XXVII/NRSIT...</td>\n",
       "      <td>XXVII</td>\n",
       "      <td>247</td>\n",
       "      <td>247. Sitzung (247/NRSITZ)</td>\n",
       "      <td>2023-12-15</td>\n",
       "      <td>[]</td>\n",
       "      <td>[]</td>\n",
       "    </tr>\n",
       "  </tbody>\n",
       "</table>\n",
       "</div>"
      ],
      "text/plain": [
       "                                                 url period  sessionNumber  \\\n",
       "0  https://parlament.gv.at/gegenstand/XXVII/NRSIT...  XXVII            251   \n",
       "1  https://parlament.gv.at/gegenstand/XXVII/NRSIT...  XXVII            250   \n",
       "2  https://parlament.gv.at/gegenstand/XXVII/NRSIT...  XXVII            249   \n",
       "3  https://parlament.gv.at/gegenstand/XXVII/NRSIT...  XXVII            248   \n",
       "4  https://parlament.gv.at/gegenstand/XXVII/NRSIT...  XXVII            247   \n",
       "\n",
       "                sessionLabel       date protocolUrls sections  \n",
       "0  251. Sitzung (251/NRSITZ) 2024-01-31           []       []  \n",
       "1  250. Sitzung (250/NRSITZ) 2024-01-31           []       []  \n",
       "2  249. Sitzung (249/NRSITZ) 2024-01-31           []       []  \n",
       "3  248. Sitzung (248/NRSITZ) 2023-12-15           []       []  \n",
       "4  247. Sitzung (247/NRSITZ) 2023-12-15           []       []  "
      ]
     },
     "execution_count": 2,
     "metadata": {},
     "output_type": "execute_result"
    }
   ],
   "source": [
    "# DATA FROM SESSIONS \n",
    "# BE AWARA: sessions data has 440 mb, so it is only imported locally \n",
    "# https://woswormeileistung.marioslab.io/data/sessions.json\n",
    "# \"\\\\wsl.localhost\\Ubuntu-22.04\\home\\georg\\git-projects\\data\\sessions.json\"\n",
    "sessions = pd.read_json(\"/home/georg/git-projects/data/sessions.json\")\n",
    "\n",
    "print(sessions.shape)\n",
    "sessions.head()"
   ]
  },
  {
   "cell_type": "code",
   "execution_count": 3,
   "id": "44b08af4-d2ed-4361-a251-507110c3a1e7",
   "metadata": {},
   "outputs": [
    {
     "data": {
      "text/plain": [
       "0    []\n",
       "1    []\n",
       "2    []\n",
       "3    []\n",
       "4    []\n",
       "Name: sections, dtype: object"
      ]
     },
     "execution_count": 3,
     "metadata": {},
     "output_type": "execute_result"
    }
   ],
   "source": [
    "sessions.sections.head()"
   ]
  },
  {
   "cell_type": "code",
   "execution_count": 4,
   "id": "d4c15d2e-c605-4eb3-a946-afcd9876b119",
   "metadata": {},
   "outputs": [
    {
     "data": {
      "text/plain": [
       "0                                                      []\n",
       "35      [{'speaker': '88386', 'text': 'Ich darf die 21...\n",
       "36      [{'speaker': '88386', 'text': 'Meine sehr geeh...\n",
       "39      [{'speaker': '88386', 'text': 'Ich eröffne die...\n",
       "40      [{'speaker': '88386', 'text': 'Meine sehr geeh...\n",
       "                              ...                        \n",
       "996     [{'speaker': '799', 'text': 'Ich eröffne die 5...\n",
       "997     [{'speaker': '799', 'text': 'Die Sitzung ist e...\n",
       "998     [{'speaker': '799', 'text': 'Meine Damen und H...\n",
       "999     [{'speaker': '799', 'text': 'Die Sitzung ist e...\n",
       "1000    [{'speaker': '334', 'text': 'Meine Damen und H...\n",
       "Name: sections, Length: 955, dtype: object"
      ]
     },
     "execution_count": 4,
     "metadata": {},
     "output_type": "execute_result"
    }
   ],
   "source": [
    "sessions.sections.drop_duplicates()"
   ]
  },
  {
   "cell_type": "code",
   "execution_count": 5,
   "id": "e2ffea5c-69e8-45ec-9556-8f87f45b1529",
   "metadata": {},
   "outputs": [
    {
     "data": {
      "text/plain": [
       "count     1001\n",
       "unique     955\n",
       "top         []\n",
       "freq        47\n",
       "Name: sections, dtype: object"
      ]
     },
     "execution_count": 5,
     "metadata": {},
     "output_type": "execute_result"
    }
   ],
   "source": [
    "sessions.sections.describe()"
   ]
  },
  {
   "cell_type": "code",
   "execution_count": 6,
   "id": "9d1b6a27-1ca0-4629-8949-6400b1778a63",
   "metadata": {},
   "outputs": [
    {
     "name": "stdout",
     "output_type": "stream",
     "text": [
      "Absolute number of na: 47 || relative number of na: 0.04695304695304695\n"
     ]
    }
   ],
   "source": [
    "session_na = [1 if sessions[\"sections\"][i] == [] else 0 for i in range(len(sessions))]\n",
    "print(\"Absolute number of na: \"+ str(sum(session_na)) + \" || relative number of na: \"+ str(sum(session_na)/len(sessions)))"
   ]
  },
  {
   "cell_type": "code",
   "execution_count": 7,
   "id": "5fce6022-6cd3-4f67-bb00-d61c40132887",
   "metadata": {},
   "outputs": [
    {
     "name": "stdout",
     "output_type": "stream",
     "text": [
      "(173498, 5)\n"
     ]
    },
    {
     "data": {
      "text/html": [
       "<div>\n",
       "<style scoped>\n",
       "    .dataframe tbody tr th:only-of-type {\n",
       "        vertical-align: middle;\n",
       "    }\n",
       "\n",
       "    .dataframe tbody tr th {\n",
       "        vertical-align: top;\n",
       "    }\n",
       "\n",
       "    .dataframe thead th {\n",
       "        text-align: right;\n",
       "    }\n",
       "</style>\n",
       "<table border=\"1\" class=\"dataframe\">\n",
       "  <thead>\n",
       "    <tr style=\"text-align: right;\">\n",
       "      <th></th>\n",
       "      <th>speaker</th>\n",
       "      <th>text</th>\n",
       "      <th>callouts</th>\n",
       "      <th>links</th>\n",
       "      <th>input</th>\n",
       "    </tr>\n",
       "  </thead>\n",
       "  <tbody>\n",
       "    <tr>\n",
       "      <th>0</th>\n",
       "      <td>88386</td>\n",
       "      <td>Ich darf die 216. Sitzung des Nationalrates um...</td>\n",
       "      <td>[{'caller': '2343', 'text': 'Ich bin noch nich...</td>\n",
       "      <td>[]</td>\n",
       "      <td>SPEAKER: 88386; TEXT: Ich darf die 216. Sitzun...</td>\n",
       "    </tr>\n",
       "    <tr>\n",
       "      <th>1</th>\n",
       "      <td>88386</td>\n",
       "      <td>Hinsichtlich der eingelangten Verhandlungsgege...</td>\n",
       "      <td>[]</td>\n",
       "      <td>[{'label': '14141/AB', 'url': 'https://parlame...</td>\n",
       "      <td>SPEAKER: 88386; TEXT: Hinsichtlich der eingela...</td>\n",
       "    </tr>\n",
       "    <tr>\n",
       "      <th>2</th>\n",
       "      <td>88386</td>\n",
       "      <td>Außerdem weise ich\\n\\ndie Anträge 3425/A, 3426...</td>\n",
       "      <td>[]</td>\n",
       "      <td>[{'label': '3425/A', 'url': 'https://parlament...</td>\n",
       "      <td>SPEAKER: 88386; TEXT: Außerdem weise ich\\n\\ndi...</td>\n",
       "    </tr>\n",
       "    <tr>\n",
       "      <th>3</th>\n",
       "      <td>88386</td>\n",
       "      <td>Weiters darf ich mitteilen, dass folgende Fris...</td>\n",
       "      <td>[]</td>\n",
       "      <td>[{'label': '1774 der Beilagen', 'url': 'https:...</td>\n",
       "      <td>SPEAKER: 88386; TEXT: Weiters darf ich mitteil...</td>\n",
       "    </tr>\n",
       "    <tr>\n",
       "      <th>4</th>\n",
       "      <td>88386</td>\n",
       "      <td>Wir kommen nunmehr zur Abstimmung über den Ant...</td>\n",
       "      <td>[]</td>\n",
       "      <td>[{'label': '1774 der\n",
       "Beilagen', 'url': 'https:...</td>\n",
       "      <td>SPEAKER: 88386; TEXT: Wir kommen nunmehr zur A...</td>\n",
       "    </tr>\n",
       "  </tbody>\n",
       "</table>\n",
       "</div>"
      ],
      "text/plain": [
       "  speaker                                               text  \\\n",
       "0   88386  Ich darf die 216. Sitzung des Nationalrates um...   \n",
       "1   88386  Hinsichtlich der eingelangten Verhandlungsgege...   \n",
       "2   88386  Außerdem weise ich\\n\\ndie Anträge 3425/A, 3426...   \n",
       "3   88386  Weiters darf ich mitteilen, dass folgende Fris...   \n",
       "4   88386  Wir kommen nunmehr zur Abstimmung über den Ant...   \n",
       "\n",
       "                                            callouts  \\\n",
       "0  [{'caller': '2343', 'text': 'Ich bin noch nich...   \n",
       "1                                                 []   \n",
       "2                                                 []   \n",
       "3                                                 []   \n",
       "4                                                 []   \n",
       "\n",
       "                                               links  \\\n",
       "0                                                 []   \n",
       "1  [{'label': '14141/AB', 'url': 'https://parlame...   \n",
       "2  [{'label': '3425/A', 'url': 'https://parlament...   \n",
       "3  [{'label': '1774 der Beilagen', 'url': 'https:...   \n",
       "4  [{'label': '1774 der\n",
       "Beilagen', 'url': 'https:...   \n",
       "\n",
       "                                               input  \n",
       "0  SPEAKER: 88386; TEXT: Ich darf die 216. Sitzun...  \n",
       "1  SPEAKER: 88386; TEXT: Hinsichtlich der eingela...  \n",
       "2  SPEAKER: 88386; TEXT: Außerdem weise ich\\n\\ndi...  \n",
       "3  SPEAKER: 88386; TEXT: Weiters darf ich mitteil...  \n",
       "4  SPEAKER: 88386; TEXT: Wir kommen nunmehr zur A...  "
      ]
     },
     "execution_count": 7,
     "metadata": {},
     "output_type": "execute_result"
    }
   ],
   "source": [
    "# the entries in \"speaker\" arer list of dicts; therefore loop over the list to extract the dicts\n",
    "text_dict = [j  for sections in sessions[\"sections\"] for j in sections] \n",
    "\n",
    "# make a pandas df from the extracted dict\n",
    "text = pd.DataFrame.from_dict(text_dict, orient=\"columns\")\n",
    "text[\"input\"] = \"SPEAKER: \"+text[\"speaker\"]+\"; TEXT: \"+text[\"text\"]\n",
    "print(text.shape) # 173498 \n",
    "text.head()"
   ]
  },
  {
   "cell_type": "code",
   "execution_count": 8,
   "id": "16c1fca6-2fa0-4d08-b1c8-a8bb4cba5d66",
   "metadata": {},
   "outputs": [
    {
     "data": {
      "text/html": [
       "<div>\n",
       "<style scoped>\n",
       "    .dataframe tbody tr th:only-of-type {\n",
       "        vertical-align: middle;\n",
       "    }\n",
       "\n",
       "    .dataframe tbody tr th {\n",
       "        vertical-align: top;\n",
       "    }\n",
       "\n",
       "    .dataframe thead th {\n",
       "        text-align: right;\n",
       "    }\n",
       "</style>\n",
       "<table border=\"1\" class=\"dataframe\">\n",
       "  <thead>\n",
       "    <tr style=\"text-align: right;\">\n",
       "      <th></th>\n",
       "      <th>0</th>\n",
       "    </tr>\n",
       "  </thead>\n",
       "  <tbody>\n",
       "    <tr>\n",
       "      <th>count</th>\n",
       "      <td>10</td>\n",
       "    </tr>\n",
       "    <tr>\n",
       "      <th>unique</th>\n",
       "      <td>2</td>\n",
       "    </tr>\n",
       "    <tr>\n",
       "      <th>top</th>\n",
       "      <td>True</td>\n",
       "    </tr>\n",
       "    <tr>\n",
       "      <th>freq</th>\n",
       "      <td>9</td>\n",
       "    </tr>\n",
       "  </tbody>\n",
       "</table>\n",
       "</div>"
      ],
      "text/plain": [
       "           0\n",
       "count     10\n",
       "unique     2\n",
       "top     True\n",
       "freq       9"
      ]
     },
     "execution_count": 8,
     "metadata": {},
     "output_type": "execute_result"
    }
   ],
   "source": [
    "#for i in range(10): \n",
    "#    print(text[\"callouts\"][i] == [])\n",
    "tryout = pd.DataFrame([text[\"callouts\"][i] == [] for i in range(10)])\n",
    "tryout.describe()"
   ]
  },
  {
   "cell_type": "markdown",
   "id": "8cb3ce61-6f43-48c5-9e43-653802a059e8",
   "metadata": {},
   "source": [
    "# Try the speaker classification with fast.ai library"
   ]
  },
  {
   "cell_type": "code",
   "execution_count": 9,
   "id": "cf3bfdcd-9506-449e-999a-a448ef004966",
   "metadata": {},
   "outputs": [
    {
     "data": {
      "text/html": [
       "<div>\n",
       "<style scoped>\n",
       "    .dataframe tbody tr th:only-of-type {\n",
       "        vertical-align: middle;\n",
       "    }\n",
       "\n",
       "    .dataframe tbody tr th {\n",
       "        vertical-align: top;\n",
       "    }\n",
       "\n",
       "    .dataframe thead th {\n",
       "        text-align: right;\n",
       "    }\n",
       "</style>\n",
       "<table border=\"1\" class=\"dataframe\">\n",
       "  <thead>\n",
       "    <tr style=\"text-align: right;\">\n",
       "      <th></th>\n",
       "      <th>text</th>\n",
       "    </tr>\n",
       "    <tr>\n",
       "      <th>speaker</th>\n",
       "      <th></th>\n",
       "    </tr>\n",
       "  </thead>\n",
       "  <tbody>\n",
       "    <tr>\n",
       "      <th>5682</th>\n",
       "      <td>3</td>\n",
       "    </tr>\n",
       "    <tr>\n",
       "      <th>5626</th>\n",
       "      <td>2</td>\n",
       "    </tr>\n",
       "    <tr>\n",
       "      <th>14835</th>\n",
       "      <td>2</td>\n",
       "    </tr>\n",
       "    <tr>\n",
       "      <th>83114</th>\n",
       "      <td>2</td>\n",
       "    </tr>\n",
       "    <tr>\n",
       "      <th>83129</th>\n",
       "      <td>2</td>\n",
       "    </tr>\n",
       "  </tbody>\n",
       "</table>\n",
       "</div>"
      ],
      "text/plain": [
       "         text\n",
       "speaker      \n",
       "5682        3\n",
       "5626        2\n",
       "14835       2\n",
       "83114       2\n",
       "83129       2"
      ]
     },
     "execution_count": 9,
     "metadata": {},
     "output_type": "execute_result"
    }
   ],
   "source": [
    "# get all the speakers who have the most speaches\n",
    "speaker_group = text[900:1000].drop([\"callouts\",\"links\",\"input\"],axis=1).groupby(\"speaker\").count().sort_values(by=\"text\",ascending=False)\n",
    "\n",
    "# in the full data set if you take the speakers from 4th to 9th place you get roughly equally distribubted number of speaches\n",
    "speaker_subset = speaker_group[3:8] \n",
    "\n",
    "speaker_subset"
   ]
  },
  {
   "cell_type": "code",
   "execution_count": 10,
   "id": "4ec2530f-2784-488e-a796-e306ce6d1e3d",
   "metadata": {},
   "outputs": [
    {
     "data": {
      "text/plain": [
       "(939, 5)"
      ]
     },
     "execution_count": 10,
     "metadata": {},
     "output_type": "execute_result"
    }
   ],
   "source": [
    "train_df = text[text[\"speaker\"].isin(speaker_subset.index)]\n",
    "train_df.shape"
   ]
  },
  {
   "cell_type": "code",
   "execution_count": 11,
   "id": "09fe7d82-3d98-49a3-aa48-009fa80ba7fc",
   "metadata": {},
   "outputs": [
    {
     "data": {
      "text/html": [
       "\n",
       "<style>\n",
       "    /* Turns off some styling */\n",
       "    progress {\n",
       "        /* gets rid of default border in Firefox and Opera. */\n",
       "        border: none;\n",
       "        /* Needs to be in here for Safari polyfill so background images work as expected. */\n",
       "        background-size: auto;\n",
       "    }\n",
       "    progress:not([value]), progress:not([value])::-webkit-progress-bar {\n",
       "        background: repeating-linear-gradient(45deg, #7e7e7e, #7e7e7e 10px, #5c5c5c 10px, #5c5c5c 20px);\n",
       "    }\n",
       "    .progress-bar-interrupted, .progress-bar-interrupted::-webkit-progress-bar {\n",
       "        background: #F44336;\n",
       "    }\n",
       "</style>\n"
      ],
      "text/plain": [
       "<IPython.core.display.HTML object>"
      ]
     },
     "metadata": {},
     "output_type": "display_data"
    },
    {
     "data": {
      "text/html": [],
      "text/plain": [
       "<IPython.core.display.HTML object>"
      ]
     },
     "metadata": {},
     "output_type": "display_data"
    },
    {
     "data": {
      "text/html": [
       "<table border=\"1\" class=\"dataframe\">\n",
       "  <thead>\n",
       "    <tr style=\"text-align: right;\">\n",
       "      <th></th>\n",
       "      <th>text</th>\n",
       "      <th>category</th>\n",
       "    </tr>\n",
       "  </thead>\n",
       "  <tbody>\n",
       "    <tr>\n",
       "      <th>0</th>\n",
       "      <td>xxbos xxmaj herr xxmaj präsident ( auf das xxmaj xxunk am xxmaj rednerpult xxunk ) , die xxmaj uhr rennt schon seit 10   xxmaj sekunden   – auch schön ! xxmaj sehr geehrte xxmaj damen und xxmaj herren ! xxmaj ich denke mir , dass es sehr wichtig ist , dass die öffentliche xxmaj hand mit gutem xxmaj beispiel vorangeht , wenn es um nachhaltige xxmaj beschaffung geht . xxmaj sehr oft ist es auch die öffentliche xxmaj hand , die neue xxmaj benchmarks setzt , die dann überhaupt einmal ein xxmaj produkt , das ökologisch besser ist als der xxmaj durchschnitt , für xxmaj xxunk und xxunk xxunk und auch xxunk macht , weil vorher der xxmaj markt dafür zu klein gewesen wäre . \\n\\n xxmaj abgesehen davon denke ich mir , dass es wichtig ist , dass es mit grüner xxmaj beschaffung alleine nicht getan ist .</td>\n",
       "      <td>14835</td>\n",
       "    </tr>\n",
       "    <tr>\n",
       "      <th>1</th>\n",
       "      <td>xxbos xxmaj herr xxmaj präsident ! xxmaj sehr geehrter xxmaj herr xxmaj bundesminister ! xxmaj ich glaube xxmaj ihnen   – auch weil ich xxmaj sie schon länger kenne   – , dass xxmaj sie kein xxmaj freund von xxmaj markteingriffen sind .   – xxmaj das ist das , was xxmaj sie sagen . xxmaj das , was xxmaj sie tun , ist , dass xxmaj sie seit einiger xxmaj zeit   – seit einigen xxmaj jahren   – permanent xxmaj xxunk vornehmen . xxmaj das xxmaj xxunk , das wir jetzt haben , hat mit einer freien , sozialen xxmaj marktwirtschaft sehr , sehr wenig zu tun . \\n\\n xxmaj das hat mit dem xxmaj coronaregime begonnen   – das war ein xxmaj bündel an xxmaj markteingriffen mit xxmaj lockdowns und so weiter und so fort . xxmaj auch die sogenannte xxmaj klimapolitik ist von ganz wesentlichen xxunk</td>\n",
       "      <td>83129</td>\n",
       "    </tr>\n",
       "  </tbody>\n",
       "</table>"
      ],
      "text/plain": [
       "<IPython.core.display.HTML object>"
      ]
     },
     "metadata": {},
     "output_type": "display_data"
    }
   ],
   "source": [
    "from fastai.text.data import TextDataLoaders\n",
    "dl = TextDataLoaders.from_df(train_df, valid_pct=0.2, seed=None,text_col=\"text\", label_col=\"speaker\")\n",
    "dl.show_batch(max_n=2)"
   ]
  },
  {
   "cell_type": "code",
   "execution_count": 12,
   "id": "8971aca8-899d-4197-8426-d4271b284d2e",
   "metadata": {},
   "outputs": [],
   "source": [
    "from fastai.metrics import accuracy,Perplexity\n",
    "from fastai.text.learner import text_classifier_learner\n",
    "from fastai.text.models import AWD_LSTM\n",
    "learn = text_classifier_learner(dl, AWD_LSTM, metrics=[accuracy, Perplexity()])"
   ]
  },
  {
   "cell_type": "code",
   "execution_count": 13,
   "id": "e74b7b96-93b0-42cb-a6a2-97ceec1165b5",
   "metadata": {},
   "outputs": [
    {
     "data": {
      "text/html": [
       "\n",
       "<style>\n",
       "    /* Turns off some styling */\n",
       "    progress {\n",
       "        /* gets rid of default border in Firefox and Opera. */\n",
       "        border: none;\n",
       "        /* Needs to be in here for Safari polyfill so background images work as expected. */\n",
       "        background-size: auto;\n",
       "    }\n",
       "    progress:not([value]), progress:not([value])::-webkit-progress-bar {\n",
       "        background: repeating-linear-gradient(45deg, #7e7e7e, #7e7e7e 10px, #5c5c5c 10px, #5c5c5c 20px);\n",
       "    }\n",
       "    .progress-bar-interrupted, .progress-bar-interrupted::-webkit-progress-bar {\n",
       "        background: #F44336;\n",
       "    }\n",
       "</style>\n"
      ],
      "text/plain": [
       "<IPython.core.display.HTML object>"
      ]
     },
     "metadata": {},
     "output_type": "display_data"
    },
    {
     "data": {
      "text/html": [
       "<table border=\"1\" class=\"dataframe\">\n",
       "  <thead>\n",
       "    <tr style=\"text-align: left;\">\n",
       "      <th>epoch</th>\n",
       "      <th>train_loss</th>\n",
       "      <th>valid_loss</th>\n",
       "      <th>accuracy</th>\n",
       "      <th>perplexity</th>\n",
       "      <th>time</th>\n",
       "    </tr>\n",
       "  </thead>\n",
       "  <tbody>\n",
       "    <tr>\n",
       "      <td>0</td>\n",
       "      <td>1.574733</td>\n",
       "      <td>1.405326</td>\n",
       "      <td>0.422460</td>\n",
       "      <td>4.076856</td>\n",
       "      <td>07:02</td>\n",
       "    </tr>\n",
       "  </tbody>\n",
       "</table>"
      ],
      "text/plain": [
       "<IPython.core.display.HTML object>"
      ]
     },
     "metadata": {},
     "output_type": "display_data"
    }
   ],
   "source": [
    "from fastai.text.all import *\n",
    "learn.fit_one_cycle(1, 2e-2)"
   ]
  },
  {
   "cell_type": "code",
   "execution_count": 14,
   "id": "2c1643ae-0605-45db-9425-69381e423c0a",
   "metadata": {},
   "outputs": [
    {
     "data": {
      "text/html": [
       "\n",
       "<style>\n",
       "    /* Turns off some styling */\n",
       "    progress {\n",
       "        /* gets rid of default border in Firefox and Opera. */\n",
       "        border: none;\n",
       "        /* Needs to be in here for Safari polyfill so background images work as expected. */\n",
       "        background-size: auto;\n",
       "    }\n",
       "    progress:not([value]), progress:not([value])::-webkit-progress-bar {\n",
       "        background: repeating-linear-gradient(45deg, #7e7e7e, #7e7e7e 10px, #5c5c5c 10px, #5c5c5c 20px);\n",
       "    }\n",
       "    .progress-bar-interrupted, .progress-bar-interrupted::-webkit-progress-bar {\n",
       "        background: #F44336;\n",
       "    }\n",
       "</style>\n"
      ],
      "text/plain": [
       "<IPython.core.display.HTML object>"
      ]
     },
     "metadata": {},
     "output_type": "display_data"
    },
    {
     "data": {
      "text/html": [],
      "text/plain": [
       "<IPython.core.display.HTML object>"
      ]
     },
     "metadata": {},
     "output_type": "display_data"
    },
    {
     "data": {
      "text/plain": [
       "('83129', tensor(4), tensor([0.2070, 0.1368, 0.2144, 0.1928, 0.2491]))"
      ]
     },
     "execution_count": 14,
     "metadata": {},
     "output_type": "execute_result"
    }
   ],
   "source": [
    "learn.predict(\"Ich bin Wolfgang Sobotka und ich versuche jetzt, ein bisschen ruhig zu bleiben, obwohl mir das zugegebenermaßen schwer fällt.\")"
   ]
  },
  {
   "cell_type": "code",
   "execution_count": 18,
   "id": "587e41e7-077a-40b2-8cfb-fb2a1ab17ac2",
   "metadata": {},
   "outputs": [
    {
     "data": {
      "text/html": [
       "<div>\n",
       "<style scoped>\n",
       "    .dataframe tbody tr th:only-of-type {\n",
       "        vertical-align: middle;\n",
       "    }\n",
       "\n",
       "    .dataframe tbody tr th {\n",
       "        vertical-align: top;\n",
       "    }\n",
       "\n",
       "    .dataframe thead th {\n",
       "        text-align: right;\n",
       "    }\n",
       "</style>\n",
       "<table border=\"1\" class=\"dataframe\">\n",
       "  <thead>\n",
       "    <tr style=\"text-align: right;\">\n",
       "      <th></th>\n",
       "      <th>id</th>\n",
       "      <th>name</th>\n",
       "      <th>parties</th>\n",
       "      <th>periods</th>\n",
       "      <th>url</th>\n",
       "      <th>imageUrl</th>\n",
       "    </tr>\n",
       "  </thead>\n",
       "  <tbody>\n",
       "    <tr>\n",
       "      <th>227</th>\n",
       "      <td>83129</td>\n",
       "      <td>MMMag. Dr. Axel Kassegger</td>\n",
       "      <td>[FPÖ]</td>\n",
       "      <td>[XXV, XXVI, XXVII]</td>\n",
       "      <td>https://parlament.gv.at/person/83129</td>\n",
       "      <td>https://parlament.gv.at/dokument/bild/200697/20069725_384.jpg</td>\n",
       "    </tr>\n",
       "  </tbody>\n",
       "</table>\n",
       "</div>"
      ],
      "text/plain": [
       "        id                       name parties             periods  \\\n",
       "227  83129  MMMag. Dr. Axel Kassegger   [FPÖ]  [XXV, XXVI, XXVII]   \n",
       "\n",
       "                                      url  \\\n",
       "227  https://parlament.gv.at/person/83129   \n",
       "\n",
       "                                                          imageUrl  \n",
       "227  https://parlament.gv.at/dokument/bild/200697/20069725_384.jpg  "
      ]
     },
     "execution_count": 18,
     "metadata": {},
     "output_type": "execute_result"
    }
   ],
   "source": [
    "#speaker[\"id\"] == 18140\n",
    "speaker.loc[speaker[\"id\"]==83129]"
   ]
  },
  {
   "cell_type": "code",
   "execution_count": 19,
   "id": "06018c60-b9fd-4434-9451-ae8af445cc18",
   "metadata": {},
   "outputs": [
    {
     "data": {
      "text/plain": [
       "5"
      ]
     },
     "execution_count": 19,
     "metadata": {},
     "output_type": "execute_result"
    }
   ],
   "source": [
    "len(train_df[\"speaker\"].unique())"
   ]
  },
  {
   "cell_type": "code",
   "execution_count": 37,
   "id": "3fa802f6-a443-4de9-aedc-ee63c49fd2ce",
   "metadata": {},
   "outputs": [
    {
     "data": {
      "text/plain": [
       "['5682', '5626', '14835', '83114', '83129']"
      ]
     },
     "execution_count": 37,
     "metadata": {},
     "output_type": "execute_result"
    }
   ],
   "source": [
    "list(speaker_subset.index)"
   ]
  },
  {
   "cell_type": "code",
   "execution_count": 46,
   "id": "37686774-bf0d-4f85-9f04-12c94088d4ed",
   "metadata": {},
   "outputs": [
    {
     "data": {
      "text/plain": [
       "2"
      ]
     },
     "execution_count": 46,
     "metadata": {},
     "output_type": "execute_result"
    }
   ],
   "source": [
    "speaker[\"id\"].isin([14835,83114]).sum()"
   ]
  },
  {
   "cell_type": "code",
   "execution_count": 57,
   "id": "d42d8053-4f35-4bfe-8dc2-c454c32b9be2",
   "metadata": {},
   "outputs": [
    {
     "data": {
      "text/html": [
       "<div>\n",
       "<style scoped>\n",
       "    .dataframe tbody tr th:only-of-type {\n",
       "        vertical-align: middle;\n",
       "    }\n",
       "\n",
       "    .dataframe tbody tr th {\n",
       "        vertical-align: top;\n",
       "    }\n",
       "\n",
       "    .dataframe thead th {\n",
       "        text-align: right;\n",
       "    }\n",
       "</style>\n",
       "<table border=\"1\" class=\"dataframe\">\n",
       "  <thead>\n",
       "    <tr style=\"text-align: right;\">\n",
       "      <th></th>\n",
       "      <th>id</th>\n",
       "      <th>name</th>\n",
       "      <th>parties</th>\n",
       "      <th>periods</th>\n",
       "      <th>url</th>\n",
       "      <th>imageUrl</th>\n",
       "    </tr>\n",
       "  </thead>\n",
       "  <tbody>\n",
       "    <tr>\n",
       "      <th>19</th>\n",
       "      <td>14835</td>\n",
       "      <td>Petra Bayr, MA MLS</td>\n",
       "      <td>[SPÖ]</td>\n",
       "      <td>[XXII, XXIII, XXIV, XXV, XXVI, XXVII]</td>\n",
       "      <td>https://parlament.gv.at/person/14835</td>\n",
       "      <td>https://parlament.gv.at/dokument/bild/200695/20069569_384.jpg</td>\n",
       "    </tr>\n",
       "    <tr>\n",
       "      <th>37</th>\n",
       "      <td>5682</td>\n",
       "      <td>Dr. Helmut Brandstätter</td>\n",
       "      <td>[NEOS]</td>\n",
       "      <td>[XXVII]</td>\n",
       "      <td>https://parlament.gv.at/person/5682</td>\n",
       "      <td>https://parlament.gv.at/dokument/bild/200696/20069688_384.jpg</td>\n",
       "    </tr>\n",
       "    <tr>\n",
       "      <th>227</th>\n",
       "      <td>83129</td>\n",
       "      <td>MMMag. Dr. Axel Kassegger</td>\n",
       "      <td>[FPÖ]</td>\n",
       "      <td>[XXV, XXVI, XXVII]</td>\n",
       "      <td>https://parlament.gv.at/person/83129</td>\n",
       "      <td>https://parlament.gv.at/dokument/bild/200697/20069725_384.jpg</td>\n",
       "    </tr>\n",
       "    <tr>\n",
       "      <th>334</th>\n",
       "      <td>5626</td>\n",
       "      <td>Andreas Minnich</td>\n",
       "      <td>[ÖVP]</td>\n",
       "      <td>[XXVII]</td>\n",
       "      <td>https://parlament.gv.at/person/5626</td>\n",
       "      <td>https://parlament.gv.at/dokument/bild/200696/20069654_384.jpg</td>\n",
       "    </tr>\n",
       "    <tr>\n",
       "      <th>539</th>\n",
       "      <td>83114</td>\n",
       "      <td>Dr. Harald Troch</td>\n",
       "      <td>[SPÖ]</td>\n",
       "      <td>[XXV, XXVI, XXVII]</td>\n",
       "      <td>https://parlament.gv.at/person/83114</td>\n",
       "      <td>https://parlament.gv.at/dokument/bild/200697/20069718_384.jpg</td>\n",
       "    </tr>\n",
       "  </tbody>\n",
       "</table>\n",
       "</div>"
      ],
      "text/plain": [
       "        id                       name parties  \\\n",
       "19   14835         Petra Bayr, MA MLS   [SPÖ]   \n",
       "37    5682    Dr. Helmut Brandstätter  [NEOS]   \n",
       "227  83129  MMMag. Dr. Axel Kassegger   [FPÖ]   \n",
       "334   5626            Andreas Minnich   [ÖVP]   \n",
       "539  83114           Dr. Harald Troch   [SPÖ]   \n",
       "\n",
       "                                   periods  \\\n",
       "19   [XXII, XXIII, XXIV, XXV, XXVI, XXVII]   \n",
       "37                                 [XXVII]   \n",
       "227                     [XXV, XXVI, XXVII]   \n",
       "334                                [XXVII]   \n",
       "539                     [XXV, XXVI, XXVII]   \n",
       "\n",
       "                                      url  \\\n",
       "19   https://parlament.gv.at/person/14835   \n",
       "37    https://parlament.gv.at/person/5682   \n",
       "227  https://parlament.gv.at/person/83129   \n",
       "334   https://parlament.gv.at/person/5626   \n",
       "539  https://parlament.gv.at/person/83114   \n",
       "\n",
       "                                                          imageUrl  \n",
       "19   https://parlament.gv.at/dokument/bild/200695/20069569_384.jpg  \n",
       "37   https://parlament.gv.at/dokument/bild/200696/20069688_384.jpg  \n",
       "227  https://parlament.gv.at/dokument/bild/200697/20069725_384.jpg  \n",
       "334  https://parlament.gv.at/dokument/bild/200696/20069654_384.jpg  \n",
       "539  https://parlament.gv.at/dokument/bild/200697/20069718_384.jpg  "
      ]
     },
     "execution_count": 57,
     "metadata": {},
     "output_type": "execute_result"
    }
   ],
   "source": [
    "# merge ids with speaker names\n",
    "# speaker_merge = pd.merge(speaker_subset.index, speaker, how='inner', on='speaker')#.groupby(\"speaker\").count()\n",
    "# speaker_merge\n",
    "\n",
    "speaker_model = speaker[speaker[\"id\"].isin(list(map(int, speaker_subset.index)))]\n",
    "speaker_model"
   ]
  },
  {
   "cell_type": "code",
   "execution_count": null,
   "id": "56780d29-c12e-4efb-9aff-0ffc5b4f7952",
   "metadata": {},
   "outputs": [],
   "source": []
  },
  {
   "cell_type": "code",
   "execution_count": null,
   "id": "a29273b2-3a5d-4898-8d1e-c26544af2eb7",
   "metadata": {},
   "outputs": [],
   "source": []
  }
 ],
 "metadata": {
  "kernelspec": {
   "display_name": "Python 3 (ipykernel)",
   "language": "python",
   "name": "python3"
  },
  "language_info": {
   "codemirror_mode": {
    "name": "ipython",
    "version": 3
   },
   "file_extension": ".py",
   "mimetype": "text/x-python",
   "name": "python",
   "nbconvert_exporter": "python",
   "pygments_lexer": "ipython3",
   "version": "3.10.13"
  }
 },
 "nbformat": 4,
 "nbformat_minor": 5
}
