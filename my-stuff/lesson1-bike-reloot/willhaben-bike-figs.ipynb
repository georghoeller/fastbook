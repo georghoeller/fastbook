{
 "cells": [
  {
   "cell_type": "markdown",
   "id": "b20aa86e-24af-467e-880b-65e70290421f",
   "metadata": {},
   "source": [
    "# bike-reloot data set\n",
    "## assembling a dat set for a prototype \n",
    "\n",
    "This notebook has the purpose of making a data set for the _bike-reloot_ project. \n",
    "\n",
    "Steps are the following: \n",
    "- scrape will haben bike pictures\n",
    "- rename them to \"stolen\" and \"not_stolen\" with consecutive IDs\n",
    "\n",
    "---"
   ]
  },
  {
   "cell_type": "markdown",
   "id": "1bddfc3a-ff9a-420e-a601-dcf96ca1589a",
   "metadata": {},
   "source": [
    "Inside of a loop through a list of willhaben URLs with different \"&pages=1\": \n",
    "\n",
    "Structure of the \"a-tag\" I want to scrap, which is one entry of a bike.\n",
    "\n",
    "```\n",
    "<a \n",
    "    href=\"/iad/kaufen-und-verkaufen/d/bike-discounter-angebot-kross-trans-4-0-s-28-zoll-0401-578744109/\" \n",
    "    id=\"search-result-entry-header-578744109\" \n",
    "    aria-labelledby=\"search-result-entry-header-578744109\" \n",
    "    class=\"sc-ca51e2d8-0 lkgIJQ sc-deecb898-1 imWndm\" \n",
    "    data-testid=\"search-result-entry-header-578744109\">\n",
    "</a>\n",
    "```\n",
    "\n",
    "Then retreive the href and save it to a dataframe, for n number of pages which lead to n number of entries (say, 600 entries).\n"
   ]
  },
  {
   "cell_type": "code",
   "execution_count": 1,
   "id": "e859b3d1-a60e-49b1-9857-8af41c4ea24b",
   "metadata": {},
   "outputs": [
    {
     "name": "stdout",
     "output_type": "stream",
     "text": [
      "5\n",
      "/iad/kaufen-und-verkaufen/d/merida-cross-xt-edition-neuzustand-2126461133/\n"
     ]
    }
   ],
   "source": [
    "import requests\n",
    "from bs4 import BeautifulSoup\n",
    "\n",
    "# DEFINE BASE URL \n",
    "# = \"https://www.willhaben.at/iad/kaufen-und-verkaufen/marktplatz/fahrraeder-4552&rows=1\"\n",
    "# url_fahrräder = \"https://www.willhaben.at/iad/kaufen-und-verkaufen/marktplatz/fahrraeder-radsport/fahrraeder-4552\"\n",
    "# url_fahrräder = \"https://www.willhaben.at/iad/kaufen-und-verkaufen/marktplatz/fahrraeder-4552?topicId=1001&srcType=feed-popular-cat&srcAdd=Fahrraeder\" # url retreived with js disabled \n",
    "\n",
    "url_fahrräder = \"https://www.willhaben.at/iad/kaufen-und-verkaufen/marktplatz/fahrraeder-4552?isNavigation=true&isISRL=true&srcType=vertical-browse&srcAdd=4552\"\n",
    "#url_fahrräder = \"https://www.willhaben.at/iad/kaufen-und-verkaufen/marktplatz/fahrraeder-4552?topicId=1001&srcType=feed-popular-cat&srcAdd=Fahrraeder&rows=1\"\n",
    "# and &page=9 &rows=1\n",
    "\n",
    "# MAKE REQUEST ON BASE URL \n",
    "page = requests.get(url_fahrräder)\n",
    "soup = BeautifulSoup(page.content, \"html.parser\")\n",
    "\n",
    "# Define a function to filter elements based on their IDs within the div with ID \"skip-to-resultlist\"\n",
    "def find_by_id_custom(tag):\n",
    "    return (\n",
    "        tag.name == 'a' and \n",
    "        tag.get('id', '').startswith('search-result-entry-header') and \n",
    "        tag.has_attr('id')\n",
    "    )\n",
    "\n",
    "# FIND ALL a tags within ID\n",
    "links = soup.find(id=\"skip-to-resultlist\").find_all(find_by_id_custom)\n",
    "print(len(links))\n",
    "print(links[0].get('href'))\n",
    "\n"
   ]
  },
  {
   "cell_type": "code",
   "execution_count": 13,
   "id": "c2a7906d-6dff-449d-ba31-059421b56104",
   "metadata": {},
   "outputs": [
    {
     "data": {
      "text/html": [
       "<div>\n",
       "<style scoped>\n",
       "    .dataframe tbody tr th:only-of-type {\n",
       "        vertical-align: middle;\n",
       "    }\n",
       "\n",
       "    .dataframe tbody tr th {\n",
       "        vertical-align: top;\n",
       "    }\n",
       "\n",
       "    .dataframe thead th {\n",
       "        text-align: right;\n",
       "    }\n",
       "</style>\n",
       "<table border=\"1\" class=\"dataframe\">\n",
       "  <thead>\n",
       "    <tr style=\"text-align: right;\">\n",
       "      <th></th>\n",
       "      <th>id</th>\n",
       "      <th>href</th>\n",
       "      <th>id_int</th>\n",
       "      <th>links</th>\n",
       "    </tr>\n",
       "  </thead>\n",
       "  <tbody>\n",
       "    <tr>\n",
       "      <th>0</th>\n",
       "      <td>search-result-entry-header-772596263</td>\n",
       "      <td>/iad/kaufen-und-verkaufen/d/kinderfahrrad-7725...</td>\n",
       "      <td>772596263</td>\n",
       "      <td>https://www.willhaben.at/iad/kaufen-und-verkau...</td>\n",
       "    </tr>\n",
       "  </tbody>\n",
       "</table>\n",
       "</div>"
      ],
      "text/plain": [
       "                                     id  \\\n",
       "0  search-result-entry-header-772596263   \n",
       "\n",
       "                                                href     id_int  \\\n",
       "0  /iad/kaufen-und-verkaufen/d/kinderfahrrad-7725...  772596263   \n",
       "\n",
       "                                               links  \n",
       "0  https://www.willhaben.at/iad/kaufen-und-verkau...  "
      ]
     },
     "execution_count": 13,
     "metadata": {},
     "output_type": "execute_result"
    }
   ],
   "source": [
    "import pandas as pd\n",
    "\n",
    "list_id = [ link.get('id') for link in links]\n",
    "list_href = [ link.get('href') for link in links]\n",
    "\n",
    "df = pd.DataFrame({\"id\": list_id,\n",
    "                   \"href\": list_href})\n",
    "\n",
    "# split ID into all parts and extract the unique ID \n",
    "df['id_int'] = df['id'].str.split('-',expand=True)[4]\n",
    "df['links'] = \"https://www.willhaben.at\"+df['href']\n",
    "#df['links'][1]\n",
    "df"
   ]
  },
  {
   "cell_type": "markdown",
   "id": "9150a26a-9be2-4364-bf84-4733d00e568c",
   "metadata": {},
   "source": [
    "# Extracting URL links of images of bikes"
   ]
  },
  {
   "cell_type": "code",
   "execution_count": 14,
   "id": "dc5c088a-cce8-4e68-8a69-e4d2e5f949ff",
   "metadata": {},
   "outputs": [],
   "source": [
    "import requests\n",
    "from bs4 import BeautifulSoup\n",
    "from PIL import Image"
   ]
  },
  {
   "cell_type": "code",
   "execution_count": 15,
   "id": "bf822b55-b913-4c1a-8545-7721af7a95f2",
   "metadata": {
    "scrolled": true
   },
   "outputs": [
    {
     "name": "stdout",
     "output_type": "stream",
     "text": [
      "4\n",
      "['https://cache.willhaben.at/mmo/3/772/596/263_-348722016.jpg', 'https://cache.willhaben.at/mmo/3/772/596/263_-1845172890.jpg', 'https://cache.willhaben.at/mmo/3/772/596/263_906489552.jpg', 'https://cache.willhaben.at/mmo/3/772/596/263_-186325535.jpg']\n",
      "['Bild 1 von 4', 'Bild 2 von 4', 'Bild 3 von 4', 'Bild 4 von 4']\n"
     ]
    }
   ],
   "source": [
    "import requests\n",
    "from bs4 import BeautifulSoup\n",
    "import time\n",
    "\n",
    "#df['links'][1]\n",
    "\n",
    "\n",
    "# TEST THE SINGLE ENTRY IMG EXTRACTION\n",
    "single_page = requests.get(df['links'][0])\n",
    "single_soup = BeautifulSoup(single_page.content, \"html.parser\")\n",
    "\n",
    "def find_by_data_test_id_custom(tag):\n",
    "    return (\n",
    "        tag.name == 'img' and \n",
    "        tag.get('data-testid', '').startswith('image') and \n",
    "        tag.has_attr('alt')\n",
    "    )\n",
    "\n",
    "print(len(single_soup.find_all(find_by_data_test_id_custom)))\n",
    "img_links = single_soup.find_all(find_by_data_test_id_custom)\n",
    "\n",
    "# print(single_soup.find_all('img'))\n",
    "\n",
    "print([ link.get('src') if link.has_attr('src') \n",
    "       else link.get('data-flickity-lazyload') \n",
    "       for link in img_links ])\n",
    "\n",
    "print([ link.get('alt')  for link in img_links ])\n",
    "#img_links\n",
    "\n"
   ]
  },
  {
   "cell_type": "code",
   "execution_count": 16,
   "id": "9c339653-29da-49cf-be7e-70571af7b379",
   "metadata": {
    "scrolled": true
   },
   "outputs": [
    {
     "data": {
      "text/plain": [
       "{'772596263': {'src': ['https://cache.willhaben.at/mmo/3/772/596/263_-348722016.jpg',\n",
       "   'https://cache.willhaben.at/mmo/3/772/596/263_-1845172890.jpg',\n",
       "   'https://cache.willhaben.at/mmo/3/772/596/263_906489552.jpg',\n",
       "   'https://cache.willhaben.at/mmo/3/772/596/263_-186325535.jpg']}}"
      ]
     },
     "execution_count": 16,
     "metadata": {},
     "output_type": "execute_result"
    }
   ],
   "source": [
    "\n",
    "# PERFORM IMAGE EXTRACTION ON WHOLE DF\n",
    "img_list = {}\n",
    "for i in df.index:\n",
    "    time.sleep(0.1)\n",
    "    #requests.get(entry)\n",
    "    pass_soup = BeautifulSoup(requests.get(df['links'][i]).content, \"html.parser\")\n",
    "    pass_image_links = pass_soup.find_all(find_by_data_test_id_custom)\n",
    "    \n",
    "    pass_image_src = [ link.get('src') if link.has_attr('src') \n",
    "       else link.get('data-flickity-lazyload') \n",
    "       for link in img_links ]\n",
    "\n",
    "    pass_image_alt = [ link.get('alt') for link in pass_image_links]\n",
    "    \n",
    "    if len(pass_image_links) > 1: \n",
    "        img_list[df['id_int'][i]] =  {'src':pass_image_src} \n",
    "        \n",
    "img_list\n"
   ]
  },
  {
   "cell_type": "code",
   "execution_count": 17,
   "id": "3be307b7-c03c-4872-96e0-8b3dbe97c75b",
   "metadata": {},
   "outputs": [
    {
     "data": {
      "text/html": [
       "<div>\n",
       "<style scoped>\n",
       "    .dataframe tbody tr th:only-of-type {\n",
       "        vertical-align: middle;\n",
       "    }\n",
       "\n",
       "    .dataframe tbody tr th {\n",
       "        vertical-align: top;\n",
       "    }\n",
       "\n",
       "    .dataframe thead th {\n",
       "        text-align: right;\n",
       "    }\n",
       "</style>\n",
       "<table border=\"1\" class=\"dataframe\">\n",
       "  <thead>\n",
       "    <tr style=\"text-align: right;\">\n",
       "      <th></th>\n",
       "      <th>id</th>\n",
       "      <th>src</th>\n",
       "    </tr>\n",
       "  </thead>\n",
       "  <tbody>\n",
       "    <tr>\n",
       "      <th>0</th>\n",
       "      <td>772596263</td>\n",
       "      <td>https://cache.willhaben.at/mmo/3/772/596/263_-...</td>\n",
       "    </tr>\n",
       "    <tr>\n",
       "      <th>1</th>\n",
       "      <td>772596263</td>\n",
       "      <td>https://cache.willhaben.at/mmo/3/772/596/263_-...</td>\n",
       "    </tr>\n",
       "    <tr>\n",
       "      <th>2</th>\n",
       "      <td>772596263</td>\n",
       "      <td>https://cache.willhaben.at/mmo/3/772/596/263_9...</td>\n",
       "    </tr>\n",
       "    <tr>\n",
       "      <th>3</th>\n",
       "      <td>772596263</td>\n",
       "      <td>https://cache.willhaben.at/mmo/3/772/596/263_-...</td>\n",
       "    </tr>\n",
       "  </tbody>\n",
       "</table>\n",
       "</div>"
      ],
      "text/plain": [
       "          id                                                src\n",
       "0  772596263  https://cache.willhaben.at/mmo/3/772/596/263_-...\n",
       "1  772596263  https://cache.willhaben.at/mmo/3/772/596/263_-...\n",
       "2  772596263  https://cache.willhaben.at/mmo/3/772/596/263_9...\n",
       "3  772596263  https://cache.willhaben.at/mmo/3/772/596/263_-..."
      ]
     },
     "execution_count": 17,
     "metadata": {},
     "output_type": "execute_result"
    }
   ],
   "source": [
    "# TAKE DICT AND MAKE IT TO DF\n",
    "df_src = pd.DataFrame(img_list).T.explode('src').reset_index(names='id')\n",
    "df_src"
   ]
  },
  {
   "cell_type": "code",
   "execution_count": 18,
   "id": "ea64a672-a38b-485c-8925-17f0903eafc8",
   "metadata": {
    "scrolled": true
   },
   "outputs": [
    {
     "data": {
      "text/html": [
       "<div>\n",
       "<style scoped>\n",
       "    .dataframe tbody tr th:only-of-type {\n",
       "        vertical-align: middle;\n",
       "    }\n",
       "\n",
       "    .dataframe tbody tr th {\n",
       "        vertical-align: top;\n",
       "    }\n",
       "\n",
       "    .dataframe thead th {\n",
       "        text-align: right;\n",
       "    }\n",
       "</style>\n",
       "<table border=\"1\" class=\"dataframe\">\n",
       "  <thead>\n",
       "    <tr style=\"text-align: right;\">\n",
       "      <th></th>\n",
       "      <th>id</th>\n",
       "      <th>src</th>\n",
       "      <th>label</th>\n",
       "    </tr>\n",
       "  </thead>\n",
       "  <tbody>\n",
       "    <tr>\n",
       "      <th>0</th>\n",
       "      <td>772596263</td>\n",
       "      <td>https://cache.willhaben.at/mmo/3/772/596/263_-...</td>\n",
       "      <td>not_stolen</td>\n",
       "    </tr>\n",
       "    <tr>\n",
       "      <th>1</th>\n",
       "      <td>772596263</td>\n",
       "      <td>https://cache.willhaben.at/mmo/3/772/596/263_-...</td>\n",
       "      <td>stolen</td>\n",
       "    </tr>\n",
       "    <tr>\n",
       "      <th>2</th>\n",
       "      <td>772596263</td>\n",
       "      <td>https://cache.willhaben.at/mmo/3/772/596/263_9...</td>\n",
       "      <td>stolen</td>\n",
       "    </tr>\n",
       "    <tr>\n",
       "      <th>3</th>\n",
       "      <td>772596263</td>\n",
       "      <td>https://cache.willhaben.at/mmo/3/772/596/263_-...</td>\n",
       "      <td>not_stolen</td>\n",
       "    </tr>\n",
       "  </tbody>\n",
       "</table>\n",
       "</div>"
      ],
      "text/plain": [
       "          id                                                src       label\n",
       "0  772596263  https://cache.willhaben.at/mmo/3/772/596/263_-...  not_stolen\n",
       "1  772596263  https://cache.willhaben.at/mmo/3/772/596/263_-...      stolen\n",
       "2  772596263  https://cache.willhaben.at/mmo/3/772/596/263_9...      stolen\n",
       "3  772596263  https://cache.willhaben.at/mmo/3/772/596/263_-...  not_stolen"
      ]
     },
     "execution_count": 18,
     "metadata": {},
     "output_type": "execute_result"
    }
   ],
   "source": [
    "# GENERATE A COLUMN WITH A PREFIX\n",
    "import numpy as np\n",
    "\n",
    "df_src['label'] = df_src.groupby('id')['id'].transform(\n",
    "    lambda group: np.random.choice(['stolen', 'not_stolen'], size=len(group)) \n",
    "    )\n",
    "df_src"
   ]
  },
  {
   "cell_type": "code",
   "execution_count": 19,
   "id": "2bd7b1eb-968e-4d50-946c-101a86e62c4b",
   "metadata": {},
   "outputs": [
    {
     "data": {
      "text/html": [
       "<div>\n",
       "<style scoped>\n",
       "    .dataframe tbody tr th:only-of-type {\n",
       "        vertical-align: middle;\n",
       "    }\n",
       "\n",
       "    .dataframe tbody tr th {\n",
       "        vertical-align: top;\n",
       "    }\n",
       "\n",
       "    .dataframe thead th {\n",
       "        text-align: right;\n",
       "    }\n",
       "</style>\n",
       "<table border=\"1\" class=\"dataframe\">\n",
       "  <thead>\n",
       "    <tr style=\"text-align: right;\">\n",
       "      <th></th>\n",
       "      <th>id</th>\n",
       "      <th>src</th>\n",
       "      <th>label</th>\n",
       "      <th>src_id</th>\n",
       "    </tr>\n",
       "  </thead>\n",
       "  <tbody>\n",
       "    <tr>\n",
       "      <th>0</th>\n",
       "      <td>772596263</td>\n",
       "      <td>https://cache.willhaben.at/mmo/3/772/596/263_-...</td>\n",
       "      <td>not_stolen</td>\n",
       "      <td>348722016</td>\n",
       "    </tr>\n",
       "    <tr>\n",
       "      <th>1</th>\n",
       "      <td>772596263</td>\n",
       "      <td>https://cache.willhaben.at/mmo/3/772/596/263_-...</td>\n",
       "      <td>stolen</td>\n",
       "      <td>1845172890</td>\n",
       "    </tr>\n",
       "    <tr>\n",
       "      <th>2</th>\n",
       "      <td>772596263</td>\n",
       "      <td>https://cache.willhaben.at/mmo/3/772/596/263_9...</td>\n",
       "      <td>stolen</td>\n",
       "      <td>263_906489552</td>\n",
       "    </tr>\n",
       "    <tr>\n",
       "      <th>3</th>\n",
       "      <td>772596263</td>\n",
       "      <td>https://cache.willhaben.at/mmo/3/772/596/263_-...</td>\n",
       "      <td>not_stolen</td>\n",
       "      <td>186325535</td>\n",
       "    </tr>\n",
       "  </tbody>\n",
       "</table>\n",
       "</div>"
      ],
      "text/plain": [
       "          id                                                src       label  \\\n",
       "0  772596263  https://cache.willhaben.at/mmo/3/772/596/263_-...  not_stolen   \n",
       "1  772596263  https://cache.willhaben.at/mmo/3/772/596/263_-...      stolen   \n",
       "2  772596263  https://cache.willhaben.at/mmo/3/772/596/263_9...      stolen   \n",
       "3  772596263  https://cache.willhaben.at/mmo/3/772/596/263_-...  not_stolen   \n",
       "\n",
       "          src_id  \n",
       "0      348722016  \n",
       "1     1845172890  \n",
       "2  263_906489552  \n",
       "3      186325535  "
      ]
     },
     "execution_count": 19,
     "metadata": {},
     "output_type": "execute_result"
    }
   ],
   "source": [
    "# generate a column with a unique ID, not group ID\n",
    "\n",
    "from pathlib import Path\n",
    "\n",
    "df_src['src_id'] = [ Path(df_src['src'][entry]).stem.split('-')[-1] for entry in df_src.index ]\n",
    "df_src.head()"
   ]
  },
  {
   "cell_type": "markdown",
   "id": "13c451dc-0ba6-47e7-8edf-5cbccb165a5d",
   "metadata": {},
   "source": [
    "# Download all the pictures\n",
    "Now, it is essential to find a way to rename the figures like: \"stolen_78999345\" or \"not_stolen_5643345\""
   ]
  },
  {
   "cell_type": "code",
   "execution_count": 20,
   "id": "6dbe69e9-ace7-4ff9-a3f7-610cdda87c04",
   "metadata": {},
   "outputs": [
    {
     "name": "stdout",
     "output_type": "stream",
     "text": [
      "/home/georg/git-projects/fastbook/bike-reloot/figs/not_stolen772596263.png\n"
     ]
    }
   ],
   "source": [
    "import io\n",
    "import requests\n",
    "from PIL import Image\n",
    "from pathlib import Path\n",
    "\n",
    "# Create a byte object out of image_content and store it in the variable image_file\n",
    "image_file = io.BytesIO(requests.get(df_src['src'][0]).content)\n",
    "\n",
    "image = Image.open(image_file).convert(\"RGB\")\n",
    "\n",
    "# assuming there is a folder \"figs\" in the current working directory\n",
    "file_path = Path(\"figs\",df_src['label'][0] + df_src['id'][0] + \".png\").absolute()\n",
    "print(file_path)\n",
    "image.save(file_path, \"PNG\", quality=80)\n"
   ]
  },
  {
   "cell_type": "code",
   "execution_count": 21,
   "id": "b984548a-348e-4202-8a70-69e5a049bc0e",
   "metadata": {},
   "outputs": [
    {
     "name": "stdout",
     "output_type": "stream",
     "text": [
      "image with id 348722016 saved\n",
      "URL: https://cache.willhaben.at/mmo/3/772/596/263_-348722016.jpg\n",
      "image with id 1845172890 saved\n",
      "URL: https://cache.willhaben.at/mmo/3/772/596/263_-1845172890.jpg\n",
      "image with id 263_906489552 saved\n",
      "URL: https://cache.willhaben.at/mmo/3/772/596/263_906489552.jpg\n",
      "image with id 186325535 saved\n",
      "URL: https://cache.willhaben.at/mmo/3/772/596/263_-186325535.jpg\n"
     ]
    }
   ],
   "source": [
    "# Now iterate through the list \n",
    "\n",
    "for j in df_src.index:\n",
    "    time.sleep(0.1)\n",
    "    pass_image_file = io.BytesIO(requests.get(df_src['src'][j]).content)\n",
    "    pass_image = Image.open(pass_image_file).convert(\"RGB\")\n",
    "    file_path = Path(\"figs\",df_src['label'][j] +\"-\"+ df_src['src_id'][j] +\"-\"+ df_src['src_id'][j] + \".png\").absolute()\n",
    "    image.save(file_path, \"PNG\", quality=80)\n",
    "    print(\"image with id \"+df_src['src_id'][j]+\" saved\")\n",
    "    print(\"URL: \"+ df_src['src'][j])"
   ]
  },
  {
   "cell_type": "code",
   "execution_count": 22,
   "id": "97b3e64a-93bf-4840-aa53-a9d6c698baff",
   "metadata": {},
   "outputs": [],
   "source": [
    "# Start the CNN"
   ]
  },
  {
   "cell_type": "code",
   "execution_count": 23,
   "id": "54248624-698d-4dad-9173-381fd4a5a5ce",
   "metadata": {},
   "outputs": [
    {
     "name": "stdout",
     "output_type": "stream",
     "text": [
      "True\n",
      "/home/georg/git-projects/fastbook/bike-reloot/figs\n"
     ]
    },
    {
     "data": {
      "text/plain": [
       "<fastai.data.core.DataLoaders at 0x7fb7dd2e7fa0>"
      ]
     },
     "execution_count": 23,
     "metadata": {},
     "output_type": "execute_result"
    }
   ],
   "source": [
    "from fastai.vision.all import *\n",
    "\n",
    "def is_stolen(x): return x.startswith('stolen')\n",
    "\n",
    "print(is_stolen(\"stolen_asdf\"))\n",
    "\n",
    "path = Path(\"figs\").absolute()\n",
    "\n",
    "print(path)\n",
    "\n",
    "dls = ImageDataLoaders.from_name_func(\n",
    "    path, get_image_files(path), valid_pct=0.2, seed=42,\n",
    "    label_func=is_stolen, item_tfms=Resize(224))\n",
    "dls\n",
    "#learn = vision_learner(dls, resnet34, metrics=error_rate)\n",
    "#learn.fine_tune(3)"
   ]
  },
  {
   "cell_type": "code",
   "execution_count": null,
   "id": "828ccd63-5a58-42a3-9e32-5bd13ca36943",
   "metadata": {},
   "outputs": [],
   "source": []
  }
 ],
 "metadata": {
  "kernelspec": {
   "display_name": "Python 3 (ipykernel)",
   "language": "python",
   "name": "python3"
  },
  "language_info": {
   "codemirror_mode": {
    "name": "ipython",
    "version": 3
   },
   "file_extension": ".py",
   "mimetype": "text/x-python",
   "name": "python",
   "nbconvert_exporter": "python",
   "pygments_lexer": "ipython3",
   "version": "3.10.13"
  }
 },
 "nbformat": 4,
 "nbformat_minor": 5
}
