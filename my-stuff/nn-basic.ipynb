{
 "cells": [
  {
   "cell_type": "markdown",
   "id": "cd22f84a-a20b-44ef-be0a-295579d69841",
   "metadata": {},
   "source": [
    "# Basic Neural Net from scratch\n",
    "## with pytorch \n",
    "This notebook has the purpose of creating a simple neural net from scratch only wiht pytorch. \n",
    "\n",
    "To do this, I need: \n",
    " - linear\n",
    " - Relu\n",
    " - sigmoid\n",
    " - softmax\n",
    " - backwards, i.e. the parameters, gradients\n",
    " - some kind of loss function, MSE, RMSE? - cross entropy loss it is\n",
    " "
   ]
  },
  {
   "cell_type": "markdown",
   "id": "d7fa2179-261e-4370-a7e2-df17f8fd4581",
   "metadata": {},
   "source": [
    "class DotProductBias(Module):\n",
    "    def __init__(self, n_users, n_movies, n_factors, y_range=(0,5.5)):\n",
    "        self.user_factors = create_params([n_users, n_factors])\n",
    "        self.user_bias = create_params([n_users])\n",
    "        self.movie_factors = create_params([n_movies, n_factors])\n",
    "        self.movie_bias = create_params([n_movies])\n",
    "        self.y_range = y_range\n",
    "        \n",
    "    def forward(self, x):\n",
    "        users = self.user_factors[x[:,0]]\n",
    "        movies = self.movie_factors[x[:,1]]\n",
    "        res = (users*movies).sum(dim=1)\n",
    "        res += self.user_bias[x[:,0]] + self.movie_bias[x[:,1]]\n",
    "        return sigmoid_range(res, *self.y_range)\n",
    "\n"
   ]
  },
  {
   "cell_type": "markdown",
   "id": "c64cfae2-71ac-447e-8221-44dbfdea4339",
   "metadata": {},
   "source": [
    "before doing the model - do not forget to clean the data and transform it so that most of the variation is between 0 and 1.\n",
    "\n",
    "With e.g. divide it by its maximum, so that it becomes like a percentage or use a sigmoid."
   ]
  },
  {
   "cell_type": "markdown",
   "id": "939f1a17-650c-4ccf-a580-4db90d945680",
   "metadata": {},
   "source": [
    "## import data"
   ]
  },
  {
   "cell_type": "code",
   "execution_count": 1,
   "id": "aa65df41-096e-4377-a1b8-49d364666c6e",
   "metadata": {},
   "outputs": [
    {
     "name": "stdout",
     "output_type": "stream",
     "text": [
      "(11716, 6)\n"
     ]
    },
    {
     "data": {
      "text/html": [
       "<div>\n",
       "<style scoped>\n",
       "    .dataframe tbody tr th:only-of-type {\n",
       "        vertical-align: middle;\n",
       "    }\n",
       "\n",
       "    .dataframe tbody tr th {\n",
       "        vertical-align: top;\n",
       "    }\n",
       "\n",
       "    .dataframe thead th {\n",
       "        text-align: right;\n",
       "    }\n",
       "</style>\n",
       "<table border=\"1\" class=\"dataframe\">\n",
       "  <thead>\n",
       "    <tr style=\"text-align: right;\">\n",
       "      <th></th>\n",
       "      <th>time</th>\n",
       "      <th>open</th>\n",
       "      <th>high</th>\n",
       "      <th>low</th>\n",
       "      <th>close</th>\n",
       "      <th>vol</th>\n",
       "    </tr>\n",
       "  </thead>\n",
       "  <tbody>\n",
       "    <tr>\n",
       "      <th>0</th>\n",
       "      <td>2023.06.01 00:00</td>\n",
       "      <td>27103.1</td>\n",
       "      <td>27108.1</td>\n",
       "      <td>27080.6</td>\n",
       "      <td>27096.9</td>\n",
       "      <td>386.675</td>\n",
       "    </tr>\n",
       "    <tr>\n",
       "      <th>1</th>\n",
       "      <td>2023.06.01 00:15</td>\n",
       "      <td>27096.9</td>\n",
       "      <td>27096.9</td>\n",
       "      <td>27036.7</td>\n",
       "      <td>27047.0</td>\n",
       "      <td>408.680</td>\n",
       "    </tr>\n",
       "    <tr>\n",
       "      <th>2</th>\n",
       "      <td>2023.06.01 00:30</td>\n",
       "      <td>27047.0</td>\n",
       "      <td>27077.4</td>\n",
       "      <td>27041.0</td>\n",
       "      <td>27054.9</td>\n",
       "      <td>275.080</td>\n",
       "    </tr>\n",
       "  </tbody>\n",
       "</table>\n",
       "</div>"
      ],
      "text/plain": [
       "               time     open     high      low    close      vol\n",
       "0  2023.06.01 00:00  27103.1  27108.1  27080.6  27096.9  386.675\n",
       "1  2023.06.01 00:15  27096.9  27096.9  27036.7  27047.0  408.680\n",
       "2  2023.06.01 00:30  27047.0  27077.4  27041.0  27054.9  275.080"
      ]
     },
     "execution_count": 1,
     "metadata": {},
     "output_type": "execute_result"
    }
   ],
   "source": [
    "import pandas as pd\n",
    "\n",
    "import os\n",
    "iskaggle = os.environ.get('KAGGLE_KERNEL_RUN_TYPE', '')\n",
    "\n",
    "if iskaggle:\n",
    "    df = pd.read_csv(\"/kaggle/input/btcusdt-2023-6-9/btcusdt-2023-6_9.csv\", index_col=0).reset_index(drop=True)\n",
    "else:\n",
    "    df = pd.read_csv(\"lesson5-random-forests/btc-data/btcusdt-2023-6_9.csv\", index_col=0).reset_index(drop=True)\n",
    "\n",
    "\n",
    "print(df.shape)\n",
    "df.head(3)"
   ]
  },
  {
   "cell_type": "code",
   "execution_count": 2,
   "id": "343bc4a7-f50e-4597-9f35-13d48dae69aa",
   "metadata": {},
   "outputs": [
    {
     "name": "stdout",
     "output_type": "stream",
     "text": [
      "(11716, 6)\n"
     ]
    },
    {
     "data": {
      "text/html": [
       "<div>\n",
       "<style scoped>\n",
       "    .dataframe tbody tr th:only-of-type {\n",
       "        vertical-align: middle;\n",
       "    }\n",
       "\n",
       "    .dataframe tbody tr th {\n",
       "        vertical-align: top;\n",
       "    }\n",
       "\n",
       "    .dataframe thead th {\n",
       "        text-align: right;\n",
       "    }\n",
       "</style>\n",
       "<table border=\"1\" class=\"dataframe\">\n",
       "  <thead>\n",
       "    <tr style=\"text-align: right;\">\n",
       "      <th></th>\n",
       "      <th>time_s3</th>\n",
       "      <th>open_s3</th>\n",
       "      <th>high_s3</th>\n",
       "      <th>low_s3</th>\n",
       "      <th>close_s3</th>\n",
       "      <th>vol_s3</th>\n",
       "    </tr>\n",
       "  </thead>\n",
       "  <tbody>\n",
       "    <tr>\n",
       "      <th>0</th>\n",
       "      <td>None</td>\n",
       "      <td>NaN</td>\n",
       "      <td>NaN</td>\n",
       "      <td>NaN</td>\n",
       "      <td>NaN</td>\n",
       "      <td>NaN</td>\n",
       "    </tr>\n",
       "    <tr>\n",
       "      <th>1</th>\n",
       "      <td>None</td>\n",
       "      <td>NaN</td>\n",
       "      <td>NaN</td>\n",
       "      <td>NaN</td>\n",
       "      <td>NaN</td>\n",
       "      <td>NaN</td>\n",
       "    </tr>\n",
       "    <tr>\n",
       "      <th>2</th>\n",
       "      <td>None</td>\n",
       "      <td>NaN</td>\n",
       "      <td>NaN</td>\n",
       "      <td>NaN</td>\n",
       "      <td>NaN</td>\n",
       "      <td>NaN</td>\n",
       "    </tr>\n",
       "  </tbody>\n",
       "</table>\n",
       "</div>"
      ],
      "text/plain": [
       "  time_s3  open_s3  high_s3  low_s3  close_s3  vol_s3\n",
       "0    None      NaN      NaN     NaN       NaN     NaN\n",
       "1    None      NaN      NaN     NaN       NaN     NaN\n",
       "2    None      NaN      NaN     NaN       NaN     NaN"
      ]
     },
     "execution_count": 2,
     "metadata": {},
     "output_type": "execute_result"
    }
   ],
   "source": [
    "# shift data 3 times, so that in one row there is information on the last 3 candles \n",
    "# therefore: the original candle data is the target data\n",
    "\n",
    "df_s1 = df.shift(1).add_suffix(\"_s1\")\n",
    "df_s2 = df.shift(2).add_suffix(\"_s2\")\n",
    "df_s3 = df.shift(3).add_suffix(\"_s3\")\n",
    "\n",
    "print(df_s3.shape)\n",
    "df_s3.head(3)"
   ]
  },
  {
   "cell_type": "code",
   "execution_count": 3,
   "id": "f6390808-5b94-40ca-924f-50a3c6d0b17d",
   "metadata": {},
   "outputs": [
    {
     "name": "stdout",
     "output_type": "stream",
     "text": [
      "(11716, 24)\n"
     ]
    },
    {
     "data": {
      "text/html": [
       "<div>\n",
       "<style scoped>\n",
       "    .dataframe tbody tr th:only-of-type {\n",
       "        vertical-align: middle;\n",
       "    }\n",
       "\n",
       "    .dataframe tbody tr th {\n",
       "        vertical-align: top;\n",
       "    }\n",
       "\n",
       "    .dataframe thead th {\n",
       "        text-align: right;\n",
       "    }\n",
       "</style>\n",
       "<table border=\"1\" class=\"dataframe\">\n",
       "  <thead>\n",
       "    <tr style=\"text-align: right;\">\n",
       "      <th></th>\n",
       "      <th>time_s3</th>\n",
       "      <th>open_s3</th>\n",
       "      <th>high_s3</th>\n",
       "      <th>low_s3</th>\n",
       "      <th>close_s3</th>\n",
       "      <th>vol_s3</th>\n",
       "      <th>time_s2</th>\n",
       "      <th>open_s2</th>\n",
       "      <th>high_s2</th>\n",
       "      <th>low_s2</th>\n",
       "      <th>...</th>\n",
       "      <th>high_s1</th>\n",
       "      <th>low_s1</th>\n",
       "      <th>close_s1</th>\n",
       "      <th>vol_s1</th>\n",
       "      <th>time</th>\n",
       "      <th>open</th>\n",
       "      <th>high</th>\n",
       "      <th>low</th>\n",
       "      <th>close</th>\n",
       "      <th>vol</th>\n",
       "    </tr>\n",
       "  </thead>\n",
       "  <tbody>\n",
       "    <tr>\n",
       "      <th>0</th>\n",
       "      <td>None</td>\n",
       "      <td>NaN</td>\n",
       "      <td>NaN</td>\n",
       "      <td>NaN</td>\n",
       "      <td>NaN</td>\n",
       "      <td>NaN</td>\n",
       "      <td>None</td>\n",
       "      <td>NaN</td>\n",
       "      <td>NaN</td>\n",
       "      <td>NaN</td>\n",
       "      <td>...</td>\n",
       "      <td>NaN</td>\n",
       "      <td>NaN</td>\n",
       "      <td>NaN</td>\n",
       "      <td>NaN</td>\n",
       "      <td>2023.06.01 00:00</td>\n",
       "      <td>27103.1</td>\n",
       "      <td>27108.1</td>\n",
       "      <td>27080.6</td>\n",
       "      <td>27096.9</td>\n",
       "      <td>386.675</td>\n",
       "    </tr>\n",
       "    <tr>\n",
       "      <th>1</th>\n",
       "      <td>None</td>\n",
       "      <td>NaN</td>\n",
       "      <td>NaN</td>\n",
       "      <td>NaN</td>\n",
       "      <td>NaN</td>\n",
       "      <td>NaN</td>\n",
       "      <td>None</td>\n",
       "      <td>NaN</td>\n",
       "      <td>NaN</td>\n",
       "      <td>NaN</td>\n",
       "      <td>...</td>\n",
       "      <td>27108.1</td>\n",
       "      <td>27080.6</td>\n",
       "      <td>27096.9</td>\n",
       "      <td>386.675</td>\n",
       "      <td>2023.06.01 00:15</td>\n",
       "      <td>27096.9</td>\n",
       "      <td>27096.9</td>\n",
       "      <td>27036.7</td>\n",
       "      <td>27047.0</td>\n",
       "      <td>408.680</td>\n",
       "    </tr>\n",
       "    <tr>\n",
       "      <th>2</th>\n",
       "      <td>None</td>\n",
       "      <td>NaN</td>\n",
       "      <td>NaN</td>\n",
       "      <td>NaN</td>\n",
       "      <td>NaN</td>\n",
       "      <td>NaN</td>\n",
       "      <td>2023.06.01 00:00</td>\n",
       "      <td>27103.1</td>\n",
       "      <td>27108.1</td>\n",
       "      <td>27080.6</td>\n",
       "      <td>...</td>\n",
       "      <td>27096.9</td>\n",
       "      <td>27036.7</td>\n",
       "      <td>27047.0</td>\n",
       "      <td>408.680</td>\n",
       "      <td>2023.06.01 00:30</td>\n",
       "      <td>27047.0</td>\n",
       "      <td>27077.4</td>\n",
       "      <td>27041.0</td>\n",
       "      <td>27054.9</td>\n",
       "      <td>275.080</td>\n",
       "    </tr>\n",
       "    <tr>\n",
       "      <th>3</th>\n",
       "      <td>2023.06.01 00:00</td>\n",
       "      <td>27103.1</td>\n",
       "      <td>27108.1</td>\n",
       "      <td>27080.6</td>\n",
       "      <td>27096.9</td>\n",
       "      <td>386.675</td>\n",
       "      <td>2023.06.01 00:15</td>\n",
       "      <td>27096.9</td>\n",
       "      <td>27096.9</td>\n",
       "      <td>27036.7</td>\n",
       "      <td>...</td>\n",
       "      <td>27077.4</td>\n",
       "      <td>27041.0</td>\n",
       "      <td>27054.9</td>\n",
       "      <td>275.080</td>\n",
       "      <td>2023.06.01 00:45</td>\n",
       "      <td>27054.9</td>\n",
       "      <td>27084.0</td>\n",
       "      <td>27054.8</td>\n",
       "      <td>27084.0</td>\n",
       "      <td>218.143</td>\n",
       "    </tr>\n",
       "    <tr>\n",
       "      <th>4</th>\n",
       "      <td>2023.06.01 00:15</td>\n",
       "      <td>27096.9</td>\n",
       "      <td>27096.9</td>\n",
       "      <td>27036.7</td>\n",
       "      <td>27047.0</td>\n",
       "      <td>408.680</td>\n",
       "      <td>2023.06.01 00:30</td>\n",
       "      <td>27047.0</td>\n",
       "      <td>27077.4</td>\n",
       "      <td>27041.0</td>\n",
       "      <td>...</td>\n",
       "      <td>27084.0</td>\n",
       "      <td>27054.8</td>\n",
       "      <td>27084.0</td>\n",
       "      <td>218.143</td>\n",
       "      <td>2023.06.01 01:00</td>\n",
       "      <td>27084.0</td>\n",
       "      <td>27113.9</td>\n",
       "      <td>27073.5</td>\n",
       "      <td>27100.0</td>\n",
       "      <td>329.412</td>\n",
       "    </tr>\n",
       "  </tbody>\n",
       "</table>\n",
       "<p>5 rows × 24 columns</p>\n",
       "</div>"
      ],
      "text/plain": [
       "            time_s3  open_s3  high_s3   low_s3  close_s3   vol_s3  \\\n",
       "0              None      NaN      NaN      NaN       NaN      NaN   \n",
       "1              None      NaN      NaN      NaN       NaN      NaN   \n",
       "2              None      NaN      NaN      NaN       NaN      NaN   \n",
       "3  2023.06.01 00:00  27103.1  27108.1  27080.6   27096.9  386.675   \n",
       "4  2023.06.01 00:15  27096.9  27096.9  27036.7   27047.0  408.680   \n",
       "\n",
       "            time_s2  open_s2  high_s2   low_s2  ...  high_s1   low_s1  \\\n",
       "0              None      NaN      NaN      NaN  ...      NaN      NaN   \n",
       "1              None      NaN      NaN      NaN  ...  27108.1  27080.6   \n",
       "2  2023.06.01 00:00  27103.1  27108.1  27080.6  ...  27096.9  27036.7   \n",
       "3  2023.06.01 00:15  27096.9  27096.9  27036.7  ...  27077.4  27041.0   \n",
       "4  2023.06.01 00:30  27047.0  27077.4  27041.0  ...  27084.0  27054.8   \n",
       "\n",
       "  close_s1   vol_s1              time     open     high      low    close  \\\n",
       "0      NaN      NaN  2023.06.01 00:00  27103.1  27108.1  27080.6  27096.9   \n",
       "1  27096.9  386.675  2023.06.01 00:15  27096.9  27096.9  27036.7  27047.0   \n",
       "2  27047.0  408.680  2023.06.01 00:30  27047.0  27077.4  27041.0  27054.9   \n",
       "3  27054.9  275.080  2023.06.01 00:45  27054.9  27084.0  27054.8  27084.0   \n",
       "4  27084.0  218.143  2023.06.01 01:00  27084.0  27113.9  27073.5  27100.0   \n",
       "\n",
       "       vol  \n",
       "0  386.675  \n",
       "1  408.680  \n",
       "2  275.080  \n",
       "3  218.143  \n",
       "4  329.412  \n",
       "\n",
       "[5 rows x 24 columns]"
      ]
     },
     "execution_count": 3,
     "metadata": {},
     "output_type": "execute_result"
    }
   ],
   "source": [
    "df_merge = pd.concat([df_s3,df_s2, df_s1, df], axis=1)\n",
    "print(df_merge.shape)\n",
    "df_merge.head(5)"
   ]
  },
  {
   "cell_type": "code",
   "execution_count": 4,
   "id": "c2000e02-351c-4659-bb09-f62d5ae569eb",
   "metadata": {},
   "outputs": [
    {
     "data": {
      "text/plain": [
       "Index(['time_s3', 'open_s3', 'high_s3', 'low_s3', 'close_s3', 'vol_s3',\n",
       "       'time_s2', 'open_s2', 'high_s2', 'low_s2', 'close_s2', 'vol_s2',\n",
       "       'time_s1', 'open_s1', 'high_s1', 'low_s1', 'close_s1', 'vol_s1', 'time',\n",
       "       'open', 'high', 'low', 'close', 'vol'],\n",
       "      dtype='object')"
      ]
     },
     "execution_count": 4,
     "metadata": {},
     "output_type": "execute_result"
    }
   ],
   "source": [
    "df_merge.columns"
   ]
  },
  {
   "cell_type": "code",
   "execution_count": 5,
   "id": "1a0efb72-f035-4dbb-aedc-074c5c4042ff",
   "metadata": {},
   "outputs": [
    {
     "name": "stdout",
     "output_type": "stream",
     "text": [
      "(11713, 20)\n"
     ]
    },
    {
     "data": {
      "text/html": [
       "<div>\n",
       "<style scoped>\n",
       "    .dataframe tbody tr th:only-of-type {\n",
       "        vertical-align: middle;\n",
       "    }\n",
       "\n",
       "    .dataframe tbody tr th {\n",
       "        vertical-align: top;\n",
       "    }\n",
       "\n",
       "    .dataframe thead th {\n",
       "        text-align: right;\n",
       "    }\n",
       "</style>\n",
       "<table border=\"1\" class=\"dataframe\">\n",
       "  <thead>\n",
       "    <tr style=\"text-align: right;\">\n",
       "      <th></th>\n",
       "      <th>open_s3</th>\n",
       "      <th>high_s3</th>\n",
       "      <th>low_s3</th>\n",
       "      <th>close_s3</th>\n",
       "      <th>vol_s3</th>\n",
       "      <th>open_s2</th>\n",
       "      <th>high_s2</th>\n",
       "      <th>low_s2</th>\n",
       "      <th>close_s2</th>\n",
       "      <th>vol_s2</th>\n",
       "      <th>open_s1</th>\n",
       "      <th>high_s1</th>\n",
       "      <th>low_s1</th>\n",
       "      <th>close_s1</th>\n",
       "      <th>vol_s1</th>\n",
       "      <th>open</th>\n",
       "      <th>high</th>\n",
       "      <th>low</th>\n",
       "      <th>close</th>\n",
       "      <th>vol</th>\n",
       "    </tr>\n",
       "  </thead>\n",
       "  <tbody>\n",
       "    <tr>\n",
       "      <th>3</th>\n",
       "      <td>27103.1</td>\n",
       "      <td>27108.1</td>\n",
       "      <td>27080.6</td>\n",
       "      <td>27096.9</td>\n",
       "      <td>386.675</td>\n",
       "      <td>27096.9</td>\n",
       "      <td>27096.9</td>\n",
       "      <td>27036.7</td>\n",
       "      <td>27047.0</td>\n",
       "      <td>408.680</td>\n",
       "      <td>27047.0</td>\n",
       "      <td>27077.4</td>\n",
       "      <td>27041.0</td>\n",
       "      <td>27054.9</td>\n",
       "      <td>275.080</td>\n",
       "      <td>27054.9</td>\n",
       "      <td>27084.0</td>\n",
       "      <td>27054.8</td>\n",
       "      <td>27084.0</td>\n",
       "      <td>218.143</td>\n",
       "    </tr>\n",
       "    <tr>\n",
       "      <th>4</th>\n",
       "      <td>27096.9</td>\n",
       "      <td>27096.9</td>\n",
       "      <td>27036.7</td>\n",
       "      <td>27047.0</td>\n",
       "      <td>408.680</td>\n",
       "      <td>27047.0</td>\n",
       "      <td>27077.4</td>\n",
       "      <td>27041.0</td>\n",
       "      <td>27054.9</td>\n",
       "      <td>275.080</td>\n",
       "      <td>27054.9</td>\n",
       "      <td>27084.0</td>\n",
       "      <td>27054.8</td>\n",
       "      <td>27084.0</td>\n",
       "      <td>218.143</td>\n",
       "      <td>27084.0</td>\n",
       "      <td>27113.9</td>\n",
       "      <td>27073.5</td>\n",
       "      <td>27100.0</td>\n",
       "      <td>329.412</td>\n",
       "    </tr>\n",
       "    <tr>\n",
       "      <th>5</th>\n",
       "      <td>27047.0</td>\n",
       "      <td>27077.4</td>\n",
       "      <td>27041.0</td>\n",
       "      <td>27054.9</td>\n",
       "      <td>275.080</td>\n",
       "      <td>27054.9</td>\n",
       "      <td>27084.0</td>\n",
       "      <td>27054.8</td>\n",
       "      <td>27084.0</td>\n",
       "      <td>218.143</td>\n",
       "      <td>27084.0</td>\n",
       "      <td>27113.9</td>\n",
       "      <td>27073.5</td>\n",
       "      <td>27100.0</td>\n",
       "      <td>329.412</td>\n",
       "      <td>27100.0</td>\n",
       "      <td>27159.0</td>\n",
       "      <td>27100.0</td>\n",
       "      <td>27142.4</td>\n",
       "      <td>979.655</td>\n",
       "    </tr>\n",
       "  </tbody>\n",
       "</table>\n",
       "</div>"
      ],
      "text/plain": [
       "   open_s3  high_s3   low_s3  close_s3   vol_s3  open_s2  high_s2   low_s2  \\\n",
       "3  27103.1  27108.1  27080.6   27096.9  386.675  27096.9  27096.9  27036.7   \n",
       "4  27096.9  27096.9  27036.7   27047.0  408.680  27047.0  27077.4  27041.0   \n",
       "5  27047.0  27077.4  27041.0   27054.9  275.080  27054.9  27084.0  27054.8   \n",
       "\n",
       "   close_s2   vol_s2  open_s1  high_s1   low_s1  close_s1   vol_s1     open  \\\n",
       "3   27047.0  408.680  27047.0  27077.4  27041.0   27054.9  275.080  27054.9   \n",
       "4   27054.9  275.080  27054.9  27084.0  27054.8   27084.0  218.143  27084.0   \n",
       "5   27084.0  218.143  27084.0  27113.9  27073.5   27100.0  329.412  27100.0   \n",
       "\n",
       "      high      low    close      vol  \n",
       "3  27084.0  27054.8  27084.0  218.143  \n",
       "4  27113.9  27073.5  27100.0  329.412  \n",
       "5  27159.0  27100.0  27142.4  979.655  "
      ]
     },
     "execution_count": 5,
     "metadata": {},
     "output_type": "execute_result"
    }
   ],
   "source": [
    "# do not use the time columns \n",
    "\n",
    "df_train = df_merge.filter(items = ['open_s3', 'high_s3', 'low_s3', 'close_s3', 'vol_s3',\n",
    "       'open_s2', 'high_s2', 'low_s2', 'close_s2', 'vol_s2',\n",
    "       'open_s1', 'high_s1', 'low_s1', 'close_s1', 'vol_s1', \n",
    "       'open', 'high', 'low', 'close', 'vol']).dropna()\n",
    "print(df_train.shape)\n",
    "df_train.head(3)"
   ]
  },
  {
   "cell_type": "code",
   "execution_count": 6,
   "id": "da202235-e6bb-4e45-8a68-f62191d17acd",
   "metadata": {},
   "outputs": [],
   "source": [
    "#df_train\n",
    "#df_train.filter(items = [\"open_s3\"])\n",
    "#df_train.loc[[\"open_s3\"]]\n",
    "\n"
   ]
  },
  {
   "cell_type": "markdown",
   "id": "cb3f80f7-7005-4c31-9ca1-4bb869c8ab82",
   "metadata": {},
   "source": [
    "# manually calculate one iteration"
   ]
  },
  {
   "cell_type": "code",
   "execution_count": 7,
   "id": "23dbbac0-4b96-4eda-8eb2-6717c2d3bba5",
   "metadata": {},
   "outputs": [],
   "source": [
    "import torch\n",
    "from torch import tensor"
   ]
  },
  {
   "cell_type": "markdown",
   "id": "29835d73-af68-4ca8-b034-f422079fbed2",
   "metadata": {},
   "source": [
    "## dep, indep & weights"
   ]
  },
  {
   "cell_type": "code",
   "execution_count": 8,
   "id": "59d57916-3ed2-410d-8188-8b548d2e15f4",
   "metadata": {},
   "outputs": [
    {
     "name": "stdout",
     "output_type": "stream",
     "text": [
      "torch.Size([11713])\n"
     ]
    },
    {
     "data": {
      "text/plain": [
       "tensor([27084.0000, 27113.9004, 27159.0000,  ..., 27058.1992, 27061.1992,\n",
       "        27066.6992])"
      ]
     },
     "execution_count": 8,
     "metadata": {},
     "output_type": "execute_result"
    }
   ],
   "source": [
    "t_dep = tensor(df_train['high'].values, dtype=torch.float)\n",
    "print(t_dep.shape) # 1 D tensor\n",
    "t_dep"
   ]
  },
  {
   "cell_type": "code",
   "execution_count": 9,
   "id": "fdfb70a0-a12d-40f8-b6bc-d2a59badc2d1",
   "metadata": {},
   "outputs": [
    {
     "data": {
      "text/plain": [
       "torch.Size([11713, 19])"
      ]
     },
     "execution_count": 9,
     "metadata": {},
     "output_type": "execute_result"
    }
   ],
   "source": [
    "t_indep = tensor(df_train.loc[:, df_train.columns != \"high\"].values, dtype=torch.float)\n",
    "\n",
    "t_indep.shape # 2 D tensor > rows with observations and columns with features"
   ]
  },
  {
   "cell_type": "markdown",
   "id": "5d97af7f-e8a3-4116-a8fe-b00eb218cf5f",
   "metadata": {},
   "source": [
    "The number of features needs to be the same as the lenght of the weights, because they will be multiplicated."
   ]
  },
  {
   "cell_type": "code",
   "execution_count": 10,
   "id": "7340f77f-8119-496d-94cf-7a43f7321768",
   "metadata": {},
   "outputs": [
    {
     "name": "stdout",
     "output_type": "stream",
     "text": [
      "torch.Size([19])\n"
     ]
    },
    {
     "data": {
      "text/plain": [
       "tensor([-0.0040, -0.0017, -0.2620,  0.0559,  0.2515,  0.2680,  0.0792, -0.1563,\n",
       "        -0.4689,  0.4441, -0.2092, -0.4693, -0.0448, -0.4689, -0.4324,  0.1789,\n",
       "        -0.3307, -0.4952, -0.4785])"
      ]
     },
     "execution_count": 10,
     "metadata": {},
     "output_type": "execute_result"
    }
   ],
   "source": [
    "# coefficients = weights\n",
    "# make them from -0.5 to 0.5 from a normal distribution\n",
    "coeffs = torch.rand( t_indep.shape[1] )-0.5\n",
    "\n",
    "print(coeffs.shape)\n",
    "coeffs"
   ]
  },
  {
   "cell_type": "code",
   "execution_count": 11,
   "id": "9d49848d-809b-480c-8748-25a62f5bd7ad",
   "metadata": {},
   "outputs": [
    {
     "data": {
      "text/plain": [
       "tensor([  -107.3060,    -45.9412,  -7094.3042,   1514.2396,     97.2566,\n",
       "          7261.2510,   2146.5469,  -4224.6987, -12681.4277,    181.4939,\n",
       "         -5658.3203, -12708.2090,  -1211.8651, -12685.8887,   -118.9354,\n",
       "          4839.4443,  -8948.1279, -13412.4434,   -104.3844])"
      ]
     },
     "execution_count": 11,
     "metadata": {},
     "output_type": "execute_result"
    }
   ],
   "source": [
    "(t_indep*coeffs)[0]"
   ]
  },
  {
   "cell_type": "markdown",
   "id": "4cd9fa5f-6dda-4e60-961a-296953ce85dc",
   "metadata": {},
   "source": [
    "As you can see, there are a lot of numbers up and down, since the prices range roughly from 30k to about 60k. \n",
    "\n",
    "Note to myself: if it does not interfere with cross entropy then I should use log on all prices.\n",
    "cross entropy uses log in its calculations and it depends on the implementation if it does interfere (I guess right now)."
   ]
  },
  {
   "cell_type": "markdown",
   "id": "3a048cbf-1602-4bbb-a19b-b2b85dfcc53b",
   "metadata": {},
   "source": [
    "## making the first prediction"
   ]
  },
  {
   "cell_type": "markdown",
   "id": "34bb0985-8922-4952-b2f7-59ba326b03c9",
   "metadata": {},
   "source": [
    "Since we are making a linear classifier the formula for yhat or the predictions is the sum of the products of coefficients and observations. \n",
    "\n",
    "In other words: \n",
    "\n",
    "$ y = x_0 \\times b_0 + x_1 \\times b_1 $\n",
    "\n",
    "where $x_0$ is the first vector of observations (=features) and $b_0$ is the first coefficient.\n",
    "\n",
    "and then is $y$ the vector with the predictions the same length as the data frame, so this formula can be read \"rowwise\"."
   ]
  },
  {
   "cell_type": "code",
   "execution_count": 12,
   "id": "093a7453-6dd6-490d-b01b-04de3157fae3",
   "metadata": {},
   "outputs": [
    {
     "name": "stdout",
     "output_type": "stream",
     "text": [
      "torch.Size([11713])\n"
     ]
    },
    {
     "data": {
      "text/plain": [
       "tensor(-62961.6172)"
      ]
     },
     "execution_count": 12,
     "metadata": {},
     "output_type": "execute_result"
    }
   ],
   "source": [
    "preds = (t_indep*coeffs).sum(axis=1)\n",
    "print(preds.shape) # 1d vector of predictions\n",
    "preds[0]"
   ]
  },
  {
   "cell_type": "code",
   "execution_count": 13,
   "id": "c88e8bee-542c-4f10-b482-6b1f76f39443",
   "metadata": {},
   "outputs": [
    {
     "name": "stdout",
     "output_type": "stream",
     "text": [
      "tensor([27103.0996, 27108.0996, 27080.5996, 27096.9004,   386.6750, 27096.9004,\n",
      "        27096.9004, 27036.6992, 27047.0000,   408.6800, 27047.0000, 27077.4004,\n",
      "        27041.0000, 27054.9004,   275.0800, 27054.9004, 27054.8008, 27084.0000,\n",
      "          218.1430])\n",
      "tensor([-0.0040, -0.0017, -0.2620,  0.0559,  0.2515,  0.2680,  0.0792, -0.1563,\n",
      "        -0.4689,  0.4441, -0.2092, -0.4693, -0.0448, -0.4689, -0.4324,  0.1789,\n",
      "        -0.3307, -0.4952, -0.4785])\n",
      "\n",
      " first entry of Indep * coeffs: \n",
      " tensor(-107.3060)\n",
      "\n",
      " Indep * coeffs: \n",
      " tensor([  -107.3060,    -45.9412,  -7094.3042,   1514.2396,     97.2566,\n",
      "          7261.2510,   2146.5469,  -4224.6987, -12681.4277,    181.4939,\n",
      "         -5658.3203, -12708.2090,  -1211.8651, -12685.8887,   -118.9354,\n",
      "          4839.4443,  -8948.1279, -13412.4434,   -104.3844])\n",
      "\n",
      " sum of Indep * coeffs: \n",
      " tensor(-62961.6172)\n"
     ]
    }
   ],
   "source": [
    "# quick check for first row: \n",
    "\n",
    "print(t_indep[0])\n",
    "print(coeffs)\n",
    "print(\"\\n first entry of Indep * coeffs: \\n\",t_indep[0][0]*coeffs[0])\n",
    "print(\"\\n Indep * coeffs: \\n\",t_indep[0]*coeffs)\n",
    "print(\"\\n sum of Indep * coeffs: \\n\", (t_indep[0]*coeffs).sum() ) #axis=1 is along the colums\n"
   ]
  },
  {
   "cell_type": "markdown",
   "id": "20783ec4-6f02-445a-8956-9f8b147e9c9e",
   "metadata": {},
   "source": [
    "## loss: cross entropy "
   ]
  },
  {
   "cell_type": "code",
   "execution_count": 14,
   "id": "b3192526-bcce-41f6-a995-2eef783b648f",
   "metadata": {},
   "outputs": [
    {
     "name": "stdout",
     "output_type": "stream",
     "text": [
      "mean absolute error: tensor(8.7773e+09)\n",
      "mean squared error: tensor(8.7773e+09)\n",
      "cross entropy: tensor(8.3253e+12)\n"
     ]
    }
   ],
   "source": [
    "import torch.nn.functional as F\n",
    "loss_ce = F.cross_entropy(preds, t_dep)\n",
    "loss_mae = F.l1_loss(preds, t_dep)\n",
    "loss_mae = F.mse_loss(preds, t_dep)\n",
    "\n",
    "print(\"mean absolute error:\",loss_mae)\n",
    "print(\"mean squared error:\",loss_mae)\n",
    "print(\"cross entropy:\",loss_ce)"
   ]
  },
  {
   "cell_type": "markdown",
   "id": "01b03dbf-97f7-42c3-9dbe-9e3cff4afe2b",
   "metadata": {},
   "source": [
    "## gradients & learning rate"
   ]
  },
  {
   "cell_type": "code",
   "execution_count": 15,
   "id": "185c54b9-b9f5-4890-a5b9-41138163c439",
   "metadata": {},
   "outputs": [
    {
     "data": {
      "text/plain": [
       "tensor([-0.0040, -0.0017, -0.2620,  0.0559,  0.2515,  0.2680,  0.0792, -0.1563,\n",
       "        -0.4689,  0.4441, -0.2092, -0.4693, -0.0448, -0.4689, -0.4324,  0.1789,\n",
       "        -0.3307, -0.4952, -0.4785])"
      ]
     },
     "execution_count": 15,
     "metadata": {},
     "output_type": "execute_result"
    }
   ],
   "source": [
    "coeffs"
   ]
  },
  {
   "cell_type": "code",
   "execution_count": 16,
   "id": "5bcd3fc5-81ee-41ea-b66c-0e19384d709d",
   "metadata": {},
   "outputs": [
    {
     "data": {
      "text/plain": [
       "tensor([-0.0040, -0.0017, -0.2620,  0.0559,  0.2515,  0.2680,  0.0792, -0.1563,\n",
       "        -0.4689,  0.4441, -0.2092, -0.4693, -0.0448, -0.4689, -0.4324,  0.1789,\n",
       "        -0.3307, -0.4952, -0.4785], requires_grad=True)"
      ]
     },
     "execution_count": 16,
     "metadata": {},
     "output_type": "execute_result"
    }
   ],
   "source": [
    "coeffs.requires_grad_()"
   ]
  },
  {
   "cell_type": "code",
   "execution_count": 17,
   "id": "7d627d8b-c09e-45ab-b645-5c64f0d1aab1",
   "metadata": {},
   "outputs": [
    {
     "name": "stdout",
     "output_type": "stream",
     "text": [
      "tensor(8.3253e+12, grad_fn=<DivBackward1>)\n",
      "tensor([-5.5637e+11, -5.6059e+11, -6.9860e+11, -7.0251e+11,  5.3066e+12,\n",
      "        -7.0252e+11, -6.8365e+11, -8.9695e+11, -7.2761e+11,  1.3745e+13,\n",
      "        -7.2761e+11, -7.2464e+11, -7.7106e+11, -7.4167e+11,  1.5775e+12,\n",
      "        -7.4168e+11, -7.6538e+11, -7.5986e+11,  3.9438e+11])\n"
     ]
    }
   ],
   "source": [
    "# I am not sure if the above way works if I only use the loss functions in a functional style\n",
    "# therefore, I document a way to use it instantiated as a class\n",
    "\n",
    "from torch import nn\n",
    "\n",
    "cel = nn.CrossEntropyLoss()\n",
    "\n",
    "preds = (t_indep*coeffs.requires_grad_()).sum(axis=1)\n",
    "\n",
    "loss = cel(preds,t_dep)\n",
    "print(loss)\n",
    "loss.backward(retain_graph=True)\n",
    "\n",
    "gradients = coeffs.grad\n",
    "print(gradients)"
   ]
  },
  {
   "cell_type": "code",
   "execution_count": 18,
   "id": "c5e6e4a4-d0e2-40ab-9698-f9d0283465e6",
   "metadata": {},
   "outputs": [
    {
     "name": "stdout",
     "output_type": "stream",
     "text": [
      "tensor([-1.1127e+12, -1.1212e+12, -1.3972e+12, -1.4050e+12,  1.0613e+13,\n",
      "        -1.4050e+12, -1.3673e+12, -1.7939e+12, -1.4552e+12,  2.7490e+13,\n",
      "        -1.4552e+12, -1.4493e+12, -1.5421e+12, -1.4833e+12,  3.1550e+12,\n",
      "        -1.4834e+12, -1.5308e+12, -1.5197e+12,  7.8875e+11])\n"
     ]
    }
   ],
   "source": [
    "loss.backward(retain_graph=True)\n",
    "print(coeffs.grad)"
   ]
  },
  {
   "cell_type": "code",
   "execution_count": 19,
   "id": "8161a5a0-9d80-4d17-b1fc-060b09f326df",
   "metadata": {},
   "outputs": [],
   "source": [
    "# initialise coeffs and define the independent variable \n",
    "t_indep*coeffs\n",
    "\n",
    "# define it as a function \n",
    "def calc_preds(coeffs, indeps): return (indeps*coeffs).sum(axis=1)\n",
    "    \n",
    "preds = (t_indep*coeffs).sum(axis=1)"
   ]
  },
  {
   "cell_type": "code",
   "execution_count": 20,
   "id": "e2b0bbb9-8ac5-45e2-b72c-a0dd6cd3a3e1",
   "metadata": {},
   "outputs": [],
   "source": [
    "# define the loss function\n",
    "\n",
    "# herer it is mean absolute error\n",
    "loss = torch.abs(preds-t_dep).mean()\n",
    "\n",
    "# define it in a function\n",
    "def calc_loss(coeffs, indeps, deps): return torch.abs(calc_preds(coeffs, indeps)-deps).mean()"
   ]
  },
  {
   "cell_type": "markdown",
   "id": "b692b898-df59-48dd-9f98-46e16ccbc215",
   "metadata": {},
   "source": [
    "# next steps\n",
    "\n",
    " - figure out when and how to use backward() and require_grad\n",
    " - put the pieces togehter: calc preds > calc loss > get gradients > subtract gradients*learningrate with preds\n",
    "\n",
    "Note on gradients: \\n\n",
    "My current understand is that you need to specify the tensor of where to calculate the gradients on, to access them explicitly. \\n\n",
    "It seems, that the backward function needs to know the input, target and weights."
   ]
  },
  {
   "cell_type": "markdown",
   "id": "d7108317-bba0-4744-a215-1f64cf5e03a3",
   "metadata": {},
   "source": [
    "# og pytorch tutorial\n",
    "\n",
    "https://pytorch.org/tutorials/beginner/nn_tutorial.html\n",
    "\n",
    "relates directly to fast ai tutorial: \n",
    "https://www.kaggle.com/code/jhoward/linear-model-and-neural-net-from-scratch"
   ]
  }
 ],
 "metadata": {
  "kernelspec": {
   "display_name": "Python 3 (ipykernel)",
   "language": "python",
   "name": "python3"
  },
  "language_info": {
   "codemirror_mode": {
    "name": "ipython",
    "version": 3
   },
   "file_extension": ".py",
   "mimetype": "text/x-python",
   "name": "python",
   "nbconvert_exporter": "python",
   "pygments_lexer": "ipython3",
   "version": "3.10.13"
  }
 },
 "nbformat": 4,
 "nbformat_minor": 5
}
